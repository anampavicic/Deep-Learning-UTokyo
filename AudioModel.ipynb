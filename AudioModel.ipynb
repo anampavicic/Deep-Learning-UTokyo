{
 "cells": [
  {
   "cell_type": "code",
   "execution_count": 2,
   "id": "d2afcaba",
   "metadata": {},
   "outputs": [],
   "source": [
    "import pandas as pd\n",
    "import numpy as np\n",
    "import matplotlib.pyplot as plt\n",
    "import os\n",
    "\n",
    "import torch \n",
    "import torch.nn as nn\n",
    "from torch.utils.data import Dataset, DataLoader\n",
    "from Blocks import Conv2DBlock\n",
    "\n",
    "# Libraries for processing sounds\n",
    "import librosa\n",
    "from IPython.display import Audio\n",
    "import random"
   ]
  },
  {
   "cell_type": "code",
   "execution_count": 3,
   "id": "14701d80",
   "metadata": {},
   "outputs": [],
   "source": [
    "class AudioModel(nn.Module):\n",
    "\n",
    "    def __init__(self):\n",
    "        nn.Module.__init__(self)\n",
    "\n",
    "        self.layers = nn.ModuleList()\n",
    "\n",
    "        # Input Shape: (1, 128, target_width)\n",
    "        layer = Conv2DBlock(in_channels=1, out_channels=80, kernel_size=(57,6),stride=(1,1), dropout_rate=0.5)\n",
    "        #layer = nn.Conv2d(in_channels=1, out_channels=80, kernel_size=(57,6),stride=(1,1))\n",
    "        self.layers.append(layer)\n",
    "\n",
    "        layer = nn.MaxPool2d(kernel_size=(4, 3), stride=(1,3))\n",
    "        self.layers.append(layer)\n",
    "\n",
    "        layer = nn.Conv2d(kernel_size=(4, 3), stride=(1,3))\n",
    "        self.layers.append(layer)\n",
    "\n",
    "        self.classifier = nn.Sequential(*self.layers)\n",
    "\n",
    "    def forward(self, x):\n",
    "        y_hat = self.classifier(x)\n",
    "        return y_hat"
   ]
  },
  {
   "cell_type": "code",
   "execution_count": null,
   "id": "41c64c4a",
   "metadata": {},
   "outputs": [],
   "source": [
    "device = torch.device('cuda' if torch.cuda.is_available() else 'cpu')\n",
    "\n",
    "x_train_list = []\n",
    "y_train_list = []\n",
    "\n",
    "loader = DataLoader(dataset_train, batch_size=len(dataset_train))\n",
    "x_train, y_train = next(iter(loader))\n",
    "\n",
    "loader = DataLoader(dataset_val, batch_size=len(dataset_val))\n",
    "x_val, y_val = next(iter(loader))"
   ]
  },
  {
   "cell_type": "code",
   "execution_count": null,
   "id": "d4683fee",
   "metadata": {},
   "outputs": [
    {
     "name": "stdout",
     "output_type": "stream",
     "text": [
      "tensor([[[-47.4725, -52.6415, -63.8815,  ...,   0.0000,   0.0000,   0.0000],\n",
      "         [-48.2222, -49.2632, -47.8571,  ...,   0.0000,   0.0000,   0.0000],\n",
      "         [-41.9389, -44.8175, -48.7147,  ...,   0.0000,   0.0000,   0.0000],\n",
      "         ...,\n",
      "         [-72.4634, -78.5085, -80.0000,  ...,   0.0000,   0.0000,   0.0000],\n",
      "         [-72.5207, -78.5652, -80.0000,  ...,   0.0000,   0.0000,   0.0000],\n",
      "         [-72.5566, -78.6006, -80.0000,  ...,   0.0000,   0.0000,   0.0000]]])\n"
     ]
    }
   ],
   "source": [
    "model = AudioModel().to(device)\n",
    "print(x_val[0])\n",
    "y_hat = model(x_val)"
   ]
  },
  {
   "cell_type": "code",
   "execution_count": null,
   "id": "401dd344",
   "metadata": {},
   "outputs": [
    {
     "name": "stdout",
     "output_type": "stream",
     "text": [
      "torch.Size([520, 80, 72, 395])\n"
     ]
    }
   ],
   "source": [
    "print(y_hat.shape)"
   ]
  },
  {
   "cell_type": "markdown",
   "id": "c82b7102",
   "metadata": {},
   "source": []
  }
 ],
 "metadata": {
  "kernelspec": {
   "display_name": "cml_311",
   "language": "python",
   "name": "python3"
  },
  "language_info": {
   "codemirror_mode": {
    "name": "ipython",
    "version": 3
   },
   "file_extension": ".py",
   "mimetype": "text/x-python",
   "name": "python",
   "nbconvert_exporter": "python",
   "pygments_lexer": "ipython3",
   "version": "3.11.11"
  }
 },
 "nbformat": 4,
 "nbformat_minor": 5
}

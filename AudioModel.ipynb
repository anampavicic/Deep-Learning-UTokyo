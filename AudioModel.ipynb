{
 "cells": [
  {
   "cell_type": "code",
   "execution_count": 1,
   "id": "d2afcaba",
   "metadata": {},
   "outputs": [],
   "source": [
    "import pandas as pd\n",
    "import numpy as np\n",
    "import matplotlib.pyplot as plt\n",
    "import os\n",
    "\n",
    "import torch \n",
    "import torch.nn as nn\n",
    "from torch.utils.data import DataLoader\n",
    "\n",
    "# Libraries for processing sounds\n",
    "import librosa\n",
    "from IPython.display import Audio\n",
    "import random"
   ]
  },
  {
   "cell_type": "code",
   "execution_count": 2,
   "id": "c987561e",
   "metadata": {},
   "outputs": [],
   "source": [
    "device = torch.device(\"cuda\" if torch.cuda.is_available() else \"cpu\")\n"
   ]
  },
  {
   "cell_type": "code",
   "execution_count": 3,
   "id": "478c2ca8",
   "metadata": {},
   "outputs": [
    {
     "name": "stdout",
     "output_type": "stream",
     "text": [
      "[WARNING] Failed to extract mel from data/sounds/Lion_1.wav: zero-size array to reduction operation maximum which has no identity\n"
     ]
    }
   ],
   "source": [
    "from AnimalSoundDataset import AnimalSoundDataset\n",
    "\n",
    "data_path = 'data/Animal_Sound_reduced.csv'\n",
    "dataset_train = AnimalSoundDataset(data_path, split='train', split_ratio=0.8, seed=42)\n",
    "dataset_val = AnimalSoundDataset(data_path, split='val', split_ratio=0.8, seed=42)\n",
    "\n",
    "x_train_list = []\n",
    "y_train_list = []\n",
    "\n",
    "loader = DataLoader(dataset_train, batch_size=len(dataset_train))\n",
    "x_train, y_train = next(iter(loader))\n",
    "\n",
    "loader = DataLoader(dataset_val, batch_size=len(dataset_val))\n",
    "x_val, y_val = next(iter(loader))"
   ]
  },
  {
   "cell_type": "code",
   "execution_count": 8,
   "id": "572b8b78",
   "metadata": {},
   "outputs": [],
   "source": [
    "input_dim = 1\n",
    "n_classes = len(dataset_train.classes)\n",
    "hyperparameters = dict(input_dim=input_dim,\n",
    "                    output_dim=n_classes,\n",
    "                    hidden_layers_size=100,\n",
    "                    activation='relu',\n",
    "                    kernel_size_conv=[(57,6),(1,3)],\n",
    "                    kernel_size_pool=[(4,3),(1,3)],\n",
    "                    stride_conv=[(1,1),(1,1)],\n",
    "                    stride_pool=[(1,3),(1,3)],\n",
    "                    filters=[80,80],\n",
    "                    batch_normalization=False,\n",
    "                    dropout_rate=0.5,\n",
    "                    learning_rate=0.002,\n",
    "                    batch_size=16,\n",
    "                    max_epoch = 10)"
   ]
  },
  {
   "cell_type": "code",
   "execution_count": 5,
   "id": "9e69f694",
   "metadata": {},
   "outputs": [
    {
     "name": "stderr",
     "output_type": "stream",
     "text": [
      "/Users/anampavicic/miniconda3/envs/DLClass/lib/python3.11/site-packages/torch/nn/modules/conv.py:549: UserWarning: Using padding='same' with even kernel lengths and odd dilation may require a zero-padded copy of the input be created (Triggered internally at /Users/runner/work/pytorch/pytorch/pytorch/aten/src/ATen/native/Convolution.cpp:1037.)\n",
      "  return F.conv2d(\n"
     ]
    }
   ],
   "source": [
    "from ClassesML.AudioModel import AudioModel\n",
    "model = AudioModel(hyperparameters).to(device)"
   ]
  },
  {
   "cell_type": "markdown",
   "id": "973cc7ac",
   "metadata": {},
   "source": []
  },
  {
   "cell_type": "code",
   "execution_count": 6,
   "id": "e70ff916",
   "metadata": {},
   "outputs": [],
   "source": [
    "# model = AudioModel(hyperparameters).to(device)\n",
    "# print(x_val[0])\n",
    "# y_hat = model(x_val)"
   ]
  },
  {
   "cell_type": "code",
   "execution_count": 9,
   "id": "fd1b118c",
   "metadata": {},
   "outputs": [
    {
     "name": "stderr",
     "output_type": "stream",
     "text": [
      "Epoch 1/10:   0%|          | 0/7 [00:00<?, ?it/s]"
     ]
    },
    {
     "name": "stdout",
     "output_type": "stream",
     "text": [
      "[WARNING] Failed to extract mel from data/sounds/Lion_1.wav: zero-size array to reduction operation maximum which has no identity\n"
     ]
    },
    {
     "name": "stderr",
     "output_type": "stream",
     "text": [
      "Epoch 1/10: 100%|██████████| 7/7 [00:06<00:00,  1.09it/s]\n"
     ]
    },
    {
     "name": "stdout",
     "output_type": "stream",
     "text": [
      "Epoch 1: Train Loss: 0.1613, Train Acc: 3.9062, Val Loss: 0.3208, Val Acc: 1.4062\n"
     ]
    },
    {
     "name": "stderr",
     "output_type": "stream",
     "text": [
      "Epoch 2/10:  86%|████████▌ | 6/7 [00:06<00:01,  1.02s/it]"
     ]
    },
    {
     "name": "stdout",
     "output_type": "stream",
     "text": [
      "[WARNING] Failed to extract mel from data/sounds/Lion_1.wav: zero-size array to reduction operation maximum which has no identity\n"
     ]
    },
    {
     "name": "stderr",
     "output_type": "stream",
     "text": [
      "Epoch 2/10: 100%|██████████| 7/7 [00:06<00:00,  1.04it/s]\n"
     ]
    },
    {
     "name": "stdout",
     "output_type": "stream",
     "text": [
      "Epoch 2: Train Loss: 0.1603, Train Acc: 3.1250, Val Loss: 0.3207, Val Acc: 1.4062\n"
     ]
    },
    {
     "name": "stderr",
     "output_type": "stream",
     "text": [
      "Epoch 3/10:  14%|█▍        | 1/7 [00:01<00:06,  1.01s/it]"
     ]
    },
    {
     "name": "stdout",
     "output_type": "stream",
     "text": [
      "[WARNING] Failed to extract mel from data/sounds/Lion_1.wav: zero-size array to reduction operation maximum which has no identity\n"
     ]
    },
    {
     "name": "stderr",
     "output_type": "stream",
     "text": [
      "Epoch 3/10: 100%|██████████| 7/7 [00:06<00:00,  1.03it/s]\n"
     ]
    },
    {
     "name": "stdout",
     "output_type": "stream",
     "text": [
      "Epoch 3: Train Loss: 0.1702, Train Acc: 3.1250, Val Loss: 0.3208, Val Acc: 1.7969\n"
     ]
    },
    {
     "name": "stderr",
     "output_type": "stream",
     "text": [
      "Epoch 4/10:   0%|          | 0/7 [00:00<?, ?it/s]"
     ]
    },
    {
     "name": "stdout",
     "output_type": "stream",
     "text": [
      "[WARNING] Failed to extract mel from data/sounds/Lion_1.wav: zero-size array to reduction operation maximum which has no identity\n"
     ]
    },
    {
     "name": "stderr",
     "output_type": "stream",
     "text": [
      "Epoch 4/10: 100%|██████████| 7/7 [00:06<00:00,  1.02it/s]\n"
     ]
    },
    {
     "name": "stdout",
     "output_type": "stream",
     "text": [
      "Epoch 4: Train Loss: 0.1634, Train Acc: 4.2969, Val Loss: 0.3206, Val Acc: 1.7969\n"
     ]
    },
    {
     "name": "stderr",
     "output_type": "stream",
     "text": [
      "Epoch 5/10:  57%|█████▋    | 4/7 [00:04<00:03,  1.05s/it]"
     ]
    },
    {
     "name": "stdout",
     "output_type": "stream",
     "text": [
      "[WARNING] Failed to extract mel from data/sounds/Lion_1.wav: zero-size array to reduction operation maximum which has no identity\n"
     ]
    },
    {
     "name": "stderr",
     "output_type": "stream",
     "text": [
      "Epoch 5/10: 100%|██████████| 7/7 [00:06<00:00,  1.02it/s]\n"
     ]
    },
    {
     "name": "stdout",
     "output_type": "stream",
     "text": [
      "Epoch 5: Train Loss: 0.1611, Train Acc: 2.7344, Val Loss: 0.3207, Val Acc: 1.4062\n"
     ]
    },
    {
     "name": "stderr",
     "output_type": "stream",
     "text": [
      "Epoch 6/10:  29%|██▊       | 2/7 [00:02<00:05,  1.06s/it]"
     ]
    },
    {
     "name": "stdout",
     "output_type": "stream",
     "text": [
      "[WARNING] Failed to extract mel from data/sounds/Lion_1.wav: zero-size array to reduction operation maximum which has no identity\n"
     ]
    },
    {
     "name": "stderr",
     "output_type": "stream",
     "text": [
      "Epoch 6/10: 100%|██████████| 7/7 [00:06<00:00,  1.00it/s]\n"
     ]
    },
    {
     "name": "stdout",
     "output_type": "stream",
     "text": [
      "Epoch 6: Train Loss: 0.1594, Train Acc: 3.5156, Val Loss: 0.3207, Val Acc: 1.4062\n"
     ]
    },
    {
     "name": "stderr",
     "output_type": "stream",
     "text": [
      "Epoch 7/10:  57%|█████▋    | 4/7 [00:04<00:03,  1.07s/it]"
     ]
    },
    {
     "name": "stdout",
     "output_type": "stream",
     "text": [
      "[WARNING] Failed to extract mel from data/sounds/Lion_1.wav: zero-size array to reduction operation maximum which has no identity\n"
     ]
    },
    {
     "name": "stderr",
     "output_type": "stream",
     "text": [
      "Epoch 7/10: 100%|██████████| 7/7 [00:07<00:00,  1.01s/it]\n"
     ]
    },
    {
     "name": "stdout",
     "output_type": "stream",
     "text": [
      "Epoch 7: Train Loss: 0.1609, Train Acc: 4.2969, Val Loss: 0.3207, Val Acc: 1.4062\n"
     ]
    },
    {
     "name": "stderr",
     "output_type": "stream",
     "text": [
      "Epoch 8/10:  57%|█████▋    | 4/7 [00:04<00:03,  1.08s/it]"
     ]
    },
    {
     "name": "stdout",
     "output_type": "stream",
     "text": [
      "[WARNING] Failed to extract mel from data/sounds/Lion_1.wav: zero-size array to reduction operation maximum which has no identity\n"
     ]
    },
    {
     "name": "stderr",
     "output_type": "stream",
     "text": [
      "Epoch 8/10: 100%|██████████| 7/7 [00:07<00:00,  1.03s/it]\n"
     ]
    },
    {
     "name": "stdout",
     "output_type": "stream",
     "text": [
      "Epoch 8: Train Loss: 0.1612, Train Acc: 4.6875, Val Loss: 0.3207, Val Acc: 1.4062\n"
     ]
    },
    {
     "name": "stderr",
     "output_type": "stream",
     "text": [
      "Epoch 9/10:  71%|███████▏  | 5/7 [00:05<00:02,  1.13s/it]"
     ]
    },
    {
     "name": "stdout",
     "output_type": "stream",
     "text": [
      "[WARNING] Failed to extract mel from data/sounds/Lion_1.wav: zero-size array to reduction operation maximum which has no identity\n"
     ]
    },
    {
     "name": "stderr",
     "output_type": "stream",
     "text": [
      "Epoch 9/10: 100%|██████████| 7/7 [00:07<00:00,  1.05s/it]\n"
     ]
    },
    {
     "name": "stdout",
     "output_type": "stream",
     "text": [
      "Epoch 9: Train Loss: 0.1604, Train Acc: 3.5156, Val Loss: 0.3207, Val Acc: 1.4062\n"
     ]
    },
    {
     "name": "stderr",
     "output_type": "stream",
     "text": [
      "Epoch 10/10:   0%|          | 0/7 [00:00<?, ?it/s]"
     ]
    },
    {
     "name": "stdout",
     "output_type": "stream",
     "text": [
      "[WARNING] Failed to extract mel from data/sounds/Lion_1.wav: zero-size array to reduction operation maximum which has no identity\n"
     ]
    },
    {
     "name": "stderr",
     "output_type": "stream",
     "text": [
      "Epoch 10/10: 100%|██████████| 7/7 [00:07<00:00,  1.08s/it]\n"
     ]
    },
    {
     "name": "stdout",
     "output_type": "stream",
     "text": [
      "Epoch 10: Train Loss: 0.1606, Train Acc: 3.1250, Val Loss: 0.3207, Val Acc: 1.4062\n"
     ]
    }
   ],
   "source": [
    "from ClassesML.AudioTrainer import AudioTrainer\n",
    "trainer = AudioTrainer(model, dataset_train, dataset_val, hyperparameters, device=device)\n",
    "trainer.train()"
   ]
  },
  {
   "cell_type": "markdown",
   "id": "c82b7102",
   "metadata": {},
   "source": []
  }
 ],
 "metadata": {
  "kernelspec": {
   "display_name": "DLClass",
   "language": "python",
   "name": "python3"
  },
  "language_info": {
   "codemirror_mode": {
    "name": "ipython",
    "version": 3
   },
   "file_extension": ".py",
   "mimetype": "text/x-python",
   "name": "python",
   "nbconvert_exporter": "python",
   "pygments_lexer": "ipython3",
   "version": "3.11.11"
  }
 },
 "nbformat": 4,
 "nbformat_minor": 5
}

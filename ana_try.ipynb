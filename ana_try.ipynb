{
 "cells": [
  {
   "cell_type": "code",
   "execution_count": 13,
   "id": "d2afcaba",
   "metadata": {},
   "outputs": [],
   "source": [
    "import pandas as pd\n",
    "import numpy as np\n",
    "import matplotlib.pyplot as plt\n",
    "import os\n",
    "\n",
    "import torch \n",
    "import torch.nn as nn\n",
    "from torch.utils.data import DataLoader\n",
    "\n",
    "# Libraries for processing sounds\n",
    "import librosa\n",
    "from IPython.display import Audio\n",
    "import random"
   ]
  },
  {
   "cell_type": "code",
   "execution_count": 14,
   "id": "c987561e",
   "metadata": {},
   "outputs": [],
   "source": [
    "device = torch.device(\"cuda\" if torch.cuda.is_available() else \"cpu\")\n"
   ]
  },
  {
   "cell_type": "code",
   "execution_count": 15,
   "id": "478c2ca8",
   "metadata": {},
   "outputs": [
    {
     "name": "stdout",
     "output_type": "stream",
     "text": [
      "Loading dataset from data/Animal_Sound_processed.csv...\n",
      "Classes found: ['bear', 'cat', 'chicken', 'cow', 'dog', 'dolphin', 'donkey', 'elephant', 'frog', 'horse', 'lion', 'monkey', 'sheep']\n",
      "Total segments extracted: 2909\n",
      "train set contains 2327 segments.\n",
      "Loading dataset from data/Animal_Sound_processed.csv...\n",
      "Classes found: ['bear', 'cat', 'chicken', 'cow', 'dog', 'dolphin', 'donkey', 'elephant', 'frog', 'horse', 'lion', 'monkey', 'sheep']\n",
      "Total segments extracted: 2909\n",
      "val set contains 582 segments.\n"
     ]
    }
   ],
   "source": [
    "from AnimalSoundDataset import AnimalSoundDataset\n",
    "\n",
    "data_path = 'data/Animal_Sound_processed.csv'\n",
    "dataset_train = AnimalSoundDataset(data_path, split='train', split_ratio=0.8, seed=42)\n",
    "dataset_val = AnimalSoundDataset(data_path, split='val', split_ratio=0.8, seed=42)"
   ]
  },
  {
   "cell_type": "code",
   "execution_count": 16,
   "id": "53797c34",
   "metadata": {},
   "outputs": [],
   "source": [
    "batch_size = 128"
   ]
  },
  {
   "cell_type": "code",
   "execution_count": 17,
   "id": "389e147a",
   "metadata": {},
   "outputs": [
    {
     "name": "stdout",
     "output_type": "stream",
     "text": [
      "Number of batches in train loader: 19\n",
      "torch.Size([128, 2, 60, 41])\n",
      "torch.Size([128])\n"
     ]
    }
   ],
   "source": [
    "train_loader = DataLoader(dataset_train, batch_size=batch_size, shuffle=True)\n",
    "val_loader = DataLoader(dataset_val, batch_size=batch_size, shuffle=False)\n",
    "\n",
    "print(f\"Number of batches in train loader: {len(train_loader)}\")\n",
    "\n",
    "for batch in train_loader:\n",
    "    x_batch, y_batch = batch\n",
    "    print(x_batch.shape)  # [batch_size, 1, 128, 400]\n",
    "    print(y_batch.shape)  # [batch_size]\n",
    "    break"
   ]
  },
  {
   "cell_type": "code",
   "execution_count": 18,
   "id": "572b8b78",
   "metadata": {},
   "outputs": [
    {
     "name": "stdout",
     "output_type": "stream",
     "text": [
      "Input dimension: 2, Number of classes: 13\n"
     ]
    }
   ],
   "source": [
    "input_dim = dataset_train[0][0].shape[0]  # e.g., (2, 60, 41) for short segments\n",
    "n_classes = len(dataset_train.classes)\n",
    "print(f\"Input dimension: {input_dim}, Number of classes: {n_classes}\")\n",
    "\n",
    "hyperparameters = dict(\n",
    "    input_dim=input_dim,\n",
    "    output_dim=n_classes,\n",
    "    hidden_layers_size=5000,  # should be 5000 but do not want to kill my laptop\n",
    "    activation='relu',\n",
    "    kernel_size_conv=[(57, 6), (1, 3)],\n",
    "    kernel_size_pool=[(4, 3), (1, 3)],\n",
    "    stride_conv=[(1, 1), (1, 1)],\n",
    "    stride_pool=[(1, 3), (1, 3)],\n",
    "    filters=[80, 80],\n",
    "    batch_normalization=False,\n",
    "    dropout_rate=0.5,\n",
    "    # trainer hyperparameters\n",
    "    learning_rate=0.002,\n",
    "    weight_decay=0.001,\n",
    "    momentum=0.9,\n",
    "    nesterov=True,\n",
    "\n",
    "    # questionable hyperparameters\n",
    "    #batch_size=batch_size,\n",
    "    max_epoch=10\n",
    ")"
   ]
  },
  {
   "cell_type": "code",
   "execution_count": 19,
   "id": "9e69f694",
   "metadata": {},
   "outputs": [],
   "source": [
    "from ClassesML.AudioModel import AudioModel\n",
    "model = AudioModel(hyperparameters).to(device)"
   ]
  },
  {
   "cell_type": "code",
   "execution_count": null,
   "id": "ab440171",
   "metadata": {},
   "outputs": [],
   "source": [
    "def predict_clip(model, segment_tensors, device, method='prob'):\n",
    "    \"\"\"\n",
    "    Generate prediction for a whole clip given its segments.\n",
    "    \n",
    "    segment_tensors: tensor of shape (n_segments, channels, mel_bands, frames)\n",
    "    method: 'majority' or 'prob'\n",
    "    \"\"\"\n",
    "    model.eval()\n",
    "    segment_tensors = segment_tensors.to(device)\n",
    "    with torch.no_grad():\n",
    "        outputs = model(segment_tensors)  # (n_segments, num_classes)\n",
    "        probs = F.softmax(outputs, dim=1)\n",
    "\n",
    "    if method == 'majority':\n",
    "        preds = torch.argmax(probs, dim=1)\n",
    "        counts = torch.bincount(preds)\n",
    "        clip_pred = torch.argmax(counts).item()\n",
    "    elif method == 'prob':\n",
    "        avg_probs = probs.mean(dim=0)\n",
    "        clip_pred = torch.argmax(avg_probs).item()\n",
    "    else:\n",
    "        raise ValueError(\"method must be 'majority' or 'prob'\")\n",
    "\n",
    "    return clip_pred\n"
   ]
  },
  {
   "cell_type": "code",
   "execution_count": 11,
   "id": "fd1b118c",
   "metadata": {},
   "outputs": [
    {
     "name": "stderr",
     "output_type": "stream",
     "text": [
      "Epoch 1/10: 100%|██████████| 19/19 [00:14<00:00,  1.31it/s]\n"
     ]
    },
    {
     "name": "stdout",
     "output_type": "stream",
     "text": [
      "Epoch 1: Train Loss: 2.4964, Train Acc: 18.4836, Val Loss: 2.4609, Val Acc: 31.7500\n"
     ]
    },
    {
     "name": "stderr",
     "output_type": "stream",
     "text": [
      "Epoch 2/10: 100%|██████████| 19/19 [00:13<00:00,  1.36it/s]\n"
     ]
    },
    {
     "name": "stdout",
     "output_type": "stream",
     "text": [
      "Epoch 2: Train Loss: 2.3739, Train Acc: 27.1256, Val Loss: 2.3982, Val Acc: 40.6027\n"
     ]
    },
    {
     "name": "stderr",
     "output_type": "stream",
     "text": [
      "Epoch 3/10: 100%|██████████| 19/19 [00:14<00:00,  1.27it/s]\n"
     ]
    },
    {
     "name": "stdout",
     "output_type": "stream",
     "text": [
      "Epoch 3: Train Loss: 2.2572, Train Acc: 33.3739, Val Loss: 2.2791, Val Acc: 37.5045\n"
     ]
    },
    {
     "name": "stderr",
     "output_type": "stream",
     "text": [
      "Epoch 4/10: 100%|██████████| 19/19 [00:13<00:00,  1.36it/s]\n"
     ]
    },
    {
     "name": "stdout",
     "output_type": "stream",
     "text": [
      "Epoch 4: Train Loss: 2.1057, Train Acc: 35.7587, Val Loss: 2.1626, Val Acc: 39.6652\n"
     ]
    },
    {
     "name": "stderr",
     "output_type": "stream",
     "text": [
      "Epoch 5/10: 100%|██████████| 19/19 [00:15<00:00,  1.26it/s]\n"
     ]
    },
    {
     "name": "stdout",
     "output_type": "stream",
     "text": [
      "Epoch 5: Train Loss: 1.9666, Train Acc: 38.4082, Val Loss: 2.0062, Val Acc: 47.2366\n"
     ]
    },
    {
     "name": "stderr",
     "output_type": "stream",
     "text": [
      "Epoch 6/10: 100%|██████████| 19/19 [00:16<00:00,  1.14it/s]\n"
     ]
    },
    {
     "name": "stdout",
     "output_type": "stream",
     "text": [
      "Epoch 6: Train Loss: 1.7846, Train Acc: 43.8233, Val Loss: 1.8615, Val Acc: 53.9777\n"
     ]
    },
    {
     "name": "stderr",
     "output_type": "stream",
     "text": [
      "Epoch 7/10: 100%|██████████| 19/19 [00:18<00:00,  1.02it/s]\n"
     ]
    },
    {
     "name": "stdout",
     "output_type": "stream",
     "text": [
      "Epoch 7: Train Loss: 1.6570, Train Acc: 46.9018, Val Loss: 1.7468, Val Acc: 55.9330\n"
     ]
    },
    {
     "name": "stderr",
     "output_type": "stream",
     "text": [
      "Epoch 8/10: 100%|██████████| 19/19 [00:19<00:00,  1.04s/it]\n"
     ]
    },
    {
     "name": "stdout",
     "output_type": "stream",
     "text": [
      "Epoch 8: Train Loss: 1.5434, Train Acc: 51.2425, Val Loss: 1.6342, Val Acc: 61.4777\n"
     ]
    },
    {
     "name": "stderr",
     "output_type": "stream",
     "text": [
      "Epoch 9/10: 100%|██████████| 19/19 [00:20<00:00,  1.06s/it]\n"
     ]
    },
    {
     "name": "stdout",
     "output_type": "stream",
     "text": [
      "Epoch 9: Train Loss: 1.4549, Train Acc: 53.9742, Val Loss: 1.6415, Val Acc: 58.8482\n"
     ]
    },
    {
     "name": "stderr",
     "output_type": "stream",
     "text": [
      "Epoch 10/10: 100%|██████████| 19/19 [00:21<00:00,  1.14s/it]\n"
     ]
    },
    {
     "name": "stdout",
     "output_type": "stream",
     "text": [
      "Epoch 10: Train Loss: 1.4187, Train Acc: 54.6035, Val Loss: 1.5450, Val Acc: 60.9062\n"
     ]
    }
   ],
   "source": [
    "from ClassesML.AudioTrainer import AudioTrainer\n",
    "trainer = AudioTrainer(model, train_loader, val_loader, hyperparameters, device=device)\n",
    "trainer.train()"
   ]
  },
  {
   "cell_type": "markdown",
   "id": "c82b7102",
   "metadata": {},
   "source": []
  }
 ],
 "metadata": {
  "kernelspec": {
   "display_name": "DLClass",
   "language": "python",
   "name": "python3"
  },
  "language_info": {
   "codemirror_mode": {
    "name": "ipython",
    "version": 3
   },
   "file_extension": ".py",
   "mimetype": "text/x-python",
   "name": "python",
   "nbconvert_exporter": "python",
   "pygments_lexer": "ipython3",
   "version": "3.11.11"
  }
 },
 "nbformat": 4,
 "nbformat_minor": 5
}

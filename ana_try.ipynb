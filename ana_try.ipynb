{
  "cells": [
    {
      "cell_type": "code",
      "execution_count": 1,
      "id": "d2afcaba",
      "metadata": {
        "id": "d2afcaba"
      },
      "outputs": [],
      "source": [
        "import pandas as pd\n",
        "import numpy as np\n",
        "import matplotlib.pyplot as plt\n",
        "import os\n",
        "\n",
        "import torch\n",
        "import torch.nn as nn\n",
        "from torch.utils.data import DataLoader\n",
        "\n",
        "# Libraries for processing sounds\n",
        "import librosa\n",
        "from IPython.display import Audio\n",
        "import random"
      ]
    },
    {
      "cell_type": "code",
      "execution_count": 2,
      "id": "c987561e",
      "metadata": {
        "id": "c987561e"
      },
      "outputs": [],
      "source": [
        "device = torch.device(\"cuda\" if torch.cuda.is_available() else \"cpu\")\n"
      ]
    },
    {
      "cell_type": "code",
      "execution_count": 6,
      "id": "b32ebae5",
      "metadata": {
        "id": "b32ebae5",
        "outputId": "97be81f7-0e4c-40a2-87f1-ca28bb7384ac",
        "colab": {
          "base_uri": "https://localhost:8080/"
        }
      },
      "outputs": [
        {
          "output_type": "execute_result",
          "data": {
            "text/plain": [
              "650"
            ]
          },
          "metadata": {},
          "execution_count": 6
        }
      ],
      "source": [
        "df = pd.read_csv('data/Animal_Sound_processed.csv')\n",
        "len(df)"
      ]
    },
    {
      "cell_type": "code",
      "execution_count": 8,
      "id": "478c2ca8",
      "metadata": {
        "id": "478c2ca8",
        "outputId": "63a71721-82f3-4f86-e0d6-13051676c4cd",
        "colab": {
          "base_uri": "https://localhost:8080/"
        }
      },
      "outputs": [
        {
          "output_type": "stream",
          "name": "stdout",
          "text": [
            "Classes found: ['bear', 'cat', 'chicken', 'cow', 'dog', 'dolphin', 'donkey', 'elephant', 'frog', 'horse', 'lion', 'monkey', 'sheep']\n",
            "Total segments extracted: 2909\n",
            "train set contains 2327 segments.\n",
            "Classes found: ['bear', 'cat', 'chicken', 'cow', 'dog', 'dolphin', 'donkey', 'elephant', 'frog', 'horse', 'lion', 'monkey', 'sheep']\n",
            "Total segments extracted: 2909\n",
            "val set contains 582 segments.\n"
          ]
        }
      ],
      "source": [
        "from ClassesData.AnimalSoundDataset import AnimalSoundDataset\n",
        "\n",
        "dataset_train = AnimalSoundDataset(df, split='train', split_ratio=0.8, seed=42)\n",
        "dataset_val = AnimalSoundDataset(df, split='val', split_ratio=0.8, seed=42)"
      ]
    },
    {
      "cell_type": "code",
      "execution_count": 9,
      "id": "53797c34",
      "metadata": {
        "id": "53797c34"
      },
      "outputs": [],
      "source": [
        "# in a paper there are 20000 samples in the training set\n",
        "# and they use 1000 for batch\n",
        "# we have 2000 samples in the training set\n",
        "# therefore we use 128 for batch\n",
        "batch_size = 128"
      ]
    },
    {
      "cell_type": "code",
      "execution_count": 10,
      "id": "389e147a",
      "metadata": {
        "id": "389e147a",
        "outputId": "ec69ae30-0987-46fd-ba53-43707c2c34c0",
        "colab": {
          "base_uri": "https://localhost:8080/"
        }
      },
      "outputs": [
        {
          "output_type": "stream",
          "name": "stdout",
          "text": [
            "Number of batches in train loader: 19\n",
            "torch.Size([128, 2, 60, 41])\n",
            "torch.Size([128])\n"
          ]
        }
      ],
      "source": [
        "train_loader = DataLoader(dataset_train, batch_size=batch_size, shuffle=True)\n",
        "val_loader = DataLoader(dataset_val, batch_size=batch_size, shuffle=False)\n",
        "\n",
        "print(f\"Number of batches in train loader: {len(train_loader)}\")\n",
        "\n",
        "for batch in train_loader:\n",
        "    x_batch, y_batch = batch\n",
        "    print(x_batch.shape)  # [batch_size, 1, 128, 400]\n",
        "    print(y_batch.shape)  # [batch_size]\n",
        "    break"
      ]
    },
    {
      "cell_type": "code",
      "execution_count": 11,
      "id": "572b8b78",
      "metadata": {
        "id": "572b8b78",
        "outputId": "c0e78ee4-e2a1-45d6-e43d-8c83ec50543d",
        "colab": {
          "base_uri": "https://localhost:8080/"
        }
      },
      "outputs": [
        {
          "output_type": "stream",
          "name": "stdout",
          "text": [
            "Input dimension: 2, Number of classes: 13\n"
          ]
        }
      ],
      "source": [
        "input_dim = dataset_train[0][0].shape[0]  # e.g., (2, 60, 41) for short segments\n",
        "n_classes = len(dataset_train.classes)\n",
        "print(f\"Input dimension: {input_dim}, Number of classes: {n_classes}\")\n",
        "\n",
        "hyperparameters = dict(\n",
        "    input_dim=input_dim,\n",
        "    output_dim=n_classes,\n",
        "    hidden_layers_size=5000,\n",
        "    activation='relu',\n",
        "    kernel_size_conv=[(57, 6), (1, 3)],\n",
        "    kernel_size_pool=[(4, 3), (1, 3)],\n",
        "    stride_conv=[(1, 1), (1, 1)],\n",
        "    stride_pool=[(1, 3), (1, 3)],\n",
        "    filters=[80, 80],\n",
        "    batch_normalization=False,\n",
        "    dropout_rate=0.5,\n",
        "    # trainer hyperparameters\n",
        "    learning_rate=0.002,\n",
        "    weight_decay=0.001,\n",
        "    momentum=0.9,\n",
        "    nesterov=True,\n",
        "\n",
        "    # questionable hyperparameters\n",
        "    #batch_size=batch_size,\n",
        "    max_epoch=10\n",
        ")"
      ]
    },
    {
      "cell_type": "code",
      "execution_count": 12,
      "id": "9e69f694",
      "metadata": {
        "id": "9e69f694",
        "outputId": "1edd3d65-66da-46c2-c4af-f44ac202f833",
        "colab": {
          "base_uri": "https://localhost:8080/",
          "height": 478
        }
      },
      "outputs": [
        {
          "output_type": "error",
          "ename": "ModuleNotFoundError",
          "evalue": "No module named 'Utilities'",
          "traceback": [
            "\u001b[0;31m---------------------------------------------------------------------------\u001b[0m",
            "\u001b[0;31mModuleNotFoundError\u001b[0m                       Traceback (most recent call last)",
            "\u001b[0;32m/tmp/ipython-input-12-3337996458.py\u001b[0m in \u001b[0;36m<cell line: 0>\u001b[0;34m()\u001b[0m\n\u001b[0;32m----> 1\u001b[0;31m \u001b[0;32mfrom\u001b[0m \u001b[0mClassesML\u001b[0m\u001b[0;34m.\u001b[0m\u001b[0mAudioModel\u001b[0m \u001b[0;32mimport\u001b[0m \u001b[0mAudioModel\u001b[0m\u001b[0;34m\u001b[0m\u001b[0;34m\u001b[0m\u001b[0m\n\u001b[0m\u001b[1;32m      2\u001b[0m \u001b[0mmodel\u001b[0m \u001b[0;34m=\u001b[0m \u001b[0mAudioModel\u001b[0m\u001b[0;34m(\u001b[0m\u001b[0mhyperparameters\u001b[0m\u001b[0;34m)\u001b[0m\u001b[0;34m.\u001b[0m\u001b[0mto\u001b[0m\u001b[0;34m(\u001b[0m\u001b[0mdevice\u001b[0m\u001b[0;34m)\u001b[0m\u001b[0;34m\u001b[0m\u001b[0;34m\u001b[0m\u001b[0m\n",
            "\u001b[0;32m/content/ClassesML/AudioModel.py\u001b[0m in \u001b[0;36m<module>\u001b[0;34m\u001b[0m\n\u001b[1;32m      8\u001b[0m \u001b[0;32mimport\u001b[0m \u001b[0mtorch\u001b[0m\u001b[0;34m.\u001b[0m\u001b[0mnn\u001b[0m \u001b[0;32mas\u001b[0m \u001b[0mnn\u001b[0m\u001b[0;34m\u001b[0m\u001b[0;34m\u001b[0m\u001b[0m\n\u001b[1;32m      9\u001b[0m \u001b[0;32mfrom\u001b[0m \u001b[0mtorch\u001b[0m\u001b[0;34m.\u001b[0m\u001b[0mutils\u001b[0m\u001b[0;34m.\u001b[0m\u001b[0mdata\u001b[0m \u001b[0;32mimport\u001b[0m \u001b[0mDataset\u001b[0m\u001b[0;34m,\u001b[0m \u001b[0mDataLoader\u001b[0m\u001b[0;34m\u001b[0m\u001b[0;34m\u001b[0m\u001b[0m\n\u001b[0;32m---> 10\u001b[0;31m \u001b[0;32mfrom\u001b[0m \u001b[0mClassesML\u001b[0m\u001b[0;34m.\u001b[0m\u001b[0mBlocks\u001b[0m \u001b[0;32mimport\u001b[0m \u001b[0mConv2DBlock\u001b[0m\u001b[0;34m\u001b[0m\u001b[0;34m\u001b[0m\u001b[0m\n\u001b[0m\u001b[1;32m     11\u001b[0m \u001b[0;32mfrom\u001b[0m \u001b[0mUtilities\u001b[0m\u001b[0;34m.\u001b[0m\u001b[0mUtilities\u001b[0m \u001b[0;32mimport\u001b[0m \u001b[0mUtilities\u001b[0m\u001b[0;34m\u001b[0m\u001b[0;34m\u001b[0m\u001b[0m\n\u001b[1;32m     12\u001b[0m \u001b[0;34m\u001b[0m\u001b[0m\n",
            "\u001b[0;32m/content/ClassesML/Blocks.py\u001b[0m in \u001b[0;36m<module>\u001b[0;34m\u001b[0m\n\u001b[1;32m      4\u001b[0m \u001b[0;32mimport\u001b[0m \u001b[0mnumpy\u001b[0m \u001b[0;32mas\u001b[0m \u001b[0mnp\u001b[0m\u001b[0;34m\u001b[0m\u001b[0;34m\u001b[0m\u001b[0m\n\u001b[1;32m      5\u001b[0m \u001b[0;32mimport\u001b[0m \u001b[0mmath\u001b[0m\u001b[0;34m\u001b[0m\u001b[0;34m\u001b[0m\u001b[0m\n\u001b[0;32m----> 6\u001b[0;31m \u001b[0;32mfrom\u001b[0m \u001b[0mUtilities\u001b[0m\u001b[0;34m.\u001b[0m\u001b[0mUtilities\u001b[0m \u001b[0;32mimport\u001b[0m \u001b[0mUtilities\u001b[0m\u001b[0;34m\u001b[0m\u001b[0;34m\u001b[0m\u001b[0m\n\u001b[0m\u001b[1;32m      7\u001b[0m \u001b[0;34m\u001b[0m\u001b[0m\n\u001b[1;32m      8\u001b[0m \u001b[0;31m# %%\u001b[0m\u001b[0;34m\u001b[0m\u001b[0;34m\u001b[0m\u001b[0m\n",
            "\u001b[0;31mModuleNotFoundError\u001b[0m: No module named 'Utilities'",
            "",
            "\u001b[0;31m---------------------------------------------------------------------------\u001b[0;32m\nNOTE: If your import is failing due to a missing package, you can\nmanually install dependencies using either !pip or !apt.\n\nTo view examples of installing some common dependencies, click the\n\"Open Examples\" button below.\n\u001b[0;31m---------------------------------------------------------------------------\u001b[0m\n"
          ],
          "errorDetails": {
            "actions": [
              {
                "action": "open_url",
                "actionText": "Open Examples",
                "url": "/notebooks/snippets/importing_libraries.ipynb"
              }
            ]
          }
        }
      ],
      "source": [
        "from ClassesML.AudioModel import AudioModel\n",
        "model = AudioModel(hyperparameters).to(device)"
      ]
    },
    {
      "cell_type": "code",
      "execution_count": null,
      "id": "ab440171",
      "metadata": {
        "id": "ab440171"
      },
      "outputs": [],
      "source": [
        "import torch.nn.functional as F\n",
        "def predict_clip(model, segment_tensors, device, method='prob'):\n",
        "    \"\"\"\n",
        "    Generate prediction for a whole clip given its segments.\n",
        "\n",
        "    segment_tensors: tensor of shape (n_segments, channels, mel_bands, frames)\n",
        "    method: 'majority' or 'prob'\n",
        "    \"\"\"\n",
        "    model.eval()\n",
        "    segment_tensors = segment_tensors.to(device)\n",
        "    with torch.no_grad():\n",
        "        outputs = model(segment_tensors)  # (n_segments, num_classes)\n",
        "        probs = F.softmax(outputs, dim=1)\n",
        "\n",
        "    if method == 'majority':\n",
        "        preds = torch.argmax(probs, dim=1)\n",
        "        counts = torch.bincount(preds)\n",
        "        clip_pred = torch.argmax(counts).item()\n",
        "    elif method == 'prob':\n",
        "        avg_probs = probs.mean(dim=0)\n",
        "        clip_pred = torch.argmax(avg_probs).item()\n",
        "    else:\n",
        "        raise ValueError(\"method must be 'majority' or 'prob'\")\n",
        "\n",
        "    return clip_pred\n"
      ]
    },
    {
      "cell_type": "code",
      "execution_count": null,
      "id": "fd1b118c",
      "metadata": {
        "id": "fd1b118c",
        "outputId": "b6fed746-21e3-46ec-ffc3-bcfeb2130934"
      },
      "outputs": [
        {
          "name": "stderr",
          "output_type": "stream",
          "text": [
            "Epoch 1/10:   0%|          | 0/19 [00:00<?, ?it/s]/Users/anampavicic/miniconda3/envs/DLClass/lib/python3.11/site-packages/torch/nn/modules/conv.py:549: UserWarning: Using padding='same' with even kernel lengths and odd dilation may require a zero-padded copy of the input be created (Triggered internally at /Users/runner/work/pytorch/pytorch/pytorch/aten/src/ATen/native/Convolution.cpp:1037.)\n",
            "  return F.conv2d(\n",
            "Epoch 1/10: 100%|██████████| 19/19 [00:14<00:00,  1.31it/s]\n"
          ]
        },
        {
          "name": "stdout",
          "output_type": "stream",
          "text": [
            "Epoch 1: Train Loss: 2.4937, Train Acc: 15.5714, Val Loss: 2.4500, Val Acc: 31.7545\n"
          ]
        },
        {
          "name": "stderr",
          "output_type": "stream",
          "text": [
            "Epoch 2/10: 100%|██████████| 19/19 [00:13<00:00,  1.38it/s]\n"
          ]
        },
        {
          "name": "stdout",
          "output_type": "stream",
          "text": [
            "Epoch 2: Train Loss: 2.3670, Train Acc: 22.1253, Val Loss: 2.3961, Val Acc: 33.0268\n"
          ]
        },
        {
          "name": "stderr",
          "output_type": "stream",
          "text": [
            "Epoch 3/10: 100%|██████████| 19/19 [00:14<00:00,  1.34it/s]\n"
          ]
        },
        {
          "name": "stdout",
          "output_type": "stream",
          "text": [
            "Epoch 3: Train Loss: 2.2532, Train Acc: 32.8447, Val Loss: 2.2888, Val Acc: 40.7054\n"
          ]
        },
        {
          "name": "stderr",
          "output_type": "stream",
          "text": [
            "Epoch 4/10: 100%|██████████| 19/19 [00:14<00:00,  1.34it/s]\n"
          ]
        },
        {
          "name": "stdout",
          "output_type": "stream",
          "text": [
            "Epoch 4: Train Loss: 2.1162, Train Acc: 36.2003, Val Loss: 2.1402, Val Acc: 42.7098\n"
          ]
        },
        {
          "name": "stderr",
          "output_type": "stream",
          "text": [
            "Epoch 5/10: 100%|██████████| 19/19 [00:15<00:00,  1.22it/s]\n"
          ]
        },
        {
          "name": "stdout",
          "output_type": "stream",
          "text": [
            "Epoch 5: Train Loss: 1.9345, Train Acc: 39.3718, Val Loss: 1.9822, Val Acc: 46.3795\n"
          ]
        },
        {
          "name": "stderr",
          "output_type": "stream",
          "text": [
            "Epoch 6/10: 100%|██████████| 19/19 [00:14<00:00,  1.32it/s]\n"
          ]
        },
        {
          "name": "stdout",
          "output_type": "stream",
          "text": [
            "Epoch 6: Train Loss: 1.7857, Train Acc: 43.6535, Val Loss: 1.8247, Val Acc: 50.0491\n"
          ]
        },
        {
          "name": "stderr",
          "output_type": "stream",
          "text": [
            "Epoch 7/10: 100%|██████████| 19/19 [00:15<00:00,  1.24it/s]\n"
          ]
        },
        {
          "name": "stdout",
          "output_type": "stream",
          "text": [
            "Epoch 7: Train Loss: 1.6350, Train Acc: 47.3595, Val Loss: 1.7168, Val Acc: 55.2545\n"
          ]
        },
        {
          "name": "stderr",
          "output_type": "stream",
          "text": [
            "Epoch 8/10: 100%|██████████| 19/19 [00:15<00:00,  1.25it/s]\n"
          ]
        },
        {
          "name": "stdout",
          "output_type": "stream",
          "text": [
            "Epoch 8: Train Loss: 1.5320, Train Acc: 50.8832, Val Loss: 1.6361, Val Acc: 56.3750\n"
          ]
        },
        {
          "name": "stderr",
          "output_type": "stream",
          "text": [
            "Epoch 9/10: 100%|██████████| 19/19 [00:14<00:00,  1.29it/s]\n"
          ]
        },
        {
          "name": "stdout",
          "output_type": "stream",
          "text": [
            "Epoch 9: Train Loss: 1.4670, Train Acc: 54.3085, Val Loss: 1.5613, Val Acc: 58.9777\n"
          ]
        },
        {
          "name": "stderr",
          "output_type": "stream",
          "text": [
            "Epoch 10/10: 100%|██████████| 19/19 [00:16<00:00,  1.18it/s]\n"
          ]
        },
        {
          "name": "stdout",
          "output_type": "stream",
          "text": [
            "Epoch 10: Train Loss: 1.4204, Train Acc: 55.4366, Val Loss: 1.5488, Val Acc: 65.2009\n"
          ]
        }
      ],
      "source": [
        "from ClassesML.AudioTrainer import AudioTrainer\n",
        "trainer = AudioTrainer(model, train_loader, val_loader, hyperparameters, device=device)\n",
        "trainer.train()"
      ]
    },
    {
      "cell_type": "markdown",
      "id": "e73ddd17",
      "metadata": {
        "id": "e73ddd17"
      },
      "source": [
        "### Evaluate the model using the 5-fold cross validation"
      ]
    },
    {
      "cell_type": "code",
      "execution_count": null,
      "id": "47376604",
      "metadata": {
        "id": "47376604"
      },
      "outputs": [],
      "source": [
        "import warnings\n",
        "def extract_segments_with_deltas(file_path, variant='short', silence_threshold=-80):\n",
        "    \"\"\"\n",
        "    Extracts 2-channel (log-mel + delta) spectrogram segments from an audio file.\n",
        "\n",
        "    Parameters:\n",
        "    - file_path (str): Path to audio file.\n",
        "    - variant (str): 'short' (41 frames, 50% overlap) or 'long' (101 frames, 90% overlap).\n",
        "    - silence_threshold (float): dB threshold for discarding low-energy segments.\n",
        "\n",
        "    Returns:\n",
        "    - np.ndarray: Array of shape (n_segments, 2, 60, frames_per_segment)\n",
        "    \"\"\"\n",
        "    # Config\n",
        "    sr = 22050\n",
        "    n_fft = 1024\n",
        "    hop_length = 512\n",
        "    n_mels = 60\n",
        "\n",
        "    if variant == 'short':\n",
        "        frames_per_segment = 41\n",
        "        overlap = 0.5\n",
        "    elif variant == 'long':\n",
        "        frames_per_segment = 101\n",
        "        overlap = 0.9\n",
        "    else:\n",
        "        raise ValueError(\"variant must be 'short' or 'long'\")\n",
        "\n",
        "    try:\n",
        "        # Load audio in mono\n",
        "        y, _ = librosa.load(file_path, sr=sr, mono=True)\n",
        "\n",
        "        # Skip empty or very short files\n",
        "        if len(y) < n_fft:\n",
        "            warnings.warn(f\"File too short to process: {file_path}\")\n",
        "            return np.empty((0, 2, 60, frames_per_segment))\n",
        "\n",
        "        # Compute log-mel spectrogram\n",
        "        mel_spec = librosa.feature.melspectrogram(\n",
        "            y=y,\n",
        "            sr=sr,\n",
        "            n_fft=n_fft,\n",
        "            hop_length=hop_length,\n",
        "            n_mels=n_mels\n",
        "        )\n",
        "        log_mel_spec = librosa.power_to_db(mel_spec, ref=np.max)\n",
        "\n",
        "        # Normalize safely\n",
        "        mean = np.mean(log_mel_spec)\n",
        "        std = np.std(log_mel_spec)\n",
        "        if std == 0:\n",
        "            warnings.warn(f\"Zero std encountered in file: {file_path}\")\n",
        "            return np.empty((0, 2, 60, frames_per_segment))\n",
        "\n",
        "        log_mel_spec = (log_mel_spec - mean) / std\n",
        "\n",
        "        # Compute deltas\n",
        "        delta_spec = librosa.feature.delta(log_mel_spec)\n",
        "\n",
        "        # Segmenting\n",
        "        step = int(frames_per_segment * (1 - overlap))\n",
        "        segments = []\n",
        "\n",
        "        for start in range(0, log_mel_spec.shape[1] - frames_per_segment + 1, step):\n",
        "            seg = log_mel_spec[:, start:start + frames_per_segment]\n",
        "            delta = delta_spec[:, start:start + frames_per_segment]\n",
        "\n",
        "            # Skip silent segments\n",
        "            if np.mean(seg) < silence_threshold:\n",
        "                continue\n",
        "\n",
        "            stacked = np.stack([seg, delta], axis=0)\n",
        "            segments.append(stacked)\n",
        "\n",
        "        return np.stack(segments) if segments else np.empty((0, 2, 60, frames_per_segment))\n",
        "\n",
        "    except Exception as e:\n",
        "        warnings.warn(f\"Failed to process {file_path}: {e}\")\n",
        "        return np.empty((0, 2, 60, frames_per_segment))"
      ]
    },
    {
      "cell_type": "code",
      "execution_count": null,
      "id": "3ff9fdfb",
      "metadata": {
        "id": "3ff9fdfb",
        "outputId": "858a6125-e118-415f-a747-bec659ecbf91"
      },
      "outputs": [
        {
          "name": "stdout",
          "output_type": "stream",
          "text": [
            "Fold 1\n",
            "Train/Val samples: 520\n",
            "Test samples: 130\n",
            "Classes found: ['bear', 'cat', 'chicken', 'cow', 'dog', 'dolphin', 'donkey', 'elephant', 'frog', 'horse', 'lion', 'monkey', 'sheep']\n",
            "Total segments extracted: 2301\n",
            "train set contains 1725 segments.\n",
            "Classes found: ['bear', 'cat', 'chicken', 'cow', 'dog', 'dolphin', 'donkey', 'elephant', 'frog', 'horse', 'lion', 'monkey', 'sheep']\n",
            "Total segments extracted: 2301\n",
            "val set contains 576 segments.\n"
          ]
        },
        {
          "name": "stderr",
          "output_type": "stream",
          "text": [
            "Epoch 1/10: 100%|██████████| 14/14 [00:12<00:00,  1.13it/s]\n"
          ]
        },
        {
          "name": "stdout",
          "output_type": "stream",
          "text": [
            "Epoch 1: Train Loss: 2.5115, Train Acc: 14.2619, Val Loss: 2.4871, Val Acc: 17.0312\n"
          ]
        },
        {
          "name": "stderr",
          "output_type": "stream",
          "text": [
            "Epoch 2/10: 100%|██████████| 14/14 [00:10<00:00,  1.31it/s]\n"
          ]
        },
        {
          "name": "stdout",
          "output_type": "stream",
          "text": [
            "Epoch 2: Train Loss: 2.3844, Train Acc: 20.1552, Val Loss: 2.4146, Val Acc: 26.7188\n"
          ]
        },
        {
          "name": "stderr",
          "output_type": "stream",
          "text": [
            "Epoch 3/10: 100%|██████████| 14/14 [00:11<00:00,  1.24it/s]\n"
          ]
        },
        {
          "name": "stdout",
          "output_type": "stream",
          "text": [
            "Epoch 3: Train Loss: 2.3181, Train Acc: 30.0983, Val Loss: 2.3757, Val Acc: 29.6875\n"
          ]
        },
        {
          "name": "stderr",
          "output_type": "stream",
          "text": [
            "Epoch 4/10: 100%|██████████| 14/14 [00:12<00:00,  1.13it/s]\n"
          ]
        },
        {
          "name": "stdout",
          "output_type": "stream",
          "text": [
            "Epoch 4: Train Loss: 2.2362, Train Acc: 30.3279, Val Loss: 2.2976, Val Acc: 29.3750\n"
          ]
        },
        {
          "name": "stderr",
          "output_type": "stream",
          "text": [
            "Epoch 5/10: 100%|██████████| 14/14 [00:10<00:00,  1.30it/s]\n"
          ]
        },
        {
          "name": "stdout",
          "output_type": "stream",
          "text": [
            "Epoch 5: Train Loss: 2.1220, Train Acc: 31.9068, Val Loss: 2.2100, Val Acc: 31.5625\n"
          ]
        },
        {
          "name": "stderr",
          "output_type": "stream",
          "text": [
            "Epoch 6/10: 100%|██████████| 14/14 [00:11<00:00,  1.22it/s]\n"
          ]
        },
        {
          "name": "stdout",
          "output_type": "stream",
          "text": [
            "Epoch 6: Train Loss: 2.0089, Train Acc: 34.6906, Val Loss: 2.1211, Val Acc: 36.5625\n"
          ]
        },
        {
          "name": "stderr",
          "output_type": "stream",
          "text": [
            "Epoch 7/10: 100%|██████████| 14/14 [00:12<00:00,  1.15it/s]\n"
          ]
        },
        {
          "name": "stdout",
          "output_type": "stream",
          "text": [
            "Epoch 7: Train Loss: 1.9123, Train Acc: 38.0891, Val Loss: 2.0181, Val Acc: 38.2812\n"
          ]
        },
        {
          "name": "stderr",
          "output_type": "stream",
          "text": [
            "Epoch 8/10: 100%|██████████| 14/14 [00:12<00:00,  1.10it/s]\n"
          ]
        },
        {
          "name": "stdout",
          "output_type": "stream",
          "text": [
            "Epoch 8: Train Loss: 1.8286, Train Acc: 39.7468, Val Loss: 1.9478, Val Acc: 44.8438\n"
          ]
        },
        {
          "name": "stderr",
          "output_type": "stream",
          "text": [
            "Epoch 9/10: 100%|██████████| 14/14 [00:13<00:00,  1.01it/s]\n"
          ]
        },
        {
          "name": "stdout",
          "output_type": "stream",
          "text": [
            "Epoch 9: Train Loss: 1.7320, Train Acc: 44.4004, Val Loss: 1.8659, Val Acc: 49.0625\n"
          ]
        },
        {
          "name": "stderr",
          "output_type": "stream",
          "text": [
            "Epoch 10/10: 100%|██████████| 14/14 [00:14<00:00,  1.00s/it]\n"
          ]
        },
        {
          "name": "stdout",
          "output_type": "stream",
          "text": [
            "Epoch 10: Train Loss: 1.6196, Train Acc: 47.2464, Val Loss: 1.7664, Val Acc: 51.5625\n",
            "Model saved to model_fold_1.pth\n",
            "\n",
            "Fold 1 - Test Accuracy: 45.5944\n",
            "\n",
            "Fold 2\n",
            "Train/Val samples: 520\n",
            "Test samples: 130\n",
            "Classes found: ['bear', 'cat', 'chicken', 'cow', 'dog', 'dolphin', 'donkey', 'elephant', 'frog', 'horse', 'lion', 'monkey', 'sheep']\n",
            "Total segments extracted: 2332\n",
            "train set contains 1749 segments.\n",
            "Classes found: ['bear', 'cat', 'chicken', 'cow', 'dog', 'dolphin', 'donkey', 'elephant', 'frog', 'horse', 'lion', 'monkey', 'sheep']\n",
            "Total segments extracted: 2332\n",
            "val set contains 583 segments.\n"
          ]
        },
        {
          "name": "stderr",
          "output_type": "stream",
          "text": [
            "Epoch 1/10: 100%|██████████| 14/14 [00:16<00:00,  1.18s/it]\n"
          ]
        },
        {
          "name": "stdout",
          "output_type": "stream",
          "text": [
            "Epoch 1: Train Loss: 2.4994, Train Acc: 16.3275, Val Loss: 2.4806, Val Acc: 14.3794\n"
          ]
        },
        {
          "name": "stderr",
          "output_type": "stream",
          "text": [
            "Epoch 2/10: 100%|██████████| 14/14 [00:14<00:00,  1.05s/it]\n"
          ]
        },
        {
          "name": "stdout",
          "output_type": "stream",
          "text": [
            "Epoch 2: Train Loss: 2.3797, Train Acc: 19.5378, Val Loss: 2.4148, Val Acc: 26.3182\n"
          ]
        },
        {
          "name": "stderr",
          "output_type": "stream",
          "text": [
            "Epoch 3/10: 100%|██████████| 14/14 [00:14<00:00,  1.05s/it]\n"
          ]
        },
        {
          "name": "stdout",
          "output_type": "stream",
          "text": [
            "Epoch 3: Train Loss: 2.2972, Train Acc: 31.5671, Val Loss: 2.3594, Val Acc: 29.6633\n"
          ]
        },
        {
          "name": "stderr",
          "output_type": "stream",
          "text": [
            "Epoch 4/10:  79%|███████▊  | 11/14 [00:13<00:03,  1.21s/it]\n"
          ]
        }
      ],
      "source": [
        "import pandas as pd\n",
        "from sklearn.model_selection import KFold\n",
        "\n",
        "# Load your dataset\n",
        "df = pd.read_csv('data/Animal_Sound_processed.csv')  # Update path if needed\n",
        "\n",
        "# Prepare 5-Fold cross-validator\n",
        "kf = KFold(n_splits=5, shuffle=True, random_state=42)\n",
        "\n",
        "for fold, (train_val_idx, val_idx) in enumerate(kf.split(df)):\n",
        "    df_train_val = df.iloc[train_val_idx].reset_index(drop=True)\n",
        "    df_test = df.iloc[val_idx].reset_index(drop=True)\n",
        "\n",
        "    print(f\"Fold {fold + 1}\")\n",
        "    print(f\"Train/Val samples: {len(df_train_val)}\")\n",
        "    print(f\"Test samples: {len(df_test)}\")\n",
        "\n",
        "    # Create datasets for this fold\n",
        "    dataset_train = AnimalSoundDataset(df_train_val, split='train', split_ratio=0.75, seed=42)\n",
        "    dataset_val = AnimalSoundDataset(df_train_val, split='val', split_ratio=0.75, seed=42)\n",
        "    train_loader = DataLoader(dataset_train, batch_size=batch_size, shuffle=True)\n",
        "    val_loader = DataLoader(dataset_val, batch_size=batch_size, shuffle=False)\n",
        "\n",
        "    # Initialize model and trainer\n",
        "    model = AudioModel(hyperparameters).to(device)\n",
        "    trainer = AudioTrainer(model, train_loader, val_loader, hyperparameters, device=device)\n",
        "    trainer.train()\n",
        "    # Save the model for this fold\n",
        "    model_save_path = f'model_fold_{fold + 1}.pth'\n",
        "    torch.save(model.state_dict(), model_save_path)\n",
        "    print(f\"Model saved to {model_save_path}\\n\")\n",
        "\n",
        "    # Evaluate on test set\n",
        "    for path, label in zip(df_test['path'], df_test['name']):\n",
        "\n",
        "        test_segments = extract_segments_with_deltas(path, variant='short')\n",
        "        predicted_sound = predict_clip(model, torch.tensor(test_segments, dtype=torch.float32).to(device), device, method='prob')\n",
        "\n",
        "\n",
        "        predicted_label = dataset_train.classes[predicted_sound]\n",
        "\n",
        "        if predicted_label == label:\n",
        "            correct_predictions += 1\n",
        "        total_predictions += 1\n",
        "    accuracy = correct_predictions / total_predictions * 100 if total_predictions > 0 else 0\n",
        "    print(f\"Fold {fold + 1} - Test Accuracy: {accuracy:.4f}\\n\")\n",
        "\n",
        "\n",
        "\n",
        ""
      ]
    }
  ],
  "metadata": {
    "kernelspec": {
      "display_name": "DLClass",
      "language": "python",
      "name": "python3"
    },
    "language_info": {
      "codemirror_mode": {
        "name": "ipython",
        "version": 3
      },
      "file_extension": ".py",
      "mimetype": "text/x-python",
      "name": "python",
      "nbconvert_exporter": "python",
      "pygments_lexer": "ipython3",
      "version": "3.11.11"
    },
    "colab": {
      "provenance": []
    }
  },
<<<<<<< HEAD
  {
   "cell_type": "code",
   "execution_count": 5,
   "id": "53797c34",
   "metadata": {},
   "outputs": [],
   "source": [
    "# in a paper there are 20000 samples in the training set\n",
    "# and they use 1000 for batch\n",
    "# we have 2000 samples in the training set\n",
    "# therefore we use 128 for batch\n",
    "batch_size = 128"
   ]
  },
  {
   "cell_type": "code",
   "execution_count": 6,
   "id": "389e147a",
   "metadata": {},
   "outputs": [
    {
     "name": "stdout",
     "output_type": "stream",
     "text": [
      "Number of batches in train loader: 19\n",
      "torch.Size([128, 2, 60, 41])\n",
      "torch.Size([128])\n"
     ]
    }
   ],
   "source": [
    "train_loader = DataLoader(dataset_train, batch_size=batch_size, shuffle=True)\n",
    "val_loader = DataLoader(dataset_val, batch_size=batch_size, shuffle=False)\n",
    "\n",
    "print(f\"Number of batches in train loader: {len(train_loader)}\")\n",
    "\n",
    "for batch in train_loader:\n",
    "    x_batch, y_batch = batch\n",
    "    print(x_batch.shape)  # [batch_size, 1, 128, 400]\n",
    "    print(y_batch.shape)  # [batch_size]\n",
    "    break"
   ]
  },
  {
   "cell_type": "code",
   "execution_count": 9,
   "id": "572b8b78",
   "metadata": {},
   "outputs": [
    {
     "name": "stdout",
     "output_type": "stream",
     "text": [
      "Input dimension: 2, Number of classes: 13\n"
     ]
    }
   ],
   "source": [
    "input_dim = dataset_train[0][0].shape[0]  # e.g., (2, 60, 41) for short segments\n",
    "n_classes = len(dataset_train.classes)\n",
    "print(f\"Input dimension: {input_dim}, Number of classes: {n_classes}\")\n",
    "\n",
    "hyperparameters = dict(\n",
    "    input_dim=input_dim,\n",
    "    output_dim=n_classes,\n",
    "    hidden_layers_size=5000,\n",
    "    activation='relu',\n",
    "    kernel_size_conv=[(57, 6), (1, 3)],\n",
    "    kernel_size_pool=[(4, 3), (1, 3)],\n",
    "    stride_conv=[(1, 1), (1, 1)],\n",
    "    stride_pool=[(1, 3), (1, 3)],\n",
    "    filters=[80, 80],\n",
    "    batch_normalization=False,\n",
    "    dropout_rate=0.5,\n",
    "    # trainer hyperparameters\n",
    "    learning_rate=0.002,\n",
    "    weight_decay=0.001,\n",
    "    momentum=0.9,\n",
    "    nesterov=True,\n",
    "\n",
    "    # questionable hyperparameters\n",
    "    #batch_size=batch_size,\n",
    "    max_epoch=2,\n",
    "\n",
    "    #Early stopping and sceduler\n",
    "    patience_lr=False,\n",
    "    early_stopping=False\n",
    ")"
   ]
  },
  {
   "cell_type": "code",
   "execution_count": null,
   "id": "64d55530",
   "metadata": {},
   "outputs": [
    {
     "name": "stderr",
     "output_type": "stream",
     "text": [
      "Epoch 1/2:   0%|          | 0/19 [00:00<?, ?it/s]"
     ]
    },
    {
     "name": "stderr",
     "output_type": "stream",
     "text": [
      "Epoch 1/2:  42%|████▏     | 8/19 [01:54<02:37, 14.30s/it]"
     ]
    }
   ],
   "source": [
    "from sklearn.model_selection import ParameterSampler\n",
    "import pandas as pd\n",
    "from ClassesML.AudioTrainer import AudioTrainer\n",
    "from ClassesML.AudioModel import AudioModel\n",
    "\n",
    "hyperparameter_choices = {}\n",
    "for k in hyperparameters.keys():\n",
    "    hyperparameter_choices[k] = [hyperparameters[k]]\n",
    "\n",
    "hyperparameter_choices['learning_rate'] = [0.01, 0.005, 0.001, 0.0005, 0.0001]\n",
    "#hyperparameter_choices['activation'] = ['relu', 'sigmoid', 'tanh']\n",
    "#hyperparameter_choices['filters'] = [[8, 16, 32],[16, 32, 64]]\n",
    "hyperparameter_try = list(ParameterSampler(hyperparameter_choices, n_iter=2))\n",
    "\n",
    "metric_list = []\n",
    "\n",
    "for hyperparam in hyperparameter_try:\n",
    "\n",
    "    model = AudioModel(hyperparam).to(device)\n",
    "\n",
    "\n",
    "    trainer = AudioTrainer(model, train_loader, val_loader, hyperparameters, device=device)\n",
    "\n",
    "    train_accuracy_list, valid_accuracy_list = trainer.train()\n",
    "    metric_list.append(valid_accuracy_list[-1])\n",
    "    hyperparam['metric'] = valid_accuracy_list[-1]\n",
    "\n",
    "idx = np.argsort(metric_list)\n",
    "hyperparameter_sorted = np.array(hyperparameter_try)[idx].tolist()\n",
    "df = pd.DataFrame.from_dict(hyperparameter_sorted)\n",
    "print(tabulate(df, headers='keys', tablefmt='psql'))"
   ]
  },
  {
   "cell_type": "code",
   "execution_count": 8,
   "id": "9e69f694",
   "metadata": {},
   "outputs": [],
   "source": [
    "from ClassesML.AudioModel import AudioModel\n",
    "model = AudioModel(hyperparameters).to(device)"
   ]
  },
  {
   "cell_type": "code",
   "execution_count": 9,
   "id": "ab440171",
   "metadata": {},
   "outputs": [],
   "source": [
    "import torch.nn.functional as F\n",
    "def predict_clip(model, segment_tensors, device, method='prob'):\n",
    "    \"\"\"\n",
    "    Generate prediction for a whole clip given its segments.\n",
    "    \n",
    "    segment_tensors: tensor of shape (n_segments, channels, mel_bands, frames)\n",
    "    method: 'majority' or 'prob'\n",
    "    \"\"\"\n",
    "    model.eval()\n",
    "    segment_tensors = segment_tensors.to(device)\n",
    "    with torch.no_grad():\n",
    "        outputs = model(segment_tensors)  # (n_segments, num_classes)\n",
    "        probs = F.softmax(outputs, dim=1)\n",
    "\n",
    "    if method == 'majority':\n",
    "        preds = torch.argmax(probs, dim=1)\n",
    "        counts = torch.bincount(preds)\n",
    "        clip_pred = torch.argmax(counts).item()\n",
    "    elif method == 'prob':\n",
    "        avg_probs = probs.mean(dim=0)\n",
    "        clip_pred = torch.argmax(avg_probs).item()\n",
    "    else:\n",
    "        raise ValueError(\"method must be 'majority' or 'prob'\")\n",
    "\n",
    "    return clip_pred\n"
   ]
  },
  {
   "cell_type": "code",
   "execution_count": 10,
   "id": "fd1b118c",
   "metadata": {},
   "outputs": [
    {
     "name": "stderr",
     "output_type": "stream",
     "text": [
      "Epoch 1/10:   0%|          | 0/19 [00:00<?, ?it/s]"
     ]
    },
    {
     "name": "stderr",
     "output_type": "stream",
     "text": [
      "c:\\Users\\bitza\\anaconda3\\envs\\DLClass\\Lib\\site-packages\\torch\\nn\\modules\\conv.py:549: UserWarning: Using padding='same' with even kernel lengths and odd dilation may require a zero-padded copy of the input be created (Triggered internally at C:\\actions-runner\\_work\\pytorch\\pytorch\\pytorch\\aten\\src\\ATen\\native\\Convolution.cpp:1037.)\n",
      "  return F.conv2d(\n",
      "Epoch 1/10: 100%|██████████| 19/19 [01:09<00:00,  3.64s/it]\n"
     ]
    },
    {
     "name": "stdout",
     "output_type": "stream",
     "text": [
      "Epoch 1: Train Loss: 2.4912, Train Acc: 16.6691, Val Loss: 2.4530, Val Acc: 34.4330\n"
     ]
    },
    {
     "name": "stderr",
     "output_type": "stream",
     "text": [
      "Epoch 2/10: 100%|██████████| 19/19 [01:00<00:00,  3.16s/it]\n"
     ]
    },
    {
     "name": "stdout",
     "output_type": "stream",
     "text": [
      "Epoch 2: Train Loss: 2.3699, Train Acc: 27.7943, Val Loss: 2.4016, Val Acc: 33.6518\n"
     ]
    },
    {
     "name": "stderr",
     "output_type": "stream",
     "text": [
      "Epoch 3/10: 100%|██████████| 19/19 [01:58<00:00,  6.25s/it]\n"
     ]
    },
    {
     "name": "stdout",
     "output_type": "stream",
     "text": [
      "Epoch 3: Train Loss: 2.2754, Train Acc: 31.7828, Val Loss: 2.3065, Val Acc: 39.6384\n"
     ]
    },
    {
     "name": "stderr",
     "output_type": "stream",
     "text": [
      "Epoch 4/10: 100%|██████████| 19/19 [01:49<00:00,  5.76s/it]\n"
     ]
    },
    {
     "name": "stdout",
     "output_type": "stream",
     "text": [
      "Epoch 4: Train Loss: 2.1343, Train Acc: 34.6968, Val Loss: 2.1717, Val Acc: 45.3393\n"
     ]
    },
    {
     "name": "stderr",
     "output_type": "stream",
     "text": [
      "Epoch 5/10: 100%|██████████| 19/19 [02:05<00:00,  6.58s/it]\n"
     ]
    },
    {
     "name": "stdout",
     "output_type": "stream",
     "text": [
      "Epoch 5: Train Loss: 1.9472, Train Acc: 39.6936, Val Loss: 2.0148, Val Acc: 43.1518\n"
     ]
    },
    {
     "name": "stderr",
     "output_type": "stream",
     "text": [
      "Epoch 6/10: 100%|██████████| 19/19 [01:52<00:00,  5.93s/it]\n"
     ]
    },
    {
     "name": "stdout",
     "output_type": "stream",
     "text": [
      "Epoch 6: Train Loss: 1.7954, Train Acc: 43.4300, Val Loss: 1.8620, Val Acc: 47.6027\n"
     ]
    },
    {
     "name": "stderr",
     "output_type": "stream",
     "text": [
      "Epoch 7/10: 100%|██████████| 19/19 [01:59<00:00,  6.28s/it]\n"
     ]
    },
    {
     "name": "stdout",
     "output_type": "stream",
     "text": [
      "Epoch 7: Train Loss: 1.6509, Train Acc: 46.0205, Val Loss: 1.7639, Val Acc: 53.4062\n"
     ]
    },
    {
     "name": "stderr",
     "output_type": "stream",
     "text": [
      "Epoch 8/10: 100%|██████████| 19/19 [02:40<00:00,  8.44s/it]\n"
     ]
    },
    {
     "name": "stdout",
     "output_type": "stream",
     "text": [
      "Epoch 8: Train Loss: 1.5719, Train Acc: 49.8498, Val Loss: 1.6646, Val Acc: 56.2455\n"
     ]
    },
    {
     "name": "stderr",
     "output_type": "stream",
     "text": [
      "Epoch 9/10: 100%|██████████| 19/19 [01:44<00:00,  5.50s/it]\n"
     ]
    },
    {
     "name": "stdout",
     "output_type": "stream",
     "text": [
      "Epoch 9: Train Loss: 1.4881, Train Acc: 52.4582, Val Loss: 1.6073, Val Acc: 61.1116\n"
     ]
    },
    {
     "name": "stderr",
     "output_type": "stream",
     "text": [
      "Epoch 10/10: 100%|██████████| 19/19 [01:24<00:00,  4.45s/it]\n"
     ]
    },
    {
     "name": "stdout",
     "output_type": "stream",
     "text": [
      "Epoch 10: Train Loss: 1.4215, Train Acc: 55.3311, Val Loss: 1.5432, Val Acc: 62.4152\n"
     ]
    }
   ],
   "source": [
    "from ClassesML.AudioTrainer import AudioTrainer\n",
    "trainer = AudioTrainer(model, train_loader, val_loader, hyperparameters, device=device)\n",
    "trainer.train()"
   ]
  },
  {
   "cell_type": "markdown",
   "id": "e73ddd17",
   "metadata": {},
   "source": [
    "### Evaluate the model using the 5-fold cross validation"
   ]
  },
  {
   "cell_type": "code",
   "execution_count": 11,
   "id": "47376604",
   "metadata": {},
   "outputs": [],
   "source": [
    "import warnings\n",
    "def extract_segments_with_deltas(file_path, variant='short', silence_threshold=-80):\n",
    "    \"\"\"\n",
    "    Extracts 2-channel (log-mel + delta) spectrogram segments from an audio file.\n",
    "\n",
    "    Parameters:\n",
    "    - file_path (str): Path to audio file.\n",
    "    - variant (str): 'short' (41 frames, 50% overlap) or 'long' (101 frames, 90% overlap).\n",
    "    - silence_threshold (float): dB threshold for discarding low-energy segments.\n",
    "\n",
    "    Returns:\n",
    "    - np.ndarray: Array of shape (n_segments, 2, 60, frames_per_segment)\n",
    "    \"\"\"\n",
    "    # Config\n",
    "    sr = 22050\n",
    "    n_fft = 1024\n",
    "    hop_length = 512\n",
    "    n_mels = 60\n",
    "\n",
    "    if variant == 'short':\n",
    "        frames_per_segment = 41\n",
    "        overlap = 0.5\n",
    "    elif variant == 'long':\n",
    "        frames_per_segment = 101\n",
    "        overlap = 0.9\n",
    "    else:\n",
    "        raise ValueError(\"variant must be 'short' or 'long'\")\n",
    "\n",
    "    try:\n",
    "        # Load audio in mono\n",
    "        y, _ = librosa.load(file_path, sr=sr, mono=True)\n",
    "\n",
    "        # Skip empty or very short files\n",
    "        if len(y) < n_fft:\n",
    "            warnings.warn(f\"File too short to process: {file_path}\")\n",
    "            return np.empty((0, 2, 60, frames_per_segment))\n",
    "\n",
    "        # Compute log-mel spectrogram\n",
    "        mel_spec = librosa.feature.melspectrogram(\n",
    "            y=y,\n",
    "            sr=sr,\n",
    "            n_fft=n_fft,\n",
    "            hop_length=hop_length,\n",
    "            n_mels=n_mels\n",
    "        )\n",
    "        log_mel_spec = librosa.power_to_db(mel_spec, ref=np.max)\n",
    "\n",
    "        # Normalize safely\n",
    "        mean = np.mean(log_mel_spec)\n",
    "        std = np.std(log_mel_spec)\n",
    "        if std == 0:\n",
    "            warnings.warn(f\"Zero std encountered in file: {file_path}\")\n",
    "            return np.empty((0, 2, 60, frames_per_segment))\n",
    "\n",
    "        log_mel_spec = (log_mel_spec - mean) / std\n",
    "\n",
    "        # Compute deltas\n",
    "        delta_spec = librosa.feature.delta(log_mel_spec)\n",
    "\n",
    "        # Segmenting\n",
    "        step = int(frames_per_segment * (1 - overlap))\n",
    "        segments = []\n",
    "\n",
    "        for start in range(0, log_mel_spec.shape[1] - frames_per_segment + 1, step):\n",
    "            seg = log_mel_spec[:, start:start + frames_per_segment]\n",
    "            delta = delta_spec[:, start:start + frames_per_segment]\n",
    "\n",
    "            # Skip silent segments\n",
    "            if np.mean(seg) < silence_threshold:\n",
    "                continue\n",
    "\n",
    "            stacked = np.stack([seg, delta], axis=0)\n",
    "            segments.append(stacked)\n",
    "\n",
    "        return np.stack(segments) if segments else np.empty((0, 2, 60, frames_per_segment))\n",
    "\n",
    "    except Exception as e:\n",
    "        warnings.warn(f\"Failed to process {file_path}: {e}\")\n",
    "        return np.empty((0, 2, 60, frames_per_segment))"
   ]
  },
  {
   "cell_type": "code",
   "execution_count": 12,
   "id": "3ff9fdfb",
   "metadata": {},
   "outputs": [
    {
     "name": "stdout",
     "output_type": "stream",
     "text": [
      "Fold 1\n",
      "Train/Val samples: 520\n",
      "Test samples: 130\n",
      "Classes found: ['bear', 'cat', 'chicken', 'cow', 'dog', 'dolphin', 'donkey', 'elephant', 'frog', 'horse', 'lion', 'monkey', 'sheep']\n",
      "Total segments extracted: 2301\n",
      "train set contains 1725 segments.\n",
      "Classes found: ['bear', 'cat', 'chicken', 'cow', 'dog', 'dolphin', 'donkey', 'elephant', 'frog', 'horse', 'lion', 'monkey', 'sheep']\n",
      "Total segments extracted: 2301\n",
      "val set contains 576 segments.\n"
     ]
    },
    {
     "name": "stderr",
     "output_type": "stream",
     "text": [
      "Epoch 1/10: 100%|██████████| 14/14 [01:09<00:00,  4.95s/it]\n"
     ]
    },
    {
     "name": "stdout",
     "output_type": "stream",
     "text": [
      "Epoch 1: Train Loss: 2.5135, Train Acc: 14.4019, Val Loss: 2.4880, Val Acc: 13.4375\n"
     ]
    },
    {
     "name": "stderr",
     "output_type": "stream",
     "text": [
      "Epoch 2/10: 100%|██████████| 14/14 [01:10<00:00,  5.04s/it]\n"
     ]
    },
    {
     "name": "stdout",
     "output_type": "stream",
     "text": [
      "Epoch 2: Train Loss: 2.3944, Train Acc: 20.1552, Val Loss: 2.4219, Val Acc: 32.5000\n"
     ]
    },
    {
     "name": "stderr",
     "output_type": "stream",
     "text": [
      "Epoch 3/10: 100%|██████████| 14/14 [01:03<00:00,  4.52s/it]\n"
     ]
    },
    {
     "name": "stdout",
     "output_type": "stream",
     "text": [
      "Epoch 3: Train Loss: 2.3307, Train Acc: 30.7350, Val Loss: 2.3866, Val Acc: 31.8750\n"
     ]
    },
    {
     "name": "stderr",
     "output_type": "stream",
     "text": [
      "Epoch 4/10: 100%|██████████| 14/14 [01:19<00:00,  5.66s/it]\n"
     ]
    },
    {
     "name": "stdout",
     "output_type": "stream",
     "text": [
      "Epoch 4: Train Loss: 2.2393, Train Acc: 30.3773, Val Loss: 2.3064, Val Acc: 31.2500\n"
     ]
    },
    {
     "name": "stderr",
     "output_type": "stream",
     "text": [
      "Epoch 5/10: 100%|██████████| 14/14 [01:42<00:00,  7.32s/it]\n"
     ]
    },
    {
     "name": "stdout",
     "output_type": "stream",
     "text": [
      "Epoch 5: Train Loss: 2.1259, Train Acc: 32.6826, Val Loss: 2.2020, Val Acc: 34.8438\n"
     ]
    },
    {
     "name": "stderr",
     "output_type": "stream",
     "text": [
      "Epoch 6/10: 100%|██████████| 14/14 [02:17<00:00,  9.81s/it]\n"
     ]
    },
    {
     "name": "stdout",
     "output_type": "stream",
     "text": [
      "Epoch 6: Train Loss: 2.0200, Train Acc: 34.9925, Val Loss: 2.1197, Val Acc: 37.3438\n"
     ]
    },
    {
     "name": "stderr",
     "output_type": "stream",
     "text": [
      "Epoch 7/10: 100%|██████████| 14/14 [01:35<00:00,  6.79s/it]\n"
     ]
    },
    {
     "name": "stdout",
     "output_type": "stream",
     "text": [
      "Epoch 7: Train Loss: 1.9225, Train Acc: 38.2904, Val Loss: 2.0336, Val Acc: 39.6875\n"
     ]
    },
    {
     "name": "stderr",
     "output_type": "stream",
     "text": [
      "Epoch 8/10: 100%|██████████| 14/14 [02:27<00:00, 10.54s/it]\n"
     ]
    },
    {
     "name": "stdout",
     "output_type": "stream",
     "text": [
      "Epoch 8: Train Loss: 1.8318, Train Acc: 40.1209, Val Loss: 1.9652, Val Acc: 47.1875\n"
     ]
    },
    {
     "name": "stderr",
     "output_type": "stream",
     "text": [
      "Epoch 9/10: 100%|██████████| 14/14 [03:50<00:00, 16.46s/it]\n"
     ]
    },
    {
     "name": "stdout",
     "output_type": "stream",
     "text": [
      "Epoch 9: Train Loss: 1.7164, Train Acc: 44.7407, Val Loss: 1.8695, Val Acc: 45.7812\n"
     ]
    },
    {
     "name": "stderr",
     "output_type": "stream",
     "text": [
      "Epoch 10/10:  21%|██▏       | 3/14 [00:46<02:51, 15.61s/it]\n"
     ]
    },
    {
     "ename": "KeyboardInterrupt",
     "evalue": "",
     "output_type": "error",
     "traceback": [
      "\u001b[31m---------------------------------------------------------------------------\u001b[39m",
      "\u001b[31mKeyboardInterrupt\u001b[39m                         Traceback (most recent call last)",
      "\u001b[36mCell\u001b[39m\u001b[36m \u001b[39m\u001b[32mIn[12]\u001b[39m\u001b[32m, line 27\u001b[39m\n\u001b[32m     25\u001b[39m model = AudioModel(hyperparameters).to(device)\n\u001b[32m     26\u001b[39m trainer = AudioTrainer(model, train_loader, val_loader, hyperparameters, device=device)\n\u001b[32m---> \u001b[39m\u001b[32m27\u001b[39m \u001b[43mtrainer\u001b[49m\u001b[43m.\u001b[49m\u001b[43mtrain\u001b[49m\u001b[43m(\u001b[49m\u001b[43m)\u001b[49m\n\u001b[32m     28\u001b[39m \u001b[38;5;66;03m# Save the model for this fold\u001b[39;00m\n\u001b[32m     29\u001b[39m model_save_path = \u001b[33mf\u001b[39m\u001b[33m'\u001b[39m\u001b[33mmodel_fold_\u001b[39m\u001b[38;5;132;01m{\u001b[39;00mfold\u001b[38;5;250m \u001b[39m+\u001b[38;5;250m \u001b[39m\u001b[32m1\u001b[39m\u001b[38;5;132;01m}\u001b[39;00m\u001b[33m.pth\u001b[39m\u001b[33m'\u001b[39m\n",
      "\u001b[36mFile \u001b[39m\u001b[32md:\\Deep-Learning-UTokyo\\ClassesML\\AudioTrainer.py:47\u001b[39m, in \u001b[36mtrain\u001b[39m\u001b[34m(self)\u001b[39m\n\u001b[32m      0\u001b[39m <Error retrieving source code with stack_data see ipython/ipython#13598>\n",
      "\u001b[36mFile \u001b[39m\u001b[32mc:\\Users\\bitza\\anaconda3\\envs\\DLClass\\Lib\\site-packages\\torch\\_tensor.py:626\u001b[39m, in \u001b[36mTensor.backward\u001b[39m\u001b[34m(self, gradient, retain_graph, create_graph, inputs)\u001b[39m\n\u001b[32m    616\u001b[39m \u001b[38;5;28;01mif\u001b[39;00m has_torch_function_unary(\u001b[38;5;28mself\u001b[39m):\n\u001b[32m    617\u001b[39m     \u001b[38;5;28;01mreturn\u001b[39;00m handle_torch_function(\n\u001b[32m    618\u001b[39m         Tensor.backward,\n\u001b[32m    619\u001b[39m         (\u001b[38;5;28mself\u001b[39m,),\n\u001b[32m   (...)\u001b[39m\u001b[32m    624\u001b[39m         inputs=inputs,\n\u001b[32m    625\u001b[39m     )\n\u001b[32m--> \u001b[39m\u001b[32m626\u001b[39m \u001b[43mtorch\u001b[49m\u001b[43m.\u001b[49m\u001b[43mautograd\u001b[49m\u001b[43m.\u001b[49m\u001b[43mbackward\u001b[49m\u001b[43m(\u001b[49m\n\u001b[32m    627\u001b[39m \u001b[43m    \u001b[49m\u001b[38;5;28;43mself\u001b[39;49m\u001b[43m,\u001b[49m\u001b[43m \u001b[49m\u001b[43mgradient\u001b[49m\u001b[43m,\u001b[49m\u001b[43m \u001b[49m\u001b[43mretain_graph\u001b[49m\u001b[43m,\u001b[49m\u001b[43m \u001b[49m\u001b[43mcreate_graph\u001b[49m\u001b[43m,\u001b[49m\u001b[43m \u001b[49m\u001b[43minputs\u001b[49m\u001b[43m=\u001b[49m\u001b[43minputs\u001b[49m\n\u001b[32m    628\u001b[39m \u001b[43m\u001b[49m\u001b[43m)\u001b[49m\n",
      "\u001b[36mFile \u001b[39m\u001b[32mc:\\Users\\bitza\\anaconda3\\envs\\DLClass\\Lib\\site-packages\\torch\\autograd\\__init__.py:347\u001b[39m, in \u001b[36mbackward\u001b[39m\u001b[34m(tensors, grad_tensors, retain_graph, create_graph, grad_variables, inputs)\u001b[39m\n\u001b[32m    342\u001b[39m     retain_graph = create_graph\n\u001b[32m    344\u001b[39m \u001b[38;5;66;03m# The reason we repeat the same comment below is that\u001b[39;00m\n\u001b[32m    345\u001b[39m \u001b[38;5;66;03m# some Python versions print out the first line of a multi-line function\u001b[39;00m\n\u001b[32m    346\u001b[39m \u001b[38;5;66;03m# calls in the traceback and some print out the last line\u001b[39;00m\n\u001b[32m--> \u001b[39m\u001b[32m347\u001b[39m \u001b[43m_engine_run_backward\u001b[49m\u001b[43m(\u001b[49m\n\u001b[32m    348\u001b[39m \u001b[43m    \u001b[49m\u001b[43mtensors\u001b[49m\u001b[43m,\u001b[49m\n\u001b[32m    349\u001b[39m \u001b[43m    \u001b[49m\u001b[43mgrad_tensors_\u001b[49m\u001b[43m,\u001b[49m\n\u001b[32m    350\u001b[39m \u001b[43m    \u001b[49m\u001b[43mretain_graph\u001b[49m\u001b[43m,\u001b[49m\n\u001b[32m    351\u001b[39m \u001b[43m    \u001b[49m\u001b[43mcreate_graph\u001b[49m\u001b[43m,\u001b[49m\n\u001b[32m    352\u001b[39m \u001b[43m    \u001b[49m\u001b[43minputs\u001b[49m\u001b[43m,\u001b[49m\n\u001b[32m    353\u001b[39m \u001b[43m    \u001b[49m\u001b[43mallow_unreachable\u001b[49m\u001b[43m=\u001b[49m\u001b[38;5;28;43;01mTrue\u001b[39;49;00m\u001b[43m,\u001b[49m\n\u001b[32m    354\u001b[39m \u001b[43m    \u001b[49m\u001b[43maccumulate_grad\u001b[49m\u001b[43m=\u001b[49m\u001b[38;5;28;43;01mTrue\u001b[39;49;00m\u001b[43m,\u001b[49m\n\u001b[32m    355\u001b[39m \u001b[43m\u001b[49m\u001b[43m)\u001b[49m\n",
      "\u001b[36mFile \u001b[39m\u001b[32mc:\\Users\\bitza\\anaconda3\\envs\\DLClass\\Lib\\site-packages\\torch\\autograd\\graph.py:823\u001b[39m, in \u001b[36m_engine_run_backward\u001b[39m\u001b[34m(t_outputs, *args, **kwargs)\u001b[39m\n\u001b[32m    821\u001b[39m     unregister_hooks = _register_logging_hooks_on_whole_graph(t_outputs)\n\u001b[32m    822\u001b[39m \u001b[38;5;28;01mtry\u001b[39;00m:\n\u001b[32m--> \u001b[39m\u001b[32m823\u001b[39m     \u001b[38;5;28;01mreturn\u001b[39;00m \u001b[43mVariable\u001b[49m\u001b[43m.\u001b[49m\u001b[43m_execution_engine\u001b[49m\u001b[43m.\u001b[49m\u001b[43mrun_backward\u001b[49m\u001b[43m(\u001b[49m\u001b[43m  \u001b[49m\u001b[38;5;66;43;03m# Calls into the C++ engine to run the backward pass\u001b[39;49;00m\n\u001b[32m    824\u001b[39m \u001b[43m        \u001b[49m\u001b[43mt_outputs\u001b[49m\u001b[43m,\u001b[49m\u001b[43m \u001b[49m\u001b[43m*\u001b[49m\u001b[43margs\u001b[49m\u001b[43m,\u001b[49m\u001b[43m \u001b[49m\u001b[43m*\u001b[49m\u001b[43m*\u001b[49m\u001b[43mkwargs\u001b[49m\n\u001b[32m    825\u001b[39m \u001b[43m    \u001b[49m\u001b[43m)\u001b[49m  \u001b[38;5;66;03m# Calls into the C++ engine to run the backward pass\u001b[39;00m\n\u001b[32m    826\u001b[39m \u001b[38;5;28;01mfinally\u001b[39;00m:\n\u001b[32m    827\u001b[39m     \u001b[38;5;28;01mif\u001b[39;00m attach_logging_hooks:\n",
      "\u001b[31mKeyboardInterrupt\u001b[39m: "
     ]
    }
   ],
   "source": [
    "import pandas as pd\n",
    "from sklearn.model_selection import KFold\n",
    "\n",
    "# Load your dataset\n",
    "df = pd.read_csv('data/Animal_Sound_processed.csv')  # Update path if needed\n",
    "\n",
    "# Prepare 5-Fold cross-validator\n",
    "kf = KFold(n_splits=5, shuffle=True, random_state=42)\n",
    "\n",
    "for fold, (train_val_idx, val_idx) in enumerate(kf.split(df)):\n",
    "    df_train_val = df.iloc[train_val_idx].reset_index(drop=True)\n",
    "    df_test = df.iloc[val_idx].reset_index(drop=True)\n",
    "\n",
    "    print(f\"Fold {fold + 1}\")\n",
    "    print(f\"Train/Val samples: {len(df_train_val)}\")\n",
    "    print(f\"Test samples: {len(df_test)}\")\n",
    "\n",
    "    # Create datasets for this fold\n",
    "    dataset_train = AnimalSoundDataset(df_train_val, split='train', split_ratio=0.75, seed=42)\n",
    "    dataset_val = AnimalSoundDataset(df_train_val, split='val', split_ratio=0.75, seed=42)\n",
    "    train_loader = DataLoader(dataset_train, batch_size=batch_size, shuffle=True)\n",
    "    val_loader = DataLoader(dataset_val, batch_size=batch_size, shuffle=False)\n",
    "\n",
    "    # Initialize model and trainer\n",
    "    model = AudioModel(hyperparameters).to(device)\n",
    "    trainer = AudioTrainer(model, train_loader, val_loader, hyperparameters, device=device)\n",
    "    trainer.train()\n",
    "    # Save the model for this fold\n",
    "    model_save_path = f'model_fold_{fold + 1}.pth'\n",
    "    torch.save(model.state_dict(), model_save_path)\n",
    "    print(f\"Model saved to {model_save_path}\\n\")\n",
    "\n",
    "    # Evaluate on test set\n",
    "    for path, label in zip(df_test['path'], df_test['name']):\n",
    "\n",
    "        test_segments = extract_segments_with_deltas(path, variant='short')\n",
    "        predicted_sound = predict_clip(model, torch.tensor(test_segments, dtype=torch.float32).to(device), device, method='prob')\n",
    "        \n",
    "\n",
    "        predicted_label = dataset_train.classes[predicted_sound]\n",
    "        \n",
    "        if predicted_label == label:\n",
    "            correct_predictions += 1\n",
    "        total_predictions += 1\n",
    "    accuracy = correct_predictions / total_predictions * 100 if total_predictions > 0 else 0\n",
    "    print(f\"Fold {fold + 1} - Test Accuracy: {accuracy:.4f}\\n\")\n",
    "\n",
    "        \n",
    "\n",
    "   "
   ]
  }
 ],
 "metadata": {
  "kernelspec": {
   "display_name": "DLClass",
   "language": "python",
   "name": "python3"
  },
  "language_info": {
   "codemirror_mode": {
    "name": "ipython",
    "version": 3
   },
   "file_extension": ".py",
   "mimetype": "text/x-python",
   "name": "python",
   "nbconvert_exporter": "python",
   "pygments_lexer": "ipython3",
   "version": "3.11.11"
  }
 },
 "nbformat": 4,
 "nbformat_minor": 5
}
=======
  "nbformat": 4,
  "nbformat_minor": 5
}
>>>>>>> 7ffd00ff4fa4b97afa77bd548c48c9ce643b3281

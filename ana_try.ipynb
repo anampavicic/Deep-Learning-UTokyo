{
 "cells": [
  {
   "cell_type": "code",
   "execution_count": 17,
   "id": "d2afcaba",
   "metadata": {},
   "outputs": [],
   "source": [
    "import pandas as pd\n",
    "import numpy as np\n",
    "import matplotlib.pyplot as plt\n",
    "import os\n",
    "\n",
    "import torch \n",
    "import torch.nn as nn\n",
    "from torch.utils.data import DataLoader\n",
    "\n",
    "# Libraries for processing sounds\n",
    "import librosa\n",
    "from IPython.display import Audio\n",
    "import random"
   ]
  },
  {
   "cell_type": "code",
   "execution_count": 18,
   "id": "c987561e",
   "metadata": {},
   "outputs": [],
   "source": [
    "device = torch.device(\"cuda\" if torch.cuda.is_available() else \"cpu\")\n"
   ]
  },
  {
   "cell_type": "code",
   "execution_count": 19,
   "id": "b32ebae5",
   "metadata": {},
   "outputs": [
    {
     "data": {
      "text/plain": [
       "650"
      ]
     },
     "execution_count": 19,
     "metadata": {},
     "output_type": "execute_result"
    }
   ],
   "source": [
    "df = pd.read_csv('data/Animal_Sound_processed.csv')\n",
    "len(df)"
   ]
  },
  {
   "cell_type": "code",
   "execution_count": 20,
   "id": "478c2ca8",
   "metadata": {},
   "outputs": [
    {
     "name": "stdout",
     "output_type": "stream",
     "text": [
      "Classes found: ['bear', 'cat', 'chicken', 'cow', 'dog', 'dolphin', 'donkey', 'elephant', 'frog', 'horse', 'lion', 'monkey', 'sheep']\n",
      "Total segments extracted: 2909\n",
      "train set contains 2327 segments.\n",
      "Classes found: ['bear', 'cat', 'chicken', 'cow', 'dog', 'dolphin', 'donkey', 'elephant', 'frog', 'horse', 'lion', 'monkey', 'sheep']\n",
      "Total segments extracted: 2909\n",
      "val set contains 582 segments.\n"
     ]
    }
   ],
   "source": [
    "from ClassesData.AnimalSoundDataset import AnimalSoundDataset\n",
    "\n",
    "dataset_train = AnimalSoundDataset(df, split='train', split_ratio=0.8, seed=42)\n",
    "dataset_val = AnimalSoundDataset(df, split='val', split_ratio=0.8, seed=42)"
   ]
  },
  {
   "cell_type": "code",
   "execution_count": 21,
   "id": "53797c34",
   "metadata": {},
   "outputs": [],
   "source": [
    "# in a paper there are 20000 samples in the training set\n",
    "# and they use 1000 for batch\n",
    "# we have 2000 samples in the training set\n",
    "# therefore we use 128 for batch\n",
    "batch_size = 128"
   ]
  },
  {
   "cell_type": "code",
   "execution_count": 22,
   "id": "389e147a",
   "metadata": {},
   "outputs": [
    {
     "name": "stdout",
     "output_type": "stream",
     "text": [
      "Number of batches in train loader: 19\n",
      "torch.Size([128, 2, 60, 41])\n",
      "torch.Size([128])\n"
     ]
    }
   ],
   "source": [
    "train_loader = DataLoader(dataset_train, batch_size=batch_size, shuffle=True)\n",
    "val_loader = DataLoader(dataset_val, batch_size=batch_size, shuffle=False)\n",
    "\n",
    "print(f\"Number of batches in train loader: {len(train_loader)}\")\n",
    "\n",
    "for batch in train_loader:\n",
    "    x_batch, y_batch = batch\n",
    "    print(x_batch.shape)  # [batch_size, 1, 128, 400]\n",
    "    print(y_batch.shape)  # [batch_size]\n",
    "    break"
   ]
  },
  {
   "cell_type": "code",
   "execution_count": null,
   "id": "572b8b78",
   "metadata": {},
   "outputs": [
    {
     "name": "stdout",
     "output_type": "stream",
     "text": [
      "Input dimension: 2, Number of classes: 13\n"
     ]
    }
   ],
   "source": [
    "input_dim = dataset_train[0][0].shape[0]  # e.g., (2, 60, 41) for short segments\n",
    "n_classes = len(dataset_train.classes)\n",
    "print(f\"Input dimension: {input_dim}, Number of classes: {n_classes}\")\n",
    "\n",
    "hyperparameters = dict(\n",
    "    input_dim=input_dim,\n",
    "    output_dim=n_classes,\n",
    "    hidden_layers_size=5000,\n",
    "    activation='relu',\n",
    "    kernel_size_conv=[(57, 6), (1, 3)],\n",
    "    kernel_size_pool=[(4, 3), (1, 3)],\n",
    "    stride_conv=[(1, 1), (1, 1)],\n",
    "    stride_pool=[(1, 3), (1, 3)],\n",
    "    filters=[80, 80],\n",
    "    batch_normalization=False,\n",
    "    dropout_rate=0.5,\n",
    "    # trainer hyperparameters\n",
    "    learning_rate=0.002,\n",
    "    weight_decay=0.001,\n",
    "    momentum=0.9,\n",
    "    nesterov=True,\n",
    "\n",
    "    # questionable hyperparameters\n",
    "    #batch_size=batch_size,\n",
    "    max_epoch=100,\n",
    "\n",
    "    #Early stopping and sceduler\n",
    "    patience_lr=5,\n",
    "    early_stopping=True\n",
    ")"
   ]
  },
  {
   "cell_type": "code",
   "execution_count": null,
   "id": "64d55530",
   "metadata": {},
   "outputs": [
    {
     "name": "stderr",
     "output_type": "stream",
     "text": [
      "Epoch 1/2: 100%|██████████| 19/19 [01:11<00:00,  3.77s/it]\n"
     ]
    },
    {
     "name": "stdout",
     "output_type": "stream",
     "text": [
      "Epoch 1: Train Loss: 2.4760, Train Acc: 18.2727, Val Loss: 2.4360, Val Acc: 38.8571\n",
      "Epoch 0 - Keeping weights\n"
     ]
    },
    {
     "name": "stderr",
     "output_type": "stream",
     "text": [
      "Epoch 2/2: 100%|██████████| 19/19 [01:12<00:00,  3.83s/it]\n"
     ]
    },
    {
     "name": "stdout",
     "output_type": "stream",
     "text": [
      "Epoch 2: Train Loss: 2.3576, Train Acc: 28.8222, Val Loss: 2.3772, Val Acc: 39.0670\n",
      "Max epoch reached - Stop training - Restoring weights\n"
     ]
    },
    {
     "name": "stderr",
     "output_type": "stream",
     "text": [
      "Epoch 1/2: 100%|██████████| 19/19 [01:13<00:00,  3.88s/it]\n"
     ]
    },
    {
     "name": "stdout",
     "output_type": "stream",
     "text": [
      "Epoch 1: Train Loss: 2.4834, Train Acc: 15.2835, Val Loss: 2.4429, Val Acc: 37.2188\n",
      "Epoch 0 - Keeping weights\n"
     ]
    },
    {
     "name": "stderr",
     "output_type": "stream",
     "text": [
      "Epoch 2/2: 100%|██████████| 19/19 [01:08<00:00,  3.61s/it]\n"
     ]
    },
    {
     "name": "stdout",
     "output_type": "stream",
     "text": [
      "Epoch 2: Train Loss: 2.3678, Train Acc: 27.1131, Val Loss: 2.3917, Val Acc: 39.9509\n",
      "Max epoch reached - Stop training - Restoring weights\n"
     ]
    }
   ],
   "source": [
    "from sklearn.model_selection import ParameterSampler\n",
    "import pandas as pd\n",
    "from ClassesML.AudioTrainer import AudioTrainer\n",
    "from ClassesML.AudioModel import AudioModel\n",
    "\n",
    "hyperparameter_choices = {}\n",
    "for k in hyperparameters.keys():\n",
    "    hyperparameter_choices[k] = [hyperparameters[k]]\n",
    "\n",
    "hyperparameter_choices['learning_rate'] = [0.005, 0.001]\n",
    "hyperparameter_choices['batch_size'] = [64, 128, 256]\n",
    "hyperparameter_choices['max_epoch'] = [100]\n",
    "hyperparameter_choices['hidden_layers_size']=[1000, 5000]\n",
    "hyperparameter_choices['patience_lr'] = [5, 10, 15]\n",
    "hyperparameter_choices['momentum'] = [0.9, 0.95, 0.85]\n",
    "hyperparameter_choices['weight_decay'] = [0.001, 0.002]\n",
    "\n",
    "\n",
    "hyperparameter_try = list(ParameterSampler(hyperparameter_choices, n_iter=20))\n",
    "\n",
    "metric_list = []\n",
    "\n",
    "for hyperparam in hyperparameter_try:\n",
    "\n",
    "    model = AudioModel(hyperparam).to(device)\n",
    "    \n",
    "    train_loader = DataLoader(dataset_train, batch_size=hyperparam['batch_size'], shuffle=True)\n",
    "    val_loader = DataLoader(dataset_val, batch_size=hyperparam['batch_size'], shuffle=False)\n",
    "\n",
    "    trainer = AudioTrainer(model, train_loader, val_loader, hyperparam, device=device)\n",
    "\n",
    "    train_accuracy_list, valid_accuracy_list = trainer.train()\n",
    "    metric_list.append(valid_accuracy_list[-1])\n",
    "    hyperparam['val_accuracy'] = valid_accuracy_list[-1]\n",
    "    hyperparam['train_accuracy'] = train_accuracy_list[-1]\n",
    "\n",
    "idx = np.argsort(metric_list)\n",
    "hyperparameter_sorted = np.array(hyperparameter_try)[idx].tolist()\n",
    "df = pd.DataFrame.from_dict(hyperparameter_sorted)"
   ]
  },
  {
   "cell_type": "code",
   "execution_count": 16,
   "id": "ca677dc0",
   "metadata": {},
   "outputs": [
    {
     "name": "stdout",
     "output_type": "stream",
     "text": [
      "+----+----------------+------------------+------------------+---------------+--------------+------------+------------+-------------+-----------------+--------------------+--------------------+-------------+----------------------+-----------+------------------+----------------+-----------------------+--------------+----------+\n",
      "|    |   weight_decay | stride_pool      | stride_conv      | patience_lr   |   output_dim | nesterov   |   momentum |   max_epoch |   learning_rate | kernel_size_pool   | kernel_size_conv   |   input_dim |   hidden_layers_size | filters   | early_stopping   |   dropout_rate | batch_normalization   | activation   |   metric |\n",
      "|----+----------------+------------------+------------------+---------------+--------------+------------+------------+-------------+-----------------+--------------------+--------------------+-------------+----------------------+-----------+------------------+----------------+-----------------------+--------------+----------|\n",
      "|  0 |          0.001 | [(1, 3), (1, 3)] | [(1, 1), (1, 1)] | False         |           13 | True       |        0.9 |           2 |           0.005 | [(4, 3), (1, 3)]   | [(57, 6), (1, 3)]  |           2 |                 5000 | [80, 80]  | False            |            0.5 | False                 | relu         |  35.0312 |\n",
      "|  1 |          0.001 | [(1, 3), (1, 3)] | [(1, 1), (1, 1)] | False         |           13 | True       |        0.9 |           2 |           0.01  | [(4, 3), (1, 3)]   | [(57, 6), (1, 3)]  |           2 |                 5000 | [80, 80]  | False            |            0.5 | False                 | relu         |  37.6875 |\n",
      "+----+----------------+------------------+------------------+---------------+--------------+------------+------------+-------------+-----------------+--------------------+--------------------+-------------+----------------------+-----------+------------------+----------------+-----------------------+--------------+----------+\n"
     ]
    }
   ],
   "source": [
    "from tabulate import tabulate\n",
    "\n",
    "print(tabulate(df, headers='keys', tablefmt='psql'))"
   ]
  },
  {
   "cell_type": "code",
   "execution_count": null,
   "id": "22b4a5bd",
   "metadata": {},
   "outputs": [],
   "source": [
    "hyperparameter_final = hyperparameters\n",
    "batch_size = hyperparameter_final['batch_size']"
   ]
  },
  {
   "cell_type": "code",
   "execution_count": 25,
   "id": "9e69f694",
   "metadata": {},
   "outputs": [],
   "source": [
    "from ClassesML.AudioModel import AudioModel\n",
    "model_final = AudioModel(hyperparameter_final).to(device)"
   ]
  },
  {
   "cell_type": "code",
   "execution_count": 26,
   "id": "ab440171",
   "metadata": {},
   "outputs": [],
   "source": [
    "import torch.nn.functional as F\n",
    "def predict_clip(model, segment_tensors, device, method='prob'):\n",
    "    \"\"\"\n",
    "    Generate prediction for a whole clip given its segments.\n",
    "    \n",
    "    segment_tensors: tensor of shape (n_segments, channels, mel_bands, frames)\n",
    "    method: 'majority' or 'prob'\n",
    "    \"\"\"\n",
    "    model.eval()\n",
    "    segment_tensors = segment_tensors.to(device)\n",
    "    with torch.no_grad():\n",
    "        outputs = model(segment_tensors)  # (n_segments, num_classes)\n",
    "        probs = F.softmax(outputs, dim=1)\n",
    "\n",
    "    if method == 'majority':\n",
    "        preds = torch.argmax(probs, dim=1)\n",
    "        counts = torch.bincount(preds)\n",
    "        clip_pred = torch.argmax(counts).item()\n",
    "    elif method == 'prob':\n",
    "        avg_probs = probs.mean(dim=0)\n",
    "        clip_pred = torch.argmax(avg_probs).item()\n",
    "    else:\n",
    "        raise ValueError(\"method must be 'majority' or 'prob'\")\n",
    "\n",
    "    return clip_pred\n"
   ]
  },
  {
   "cell_type": "code",
   "execution_count": 27,
   "id": "fd1b118c",
   "metadata": {},
   "outputs": [
    {
     "name": "stderr",
     "output_type": "stream",
     "text": [
      "Epoch 1/2:   0%|          | 0/19 [00:00<?, ?it/s]"
     ]
    },
    {
     "name": "stderr",
     "output_type": "stream",
     "text": [
      "Epoch 1/2: 100%|██████████| 19/19 [02:10<00:00,  6.87s/it]\n"
     ]
    },
    {
     "name": "stdout",
     "output_type": "stream",
     "text": [
      "Epoch 1: Train Loss: 2.4909, Train Acc: 17.2626, Val Loss: 2.4540, Val Acc: 33.2366\n"
     ]
    },
    {
     "name": "stderr",
     "output_type": "stream",
     "text": [
      "Epoch 2/2: 100%|██████████| 19/19 [02:34<00:00,  8.13s/it]\n"
     ]
    },
    {
     "name": "stdout",
     "output_type": "stream",
     "text": [
      "Epoch 2: Train Loss: 2.3631, Train Acc: 29.9610, Val Loss: 2.3919, Val Acc: 33.1830\n"
     ]
    },
    {
     "data": {
      "text/plain": [
       "([17.26258581235698, 29.961026887871856],\n",
       " [33.236607142857146, 33.183035714285715])"
      ]
     },
     "execution_count": 27,
     "metadata": {},
     "output_type": "execute_result"
    }
   ],
   "source": [
    "from ClassesML.AudioTrainer import AudioTrainer\n",
    "trainer_final = AudioTrainer(model_final, train_loader, val_loader, hyperparameter_final, device=device)\n",
    "trainer_final.train()"
   ]
  },
  {
   "cell_type": "markdown",
   "id": "e73ddd17",
   "metadata": {},
   "source": [
    "### Evaluate the model using the 5-fold cross validation"
   ]
  },
  {
   "cell_type": "code",
   "execution_count": 28,
   "id": "47376604",
   "metadata": {},
   "outputs": [],
   "source": [
    "import warnings\n",
    "def extract_segments_with_deltas(file_path, variant='short', silence_threshold=-80):\n",
    "    \"\"\"\n",
    "    Extracts 2-channel (log-mel + delta) spectrogram segments from an audio file.\n",
    "\n",
    "    Parameters:\n",
    "    - file_path (str): Path to audio file.\n",
    "    - variant (str): 'short' (41 frames, 50% overlap) or 'long' (101 frames, 90% overlap).\n",
    "    - silence_threshold (float): dB threshold for discarding low-energy segments.\n",
    "\n",
    "    Returns:\n",
    "    - np.ndarray: Array of shape (n_segments, 2, 60, frames_per_segment)\n",
    "    \"\"\"\n",
    "    # Config\n",
    "    sr = 22050\n",
    "    n_fft = 1024\n",
    "    hop_length = 512\n",
    "    n_mels = 60\n",
    "\n",
    "    if variant == 'short':\n",
    "        frames_per_segment = 41\n",
    "        overlap = 0.5\n",
    "    elif variant == 'long':\n",
    "        frames_per_segment = 101\n",
    "        overlap = 0.9\n",
    "    else:\n",
    "        raise ValueError(\"variant must be 'short' or 'long'\")\n",
    "\n",
    "    try:\n",
    "        # Load audio in mono\n",
    "        y, _ = librosa.load(file_path, sr=sr, mono=True)\n",
    "\n",
    "        # Skip empty or very short files\n",
    "        if len(y) < n_fft:\n",
    "            warnings.warn(f\"File too short to process: {file_path}\")\n",
    "            return np.empty((0, 2, 60, frames_per_segment))\n",
    "\n",
    "        # Compute log-mel spectrogram\n",
    "        mel_spec = librosa.feature.melspectrogram(\n",
    "            y=y,\n",
    "            sr=sr,\n",
    "            n_fft=n_fft,\n",
    "            hop_length=hop_length,\n",
    "            n_mels=n_mels\n",
    "        )\n",
    "        log_mel_spec = librosa.power_to_db(mel_spec, ref=np.max)\n",
    "\n",
    "        # Normalize safely\n",
    "        mean = np.mean(log_mel_spec)\n",
    "        std = np.std(log_mel_spec)\n",
    "        if std == 0:\n",
    "            warnings.warn(f\"Zero std encountered in file: {file_path}\")\n",
    "            return np.empty((0, 2, 60, frames_per_segment))\n",
    "\n",
    "        log_mel_spec = (log_mel_spec - mean) / std\n",
    "\n",
    "        # Compute deltas\n",
    "        delta_spec = librosa.feature.delta(log_mel_spec)\n",
    "\n",
    "        # Segmenting\n",
    "        step = int(frames_per_segment * (1 - overlap))\n",
    "        segments = []\n",
    "\n",
    "        for start in range(0, log_mel_spec.shape[1] - frames_per_segment + 1, step):\n",
    "            seg = log_mel_spec[:, start:start + frames_per_segment]\n",
    "            delta = delta_spec[:, start:start + frames_per_segment]\n",
    "\n",
    "            # Skip silent segments\n",
    "            if np.mean(seg) < silence_threshold:\n",
    "                continue\n",
    "\n",
    "            stacked = np.stack([seg, delta], axis=0)\n",
    "            segments.append(stacked)\n",
    "\n",
    "        return np.stack(segments) if segments else np.empty((0, 2, 60, frames_per_segment))\n",
    "\n",
    "    except Exception as e:\n",
    "        warnings.warn(f\"Failed to process {file_path}: {e}\")\n",
    "        return np.empty((0, 2, 60, frames_per_segment))"
   ]
  },
  {
   "cell_type": "code",
   "execution_count": null,
   "id": "3ff9fdfb",
   "metadata": {},
   "outputs": [
    {
     "name": "stdout",
     "output_type": "stream",
     "text": [
      "Fold 1\n",
      "Train/Val samples: 325\n",
      "Test samples: 325\n",
      "Classes found: ['bear', 'cat', 'chicken', 'cow', 'dog', 'dolphin', 'donkey', 'elephant', 'frog', 'horse', 'lion', 'monkey', 'sheep']\n",
      "Total segments extracted: 1442\n",
      "train set contains 1081 segments.\n",
      "Classes found: ['bear', 'cat', 'chicken', 'cow', 'dog', 'dolphin', 'donkey', 'elephant', 'frog', 'horse', 'lion', 'monkey', 'sheep']\n",
      "Total segments extracted: 1442\n",
      "val set contains 361 segments.\n"
     ]
    },
    {
     "name": "stderr",
     "output_type": "stream",
     "text": [
      "Epoch 1/2: 100%|██████████| 9/9 [00:59<00:00,  6.56s/it]\n"
     ]
    },
    {
     "name": "stdout",
     "output_type": "stream",
     "text": [
      "Epoch 1: Train Loss: 1.7755, Train Acc: 43.9998, Val Loss: 1.9040, Val Acc: 48.0184\n"
     ]
    },
    {
     "name": "stderr",
     "output_type": "stream",
     "text": [
      "Epoch 2/2: 100%|██████████| 9/9 [00:45<00:00,  5.05s/it]\n"
     ]
    },
    {
     "name": "stdout",
     "output_type": "stream",
     "text": [
      "Epoch 2: Train Loss: 1.6610, Train Acc: 46.9740, Val Loss: 1.8662, Val Acc: 44.1443\n",
      "Model saved to model_fold_1.pth\n",
      "\n",
      "Fold 1 - Test Accuracy: 23.0769\n",
      "\n",
      "Fold 2\n",
      "Train/Val samples: 325\n",
      "Test samples: 325\n",
      "Classes found: ['bear', 'cat', 'chicken', 'cow', 'dog', 'dolphin', 'donkey', 'elephant', 'frog', 'horse', 'lion', 'monkey', 'sheep']\n",
      "Total segments extracted: 1467\n",
      "train set contains 1100 segments.\n",
      "Classes found: ['bear', 'cat', 'chicken', 'cow', 'dog', 'dolphin', 'donkey', 'elephant', 'frog', 'horse', 'lion', 'monkey', 'sheep']\n",
      "Total segments extracted: 1467\n",
      "val set contains 367 segments.\n"
     ]
    },
    {
     "name": "stderr",
     "output_type": "stream",
     "text": [
      "Epoch 1/2: 100%|██████████| 9/9 [00:44<00:00,  4.94s/it]\n"
     ]
    },
    {
     "name": "stdout",
     "output_type": "stream",
     "text": [
      "Epoch 1: Train Loss: 1.6520, Train Acc: 47.3821, Val Loss: 1.7642, Val Acc: 54.4154\n"
     ]
    },
    {
     "name": "stderr",
     "output_type": "stream",
     "text": [
      "Epoch 2/2: 100%|██████████| 9/9 [00:43<00:00,  4.79s/it]\n"
     ]
    },
    {
     "name": "stdout",
     "output_type": "stream",
     "text": [
      "Epoch 2: Train Loss: 1.5254, Train Acc: 51.5716, Val Loss: 1.6895, Val Acc: 56.9984\n",
      "Model saved to model_fold_2.pth\n",
      "\n",
      "Fold 2 - Test Accuracy: 32.3077\n",
      "\n"
     ]
    }
   ],
   "source": [
    "import pandas as pd\n",
    "from sklearn.model_selection import KFold\n",
    "\n",
    "# Load your dataset\n",
    "df = pd.read_csv('data/Animal_Sound_processed.csv')  # Update path if needed\n",
    "\n",
    "# Prepare 5-Fold cross-validator\n",
    "kf = KFold(n_splits=5, shuffle=True, random_state=42)\n",
    "accuracy_list = []\n",
    "val_loader_list = []\n",
    "train_accuracy_per_epoch_list = []\n",
    "val_accuracy_per_epoch_list = []\n",
    "\n",
    "\n",
    "\n",
    "\n",
    "for fold, (train_val_idx, val_idx) in enumerate(kf.split(df)):\n",
    "    df_train_val = df.iloc[train_val_idx].reset_index(drop=True)\n",
    "    df_test = df.iloc[val_idx].reset_index(drop=True)\n",
    "\n",
    "    print(f\"Fold {fold + 1}\")\n",
    "    print(f\"Train/Val samples: {len(df_train_val)}\")\n",
    "    print(f\"Test samples: {len(df_test)}\")\n",
    "\n",
    "    # Create datasets for this fold\n",
    "    dataset_train = AnimalSoundDataset(df_train_val, split='train', split_ratio=0.75, seed=42)\n",
    "    dataset_val = AnimalSoundDataset(df_train_val, split='val', split_ratio=0.75, seed=42)\n",
    "    train_loader = DataLoader(dataset_train, batch_size=batch_size, shuffle=True)\n",
    "    val_loader = DataLoader(dataset_val, batch_size=batch_size, shuffle=False)\n",
    "    val_loader_list.append(val_loader)\n",
    "\n",
    "    # Initialize model and trainer\n",
    "    model_final = AudioModel(hyperparameter_final).to(device)\n",
    "    trainer_final = AudioTrainer(model, train_loader, val_loader, hyperparameter_final, device=device)\n",
    "    train_acc_list, val_acc_list = trainer_final.train()\n",
    "    train_accuracy_per_epoch_list.append(train_acc_list)\n",
    "    val_accuracy_per_epoch_list.append(val_acc_list)\n",
    "    # Save the model for this fold\n",
    "    model_save_path = f'model_fold_{fold + 1}.pth'\n",
    "    torch.save(model.state_dict(), model_save_path)\n",
    "    print(f\"Model saved to {model_save_path}\\n\")\n",
    "\n",
    "    # Evaluate on test set\n",
    "    total_predictions = 0\n",
    "    correct_predictions = 0\n",
    "    for path, label in zip(df_test['path'], df_test['name']):\n",
    "\n",
    "        test_segments = extract_segments_with_deltas(path, variant='short')\n",
    "        predicted_sound = predict_clip(model, torch.tensor(test_segments, dtype=torch.float32).to(device), device, method='prob')\n",
    "        \n",
    "\n",
    "        predicted_label = dataset_train.classes[predicted_sound]\n",
    "        \n",
    "        if predicted_label == label:\n",
    "            correct_predictions += 1\n",
    "        total_predictions += 1\n",
    "    accuracy = correct_predictions / total_predictions * 100 if total_predictions > 0 else 0\n",
    "    accuracy_list.append(accuracy)\n",
    "    print(f\"Fold {fold + 1} - Test Accuracy: {accuracy:.4f}\\n\")\n",
    "\n",
    "\n",
    "        \n",
    "\n",
    "   "
   ]
  },
  {
   "cell_type": "code",
   "execution_count": 53,
   "id": "20ca4eb3",
   "metadata": {},
   "outputs": [],
   "source": [
    "max_accuracy_idx = accuracy_list.index(max(accuracy_list))\n",
    "max_val_loader = val_loader_list[max_accuracy_idx]\n",
    "max_train_acc_list = train_accuracy_per_epoch_list[max_accuracy_idx]\n",
    "max_val_acc_list = val_accuracy_per_epoch_list[max_accuracy_idx]"
   ]
  },
  {
   "cell_type": "code",
   "execution_count": 54,
   "id": "583579ba",
   "metadata": {},
   "outputs": [],
   "source": [
    "from sklearn.metrics import confusion_matrix\n",
    "from Utilities.Utilities import Utilities\n",
    "import seaborn as sns\n",
    "\n",
    "def plot_confusion_matrix_fashion(y, y_hat):\n",
    "    accuracy = Utilities.compute_accuracy(y, y_hat)\n",
    "\n",
    "    y_hat = np.argmax(y_hat, 1)\n",
    "\n",
    "    cm = confusion_matrix(y, y_hat)\n",
    "    cm_normalized = cm.astype(\"float\") / cm.sum(axis=1)[:, np.newaxis]\n",
    "\n",
    "    label_map = {0: 'bear', 1: 'cat', 2: 'chicken',\n",
    "                    3: 'cow', 4: 'dog', 5: 'dolphin',\n",
    "                    6: 'donkey', 7: 'elephant', 8: 'frog', 9: 'horse',\n",
    "                    10: 'lion', 11: 'monkey', 12: 'sheep'}\n",
    "    \n",
    "    plt.figure()\n",
    "    plt.subplot(1, 1, 1)\n",
    "    sns.heatmap(cm_normalized, annot=True, fmt=\".2f\", cmap=\"Blues\",\n",
    "                xticklabels=[label_map[i] for i in range(13)],\n",
    "                yticklabels=[label_map[i] for i in range(13)])\n",
    "    plt.xlabel(\"Predicted label\")\n",
    "    plt.ylabel(\"True label\")\n",
    "    plt.title(\"Confusion matrix - Accuracy: \" + str(accuracy))\n",
    "    plt.tight_layout()\n",
    "    return plt.show()\n",
    "\n",
    "x_list = []\n",
    "y_list = []\n",
    "\n",
    "for x_batch, y_batch in max_val_loader:\n",
    "    x_list.append(x_batch)\n",
    "    y_list.append(y_batch)\n",
    "\n",
    "x_all = torch.cat(x_list).to(device)\n",
    "y_all = torch.cat(y_list).to(device)\n",
    "\n",
    "# === Run model and evaluate ===\n",
    "with torch.no_grad():\n",
    "    y_hat = model(x_all)\n",
    "\n",
    "y_true = y_all.cpu().numpy()\n",
    "y_pred_logits = y_hat.cpu().numpy()\n",
    "\n",
    "# === Plot confusion matrix ===\n",
    "plot_confusion_matrix_fashion(y_true, y_pred_logits)"
   ]
  },
  {
   "cell_type": "code",
   "execution_count": 55,
   "id": "1c384fb0",
   "metadata": {},
   "outputs": [],
   "source": [
    "plt.figure()\n",
    "plt.plot(max_train_acc_list, 'b', label='Train accuracy')\n",
    "plt.plot(max_val_acc_list, 'r', label='Valid accuracy')\n",
    "plt.legend()\n",
    "plt.show()"
   ]
  }
 ],
 "metadata": {
  "kernelspec": {
   "display_name": "CML",
   "language": "python",
   "name": "python3"
  },
  "language_info": {
   "codemirror_mode": {
    "name": "ipython",
    "version": 3
   },
   "file_extension": ".py",
   "mimetype": "text/x-python",
   "name": "python",
   "nbconvert_exporter": "python",
   "pygments_lexer": "ipython3",
   "version": "3.11.11"
  }
 },
 "nbformat": 4,
 "nbformat_minor": 5
}

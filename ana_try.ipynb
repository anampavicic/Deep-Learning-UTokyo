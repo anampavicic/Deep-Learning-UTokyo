{
 "cells": [
  {
   "cell_type": "code",
   "execution_count": 1,
   "id": "d2afcaba",
   "metadata": {},
   "outputs": [],
   "source": [
    "import pandas as pd\n",
    "import numpy as np\n",
    "import matplotlib.pyplot as plt\n",
    "import os\n",
    "\n",
    "import torch \n",
    "import torch.nn as nn\n",
    "from torch.utils.data import DataLoader\n",
    "\n",
    "# Libraries for processing sounds\n",
    "import librosa\n",
    "from IPython.display import Audio\n",
    "import random"
   ]
  },
  {
   "cell_type": "code",
   "execution_count": 2,
   "id": "c987561e",
   "metadata": {},
   "outputs": [],
   "source": [
    "device = torch.device(\"cuda\" if torch.cuda.is_available() else \"cpu\")\n"
   ]
  },
  {
   "cell_type": "code",
   "execution_count": 3,
   "id": "478c2ca8",
   "metadata": {},
   "outputs": [
    {
     "name": "stdout",
     "output_type": "stream",
     "text": [
      "Loading dataset from data/Animal_Sound_processed.csv...\n",
      "Classes found: ['bear', 'cat', 'chicken', 'cow', 'dog', 'dolphin', 'donkey', 'elephant', 'frog', 'horse', 'lion', 'monkey', 'sheep']\n",
      "Total segments extracted: 2909\n",
      "train set contains 2327 segments.\n",
      "Loading dataset from data/Animal_Sound_processed.csv...\n",
      "Classes found: ['bear', 'cat', 'chicken', 'cow', 'dog', 'dolphin', 'donkey', 'elephant', 'frog', 'horse', 'lion', 'monkey', 'sheep']\n",
      "Total segments extracted: 2909\n",
      "val set contains 582 segments.\n"
     ]
    }
   ],
   "source": [
    "from ClassesData.AnimalSoundDataset import AnimalSoundDataset\n",
    "\n",
    "data_path = 'data/Animal_Sound_processed.csv'\n",
    "dataset_train = AnimalSoundDataset(data_path, split='train', split_ratio=0.8, seed=42)\n",
    "dataset_val = AnimalSoundDataset(data_path, split='val', split_ratio=0.8, seed=42)"
   ]
  },
  {
   "cell_type": "code",
   "execution_count": 4,
   "id": "53797c34",
   "metadata": {},
   "outputs": [],
   "source": [
    "# in a paper there are 20000 samples in the training set\n",
    "# and they use 1000 for batch\n",
    "# we have 2000 samples in the training set\n",
    "# therefore we use 128 for batch\n",
    "batch_size = 128"
   ]
  },
  {
   "cell_type": "code",
   "execution_count": 5,
   "id": "389e147a",
   "metadata": {},
   "outputs": [
    {
     "name": "stdout",
     "output_type": "stream",
     "text": [
      "Number of batches in train loader: 19\n",
      "torch.Size([128, 2, 60, 41])\n",
      "torch.Size([128])\n"
     ]
    }
   ],
   "source": [
    "train_loader = DataLoader(dataset_train, batch_size=batch_size, shuffle=True)\n",
    "val_loader = DataLoader(dataset_val, batch_size=batch_size, shuffle=False)\n",
    "\n",
    "print(f\"Number of batches in train loader: {len(train_loader)}\")\n",
    "\n",
    "for batch in train_loader:\n",
    "    x_batch, y_batch = batch\n",
    "    print(x_batch.shape)  # [batch_size, 1, 128, 400]\n",
    "    print(y_batch.shape)  # [batch_size]\n",
    "    break"
   ]
  },
  {
   "cell_type": "code",
   "execution_count": null,
   "id": "572b8b78",
   "metadata": {},
   "outputs": [
    {
     "name": "stdout",
     "output_type": "stream",
     "text": [
      "Input dimension: 2, Number of classes: 13\n"
     ]
    }
   ],
   "source": [
    "input_dim = dataset_train[0][0].shape[0]  # e.g., (2, 60, 41) for short segments\n",
    "n_classes = len(dataset_train.classes)\n",
    "print(f\"Input dimension: {input_dim}, Number of classes: {n_classes}\")\n",
    "\n",
    "hyperparameters = dict(\n",
    "    input_dim=input_dim,\n",
    "    output_dim=n_classes,\n",
    "    hidden_layers_size=5000,\n",
    "    activation='relu',\n",
    "    kernel_size_conv=[(57, 6), (1, 3)],\n",
    "    kernel_size_pool=[(4, 3), (1, 3)],\n",
    "    stride_conv=[(1, 1), (1, 1)],\n",
    "    stride_pool=[(1, 3), (1, 3)],\n",
    "    filters=[80, 80],\n",
    "    batch_normalization=False,\n",
    "    dropout_rate=0.5,\n",
    "    # trainer hyperparameters\n",
    "    learning_rate=0.002,\n",
    "    weight_decay=0.001,\n",
    "    momentum=0.9,\n",
    "    nesterov=True,\n",
    "\n",
    "    # questionable hyperparameters\n",
    "    #batch_size=batch_size,\n",
    "    max_epoch=10\n",
    ")"
   ]
  },
  {
   "cell_type": "code",
   "execution_count": 7,
   "id": "9e69f694",
   "metadata": {},
   "outputs": [],
   "source": [
    "from ClassesML.AudioModel import AudioModel\n",
    "model = AudioModel(hyperparameters).to(device)"
   ]
  },
  {
   "cell_type": "code",
   "execution_count": 8,
   "id": "ab440171",
   "metadata": {},
   "outputs": [],
   "source": [
    "def predict_clip(model, segment_tensors, device, method='prob'):\n",
    "    \"\"\"\n",
    "    Generate prediction for a whole clip given its segments.\n",
    "    \n",
    "    segment_tensors: tensor of shape (n_segments, channels, mel_bands, frames)\n",
    "    method: 'majority' or 'prob'\n",
    "    \"\"\"\n",
    "    model.eval()\n",
    "    segment_tensors = segment_tensors.to(device)\n",
    "    with torch.no_grad():\n",
    "        outputs = model(segment_tensors)  # (n_segments, num_classes)\n",
    "        probs = F.softmax(outputs, dim=1)\n",
    "\n",
    "    if method == 'majority':\n",
    "        preds = torch.argmax(probs, dim=1)\n",
    "        counts = torch.bincount(preds)\n",
    "        clip_pred = torch.argmax(counts).item()\n",
    "    elif method == 'prob':\n",
    "        avg_probs = probs.mean(dim=0)\n",
    "        clip_pred = torch.argmax(avg_probs).item()\n",
    "    else:\n",
    "        raise ValueError(\"method must be 'majority' or 'prob'\")\n",
    "\n",
    "    return clip_pred\n"
   ]
  },
  {
   "cell_type": "code",
   "execution_count": 9,
   "id": "fd1b118c",
   "metadata": {},
   "outputs": [
    {
     "name": "stderr",
     "output_type": "stream",
     "text": [
      "Epoch 1/10:   0%|          | 0/19 [00:00<?, ?it/s]/Users/anampavicic/miniconda3/envs/DLClass/lib/python3.11/site-packages/torch/nn/modules/conv.py:549: UserWarning: Using padding='same' with even kernel lengths and odd dilation may require a zero-padded copy of the input be created (Triggered internally at /Users/runner/work/pytorch/pytorch/pytorch/aten/src/ATen/native/Convolution.cpp:1037.)\n",
      "  return F.conv2d(\n",
      "Epoch 1/10: 100%|██████████| 19/19 [00:16<00:00,  1.17it/s]\n"
     ]
    },
    {
     "name": "stdout",
     "output_type": "stream",
     "text": [
      "Epoch 1: Train Loss: 2.4859, Train Acc: 16.6637, Val Loss: 2.4513, Val Acc: 29.3304\n"
     ]
    },
    {
     "name": "stderr",
     "output_type": "stream",
     "text": [
      "Epoch 2/10: 100%|██████████| 19/19 [00:16<00:00,  1.14it/s]\n"
     ]
    },
    {
     "name": "stdout",
     "output_type": "stream",
     "text": [
      "Epoch 2: Train Loss: 2.3841, Train Acc: 26.6197, Val Loss: 2.3971, Val Acc: 41.4062\n"
     ]
    },
    {
     "name": "stderr",
     "output_type": "stream",
     "text": [
      "Epoch 3/10: 100%|██████████| 19/19 [00:17<00:00,  1.07it/s]\n"
     ]
    },
    {
     "name": "stdout",
     "output_type": "stream",
     "text": [
      "Epoch 3: Train Loss: 2.2838, Train Acc: 31.8364, Val Loss: 2.3146, Val Acc: 34.5893\n"
     ]
    },
    {
     "name": "stderr",
     "output_type": "stream",
     "text": [
      "Epoch 4/10: 100%|██████████| 19/19 [00:17<00:00,  1.07it/s]\n"
     ]
    },
    {
     "name": "stdout",
     "output_type": "stream",
     "text": [
      "Epoch 4: Train Loss: 2.1178, Train Acc: 36.0108, Val Loss: 2.1661, Val Acc: 40.2366\n"
     ]
    },
    {
     "name": "stderr",
     "output_type": "stream",
     "text": [
      "Epoch 5/10: 100%|██████████| 19/19 [00:20<00:00,  1.08s/it]\n"
     ]
    },
    {
     "name": "stdout",
     "output_type": "stream",
     "text": [
      "Epoch 5: Train Loss: 1.9535, Train Acc: 39.6006, Val Loss: 2.0198, Val Acc: 43.9821\n"
     ]
    },
    {
     "name": "stderr",
     "output_type": "stream",
     "text": [
      "Epoch 6/10: 100%|██████████| 19/19 [00:18<00:00,  1.01it/s]\n"
     ]
    },
    {
     "name": "stdout",
     "output_type": "stream",
     "text": [
      "Epoch 6: Train Loss: 1.7851, Train Acc: 42.9956, Val Loss: 1.8449, Val Acc: 48.0179\n"
     ]
    },
    {
     "name": "stderr",
     "output_type": "stream",
     "text": [
      "Epoch 7/10: 100%|██████████| 19/19 [00:19<00:00,  1.03s/it]\n"
     ]
    },
    {
     "name": "stdout",
     "output_type": "stream",
     "text": [
      "Epoch 7: Train Loss: 1.6523, Train Acc: 47.3362, Val Loss: 1.7446, Val Acc: 56.5848\n"
     ]
    },
    {
     "name": "stderr",
     "output_type": "stream",
     "text": [
      "Epoch 8/10: 100%|██████████| 19/19 [00:18<00:00,  1.01it/s]\n"
     ]
    },
    {
     "name": "stdout",
     "output_type": "stream",
     "text": [
      "Epoch 8: Train Loss: 1.5246, Train Acc: 52.4510, Val Loss: 1.6517, Val Acc: 55.5938\n"
     ]
    },
    {
     "name": "stderr",
     "output_type": "stream",
     "text": [
      "Epoch 9/10: 100%|██████████| 19/19 [00:20<00:00,  1.07s/it]\n"
     ]
    },
    {
     "name": "stdout",
     "output_type": "stream",
     "text": [
      "Epoch 9: Train Loss: 1.4705, Train Acc: 53.4736, Val Loss: 1.5792, Val Acc: 57.9107\n"
     ]
    },
    {
     "name": "stderr",
     "output_type": "stream",
     "text": [
      "Epoch 10/10: 100%|██████████| 19/19 [00:19<00:00,  1.01s/it]\n"
     ]
    },
    {
     "name": "stdout",
     "output_type": "stream",
     "text": [
      "Epoch 10: Train Loss: 1.4024, Train Acc: 56.6165, Val Loss: 1.5550, Val Acc: 57.4196\n"
     ]
    }
   ],
   "source": [
    "from ClassesML.AudioTrainer import AudioTrainer\n",
    "trainer = AudioTrainer(model, train_loader, val_loader, hyperparameters, device=device)\n",
    "trainer.train()"
   ]
  },
  {
   "cell_type": "markdown",
   "id": "c82b7102",
   "metadata": {},
   "source": []
  }
 ],
 "metadata": {
  "kernelspec": {
   "display_name": "DLClass",
   "language": "python",
   "name": "python3"
  },
  "language_info": {
   "codemirror_mode": {
    "name": "ipython",
    "version": 3
   },
   "file_extension": ".py",
   "mimetype": "text/x-python",
   "name": "python",
   "nbconvert_exporter": "python",
   "pygments_lexer": "ipython3",
   "version": "3.11.11"
  }
 },
 "nbformat": 4,
 "nbformat_minor": 5
}

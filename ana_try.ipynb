{
 "cells": [
  {
   "cell_type": "code",
   "execution_count": 17,
   "id": "d2afcaba",
   "metadata": {},
   "outputs": [],
   "source": [
    "import pandas as pd\n",
    "import numpy as np\n",
    "import matplotlib.pyplot as plt\n",
    "import os\n",
    "\n",
    "import torch \n",
    "import torch.nn as nn\n",
    "from torch.utils.data import DataLoader\n",
    "\n",
    "# Libraries for processing sounds\n",
    "import librosa\n",
    "from IPython.display import Audio\n",
    "import random"
   ]
  },
  {
   "cell_type": "code",
   "execution_count": 18,
   "id": "c987561e",
   "metadata": {},
   "outputs": [],
   "source": [
    "device = torch.device(\"cuda\" if torch.cuda.is_available() else \"cpu\")\n"
   ]
  },
  {
   "cell_type": "code",
   "execution_count": 19,
   "id": "b32ebae5",
   "metadata": {},
   "outputs": [
    {
     "data": {
      "text/plain": [
       "650"
      ]
     },
     "execution_count": 19,
     "metadata": {},
     "output_type": "execute_result"
    }
   ],
   "source": [
    "df = pd.read_csv('data/Animal_Sound_processed.csv')\n",
    "len(df)"
   ]
  },
  {
   "cell_type": "code",
   "execution_count": 20,
   "id": "478c2ca8",
   "metadata": {},
   "outputs": [
    {
     "name": "stdout",
     "output_type": "stream",
     "text": [
      "Classes found: ['bear', 'cat', 'chicken', 'cow', 'dog', 'dolphin', 'donkey', 'elephant', 'frog', 'horse', 'lion', 'monkey', 'sheep']\n",
      "Total segments extracted: 2909\n",
      "train set contains 2327 segments.\n",
      "Classes found: ['bear', 'cat', 'chicken', 'cow', 'dog', 'dolphin', 'donkey', 'elephant', 'frog', 'horse', 'lion', 'monkey', 'sheep']\n",
      "Total segments extracted: 2909\n",
      "val set contains 582 segments.\n"
     ]
    }
   ],
   "source": [
    "from ClassesData.AnimalSoundDataset import AnimalSoundDataset\n",
    "\n",
    "dataset_train = AnimalSoundDataset(df, split='train', split_ratio=0.8, seed=42)\n",
    "dataset_val = AnimalSoundDataset(df, split='val', split_ratio=0.8, seed=42)"
   ]
  },
  {
   "cell_type": "code",
   "execution_count": 21,
   "id": "53797c34",
   "metadata": {},
   "outputs": [],
   "source": [
    "# in a paper there are 20000 samples in the training set\n",
    "# and they use 1000 for batch\n",
    "# we have 2000 samples in the training set\n",
    "# therefore we use 128 for batch\n",
    "batch_size = 128"
   ]
  },
  {
   "cell_type": "code",
   "execution_count": 22,
   "id": "389e147a",
   "metadata": {},
   "outputs": [
    {
     "name": "stdout",
     "output_type": "stream",
     "text": [
      "Number of batches in train loader: 19\n",
      "torch.Size([128, 2, 60, 41])\n",
      "torch.Size([128])\n"
     ]
    }
   ],
   "source": [
    "train_loader = DataLoader(dataset_train, batch_size=batch_size, shuffle=True)\n",
    "val_loader = DataLoader(dataset_val, batch_size=batch_size, shuffle=False)\n",
    "\n",
    "print(f\"Number of batches in train loader: {len(train_loader)}\")\n",
    "\n",
    "for batch in train_loader:\n",
    "    x_batch, y_batch = batch\n",
    "    print(x_batch.shape)  # [batch_size, 1, 128, 400]\n",
    "    print(y_batch.shape)  # [batch_size]\n",
    "    break"
   ]
  },
  {
   "cell_type": "code",
   "execution_count": null,
   "id": "572b8b78",
   "metadata": {},
   "outputs": [
    {
     "name": "stdout",
     "output_type": "stream",
     "text": [
      "Input dimension: 2, Number of classes: 13\n"
     ]
    }
   ],
   "source": [
    "input_dim = dataset_train[0][0].shape[0]  # e.g., (2, 60, 41) for short segments\n",
    "n_classes = len(dataset_train.classes)\n",
    "print(f\"Input dimension: {input_dim}, Number of classes: {n_classes}\")\n",
    "\n",
    "hyperparameters = dict(\n",
    "    input_dim=input_dim,\n",
    "    output_dim=n_classes,\n",
    "    hidden_layers_size=5000,\n",
    "    activation='relu',\n",
    "    kernel_size_conv=[(57, 6), (1, 3)],\n",
    "    kernel_size_pool=[(4, 3), (1, 3)],\n",
    "    stride_conv=[(1, 1), (1, 1)],\n",
    "    stride_pool=[(1, 3), (1, 3)],\n",
    "    filters=[80, 80],\n",
    "    batch_normalization=False,\n",
    "    dropout_rate=0.5,\n",
    "    # trainer hyperparameters\n",
    "    learning_rate=0.002,\n",
    "    weight_decay=0.001,\n",
    "    momentum=0.9,\n",
    "    nesterov=True,\n",
    "\n",
    "    # questionable hyperparameters\n",
    "    #batch_size=batch_size,\n",
    "    max_epoch=100,\n",
    "\n",
    "    #Early stopping and sceduler\n",
    "    patience_lr=5,\n",
    "    early_stopping=True\n",
    ")"
   ]
  },
  {
   "cell_type": "code",
   "execution_count": 19,
   "id": "64d55530",
   "metadata": {},
   "outputs": [
    {
     "name": "stderr",
     "output_type": "stream",
     "text": [
      "Epoch 1/100: 100%|██████████| 14/14 [00:29<00:00,  2.10s/it]\n"
     ]
    },
    {
     "name": "stdout",
     "output_type": "stream",
     "text": [
      "Epoch 1: Train Loss: 2.4814, Train Acc: 16.5389, Val Loss: 2.4420, Val Acc: 22.5000\n",
      "Epoch 0 - Keeping weights\n"
     ]
    },
    {
     "name": "stderr",
     "output_type": "stream",
     "text": [
      "Epoch 2/100: 100%|██████████| 14/14 [00:27<00:00,  1.96s/it]\n"
     ]
    },
    {
     "name": "stdout",
     "output_type": "stream",
     "text": [
      "Epoch 2: Train Loss: 2.3668, Train Acc: 22.2309, Val Loss: 2.3894, Val Acc: 23.4375\n"
     ]
    },
    {
     "name": "stderr",
     "output_type": "stream",
     "text": [
      "Epoch 3/100: 100%|██████████| 14/14 [00:27<00:00,  1.97s/it]\n"
     ]
    },
    {
     "name": "stdout",
     "output_type": "stream",
     "text": [
      "Epoch 3: Train Loss: 2.1993, Train Acc: 30.6508, Val Loss: 2.2155, Val Acc: 35.6250\n"
     ]
    },
    {
     "name": "stderr",
     "output_type": "stream",
     "text": [
      "Epoch 4/100: 100%|██████████| 14/14 [00:25<00:00,  1.83s/it]\n"
     ]
    },
    {
     "name": "stdout",
     "output_type": "stream",
     "text": [
      "Epoch 4: Train Loss: 2.0263, Train Acc: 35.4783, Val Loss: 2.0708, Val Acc: 40.3125\n"
     ]
    },
    {
     "name": "stderr",
     "output_type": "stream",
     "text": [
      "Epoch 5/100: 100%|██████████| 14/14 [00:26<00:00,  1.87s/it]\n"
     ]
    },
    {
     "name": "stdout",
     "output_type": "stream",
     "text": [
      "Epoch 5: Train Loss: 1.8534, Train Acc: 39.6068, Val Loss: 1.9180, Val Acc: 45.0000\n"
     ]
    },
    {
     "name": "stderr",
     "output_type": "stream",
     "text": [
      "Epoch 6/100: 100%|██████████| 14/14 [00:24<00:00,  1.73s/it]\n"
     ]
    },
    {
     "name": "stdout",
     "output_type": "stream",
     "text": [
      "Epoch 6: Train Loss: 1.7017, Train Acc: 44.5569, Val Loss: 1.7932, Val Acc: 51.2500\n"
     ]
    },
    {
     "name": "stderr",
     "output_type": "stream",
     "text": [
      "Epoch 7/100: 100%|██████████| 14/14 [00:24<00:00,  1.72s/it]\n"
     ]
    },
    {
     "name": "stdout",
     "output_type": "stream",
     "text": [
      "Epoch 7: Train Loss: 1.5860, Train Acc: 49.1602, Val Loss: 1.6691, Val Acc: 50.9375\n"
     ]
    },
    {
     "name": "stderr",
     "output_type": "stream",
     "text": [
      "Epoch 8/100: 100%|██████████| 14/14 [00:24<00:00,  1.74s/it]\n"
     ]
    },
    {
     "name": "stdout",
     "output_type": "stream",
     "text": [
      "Epoch 8: Train Loss: 1.4768, Train Acc: 51.7153, Val Loss: 1.6140, Val Acc: 59.3750\n"
     ]
    },
    {
     "name": "stderr",
     "output_type": "stream",
     "text": [
      "Epoch 9/100: 100%|██████████| 14/14 [00:25<00:00,  1.81s/it]\n"
     ]
    },
    {
     "name": "stdout",
     "output_type": "stream",
     "text": [
      "Epoch 9: Train Loss: 1.3815, Train Acc: 55.5657, Val Loss: 1.5458, Val Acc: 60.9375\n"
     ]
    },
    {
     "name": "stderr",
     "output_type": "stream",
     "text": [
      "Epoch 10/100: 100%|██████████| 14/14 [00:25<00:00,  1.81s/it]\n"
     ]
    },
    {
     "name": "stdout",
     "output_type": "stream",
     "text": [
      "Epoch 10: Train Loss: 1.3110, Train Acc: 57.8482, Val Loss: 1.4752, Val Acc: 64.2188\n"
     ]
    },
    {
     "name": "stderr",
     "output_type": "stream",
     "text": [
      "Epoch 11/100: 100%|██████████| 14/14 [00:28<00:00,  2.06s/it]\n"
     ]
    },
    {
     "name": "stdout",
     "output_type": "stream",
     "text": [
      "Epoch 11: Train Loss: 1.2402, Train Acc: 60.0190, Val Loss: 1.4401, Val Acc: 66.8750\n",
      "Epoch 10 - Best metrics: 66.875 - Keeping weights\n"
     ]
    },
    {
     "name": "stderr",
     "output_type": "stream",
     "text": [
      "Epoch 12/100: 100%|██████████| 14/14 [00:27<00:00,  1.95s/it]\n"
     ]
    },
    {
     "name": "stdout",
     "output_type": "stream",
     "text": [
      "Epoch 12: Train Loss: 1.1379, Train Acc: 63.7460, Val Loss: 1.3189, Val Acc: 68.4375\n",
      "Epoch 11 - Best metrics: 68.4375 - Keeping weights\n"
     ]
    },
    {
     "name": "stderr",
     "output_type": "stream",
     "text": [
      "Epoch 13/100: 100%|██████████| 14/14 [00:26<00:00,  1.88s/it]\n"
     ]
    },
    {
     "name": "stdout",
     "output_type": "stream",
     "text": [
      "Epoch 13: Train Loss: 1.0304, Train Acc: 66.3797, Val Loss: 1.2802, Val Acc: 70.4688\n",
      "Epoch 12 - Best metrics: 70.46875 - Keeping weights\n"
     ]
    },
    {
     "name": "stderr",
     "output_type": "stream",
     "text": [
      "Epoch 14/100: 100%|██████████| 14/14 [00:25<00:00,  1.82s/it]\n"
     ]
    },
    {
     "name": "stdout",
     "output_type": "stream",
     "text": [
      "Epoch 14: Train Loss: 0.9956, Train Acc: 68.3054, Val Loss: 1.2282, Val Acc: 70.3125\n",
      "Epoch 13 - Metrics did not improve, wait: 1\n"
     ]
    },
    {
     "name": "stderr",
     "output_type": "stream",
     "text": [
      "Epoch 15/100: 100%|██████████| 14/14 [00:24<00:00,  1.74s/it]\n"
     ]
    },
    {
     "name": "stdout",
     "output_type": "stream",
     "text": [
      "Epoch 15: Train Loss: 0.9414, Train Acc: 69.7618, Val Loss: 1.2136, Val Acc: 72.9688\n",
      "Epoch 14 - Best metrics: 72.96875 - Keeping weights\n"
     ]
    },
    {
     "name": "stderr",
     "output_type": "stream",
     "text": [
      "Epoch 16/100: 100%|██████████| 14/14 [00:28<00:00,  2.00s/it]\n"
     ]
    },
    {
     "name": "stdout",
     "output_type": "stream",
     "text": [
      "Epoch 16: Train Loss: 0.8749, Train Acc: 71.7927, Val Loss: 1.1239, Val Acc: 75.4688\n",
      "Epoch 15 - Best metrics: 75.46875 - Keeping weights\n"
     ]
    },
    {
     "name": "stderr",
     "output_type": "stream",
     "text": [
      "Epoch 17/100: 100%|██████████| 14/14 [00:30<00:00,  2.15s/it]\n"
     ]
    },
    {
     "name": "stdout",
     "output_type": "stream",
     "text": [
      "Epoch 17: Train Loss: 0.8064, Train Acc: 74.2983, Val Loss: 1.0660, Val Acc: 76.7188\n",
      "Epoch 16 - Best metrics: 76.71875 - Keeping weights\n"
     ]
    },
    {
     "name": "stderr",
     "output_type": "stream",
     "text": [
      "Epoch 18/100: 100%|██████████| 14/14 [00:30<00:00,  2.21s/it]\n"
     ]
    },
    {
     "name": "stdout",
     "output_type": "stream",
     "text": [
      "Epoch 18: Train Loss: 0.7573, Train Acc: 75.9102, Val Loss: 0.9988, Val Acc: 78.7500\n",
      "Epoch 17 - Best metrics: 78.75 - Keeping weights\n"
     ]
    },
    {
     "name": "stderr",
     "output_type": "stream",
     "text": [
      "Epoch 19/100: 100%|██████████| 14/14 [00:25<00:00,  1.85s/it]\n"
     ]
    },
    {
     "name": "stdout",
     "output_type": "stream",
     "text": [
      "Epoch 19: Train Loss: 0.7286, Train Acc: 75.8608, Val Loss: 1.0196, Val Acc: 76.0938\n",
      "Epoch 18 - Metrics did not improve, wait: 1\n"
     ]
    },
    {
     "name": "stderr",
     "output_type": "stream",
     "text": [
      "Epoch 20/100: 100%|██████████| 14/14 [00:24<00:00,  1.77s/it]\n"
     ]
    },
    {
     "name": "stdout",
     "output_type": "stream",
     "text": [
      "Epoch 20: Train Loss: 0.6757, Train Acc: 78.2375, Val Loss: 0.9421, Val Acc: 77.9688\n",
      "Epoch 19 - Metrics did not improve, wait: 2\n"
     ]
    },
    {
     "name": "stderr",
     "output_type": "stream",
     "text": [
      "Epoch 21/100: 100%|██████████| 14/14 [00:25<00:00,  1.85s/it]\n"
     ]
    },
    {
     "name": "stdout",
     "output_type": "stream",
     "text": [
      "Epoch 21: Train Loss: 0.6096, Train Acc: 80.1961, Val Loss: 0.9176, Val Acc: 81.4062\n",
      "Epoch 20 - Best metrics: 81.40625 - Keeping weights\n"
     ]
    },
    {
     "name": "stderr",
     "output_type": "stream",
     "text": [
      "Epoch 22/100: 100%|██████████| 14/14 [00:25<00:00,  1.82s/it]\n"
     ]
    },
    {
     "name": "stdout",
     "output_type": "stream",
     "text": [
      "Epoch 22: Train Loss: 0.5816, Train Acc: 81.4128, Val Loss: 0.8791, Val Acc: 81.5625\n",
      "Epoch 21 - Best metrics: 81.5625 - Keeping weights\n"
     ]
    },
    {
     "name": "stderr",
     "output_type": "stream",
     "text": [
      "Epoch 23/100: 100%|██████████| 14/14 [00:25<00:00,  1.80s/it]\n"
     ]
    },
    {
     "name": "stdout",
     "output_type": "stream",
     "text": [
      "Epoch 23: Train Loss: 0.5212, Train Acc: 83.5663, Val Loss: 0.7955, Val Acc: 83.1250\n",
      "Epoch 22 - Best metrics: 83.125 - Keeping weights\n"
     ]
    },
    {
     "name": "stderr",
     "output_type": "stream",
     "text": [
      "Epoch 24/100: 100%|██████████| 14/14 [00:29<00:00,  2.11s/it]\n"
     ]
    },
    {
     "name": "stdout",
     "output_type": "stream",
     "text": [
      "Epoch 24: Train Loss: 0.5149, Train Acc: 83.1711, Val Loss: 0.8426, Val Acc: 82.6562\n",
      "Epoch 23 - Metrics did not improve, wait: 1\n"
     ]
    },
    {
     "name": "stderr",
     "output_type": "stream",
     "text": [
      "Epoch 25/100: 100%|██████████| 14/14 [00:25<00:00,  1.83s/it]\n"
     ]
    },
    {
     "name": "stdout",
     "output_type": "stream",
     "text": [
      "Epoch 25: Train Loss: 0.4602, Train Acc: 85.5533, Val Loss: 0.7916, Val Acc: 80.6250\n",
      "Epoch 24 - Metrics did not improve, wait: 2\n"
     ]
    },
    {
     "name": "stderr",
     "output_type": "stream",
     "text": [
      "Epoch 26/100: 100%|██████████| 14/14 [00:27<00:00,  1.97s/it]\n"
     ]
    },
    {
     "name": "stdout",
     "output_type": "stream",
     "text": [
      "Epoch 26: Train Loss: 0.4383, Train Acc: 85.6649, Val Loss: 0.7776, Val Acc: 81.5625\n",
      "Epoch 25 - Metrics did not improve, wait: 3\n"
     ]
    },
    {
     "name": "stderr",
     "output_type": "stream",
     "text": [
      "Epoch 27/100: 100%|██████████| 14/14 [00:28<00:00,  2.03s/it]\n"
     ]
    },
    {
     "name": "stdout",
     "output_type": "stream",
     "text": [
      "Epoch 27: Train Loss: 0.3933, Train Acc: 87.7854, Val Loss: 0.6921, Val Acc: 82.5000\n",
      "Epoch 26 - Metrics did not improve, wait: 4\n"
     ]
    },
    {
     "name": "stderr",
     "output_type": "stream",
     "text": [
      "Epoch 28/100: 100%|██████████| 14/14 [00:24<00:00,  1.77s/it]\n"
     ]
    },
    {
     "name": "stdout",
     "output_type": "stream",
     "text": [
      "Epoch 28: Train Loss: 0.3662, Train Acc: 88.3599, Val Loss: 0.6779, Val Acc: 84.3750\n",
      "Epoch 27 - Best metrics: 84.375 - Keeping weights\n"
     ]
    },
    {
     "name": "stderr",
     "output_type": "stream",
     "text": [
      "Epoch 29/100: 100%|██████████| 14/14 [00:25<00:00,  1.80s/it]\n"
     ]
    },
    {
     "name": "stdout",
     "output_type": "stream",
     "text": [
      "Epoch 29: Train Loss: 0.3446, Train Acc: 89.0744, Val Loss: 0.6699, Val Acc: 84.0625\n",
      "Epoch 28 - Metrics did not improve, wait: 1\n"
     ]
    },
    {
     "name": "stderr",
     "output_type": "stream",
     "text": [
      "Epoch 30/100: 100%|██████████| 14/14 [00:24<00:00,  1.77s/it]\n"
     ]
    },
    {
     "name": "stdout",
     "output_type": "stream",
     "text": [
      "Epoch 30: Train Loss: 0.3087, Train Acc: 90.1960, Val Loss: 0.6501, Val Acc: 85.6250\n",
      "Epoch 29 - Best metrics: 85.625 - Keeping weights\n"
     ]
    },
    {
     "name": "stderr",
     "output_type": "stream",
     "text": [
      "Epoch 31/100: 100%|██████████| 14/14 [00:24<00:00,  1.76s/it]\n"
     ]
    },
    {
     "name": "stdout",
     "output_type": "stream",
     "text": [
      "Epoch 31: Train Loss: 0.2836, Train Acc: 90.9434, Val Loss: 0.5897, Val Acc: 85.0000\n",
      "Epoch 30 - Metrics did not improve, wait: 1\n"
     ]
    },
    {
     "name": "stderr",
     "output_type": "stream",
     "text": [
      "Epoch 32/100: 100%|██████████| 14/14 [00:24<00:00,  1.78s/it]\n"
     ]
    },
    {
     "name": "stdout",
     "output_type": "stream",
     "text": [
      "Epoch 32: Train Loss: 0.2857, Train Acc: 90.5976, Val Loss: 0.6122, Val Acc: 85.3125\n",
      "Epoch 31 - Metrics did not improve, wait: 2\n"
     ]
    },
    {
     "name": "stderr",
     "output_type": "stream",
     "text": [
      "Epoch 33/100: 100%|██████████| 14/14 [00:25<00:00,  1.84s/it]\n"
     ]
    },
    {
     "name": "stdout",
     "output_type": "stream",
     "text": [
      "Epoch 33: Train Loss: 0.2630, Train Acc: 92.4226, Val Loss: 0.5822, Val Acc: 86.5625\n",
      "Epoch 32 - Best metrics: 86.5625 - Keeping weights\n"
     ]
    },
    {
     "name": "stderr",
     "output_type": "stream",
     "text": [
      "Epoch 34/100: 100%|██████████| 14/14 [00:25<00:00,  1.81s/it]\n"
     ]
    },
    {
     "name": "stdout",
     "output_type": "stream",
     "text": [
      "Epoch 34: Train Loss: 0.2376, Train Acc: 93.0191, Val Loss: 0.5630, Val Acc: 85.6250\n",
      "Epoch 33 - Metrics did not improve, wait: 1\n"
     ]
    },
    {
     "name": "stderr",
     "output_type": "stream",
     "text": [
      "Epoch 35/100: 100%|██████████| 14/14 [00:25<00:00,  1.83s/it]\n"
     ]
    },
    {
     "name": "stdout",
     "output_type": "stream",
     "text": [
      "Epoch 35: Train Loss: 0.2082, Train Acc: 93.3429, Val Loss: 0.5674, Val Acc: 84.5312\n",
      "Epoch 34 - Metrics did not improve, wait: 2\n"
     ]
    },
    {
     "name": "stderr",
     "output_type": "stream",
     "text": [
      "Epoch 36/100: 100%|██████████| 14/14 [00:26<00:00,  1.87s/it]\n"
     ]
    },
    {
     "name": "stdout",
     "output_type": "stream",
     "text": [
      "Epoch 36: Train Loss: 0.2190, Train Acc: 93.0191, Val Loss: 0.5664, Val Acc: 85.0000\n",
      "Epoch 35 - Metrics did not improve, wait: 3\n"
     ]
    },
    {
     "name": "stderr",
     "output_type": "stream",
     "text": [
      "Epoch 37/100: 100%|██████████| 14/14 [00:25<00:00,  1.82s/it]\n"
     ]
    },
    {
     "name": "stdout",
     "output_type": "stream",
     "text": [
      "Epoch 37: Train Loss: 0.1805, Train Acc: 93.9567, Val Loss: 0.4974, Val Acc: 86.2500\n",
      "Epoch 36 - Metrics did not improve, wait: 4\n"
     ]
    },
    {
     "name": "stderr",
     "output_type": "stream",
     "text": [
      "Epoch 38/100: 100%|██████████| 14/14 [00:24<00:00,  1.77s/it]\n"
     ]
    },
    {
     "name": "stdout",
     "output_type": "stream",
     "text": [
      "Epoch 38: Train Loss: 0.1671, Train Acc: 94.1909, Val Loss: 0.5124, Val Acc: 87.1875\n",
      "Epoch 37 - Best metrics: 87.1875 - Keeping weights\n"
     ]
    },
    {
     "name": "stderr",
     "output_type": "stream",
     "text": [
      "Epoch 39/100: 100%|██████████| 14/14 [00:24<00:00,  1.72s/it]\n"
     ]
    },
    {
     "name": "stdout",
     "output_type": "stream",
     "text": [
      "Epoch 39: Train Loss: 0.1520, Train Acc: 95.2238, Val Loss: 0.4795, Val Acc: 87.9688\n",
      "Epoch 38 - Best metrics: 87.96875 - Keeping weights\n"
     ]
    },
    {
     "name": "stderr",
     "output_type": "stream",
     "text": [
      "Epoch 40/100: 100%|██████████| 14/14 [00:23<00:00,  1.71s/it]\n"
     ]
    },
    {
     "name": "stdout",
     "output_type": "stream",
     "text": [
      "Epoch 40: Train Loss: 0.1618, Train Acc: 95.2905, Val Loss: 0.4665, Val Acc: 86.2500\n",
      "Epoch 39 - Metrics did not improve, wait: 1\n"
     ]
    },
    {
     "name": "stderr",
     "output_type": "stream",
     "text": [
      "Epoch 41/100: 100%|██████████| 14/14 [00:25<00:00,  1.81s/it]\n"
     ]
    },
    {
     "name": "stdout",
     "output_type": "stream",
     "text": [
      "Epoch 41: Train Loss: 0.1480, Train Acc: 95.1844, Val Loss: 0.4677, Val Acc: 87.6562\n",
      "Epoch 40 - Metrics did not improve, wait: 2\n"
     ]
    },
    {
     "name": "stderr",
     "output_type": "stream",
     "text": [
      "Epoch 42/100: 100%|██████████| 14/14 [00:29<00:00,  2.10s/it]\n"
     ]
    },
    {
     "name": "stdout",
     "output_type": "stream",
     "text": [
      "Epoch 42: Train Loss: 0.1372, Train Acc: 95.8650, Val Loss: 0.4716, Val Acc: 84.8438\n",
      "Epoch 41 - Metrics did not improve, wait: 3\n"
     ]
    },
    {
     "name": "stderr",
     "output_type": "stream",
     "text": [
      "Epoch 43/100: 100%|██████████| 14/14 [00:26<00:00,  1.90s/it]\n"
     ]
    },
    {
     "name": "stdout",
     "output_type": "stream",
     "text": [
      "Epoch 43: Train Loss: 0.1209, Train Acc: 96.7579, Val Loss: 0.4509, Val Acc: 86.5625\n",
      "Epoch 42 - Metrics did not improve, wait: 4\n"
     ]
    },
    {
     "name": "stderr",
     "output_type": "stream",
     "text": [
      "Epoch 44/100: 100%|██████████| 14/14 [00:25<00:00,  1.81s/it]\n"
     ]
    },
    {
     "name": "stdout",
     "output_type": "stream",
     "text": [
      "Epoch 44: Train Loss: 0.1161, Train Acc: 96.4231, Val Loss: 0.4351, Val Acc: 86.5625\n",
      "Epoch 43 - Metrics did not improve, wait: 5\n"
     ]
    },
    {
     "name": "stderr",
     "output_type": "stream",
     "text": [
      "Epoch 45/100: 100%|██████████| 14/14 [00:23<00:00,  1.68s/it]\n"
     ]
    },
    {
     "name": "stdout",
     "output_type": "stream",
     "text": [
      "Epoch 45: Train Loss: 0.1025, Train Acc: 96.9198, Val Loss: 0.4396, Val Acc: 86.7188\n",
      "Learning rate changed from 0.005 to 0.0005 at epoch 44\n",
      "Epoch 44 - Metrics did not improve, wait: 6\n"
     ]
    },
    {
     "name": "stderr",
     "output_type": "stream",
     "text": [
      "Epoch 46/100: 100%|██████████| 14/14 [00:24<00:00,  1.72s/it]\n"
     ]
    },
    {
     "name": "stdout",
     "output_type": "stream",
     "text": [
      "Epoch 46: Train Loss: 0.1153, Train Acc: 96.4231, Val Loss: 0.4314, Val Acc: 87.8125\n",
      "Epoch 45 - Metrics did not improve, wait: 7\n"
     ]
    },
    {
     "name": "stderr",
     "output_type": "stream",
     "text": [
      "Epoch 47/100: 100%|██████████| 14/14 [00:26<00:00,  1.92s/it]\n"
     ]
    },
    {
     "name": "stdout",
     "output_type": "stream",
     "text": [
      "Epoch 47: Train Loss: 0.0869, Train Acc: 97.5446, Val Loss: 0.4193, Val Acc: 87.8125\n",
      "Epoch 46 - Metrics did not improve, wait: 8\n"
     ]
    },
    {
     "name": "stderr",
     "output_type": "stream",
     "text": [
      "Epoch 48/100: 100%|██████████| 14/14 [00:27<00:00,  1.96s/it]\n"
     ]
    },
    {
     "name": "stdout",
     "output_type": "stream",
     "text": [
      "Epoch 48: Train Loss: 0.0857, Train Acc: 97.5895, Val Loss: 0.4125, Val Acc: 87.8125\n",
      "Epoch 47 - Metrics did not improve, wait: 9\n"
     ]
    },
    {
     "name": "stderr",
     "output_type": "stream",
     "text": [
      "Epoch 49/100: 100%|██████████| 14/14 [00:24<00:00,  1.77s/it]\n"
     ]
    },
    {
     "name": "stdout",
     "output_type": "stream",
     "text": [
      "Epoch 49: Train Loss: 0.0694, Train Acc: 98.3204, Val Loss: 0.4159, Val Acc: 88.1250\n",
      "Epoch 48 - Best metrics: 88.125 - Keeping weights\n"
     ]
    },
    {
     "name": "stderr",
     "output_type": "stream",
     "text": [
      "Epoch 50/100: 100%|██████████| 14/14 [00:27<00:00,  1.98s/it]\n"
     ]
    },
    {
     "name": "stdout",
     "output_type": "stream",
     "text": [
      "Epoch 50: Train Loss: 0.0870, Train Acc: 97.2546, Val Loss: 0.4093, Val Acc: 87.5000\n",
      "Epoch 49 - Metrics did not improve, wait: 1\n"
     ]
    },
    {
     "name": "stderr",
     "output_type": "stream",
     "text": [
      "Epoch 51/100: 100%|██████████| 14/14 [00:26<00:00,  1.86s/it]\n"
     ]
    },
    {
     "name": "stdout",
     "output_type": "stream",
     "text": [
      "Epoch 51: Train Loss: 0.0695, Train Acc: 98.0414, Val Loss: 0.4108, Val Acc: 87.5000\n",
      "Epoch 50 - Metrics did not improve, wait: 2\n"
     ]
    },
    {
     "name": "stderr",
     "output_type": "stream",
     "text": [
      "Epoch 52/100: 100%|██████████| 14/14 [00:25<00:00,  1.84s/it]\n"
     ]
    },
    {
     "name": "stdout",
     "output_type": "stream",
     "text": [
      "Epoch 52: Train Loss: 0.0737, Train Acc: 97.9243, Val Loss: 0.4116, Val Acc: 88.1250\n",
      "Epoch 51 - Metrics did not improve, wait: 3\n"
     ]
    },
    {
     "name": "stderr",
     "output_type": "stream",
     "text": [
      "Epoch 53/100: 100%|██████████| 14/14 [00:25<00:00,  1.84s/it]\n"
     ]
    },
    {
     "name": "stdout",
     "output_type": "stream",
     "text": [
      "Epoch 53: Train Loss: 0.0707, Train Acc: 98.2143, Val Loss: 0.4060, Val Acc: 88.2812\n",
      "Epoch 52 - Best metrics: 88.28125 - Keeping weights\n"
     ]
    },
    {
     "name": "stderr",
     "output_type": "stream",
     "text": [
      "Epoch 54/100: 100%|██████████| 14/14 [00:25<00:00,  1.82s/it]\n"
     ]
    },
    {
     "name": "stdout",
     "output_type": "stream",
     "text": [
      "Epoch 54: Train Loss: 0.0704, Train Acc: 98.2646, Val Loss: 0.4038, Val Acc: 87.6562\n",
      "Epoch 53 - Metrics did not improve, wait: 1\n"
     ]
    },
    {
     "name": "stderr",
     "output_type": "stream",
     "text": [
      "Epoch 55/100: 100%|██████████| 14/14 [00:29<00:00,  2.14s/it]\n"
     ]
    },
    {
     "name": "stdout",
     "output_type": "stream",
     "text": [
      "Epoch 55: Train Loss: 0.0643, Train Acc: 98.3259, Val Loss: 0.3996, Val Acc: 88.1250\n",
      "Epoch 54 - Metrics did not improve, wait: 2\n"
     ]
    },
    {
     "name": "stderr",
     "output_type": "stream",
     "text": [
      "Epoch 56/100: 100%|██████████| 14/14 [00:26<00:00,  1.89s/it]\n"
     ]
    },
    {
     "name": "stdout",
     "output_type": "stream",
     "text": [
      "Epoch 56: Train Loss: 0.0590, Train Acc: 98.3149, Val Loss: 0.3949, Val Acc: 88.2812\n",
      "Epoch 55 - Metrics did not improve, wait: 3\n"
     ]
    },
    {
     "name": "stderr",
     "output_type": "stream",
     "text": [
      "Epoch 57/100: 100%|██████████| 14/14 [00:24<00:00,  1.77s/it]\n"
     ]
    },
    {
     "name": "stdout",
     "output_type": "stream",
     "text": [
      "Epoch 57: Train Loss: 0.0626, Train Acc: 98.2088, Val Loss: 0.3959, Val Acc: 88.5938\n",
      "Epoch 56 - Best metrics: 88.59375 - Keeping weights\n"
     ]
    },
    {
     "name": "stderr",
     "output_type": "stream",
     "text": [
      "Epoch 58/100: 100%|██████████| 14/14 [00:24<00:00,  1.74s/it]\n"
     ]
    },
    {
     "name": "stdout",
     "output_type": "stream",
     "text": [
      "Epoch 58: Train Loss: 0.0758, Train Acc: 97.5895, Val Loss: 0.3972, Val Acc: 88.5938\n",
      "Epoch 57 - Metrics did not improve, wait: 1\n"
     ]
    },
    {
     "name": "stderr",
     "output_type": "stream",
     "text": [
      "Epoch 59/100: 100%|██████████| 14/14 [00:22<00:00,  1.64s/it]\n"
     ]
    },
    {
     "name": "stdout",
     "output_type": "stream",
     "text": [
      "Epoch 59: Train Loss: 0.0702, Train Acc: 98.2701, Val Loss: 0.3975, Val Acc: 88.1250\n",
      "Epoch 58 - Metrics did not improve, wait: 2\n"
     ]
    },
    {
     "name": "stderr",
     "output_type": "stream",
     "text": [
      "Epoch 60/100: 100%|██████████| 14/14 [00:24<00:00,  1.76s/it]\n"
     ]
    },
    {
     "name": "stdout",
     "output_type": "stream",
     "text": [
      "Epoch 60: Train Loss: 0.0620, Train Acc: 98.5491, Val Loss: 0.3982, Val Acc: 87.9688\n",
      "Epoch 59 - Metrics did not improve, wait: 3\n"
     ]
    },
    {
     "name": "stderr",
     "output_type": "stream",
     "text": [
      "Epoch 61/100: 100%|██████████| 14/14 [00:24<00:00,  1.74s/it]\n"
     ]
    },
    {
     "name": "stdout",
     "output_type": "stream",
     "text": [
      "Epoch 61: Train Loss: 0.0579, Train Acc: 98.4265, Val Loss: 0.3968, Val Acc: 88.2812\n",
      "Epoch 60 - Metrics did not improve, wait: 4\n"
     ]
    },
    {
     "name": "stderr",
     "output_type": "stream",
     "text": [
      "Epoch 62/100: 100%|██████████| 14/14 [00:21<00:00,  1.57s/it]\n"
     ]
    },
    {
     "name": "stdout",
     "output_type": "stream",
     "text": [
      "Epoch 62: Train Loss: 0.0583, Train Acc: 98.4265, Val Loss: 0.3940, Val Acc: 88.4375\n",
      "Epoch 61 - Metrics did not improve, wait: 5\n"
     ]
    },
    {
     "name": "stderr",
     "output_type": "stream",
     "text": [
      "Epoch 63/100: 100%|██████████| 14/14 [00:20<00:00,  1.48s/it]\n"
     ]
    },
    {
     "name": "stdout",
     "output_type": "stream",
     "text": [
      "Epoch 63: Train Loss: 0.0494, Train Acc: 98.7165, Val Loss: 0.3934, Val Acc: 88.5938\n",
      "Learning rate changed from 0.0005 to 5e-05 at epoch 62\n",
      "Epoch 62 - Metrics did not improve, wait: 6\n"
     ]
    },
    {
     "name": "stderr",
     "output_type": "stream",
     "text": [
      "Epoch 64/100: 100%|██████████| 14/14 [00:21<00:00,  1.56s/it]\n"
     ]
    },
    {
     "name": "stdout",
     "output_type": "stream",
     "text": [
      "Epoch 64: Train Loss: 0.0570, Train Acc: 98.7165, Val Loss: 0.3927, Val Acc: 88.5938\n",
      "Epoch 63 - Metrics did not improve, wait: 7\n"
     ]
    },
    {
     "name": "stderr",
     "output_type": "stream",
     "text": [
      "Epoch 65/100: 100%|██████████| 14/14 [00:21<00:00,  1.51s/it]\n"
     ]
    },
    {
     "name": "stdout",
     "output_type": "stream",
     "text": [
      "Epoch 65: Train Loss: 0.0499, Train Acc: 98.7668, Val Loss: 0.3923, Val Acc: 88.5938\n",
      "Epoch 64 - Metrics did not improve, wait: 8\n"
     ]
    },
    {
     "name": "stderr",
     "output_type": "stream",
     "text": [
      "Epoch 66/100: 100%|██████████| 14/14 [00:21<00:00,  1.51s/it]\n"
     ]
    },
    {
     "name": "stdout",
     "output_type": "stream",
     "text": [
      "Epoch 66: Train Loss: 0.0509, Train Acc: 98.8730, Val Loss: 0.3917, Val Acc: 88.1250\n",
      "Epoch 65 - Metrics did not improve, wait: 9\n"
     ]
    },
    {
     "name": "stderr",
     "output_type": "stream",
     "text": [
      "Epoch 67/100: 100%|██████████| 14/14 [00:21<00:00,  1.55s/it]\n"
     ]
    },
    {
     "name": "stdout",
     "output_type": "stream",
     "text": [
      "Epoch 67: Train Loss: 0.0460, Train Acc: 99.1629, Val Loss: 0.3915, Val Acc: 88.2812\n",
      "Epoch 66 - Metrics did not improve, wait: 10\n",
      "Epoch 66 - Patience reached - Restoring weights\n"
     ]
    },
    {
     "name": "stderr",
     "output_type": "stream",
     "text": [
      "Epoch 1/100: 100%|██████████| 14/14 [00:46<00:00,  3.35s/it]\n"
     ]
    },
    {
     "name": "stdout",
     "output_type": "stream",
     "text": [
      "Epoch 1: Train Loss: 2.4420, Train Acc: 19.4013, Val Loss: 2.4068, Val Acc: 26.7188\n",
      "Epoch 0 - Keeping weights\n"
     ]
    },
    {
     "name": "stderr",
     "output_type": "stream",
     "text": [
      "Epoch 2/100: 100%|██████████| 14/14 [00:57<00:00,  4.09s/it]\n"
     ]
    },
    {
     "name": "stdout",
     "output_type": "stream",
     "text": [
      "Epoch 2: Train Loss: 2.2749, Train Acc: 29.0828, Val Loss: 2.2620, Val Acc: 36.5625\n"
     ]
    },
    {
     "name": "stderr",
     "output_type": "stream",
     "text": [
      "Epoch 3/100: 100%|██████████| 14/14 [00:50<00:00,  3.59s/it]\n"
     ]
    },
    {
     "name": "stdout",
     "output_type": "stream",
     "text": [
      "Epoch 3: Train Loss: 2.0701, Train Acc: 34.3119, Val Loss: 2.1169, Val Acc: 38.5938\n"
     ]
    },
    {
     "name": "stderr",
     "output_type": "stream",
     "text": [
      "Epoch 4/100: 100%|██████████| 14/14 [00:48<00:00,  3.45s/it]\n"
     ]
    },
    {
     "name": "stdout",
     "output_type": "stream",
     "text": [
      "Epoch 4: Train Loss: 1.8770, Train Acc: 38.7981, Val Loss: 1.9316, Val Acc: 44.3750\n"
     ]
    },
    {
     "name": "stderr",
     "output_type": "stream",
     "text": [
      "Epoch 5/100: 100%|██████████| 14/14 [00:46<00:00,  3.36s/it]\n"
     ]
    },
    {
     "name": "stdout",
     "output_type": "stream",
     "text": [
      "Epoch 5: Train Loss: 1.6800, Train Acc: 44.2724, Val Loss: 1.8029, Val Acc: 49.2188\n"
     ]
    },
    {
     "name": "stderr",
     "output_type": "stream",
     "text": [
      "Epoch 6/100: 100%|██████████| 14/14 [00:47<00:00,  3.40s/it]\n"
     ]
    },
    {
     "name": "stdout",
     "output_type": "stream",
     "text": [
      "Epoch 6: Train Loss: 1.4983, Train Acc: 52.1059, Val Loss: 1.6370, Val Acc: 54.3750\n"
     ]
    },
    {
     "name": "stderr",
     "output_type": "stream",
     "text": [
      "Epoch 7/100: 100%|██████████| 14/14 [00:50<00:00,  3.63s/it]\n"
     ]
    },
    {
     "name": "stdout",
     "output_type": "stream",
     "text": [
      "Epoch 7: Train Loss: 1.3983, Train Acc: 54.6180, Val Loss: 1.5723, Val Acc: 60.7812\n"
     ]
    },
    {
     "name": "stderr",
     "output_type": "stream",
     "text": [
      "Epoch 8/100: 100%|██████████| 14/14 [00:49<00:00,  3.53s/it]\n"
     ]
    },
    {
     "name": "stdout",
     "output_type": "stream",
     "text": [
      "Epoch 8: Train Loss: 1.2605, Train Acc: 59.5781, Val Loss: 1.4558, Val Acc: 65.1562\n"
     ]
    },
    {
     "name": "stderr",
     "output_type": "stream",
     "text": [
      "Epoch 9/100: 100%|██████████| 14/14 [00:47<00:00,  3.37s/it]\n"
     ]
    },
    {
     "name": "stdout",
     "output_type": "stream",
     "text": [
      "Epoch 9: Train Loss: 1.1449, Train Acc: 63.4450, Val Loss: 1.3959, Val Acc: 63.7500\n"
     ]
    },
    {
     "name": "stderr",
     "output_type": "stream",
     "text": [
      "Epoch 10/100: 100%|██████████| 14/14 [00:45<00:00,  3.24s/it]\n"
     ]
    },
    {
     "name": "stdout",
     "output_type": "stream",
     "text": [
      "Epoch 10: Train Loss: 1.0724, Train Acc: 65.4594, Val Loss: 1.3118, Val Acc: 69.8438\n"
     ]
    },
    {
     "name": "stderr",
     "output_type": "stream",
     "text": [
      "Epoch 11/100: 100%|██████████| 14/14 [00:45<00:00,  3.26s/it]\n"
     ]
    },
    {
     "name": "stdout",
     "output_type": "stream",
     "text": [
      "Epoch 11: Train Loss: 1.0107, Train Acc: 67.0274, Val Loss: 1.2442, Val Acc: 68.4375\n",
      "Epoch 10 - Metrics did not improve, wait: 1\n"
     ]
    },
    {
     "name": "stderr",
     "output_type": "stream",
     "text": [
      "Epoch 12/100: 100%|██████████| 14/14 [47:18<00:00, 202.74s/it]  \n"
     ]
    },
    {
     "name": "stdout",
     "output_type": "stream",
     "text": [
      "Epoch 12: Train Loss: 0.8986, Train Acc: 70.9556, Val Loss: 1.2454, Val Acc: 68.7500\n",
      "Epoch 11 - Metrics did not improve, wait: 2\n"
     ]
    },
    {
     "name": "stderr",
     "output_type": "stream",
     "text": [
      "Epoch 13/100: 100%|██████████| 14/14 [00:41<00:00,  3.00s/it]\n"
     ]
    },
    {
     "name": "stdout",
     "output_type": "stream",
     "text": [
      "Epoch 13: Train Loss: 0.8510, Train Acc: 72.8365, Val Loss: 1.1556, Val Acc: 74.5312\n",
      "Epoch 12 - Best metrics: 74.53125 - Keeping weights\n"
     ]
    },
    {
     "name": "stderr",
     "output_type": "stream",
     "text": [
      "Epoch 14/100: 100%|██████████| 14/14 [00:40<00:00,  2.89s/it]\n"
     ]
    },
    {
     "name": "stdout",
     "output_type": "stream",
     "text": [
      "Epoch 14: Train Loss: 0.7869, Train Acc: 74.0587, Val Loss: 1.0884, Val Acc: 77.0312\n",
      "Epoch 13 - Best metrics: 77.03125 - Keeping weights\n"
     ]
    },
    {
     "name": "stderr",
     "output_type": "stream",
     "text": [
      "Epoch 15/100: 100%|██████████| 14/14 [00:40<00:00,  2.89s/it]\n"
     ]
    },
    {
     "name": "stdout",
     "output_type": "stream",
     "text": [
      "Epoch 15: Train Loss: 0.7069, Train Acc: 77.0721, Val Loss: 1.0139, Val Acc: 75.9375\n",
      "Epoch 14 - Metrics did not improve, wait: 1\n"
     ]
    },
    {
     "name": "stderr",
     "output_type": "stream",
     "text": [
      "Epoch 16/100: 100%|██████████| 14/14 [00:40<00:00,  2.92s/it]\n"
     ]
    },
    {
     "name": "stdout",
     "output_type": "stream",
     "text": [
      "Epoch 16: Train Loss: 0.6580, Train Acc: 77.9869, Val Loss: 0.9716, Val Acc: 76.8750\n",
      "Epoch 15 - Metrics did not improve, wait: 2\n"
     ]
    },
    {
     "name": "stderr",
     "output_type": "stream",
     "text": [
      "Epoch 17/100: 100%|██████████| 14/14 [00:40<00:00,  2.89s/it]\n"
     ]
    },
    {
     "name": "stdout",
     "output_type": "stream",
     "text": [
      "Epoch 17: Train Loss: 0.6196, Train Acc: 80.0461, Val Loss: 0.8771, Val Acc: 78.1250\n",
      "Epoch 16 - Best metrics: 78.125 - Keeping weights\n"
     ]
    },
    {
     "name": "stderr",
     "output_type": "stream",
     "text": [
      "Epoch 18/100: 100%|██████████| 14/14 [00:40<00:00,  2.92s/it]\n"
     ]
    },
    {
     "name": "stdout",
     "output_type": "stream",
     "text": [
      "Epoch 18: Train Loss: 0.5585, Train Acc: 82.4676, Val Loss: 0.9062, Val Acc: 78.4375\n",
      "Epoch 17 - Best metrics: 78.4375 - Keeping weights\n"
     ]
    },
    {
     "name": "stderr",
     "output_type": "stream",
     "text": [
      "Epoch 19/100: 100%|██████████| 14/14 [00:40<00:00,  2.88s/it]\n"
     ]
    },
    {
     "name": "stdout",
     "output_type": "stream",
     "text": [
      "Epoch 19: Train Loss: 0.5253, Train Acc: 83.2269, Val Loss: 0.8425, Val Acc: 82.1875\n",
      "Epoch 18 - Best metrics: 82.1875 - Keeping weights\n"
     ]
    },
    {
     "name": "stderr",
     "output_type": "stream",
     "text": [
      "Epoch 20/100: 100%|██████████| 14/14 [00:40<00:00,  2.91s/it]\n"
     ]
    },
    {
     "name": "stdout",
     "output_type": "stream",
     "text": [
      "Epoch 20: Train Loss: 0.4762, Train Acc: 84.8672, Val Loss: 0.8140, Val Acc: 80.7812\n",
      "Epoch 19 - Metrics did not improve, wait: 1\n"
     ]
    },
    {
     "name": "stderr",
     "output_type": "stream",
     "text": [
      "Epoch 21/100: 100%|██████████| 14/14 [00:40<00:00,  2.91s/it]\n"
     ]
    },
    {
     "name": "stdout",
     "output_type": "stream",
     "text": [
      "Epoch 21: Train Loss: 0.4200, Train Acc: 87.2274, Val Loss: 0.7323, Val Acc: 82.9688\n",
      "Epoch 20 - Best metrics: 82.96875 - Keeping weights\n"
     ]
    },
    {
     "name": "stderr",
     "output_type": "stream",
     "text": [
      "Epoch 22/100: 100%|██████████| 14/14 [00:42<00:00,  3.00s/it]\n"
     ]
    },
    {
     "name": "stdout",
     "output_type": "stream",
     "text": [
      "Epoch 22: Train Loss: 0.3773, Train Acc: 87.6738, Val Loss: 0.7021, Val Acc: 83.4375\n",
      "Epoch 21 - Best metrics: 83.4375 - Keeping weights\n"
     ]
    },
    {
     "name": "stderr",
     "output_type": "stream",
     "text": [
      "Epoch 23/100: 100%|██████████| 14/14 [08:47<00:00, 37.64s/it] \n"
     ]
    },
    {
     "name": "stdout",
     "output_type": "stream",
     "text": [
      "Epoch 23: Train Loss: 0.3488, Train Acc: 89.2921, Val Loss: 0.6917, Val Acc: 82.8125\n",
      "Epoch 22 - Metrics did not improve, wait: 1\n"
     ]
    },
    {
     "name": "stderr",
     "output_type": "stream",
     "text": [
      "Epoch 24/100: 100%|██████████| 14/14 [00:46<00:00,  3.36s/it]\n"
     ]
    },
    {
     "name": "stdout",
     "output_type": "stream",
     "text": [
      "Epoch 24: Train Loss: 0.3174, Train Acc: 90.2234, Val Loss: 0.6555, Val Acc: 83.2812\n",
      "Epoch 23 - Metrics did not improve, wait: 2\n"
     ]
    },
    {
     "name": "stderr",
     "output_type": "stream",
     "text": [
      "Epoch 25/100: 100%|██████████| 14/14 [00:45<00:00,  3.25s/it]\n"
     ]
    },
    {
     "name": "stdout",
     "output_type": "stream",
     "text": [
      "Epoch 25: Train Loss: 0.2653, Train Acc: 91.6075, Val Loss: 0.6195, Val Acc: 85.0000\n",
      "Epoch 24 - Best metrics: 85.0 - Keeping weights\n"
     ]
    },
    {
     "name": "stderr",
     "output_type": "stream",
     "text": [
      "Epoch 26/100: 100%|██████████| 14/14 [00:44<00:00,  3.21s/it]\n"
     ]
    },
    {
     "name": "stdout",
     "output_type": "stream",
     "text": [
      "Epoch 26: Train Loss: 0.2427, Train Acc: 92.8517, Val Loss: 0.5824, Val Acc: 85.0000\n",
      "Epoch 25 - Metrics did not improve, wait: 1\n"
     ]
    },
    {
     "name": "stderr",
     "output_type": "stream",
     "text": [
      "Epoch 27/100: 100%|██████████| 14/14 [00:44<00:00,  3.20s/it]\n"
     ]
    },
    {
     "name": "stdout",
     "output_type": "stream",
     "text": [
      "Epoch 27: Train Loss: 0.2341, Train Acc: 92.7794, Val Loss: 0.5742, Val Acc: 85.9375\n",
      "Epoch 26 - Best metrics: 85.9375 - Keeping weights\n"
     ]
    },
    {
     "name": "stderr",
     "output_type": "stream",
     "text": [
      "Epoch 28/100: 100%|██████████| 14/14 [00:44<00:00,  3.19s/it]\n"
     ]
    },
    {
     "name": "stdout",
     "output_type": "stream",
     "text": [
      "Epoch 28: Train Loss: 0.1993, Train Acc: 93.4884, Val Loss: 0.5710, Val Acc: 84.3750\n",
      "Epoch 27 - Metrics did not improve, wait: 1\n"
     ]
    },
    {
     "name": "stderr",
     "output_type": "stream",
     "text": [
      "Epoch 29/100: 100%|██████████| 14/14 [00:44<00:00,  3.17s/it]\n"
     ]
    },
    {
     "name": "stdout",
     "output_type": "stream",
     "text": [
      "Epoch 29: Train Loss: 0.1978, Train Acc: 93.8287, Val Loss: 0.5802, Val Acc: 82.8125\n",
      "Epoch 28 - Metrics did not improve, wait: 2\n"
     ]
    },
    {
     "name": "stderr",
     "output_type": "stream",
     "text": [
      "Epoch 30/100: 100%|██████████| 14/14 [00:43<00:00,  3.14s/it]\n"
     ]
    },
    {
     "name": "stdout",
     "output_type": "stream",
     "text": [
      "Epoch 30: Train Loss: 0.1850, Train Acc: 94.4535, Val Loss: 0.5399, Val Acc: 84.0625\n",
      "Epoch 29 - Metrics did not improve, wait: 3\n"
     ]
    },
    {
     "name": "stderr",
     "output_type": "stream",
     "text": [
      "Epoch 31/100: 100%|██████████| 14/14 [00:44<00:00,  3.20s/it]\n"
     ]
    },
    {
     "name": "stdout",
     "output_type": "stream",
     "text": [
      "Epoch 31: Train Loss: 0.1663, Train Acc: 94.6099, Val Loss: 0.5260, Val Acc: 86.4062\n",
      "Epoch 30 - Best metrics: 86.40625 - Keeping weights\n"
     ]
    },
    {
     "name": "stderr",
     "output_type": "stream",
     "text": [
      "Epoch 32/100: 100%|██████████| 14/14 [00:44<00:00,  3.17s/it]\n"
     ]
    },
    {
     "name": "stdout",
     "output_type": "stream",
     "text": [
      "Epoch 32: Train Loss: 0.1437, Train Acc: 95.1286, Val Loss: 0.4959, Val Acc: 86.4062\n",
      "Epoch 31 - Metrics did not improve, wait: 1\n"
     ]
    },
    {
     "name": "stderr",
     "output_type": "stream",
     "text": [
      "Epoch 33/100: 100%|██████████| 14/14 [00:44<00:00,  3.15s/it]\n"
     ]
    },
    {
     "name": "stdout",
     "output_type": "stream",
     "text": [
      "Epoch 33: Train Loss: 0.1284, Train Acc: 95.8038, Val Loss: 0.4998, Val Acc: 84.5312\n",
      "Epoch 32 - Metrics did not improve, wait: 2\n"
     ]
    },
    {
     "name": "stderr",
     "output_type": "stream",
     "text": [
      "Epoch 34/100: 100%|██████████| 14/14 [00:44<00:00,  3.21s/it]\n"
     ]
    },
    {
     "name": "stdout",
     "output_type": "stream",
     "text": [
      "Epoch 34: Train Loss: 0.1254, Train Acc: 96.4789, Val Loss: 0.4803, Val Acc: 86.7188\n",
      "Epoch 33 - Best metrics: 86.71875 - Keeping weights\n"
     ]
    },
    {
     "name": "stderr",
     "output_type": "stream",
     "text": [
      "Epoch 35/100: 100%|██████████| 14/14 [14:17<00:00, 61.22s/it] \n"
     ]
    },
    {
     "name": "stdout",
     "output_type": "stream",
     "text": [
      "Epoch 35: Train Loss: 0.1045, Train Acc: 97.0424, Val Loss: 0.4666, Val Acc: 84.8438\n",
      "Epoch 34 - Metrics did not improve, wait: 1\n"
     ]
    },
    {
     "name": "stderr",
     "output_type": "stream",
     "text": [
      "Epoch 36/100: 100%|██████████| 14/14 [00:47<00:00,  3.37s/it]\n"
     ]
    },
    {
     "name": "stdout",
     "output_type": "stream",
     "text": [
      "Epoch 36: Train Loss: 0.1077, Train Acc: 96.8640, Val Loss: 0.4472, Val Acc: 85.9375\n",
      "Epoch 35 - Metrics did not improve, wait: 2\n"
     ]
    },
    {
     "name": "stderr",
     "output_type": "stream",
     "text": [
      "Epoch 37/100: 100%|██████████| 14/14 [00:48<00:00,  3.46s/it]\n"
     ]
    },
    {
     "name": "stdout",
     "output_type": "stream",
     "text": [
      "Epoch 37: Train Loss: 0.0974, Train Acc: 97.2098, Val Loss: 0.4351, Val Acc: 87.6562\n",
      "Epoch 36 - Best metrics: 87.65625 - Keeping weights\n"
     ]
    },
    {
     "name": "stderr",
     "output_type": "stream",
     "text": [
      "Epoch 38/100: 100%|██████████| 14/14 [00:43<00:00,  3.11s/it]\n"
     ]
    },
    {
     "name": "stdout",
     "output_type": "stream",
     "text": [
      "Epoch 38: Train Loss: 0.0801, Train Acc: 97.6901, Val Loss: 0.4430, Val Acc: 85.6250\n",
      "Epoch 37 - Metrics did not improve, wait: 1\n"
     ]
    },
    {
     "name": "stderr",
     "output_type": "stream",
     "text": [
      "Epoch 39/100: 100%|██████████| 14/14 [00:41<00:00,  2.99s/it]\n"
     ]
    },
    {
     "name": "stdout",
     "output_type": "stream",
     "text": [
      "Epoch 39: Train Loss: 0.0831, Train Acc: 97.6508, Val Loss: 0.4395, Val Acc: 87.8125\n",
      "Epoch 38 - Best metrics: 87.8125 - Keeping weights\n"
     ]
    },
    {
     "name": "stderr",
     "output_type": "stream",
     "text": [
      "Epoch 40/100: 100%|██████████| 14/14 [00:42<00:00,  3.02s/it]\n"
     ]
    },
    {
     "name": "stdout",
     "output_type": "stream",
     "text": [
      "Epoch 40: Train Loss: 0.0811, Train Acc: 97.8630, Val Loss: 0.4373, Val Acc: 86.5625\n",
      "Epoch 39 - Metrics did not improve, wait: 1\n"
     ]
    },
    {
     "name": "stderr",
     "output_type": "stream",
     "text": [
      "Epoch 41/100: 100%|██████████| 14/14 [00:46<00:00,  3.32s/it]\n"
     ]
    },
    {
     "name": "stdout",
     "output_type": "stream",
     "text": [
      "Epoch 41: Train Loss: 0.0735, Train Acc: 98.0414, Val Loss: 0.4244, Val Acc: 87.6562\n",
      "Epoch 40 - Metrics did not improve, wait: 2\n"
     ]
    },
    {
     "name": "stderr",
     "output_type": "stream",
     "text": [
      "Epoch 42/100: 100%|██████████| 14/14 [01:19<00:00,  5.69s/it]\n"
     ]
    },
    {
     "name": "stdout",
     "output_type": "stream",
     "text": [
      "Epoch 42: Train Loss: 0.0649, Train Acc: 98.3817, Val Loss: 0.4050, Val Acc: 87.9688\n",
      "Epoch 41 - Best metrics: 87.96875 - Keeping weights\n"
     ]
    },
    {
     "name": "stderr",
     "output_type": "stream",
     "text": [
      "Epoch 43/100: 100%|██████████| 14/14 [00:51<00:00,  3.66s/it]\n"
     ]
    },
    {
     "name": "stdout",
     "output_type": "stream",
     "text": [
      "Epoch 43: Train Loss: 0.0509, Train Acc: 98.9397, Val Loss: 0.4076, Val Acc: 87.6562\n",
      "Epoch 42 - Metrics did not improve, wait: 1\n"
     ]
    },
    {
     "name": "stderr",
     "output_type": "stream",
     "text": [
      "Epoch 44/100: 100%|██████████| 14/14 [00:47<00:00,  3.37s/it]\n"
     ]
    },
    {
     "name": "stdout",
     "output_type": "stream",
     "text": [
      "Epoch 44: Train Loss: 0.0486, Train Acc: 98.8839, Val Loss: 0.3947, Val Acc: 88.7500\n",
      "Epoch 43 - Best metrics: 88.75 - Keeping weights\n"
     ]
    },
    {
     "name": "stderr",
     "output_type": "stream",
     "text": [
      "Epoch 45/100: 100%|██████████| 14/14 [00:46<00:00,  3.33s/it]\n"
     ]
    },
    {
     "name": "stdout",
     "output_type": "stream",
     "text": [
      "Epoch 45: Train Loss: 0.0369, Train Acc: 99.4420, Val Loss: 0.4026, Val Acc: 87.6562\n",
      "Epoch 44 - Metrics did not improve, wait: 1\n"
     ]
    },
    {
     "name": "stderr",
     "output_type": "stream",
     "text": [
      "Epoch 46/100: 100%|██████████| 14/14 [00:46<00:00,  3.35s/it]\n"
     ]
    },
    {
     "name": "stdout",
     "output_type": "stream",
     "text": [
      "Epoch 46: Train Loss: 0.0465, Train Acc: 98.8281, Val Loss: 0.3947, Val Acc: 87.6562\n",
      "Epoch 45 - Metrics did not improve, wait: 2\n"
     ]
    },
    {
     "name": "stderr",
     "output_type": "stream",
     "text": [
      "Epoch 47/100: 100%|██████████| 14/14 [00:47<00:00,  3.37s/it]\n"
     ]
    },
    {
     "name": "stdout",
     "output_type": "stream",
     "text": [
      "Epoch 47: Train Loss: 0.0398, Train Acc: 99.2691, Val Loss: 0.3923, Val Acc: 87.8125\n",
      "Epoch 46 - Metrics did not improve, wait: 3\n"
     ]
    },
    {
     "name": "stderr",
     "output_type": "stream",
     "text": [
      "Epoch 48/100: 100%|██████████| 14/14 [00:48<00:00,  3.48s/it]\n"
     ]
    },
    {
     "name": "stdout",
     "output_type": "stream",
     "text": [
      "Epoch 48: Train Loss: 0.0351, Train Acc: 99.3807, Val Loss: 0.3945, Val Acc: 87.8125\n",
      "Epoch 47 - Metrics did not improve, wait: 4\n"
     ]
    },
    {
     "name": "stderr",
     "output_type": "stream",
     "text": [
      "Epoch 49/100: 100%|██████████| 14/14 [00:46<00:00,  3.30s/it]\n"
     ]
    },
    {
     "name": "stdout",
     "output_type": "stream",
     "text": [
      "Epoch 49: Train Loss: 0.0400, Train Acc: 98.8226, Val Loss: 0.4014, Val Acc: 86.7188\n",
      "Epoch 48 - Metrics did not improve, wait: 5\n"
     ]
    },
    {
     "name": "stderr",
     "output_type": "stream",
     "text": [
      "Epoch 50/100: 100%|██████████| 14/14 [00:47<00:00,  3.41s/it]\n"
     ]
    },
    {
     "name": "stdout",
     "output_type": "stream",
     "text": [
      "Epoch 50: Train Loss: 0.0372, Train Acc: 98.9288, Val Loss: 0.3831, Val Acc: 87.0312\n",
      "Learning rate changed from 0.005 to 0.0005 at epoch 49\n",
      "Epoch 49 - Metrics did not improve, wait: 6\n"
     ]
    },
    {
     "name": "stderr",
     "output_type": "stream",
     "text": [
      "Epoch 51/100: 100%|██████████| 14/14 [00:50<00:00,  3.60s/it]\n"
     ]
    },
    {
     "name": "stdout",
     "output_type": "stream",
     "text": [
      "Epoch 51: Train Loss: 0.0266, Train Acc: 99.3862, Val Loss: 0.3733, Val Acc: 88.1250\n",
      "Epoch 50 - Metrics did not improve, wait: 7\n"
     ]
    },
    {
     "name": "stderr",
     "output_type": "stream",
     "text": [
      "Epoch 52/100: 100%|██████████| 14/14 [00:48<00:00,  3.47s/it]\n"
     ]
    },
    {
     "name": "stdout",
     "output_type": "stream",
     "text": [
      "Epoch 52: Train Loss: 0.0273, Train Acc: 99.4978, Val Loss: 0.3711, Val Acc: 87.9688\n",
      "Epoch 51 - Metrics did not improve, wait: 8\n"
     ]
    },
    {
     "name": "stderr",
     "output_type": "stream",
     "text": [
      "Epoch 53/100: 100%|██████████| 14/14 [00:50<00:00,  3.62s/it]\n"
     ]
    },
    {
     "name": "stdout",
     "output_type": "stream",
     "text": [
      "Epoch 53: Train Loss: 0.0232, Train Acc: 99.6094, Val Loss: 0.3707, Val Acc: 87.9688\n",
      "Epoch 52 - Metrics did not improve, wait: 9\n"
     ]
    },
    {
     "name": "stderr",
     "output_type": "stream",
     "text": [
      "Epoch 54/100: 100%|██████████| 14/14 [00:48<00:00,  3.49s/it]\n"
     ]
    },
    {
     "name": "stdout",
     "output_type": "stream",
     "text": [
      "Epoch 54: Train Loss: 0.0228, Train Acc: 99.7155, Val Loss: 0.3687, Val Acc: 87.8125\n",
      "Epoch 53 - Metrics did not improve, wait: 10\n",
      "Epoch 53 - Patience reached - Restoring weights\n"
     ]
    },
    {
     "name": "stderr",
     "output_type": "stream",
     "text": [
      "Epoch 1/100: 100%|██████████| 7/7 [00:45<00:00,  6.46s/it]\n"
     ]
    },
    {
     "name": "stdout",
     "output_type": "stream",
     "text": [
      "Epoch 1: Train Loss: 2.5131, Train Acc: 14.7118, Val Loss: 2.4933, Val Acc: 12.1094\n",
      "Epoch 0 - Keeping weights\n"
     ]
    },
    {
     "name": "stderr",
     "output_type": "stream",
     "text": [
      "Epoch 2/100: 100%|██████████| 7/7 [00:43<00:00,  6.22s/it]\n"
     ]
    },
    {
     "name": "stdout",
     "output_type": "stream",
     "text": [
      "Epoch 2: Train Loss: 2.4024, Train Acc: 19.2962, Val Loss: 2.4309, Val Acc: 21.7448\n"
     ]
    },
    {
     "name": "stderr",
     "output_type": "stream",
     "text": [
      "Epoch 3/100: 100%|██████████| 7/7 [00:43<00:00,  6.19s/it]\n"
     ]
    },
    {
     "name": "stdout",
     "output_type": "stream",
     "text": [
      "Epoch 3: Train Loss: 2.3481, Train Acc: 26.0774, Val Loss: 2.4008, Val Acc: 31.7708\n"
     ]
    },
    {
     "name": "stderr",
     "output_type": "stream",
     "text": [
      "Epoch 4/100: 100%|██████████| 7/7 [00:43<00:00,  6.24s/it]\n"
     ]
    },
    {
     "name": "stdout",
     "output_type": "stream",
     "text": [
      "Epoch 4: Train Loss: 2.2592, Train Acc: 31.1139, Val Loss: 2.3302, Val Acc: 31.1198\n"
     ]
    },
    {
     "name": "stderr",
     "output_type": "stream",
     "text": [
      "Epoch 5/100: 100%|██████████| 7/7 [00:43<00:00,  6.20s/it]\n"
     ]
    },
    {
     "name": "stdout",
     "output_type": "stream",
     "text": [
      "Epoch 5: Train Loss: 2.1466, Train Acc: 31.7475, Val Loss: 2.2366, Val Acc: 31.6406\n"
     ]
    },
    {
     "name": "stderr",
     "output_type": "stream",
     "text": [
      "Epoch 6/100: 100%|██████████| 7/7 [00:42<00:00,  6.07s/it]\n"
     ]
    },
    {
     "name": "stdout",
     "output_type": "stream",
     "text": [
      "Epoch 6: Train Loss: 2.0400, Train Acc: 34.9623, Val Loss: 2.1288, Val Acc: 32.9427\n"
     ]
    },
    {
     "name": "stderr",
     "output_type": "stream",
     "text": [
      "Epoch 7/100: 100%|██████████| 7/7 [00:42<00:00,  6.07s/it]\n"
     ]
    },
    {
     "name": "stdout",
     "output_type": "stream",
     "text": [
      "Epoch 7: Train Loss: 1.9234, Train Acc: 37.3456, Val Loss: 2.0574, Val Acc: 37.8906\n"
     ]
    },
    {
     "name": "stderr",
     "output_type": "stream",
     "text": [
      "Epoch 8/100: 100%|██████████| 7/7 [00:44<00:00,  6.37s/it]\n"
     ]
    },
    {
     "name": "stdout",
     "output_type": "stream",
     "text": [
      "Epoch 8: Train Loss: 1.8332, Train Acc: 40.8774, Val Loss: 1.9625, Val Acc: 41.0156\n"
     ]
    },
    {
     "name": "stderr",
     "output_type": "stream",
     "text": [
      "Epoch 9/100: 100%|██████████| 7/7 [00:43<00:00,  6.26s/it]\n"
     ]
    },
    {
     "name": "stdout",
     "output_type": "stream",
     "text": [
      "Epoch 9: Train Loss: 1.7189, Train Acc: 43.7016, Val Loss: 1.8704, Val Acc: 43.4896\n"
     ]
    },
    {
     "name": "stderr",
     "output_type": "stream",
     "text": [
      "Epoch 10/100: 100%|██████████| 7/7 [00:42<00:00,  6.13s/it]\n"
     ]
    },
    {
     "name": "stdout",
     "output_type": "stream",
     "text": [
      "Epoch 10: Train Loss: 1.6522, Train Acc: 46.1047, Val Loss: 1.7751, Val Acc: 49.0885\n"
     ]
    },
    {
     "name": "stderr",
     "output_type": "stream",
     "text": [
      "Epoch 11/100: 100%|██████████| 7/7 [00:44<00:00,  6.40s/it]\n"
     ]
    },
    {
     "name": "stdout",
     "output_type": "stream",
     "text": [
      "Epoch 11: Train Loss: 1.5352, Train Acc: 49.8541, Val Loss: 1.7101, Val Acc: 54.2969\n",
      "Epoch 10 - Best metrics: 54.296875 - Keeping weights\n"
     ]
    },
    {
     "name": "stderr",
     "output_type": "stream",
     "text": [
      "Epoch 12/100: 100%|██████████| 7/7 [00:44<00:00,  6.31s/it]\n"
     ]
    },
    {
     "name": "stdout",
     "output_type": "stream",
     "text": [
      "Epoch 12: Train Loss: 1.4371, Train Acc: 54.5198, Val Loss: 1.6343, Val Acc: 59.1146\n",
      "Epoch 11 - Best metrics: 59.114583333333336 - Keeping weights\n"
     ]
    },
    {
     "name": "stderr",
     "output_type": "stream",
     "text": [
      "Epoch 13/100: 100%|██████████| 7/7 [00:45<00:00,  6.45s/it]\n"
     ]
    },
    {
     "name": "stdout",
     "output_type": "stream",
     "text": [
      "Epoch 13: Train Loss: 1.3629, Train Acc: 56.1868, Val Loss: 1.6059, Val Acc: 57.5521\n",
      "Epoch 12 - Metrics did not improve, wait: 1\n"
     ]
    },
    {
     "name": "stderr",
     "output_type": "stream",
     "text": [
      "Epoch 14/100: 100%|██████████| 7/7 [00:43<00:00,  6.21s/it]\n"
     ]
    },
    {
     "name": "stdout",
     "output_type": "stream",
     "text": [
      "Epoch 14: Train Loss: 1.3156, Train Acc: 57.6646, Val Loss: 1.5282, Val Acc: 62.7604\n",
      "Epoch 13 - Best metrics: 62.760416666666664 - Keeping weights\n"
     ]
    },
    {
     "name": "stderr",
     "output_type": "stream",
     "text": [
      "Epoch 15/100: 100%|██████████| 7/7 [00:40<00:00,  5.77s/it]\n"
     ]
    },
    {
     "name": "stdout",
     "output_type": "stream",
     "text": [
      "Epoch 15: Train Loss: 1.2497, Train Acc: 61.6139, Val Loss: 1.4891, Val Acc: 65.2344\n",
      "Epoch 14 - Best metrics: 65.234375 - Keeping weights\n"
     ]
    },
    {
     "name": "stderr",
     "output_type": "stream",
     "text": [
      "Epoch 16/100: 100%|██████████| 7/7 [00:43<00:00,  6.26s/it]\n"
     ]
    },
    {
     "name": "stdout",
     "output_type": "stream",
     "text": [
      "Epoch 16: Train Loss: 1.1457, Train Acc: 64.7206, Val Loss: 1.3929, Val Acc: 65.6250\n",
      "Epoch 15 - Best metrics: 65.625 - Keeping weights\n"
     ]
    },
    {
     "name": "stderr",
     "output_type": "stream",
     "text": [
      "Epoch 17/100: 100%|██████████| 7/7 [00:41<00:00,  5.94s/it]\n"
     ]
    },
    {
     "name": "stdout",
     "output_type": "stream",
     "text": [
      "Epoch 17: Train Loss: 1.1198, Train Acc: 65.2787, Val Loss: 1.3572, Val Acc: 68.3594\n",
      "Epoch 16 - Best metrics: 68.359375 - Keeping weights\n"
     ]
    },
    {
     "name": "stderr",
     "output_type": "stream",
     "text": [
      "Epoch 18/100: 100%|██████████| 7/7 [00:42<00:00,  6.04s/it]\n"
     ]
    },
    {
     "name": "stdout",
     "output_type": "stream",
     "text": [
      "Epoch 18: Train Loss: 1.0560, Train Acc: 65.5287, Val Loss: 1.3079, Val Acc: 69.4010\n",
      "Epoch 17 - Best metrics: 69.40104166666667 - Keeping weights\n"
     ]
    },
    {
     "name": "stderr",
     "output_type": "stream",
     "text": [
      "Epoch 19/100: 100%|██████████| 7/7 [00:42<00:00,  6.10s/it]\n"
     ]
    },
    {
     "name": "stdout",
     "output_type": "stream",
     "text": [
      "Epoch 19: Train Loss: 1.0235, Train Acc: 67.3201, Val Loss: 1.2872, Val Acc: 68.8802\n",
      "Epoch 18 - Metrics did not improve, wait: 1\n"
     ]
    },
    {
     "name": "stderr",
     "output_type": "stream",
     "text": [
      "Epoch 20/100: 100%|██████████| 7/7 [00:43<00:00,  6.20s/it]\n"
     ]
    },
    {
     "name": "stdout",
     "output_type": "stream",
     "text": [
      "Epoch 20: Train Loss: 0.9686, Train Acc: 68.8790, Val Loss: 1.2686, Val Acc: 71.2240\n",
      "Epoch 19 - Best metrics: 71.22395833333333 - Keeping weights\n"
     ]
    },
    {
     "name": "stderr",
     "output_type": "stream",
     "text": [
      "Epoch 21/100: 100%|██████████| 7/7 [00:42<00:00,  6.12s/it]\n"
     ]
    },
    {
     "name": "stdout",
     "output_type": "stream",
     "text": [
      "Epoch 21: Train Loss: 0.9216, Train Acc: 70.1011, Val Loss: 1.2090, Val Acc: 68.8802\n",
      "Epoch 20 - Metrics did not improve, wait: 1\n"
     ]
    },
    {
     "name": "stderr",
     "output_type": "stream",
     "text": [
      "Epoch 22/100: 100%|██████████| 7/7 [00:43<00:00,  6.19s/it]\n"
     ]
    },
    {
     "name": "stdout",
     "output_type": "stream",
     "text": [
      "Epoch 22: Train Loss: 0.8948, Train Acc: 71.7392, Val Loss: 1.1695, Val Acc: 74.0885\n",
      "Epoch 21 - Best metrics: 74.08854166666667 - Keeping weights\n"
     ]
    },
    {
     "name": "stderr",
     "output_type": "stream",
     "text": [
      "Epoch 23/100: 100%|██████████| 7/7 [00:43<00:00,  6.19s/it]\n"
     ]
    },
    {
     "name": "stdout",
     "output_type": "stream",
     "text": [
      "Epoch 23: Train Loss: 0.8351, Train Acc: 73.4133, Val Loss: 1.1431, Val Acc: 73.5677\n",
      "Epoch 22 - Metrics did not improve, wait: 1\n"
     ]
    },
    {
     "name": "stderr",
     "output_type": "stream",
     "text": [
      "Epoch 24/100: 100%|██████████| 7/7 [00:43<00:00,  6.24s/it]\n"
     ]
    },
    {
     "name": "stdout",
     "output_type": "stream",
     "text": [
      "Epoch 24: Train Loss: 0.8172, Train Acc: 73.2586, Val Loss: 1.0980, Val Acc: 73.9583\n",
      "Epoch 23 - Metrics did not improve, wait: 2\n"
     ]
    },
    {
     "name": "stderr",
     "output_type": "stream",
     "text": [
      "Epoch 25/100: 100%|██████████| 7/7 [00:43<00:00,  6.26s/it]\n"
     ]
    },
    {
     "name": "stdout",
     "output_type": "stream",
     "text": [
      "Epoch 25: Train Loss: 0.7611, Train Acc: 75.4724, Val Loss: 1.0852, Val Acc: 73.4375\n",
      "Epoch 24 - Metrics did not improve, wait: 3\n"
     ]
    },
    {
     "name": "stderr",
     "output_type": "stream",
     "text": [
      "Epoch 26/100: 100%|██████████| 7/7 [00:41<00:00,  5.95s/it]\n"
     ]
    },
    {
     "name": "stdout",
     "output_type": "stream",
     "text": [
      "Epoch 26: Train Loss: 0.7343, Train Acc: 76.9360, Val Loss: 1.0456, Val Acc: 76.0417\n",
      "Epoch 25 - Best metrics: 76.04166666666667 - Keeping weights\n"
     ]
    },
    {
     "name": "stderr",
     "output_type": "stream",
     "text": [
      "Epoch 27/100: 100%|██████████| 7/7 [00:41<00:00,  5.87s/it]\n"
     ]
    },
    {
     "name": "stdout",
     "output_type": "stream",
     "text": [
      "Epoch 27: Train Loss: 0.7076, Train Acc: 77.5767, Val Loss: 1.0085, Val Acc: 74.3490\n",
      "Epoch 26 - Metrics did not improve, wait: 1\n"
     ]
    },
    {
     "name": "stderr",
     "output_type": "stream",
     "text": [
      "Epoch 28/100: 100%|██████████| 7/7 [00:40<00:00,  5.73s/it]\n"
     ]
    },
    {
     "name": "stdout",
     "output_type": "stream",
     "text": [
      "Epoch 28: Train Loss: 0.6657, Train Acc: 79.0474, Val Loss: 0.9833, Val Acc: 74.6094\n",
      "Epoch 27 - Metrics did not improve, wait: 2\n"
     ]
    },
    {
     "name": "stderr",
     "output_type": "stream",
     "text": [
      "Epoch 29/100: 100%|██████████| 7/7 [00:42<00:00,  6.07s/it]\n"
     ]
    },
    {
     "name": "stdout",
     "output_type": "stream",
     "text": [
      "Epoch 29: Train Loss: 0.6534, Train Acc: 79.1717, Val Loss: 0.9639, Val Acc: 78.1250\n",
      "Epoch 28 - Best metrics: 78.125 - Keeping weights\n"
     ]
    },
    {
     "name": "stderr",
     "output_type": "stream",
     "text": [
      "Epoch 30/100: 100%|██████████| 7/7 [00:41<00:00,  5.91s/it]\n"
     ]
    },
    {
     "name": "stdout",
     "output_type": "stream",
     "text": [
      "Epoch 30: Train Loss: 0.6028, Train Acc: 80.7448, Val Loss: 0.9315, Val Acc: 77.3438\n",
      "Epoch 29 - Metrics did not improve, wait: 1\n"
     ]
    },
    {
     "name": "stderr",
     "output_type": "stream",
     "text": [
      "Epoch 31/100: 100%|██████████| 7/7 [00:41<00:00,  5.90s/it]\n"
     ]
    },
    {
     "name": "stdout",
     "output_type": "stream",
     "text": [
      "Epoch 31: Train Loss: 0.5730, Train Acc: 81.7330, Val Loss: 0.9247, Val Acc: 77.8646\n",
      "Epoch 30 - Metrics did not improve, wait: 2\n"
     ]
    },
    {
     "name": "stderr",
     "output_type": "stream",
     "text": [
      "Epoch 32/100: 100%|██████████| 7/7 [00:40<00:00,  5.75s/it]\n"
     ]
    },
    {
     "name": "stdout",
     "output_type": "stream",
     "text": [
      "Epoch 32: Train Loss: 0.5335, Train Acc: 83.1352, Val Loss: 0.8847, Val Acc: 78.2552\n",
      "Epoch 31 - Best metrics: 78.25520833333333 - Keeping weights\n"
     ]
    },
    {
     "name": "stderr",
     "output_type": "stream",
     "text": [
      "Epoch 33/100: 100%|██████████| 7/7 [00:40<00:00,  5.82s/it]\n"
     ]
    },
    {
     "name": "stdout",
     "output_type": "stream",
     "text": [
      "Epoch 33: Train Loss: 0.5295, Train Acc: 82.2551, Val Loss: 0.8473, Val Acc: 79.0365\n",
      "Epoch 32 - Best metrics: 79.03645833333333 - Keeping weights\n"
     ]
    },
    {
     "name": "stderr",
     "output_type": "stream",
     "text": [
      "Epoch 34/100: 100%|██████████| 7/7 [00:44<00:00,  6.36s/it]\n"
     ]
    },
    {
     "name": "stdout",
     "output_type": "stream",
     "text": [
      "Epoch 34: Train Loss: 0.4876, Train Acc: 85.2162, Val Loss: 0.8294, Val Acc: 79.4271\n",
      "Epoch 33 - Best metrics: 79.42708333333333 - Keeping weights\n"
     ]
    },
    {
     "name": "stderr",
     "output_type": "stream",
     "text": [
      "Epoch 35/100: 100%|██████████| 7/7 [00:45<00:00,  6.55s/it]\n"
     ]
    },
    {
     "name": "stdout",
     "output_type": "stream",
     "text": [
      "Epoch 35: Train Loss: 0.4767, Train Acc: 85.7149, Val Loss: 0.8054, Val Acc: 79.6875\n",
      "Epoch 34 - Best metrics: 79.6875 - Keeping weights\n"
     ]
    },
    {
     "name": "stderr",
     "output_type": "stream",
     "text": [
      "Epoch 36/100: 100%|██████████| 7/7 [00:41<00:00,  5.99s/it]\n"
     ]
    },
    {
     "name": "stdout",
     "output_type": "stream",
     "text": [
      "Epoch 36: Train Loss: 0.4588, Train Acc: 84.8778, Val Loss: 0.8289, Val Acc: 78.2552\n",
      "Epoch 35 - Metrics did not improve, wait: 1\n"
     ]
    },
    {
     "name": "stderr",
     "output_type": "stream",
     "text": [
      "Epoch 37/100: 100%|██████████| 7/7 [00:41<00:00,  5.89s/it]\n"
     ]
    },
    {
     "name": "stdout",
     "output_type": "stream",
     "text": [
      "Epoch 37: Train Loss: 0.4206, Train Acc: 86.8487, Val Loss: 0.7952, Val Acc: 79.8177\n",
      "Epoch 36 - Best metrics: 79.81770833333333 - Keeping weights\n"
     ]
    },
    {
     "name": "stderr",
     "output_type": "stream",
     "text": [
      "Epoch 38/100: 100%|██████████| 7/7 [00:41<00:00,  5.99s/it]\n"
     ]
    },
    {
     "name": "stdout",
     "output_type": "stream",
     "text": [
      "Epoch 38: Train Loss: 0.4145, Train Acc: 86.8938, Val Loss: 0.7745, Val Acc: 81.1198\n",
      "Epoch 37 - Best metrics: 81.11979166666667 - Keeping weights\n"
     ]
    },
    {
     "name": "stderr",
     "output_type": "stream",
     "text": [
      "Epoch 39/100: 100%|██████████| 7/7 [00:40<00:00,  5.75s/it]\n"
     ]
    },
    {
     "name": "stdout",
     "output_type": "stream",
     "text": [
      "Epoch 39: Train Loss: 0.3890, Train Acc: 88.1844, Val Loss: 0.7318, Val Acc: 82.6823\n",
      "Epoch 38 - Best metrics: 82.68229166666667 - Keeping weights\n"
     ]
    },
    {
     "name": "stderr",
     "output_type": "stream",
     "text": [
      "Epoch 40/100: 100%|██████████| 7/7 [00:37<00:00,  5.42s/it]\n"
     ]
    },
    {
     "name": "stdout",
     "output_type": "stream",
     "text": [
      "Epoch 40: Train Loss: 0.3583, Train Acc: 88.7156, Val Loss: 0.7328, Val Acc: 82.8125\n",
      "Epoch 39 - Best metrics: 82.8125 - Keeping weights\n"
     ]
    },
    {
     "name": "stderr",
     "output_type": "stream",
     "text": [
      "Epoch 41/100: 100%|██████████| 7/7 [00:39<00:00,  5.64s/it]\n"
     ]
    },
    {
     "name": "stdout",
     "output_type": "stream",
     "text": [
      "Epoch 41: Train Loss: 0.3280, Train Acc: 90.7245, Val Loss: 0.7341, Val Acc: 80.8594\n",
      "Epoch 40 - Metrics did not improve, wait: 1\n"
     ]
    },
    {
     "name": "stderr",
     "output_type": "stream",
     "text": [
      "Epoch 42/100: 100%|██████████| 7/7 [00:40<00:00,  5.79s/it]\n"
     ]
    },
    {
     "name": "stdout",
     "output_type": "stream",
     "text": [
      "Epoch 42: Train Loss: 0.3319, Train Acc: 89.3167, Val Loss: 0.6800, Val Acc: 83.3333\n",
      "Epoch 41 - Best metrics: 83.33333333333333 - Keeping weights\n"
     ]
    },
    {
     "name": "stderr",
     "output_type": "stream",
     "text": [
      "Epoch 43/100: 100%|██████████| 7/7 [00:40<00:00,  5.79s/it]\n"
     ]
    },
    {
     "name": "stdout",
     "output_type": "stream",
     "text": [
      "Epoch 43: Train Loss: 0.2973, Train Acc: 90.6793, Val Loss: 0.6960, Val Acc: 82.5521\n",
      "Epoch 42 - Metrics did not improve, wait: 1\n"
     ]
    },
    {
     "name": "stderr",
     "output_type": "stream",
     "text": [
      "Epoch 44/100: 100%|██████████| 7/7 [00:40<00:00,  5.78s/it]\n"
     ]
    },
    {
     "name": "stdout",
     "output_type": "stream",
     "text": [
      "Epoch 44: Train Loss: 0.2891, Train Acc: 90.7909, Val Loss: 0.6651, Val Acc: 83.5938\n",
      "Epoch 43 - Best metrics: 83.59375 - Keeping weights\n"
     ]
    },
    {
     "name": "stderr",
     "output_type": "stream",
     "text": [
      "Epoch 45/100: 100%|██████████| 7/7 [00:42<00:00,  6.05s/it]\n"
     ]
    },
    {
     "name": "stdout",
     "output_type": "stream",
     "text": [
      "Epoch 45: Train Loss: 0.2570, Train Acc: 92.1069, Val Loss: 0.6325, Val Acc: 82.6823\n",
      "Epoch 44 - Metrics did not improve, wait: 1\n"
     ]
    },
    {
     "name": "stderr",
     "output_type": "stream",
     "text": [
      "Epoch 46/100: 100%|██████████| 7/7 [00:40<00:00,  5.73s/it]\n"
     ]
    },
    {
     "name": "stdout",
     "output_type": "stream",
     "text": [
      "Epoch 46: Train Loss: 0.2394, Train Acc: 93.2696, Val Loss: 0.6160, Val Acc: 82.6823\n",
      "Epoch 45 - Metrics did not improve, wait: 2\n"
     ]
    },
    {
     "name": "stderr",
     "output_type": "stream",
     "text": [
      "Epoch 47/100: 100%|██████████| 7/7 [00:40<00:00,  5.76s/it]\n"
     ]
    },
    {
     "name": "stdout",
     "output_type": "stream",
     "text": [
      "Epoch 47: Train Loss: 0.2430, Train Acc: 92.5442, Val Loss: 0.6296, Val Acc: 83.0729\n",
      "Epoch 46 - Metrics did not improve, wait: 3\n"
     ]
    },
    {
     "name": "stderr",
     "output_type": "stream",
     "text": [
      "Epoch 48/100: 100%|██████████| 7/7 [00:40<00:00,  5.73s/it]\n"
     ]
    },
    {
     "name": "stdout",
     "output_type": "stream",
     "text": [
      "Epoch 48: Train Loss: 0.2281, Train Acc: 93.0626, Val Loss: 0.6206, Val Acc: 81.7708\n",
      "Epoch 47 - Metrics did not improve, wait: 4\n"
     ]
    },
    {
     "name": "stderr",
     "output_type": "stream",
     "text": [
      "Epoch 49/100: 100%|██████████| 7/7 [00:40<00:00,  5.85s/it]\n"
     ]
    },
    {
     "name": "stdout",
     "output_type": "stream",
     "text": [
      "Epoch 49: Train Loss: 0.2157, Train Acc: 94.0346, Val Loss: 0.5905, Val Acc: 83.0729\n",
      "Epoch 48 - Metrics did not improve, wait: 5\n"
     ]
    },
    {
     "name": "stderr",
     "output_type": "stream",
     "text": [
      "Epoch 50/100: 100%|██████████| 7/7 [00:39<00:00,  5.70s/it]\n"
     ]
    },
    {
     "name": "stdout",
     "output_type": "stream",
     "text": [
      "Epoch 50: Train Loss: 0.2143, Train Acc: 93.6800, Val Loss: 0.5814, Val Acc: 84.7656\n",
      "Epoch 49 - Best metrics: 84.765625 - Keeping weights\n"
     ]
    },
    {
     "name": "stderr",
     "output_type": "stream",
     "text": [
      "Epoch 51/100: 100%|██████████| 7/7 [00:40<00:00,  5.82s/it]\n"
     ]
    },
    {
     "name": "stdout",
     "output_type": "stream",
     "text": [
      "Epoch 51: Train Loss: 0.2071, Train Acc: 93.2067, Val Loss: 0.5968, Val Acc: 85.1562\n",
      "Epoch 50 - Best metrics: 85.15625 - Keeping weights\n"
     ]
    },
    {
     "name": "stderr",
     "output_type": "stream",
     "text": [
      "Epoch 52/100: 100%|██████████| 7/7 [00:40<00:00,  5.75s/it]\n"
     ]
    },
    {
     "name": "stdout",
     "output_type": "stream",
     "text": [
      "Epoch 52: Train Loss: 0.1923, Train Acc: 94.0275, Val Loss: 0.5999, Val Acc: 82.2917\n",
      "Epoch 51 - Metrics did not improve, wait: 1\n"
     ]
    },
    {
     "name": "stderr",
     "output_type": "stream",
     "text": [
      "Epoch 53/100: 100%|██████████| 7/7 [00:41<00:00,  5.92s/it]\n"
     ]
    },
    {
     "name": "stdout",
     "output_type": "stream",
     "text": [
      "Epoch 53: Train Loss: 0.1845, Train Acc: 94.8357, Val Loss: 0.5725, Val Acc: 84.3750\n",
      "Epoch 52 - Metrics did not improve, wait: 2\n"
     ]
    },
    {
     "name": "stderr",
     "output_type": "stream",
     "text": [
      "Epoch 54/100: 100%|██████████| 7/7 [00:40<00:00,  5.79s/it]\n"
     ]
    },
    {
     "name": "stdout",
     "output_type": "stream",
     "text": [
      "Epoch 54: Train Loss: 0.1639, Train Acc: 94.9473, Val Loss: 0.5451, Val Acc: 84.8958\n",
      "Epoch 53 - Metrics did not improve, wait: 3\n"
     ]
    },
    {
     "name": "stderr",
     "output_type": "stream",
     "text": [
      "Epoch 55/100: 100%|██████████| 7/7 [00:40<00:00,  5.83s/it]\n"
     ]
    },
    {
     "name": "stdout",
     "output_type": "stream",
     "text": [
      "Epoch 55: Train Loss: 0.1485, Train Acc: 95.8634, Val Loss: 0.5495, Val Acc: 85.1562\n",
      "Epoch 54 - Metrics did not improve, wait: 4\n"
     ]
    },
    {
     "name": "stderr",
     "output_type": "stream",
     "text": [
      "Epoch 56/100: 100%|██████████| 7/7 [00:42<00:00,  6.02s/it]\n"
     ]
    },
    {
     "name": "stdout",
     "output_type": "stream",
     "text": [
      "Epoch 56: Train Loss: 0.1445, Train Acc: 95.3450, Val Loss: 0.5256, Val Acc: 85.6771\n",
      "Epoch 55 - Best metrics: 85.67708333333333 - Keeping weights\n"
     ]
    },
    {
     "name": "stderr",
     "output_type": "stream",
     "text": [
      "Epoch 57/100: 100%|██████████| 7/7 [00:41<00:00,  5.89s/it]\n"
     ]
    },
    {
     "name": "stdout",
     "output_type": "stream",
     "text": [
      "Epoch 57: Train Loss: 0.1257, Train Acc: 96.5295, Val Loss: 0.5116, Val Acc: 84.7656\n",
      "Epoch 56 - Metrics did not improve, wait: 1\n"
     ]
    },
    {
     "name": "stderr",
     "output_type": "stream",
     "text": [
      "Epoch 58/100: 100%|██████████| 7/7 [00:41<00:00,  5.94s/it]\n"
     ]
    },
    {
     "name": "stdout",
     "output_type": "stream",
     "text": [
      "Epoch 58: Train Loss: 0.1323, Train Acc: 96.1785, Val Loss: 0.5018, Val Acc: 86.3281\n",
      "Epoch 57 - Best metrics: 86.328125 - Keeping weights\n"
     ]
    },
    {
     "name": "stderr",
     "output_type": "stream",
     "text": [
      "Epoch 59/100: 100%|██████████| 7/7 [00:42<00:00,  6.09s/it]\n"
     ]
    },
    {
     "name": "stdout",
     "output_type": "stream",
     "text": [
      "Epoch 59: Train Loss: 0.1158, Train Acc: 97.1830, Val Loss: 0.5311, Val Acc: 85.5469\n",
      "Epoch 58 - Metrics did not improve, wait: 1\n"
     ]
    },
    {
     "name": "stderr",
     "output_type": "stream",
     "text": [
      "Epoch 60/100: 100%|██████████| 7/7 [00:40<00:00,  5.74s/it]\n"
     ]
    },
    {
     "name": "stdout",
     "output_type": "stream",
     "text": [
      "Epoch 60: Train Loss: 0.1198, Train Acc: 96.6772, Val Loss: 0.5341, Val Acc: 83.8542\n",
      "Epoch 59 - Metrics did not improve, wait: 2\n"
     ]
    },
    {
     "name": "stderr",
     "output_type": "stream",
     "text": [
      "Epoch 61/100: 100%|██████████| 7/7 [00:42<00:00,  6.05s/it]\n"
     ]
    },
    {
     "name": "stdout",
     "output_type": "stream",
     "text": [
      "Epoch 61: Train Loss: 0.1290, Train Acc: 96.0273, Val Loss: 0.5006, Val Acc: 85.9375\n",
      "Epoch 60 - Metrics did not improve, wait: 3\n"
     ]
    },
    {
     "name": "stderr",
     "output_type": "stream",
     "text": [
      "Epoch 62/100: 100%|██████████| 7/7 [00:41<00:00,  5.91s/it]\n"
     ]
    },
    {
     "name": "stdout",
     "output_type": "stream",
     "text": [
      "Epoch 62: Train Loss: 0.0980, Train Acc: 97.3701, Val Loss: 0.4925, Val Acc: 86.0677\n",
      "Epoch 61 - Metrics did not improve, wait: 4\n"
     ]
    },
    {
     "name": "stderr",
     "output_type": "stream",
     "text": [
      "Epoch 63/100: 100%|██████████| 7/7 [00:41<00:00,  5.88s/it]\n"
     ]
    },
    {
     "name": "stdout",
     "output_type": "stream",
     "text": [
      "Epoch 63: Train Loss: 0.1031, Train Acc: 97.1074, Val Loss: 0.5052, Val Acc: 83.7240\n",
      "Epoch 62 - Metrics did not improve, wait: 5\n"
     ]
    },
    {
     "name": "stderr",
     "output_type": "stream",
     "text": [
      "Epoch 64/100: 100%|██████████| 7/7 [00:42<00:00,  6.08s/it]\n"
     ]
    },
    {
     "name": "stdout",
     "output_type": "stream",
     "text": [
      "Epoch 64: Train Loss: 0.0947, Train Acc: 97.5376, Val Loss: 0.4988, Val Acc: 86.3281\n",
      "Epoch 63 - Metrics did not improve, wait: 6\n"
     ]
    },
    {
     "name": "stderr",
     "output_type": "stream",
     "text": [
      "Epoch 65/100: 100%|██████████| 7/7 [00:41<00:00,  5.99s/it]\n"
     ]
    },
    {
     "name": "stdout",
     "output_type": "stream",
     "text": [
      "Epoch 65: Train Loss: 0.0921, Train Acc: 97.3701, Val Loss: 0.4705, Val Acc: 85.9375\n",
      "Epoch 64 - Metrics did not improve, wait: 7\n"
     ]
    },
    {
     "name": "stderr",
     "output_type": "stream",
     "text": [
      "Epoch 66/100: 100%|██████████| 7/7 [00:39<00:00,  5.70s/it]\n"
     ]
    },
    {
     "name": "stdout",
     "output_type": "stream",
     "text": [
      "Epoch 66: Train Loss: 0.0960, Train Acc: 97.4295, Val Loss: 0.4663, Val Acc: 87.2396\n",
      "Epoch 65 - Best metrics: 87.23958333333333 - Keeping weights\n"
     ]
    },
    {
     "name": "stderr",
     "output_type": "stream",
     "text": [
      "Epoch 67/100: 100%|██████████| 7/7 [00:40<00:00,  5.82s/it]\n"
     ]
    },
    {
     "name": "stdout",
     "output_type": "stream",
     "text": [
      "Epoch 67: Train Loss: 0.0772, Train Acc: 98.3584, Val Loss: 0.4589, Val Acc: 86.3281\n",
      "Epoch 66 - Metrics did not improve, wait: 1\n"
     ]
    },
    {
     "name": "stderr",
     "output_type": "stream",
     "text": [
      "Epoch 68/100: 100%|██████████| 7/7 [00:42<00:00,  6.12s/it]\n"
     ]
    },
    {
     "name": "stdout",
     "output_type": "stream",
     "text": [
      "Epoch 68: Train Loss: 0.0835, Train Acc: 98.1747, Val Loss: 0.4720, Val Acc: 86.9792\n",
      "Epoch 67 - Metrics did not improve, wait: 2\n"
     ]
    },
    {
     "name": "stderr",
     "output_type": "stream",
     "text": [
      "Epoch 69/100: 100%|██████████| 7/7 [00:40<00:00,  5.75s/it]\n"
     ]
    },
    {
     "name": "stdout",
     "output_type": "stream",
     "text": [
      "Epoch 69: Train Loss: 0.0695, Train Acc: 98.5293, Val Loss: 0.4617, Val Acc: 86.5885\n",
      "Epoch 68 - Metrics did not improve, wait: 3\n"
     ]
    },
    {
     "name": "stderr",
     "output_type": "stream",
     "text": [
      "Epoch 70/100: 100%|██████████| 7/7 [00:40<00:00,  5.73s/it]\n"
     ]
    },
    {
     "name": "stdout",
     "output_type": "stream",
     "text": [
      "Epoch 70: Train Loss: 0.0656, Train Acc: 98.8246, Val Loss: 0.4544, Val Acc: 86.8490\n",
      "Epoch 69 - Metrics did not improve, wait: 4\n"
     ]
    },
    {
     "name": "stderr",
     "output_type": "stream",
     "text": [
      "Epoch 71/100: 100%|██████████| 7/7 [00:40<00:00,  5.84s/it]\n"
     ]
    },
    {
     "name": "stdout",
     "output_type": "stream",
     "text": [
      "Epoch 71: Train Loss: 0.0626, Train Acc: 98.3782, Val Loss: 0.4496, Val Acc: 87.1094\n",
      "Epoch 70 - Metrics did not improve, wait: 5\n"
     ]
    },
    {
     "name": "stderr",
     "output_type": "stream",
     "text": [
      "Epoch 72/100: 100%|██████████| 7/7 [00:40<00:00,  5.85s/it]\n"
     ]
    },
    {
     "name": "stdout",
     "output_type": "stream",
     "text": [
      "Epoch 72: Train Loss: 0.0601, Train Acc: 98.6770, Val Loss: 0.4504, Val Acc: 87.2396\n",
      "Epoch 71 - Metrics did not improve, wait: 6\n"
     ]
    },
    {
     "name": "stderr",
     "output_type": "stream",
     "text": [
      "Epoch 73/100: 100%|██████████| 7/7 [00:41<00:00,  5.89s/it]\n"
     ]
    },
    {
     "name": "stdout",
     "output_type": "stream",
     "text": [
      "Epoch 73: Train Loss: 0.0710, Train Acc: 98.0433, Val Loss: 0.4489, Val Acc: 87.8906\n",
      "Epoch 72 - Best metrics: 87.890625 - Keeping weights\n"
     ]
    },
    {
     "name": "stderr",
     "output_type": "stream",
     "text": [
      "Epoch 74/100: 100%|██████████| 7/7 [00:35<00:00,  5.08s/it]\n"
     ]
    },
    {
     "name": "stdout",
     "output_type": "stream",
     "text": [
      "Epoch 74: Train Loss: 0.0635, Train Acc: 98.0398, Val Loss: 0.4341, Val Acc: 86.8490\n",
      "Epoch 73 - Metrics did not improve, wait: 1\n"
     ]
    },
    {
     "name": "stderr",
     "output_type": "stream",
     "text": [
      "Epoch 75/100: 100%|██████████| 7/7 [00:37<00:00,  5.41s/it]\n"
     ]
    },
    {
     "name": "stdout",
     "output_type": "stream",
     "text": [
      "Epoch 75: Train Loss: 0.0597, Train Acc: 98.6014, Val Loss: 0.4422, Val Acc: 86.8490\n",
      "Epoch 74 - Metrics did not improve, wait: 2\n"
     ]
    },
    {
     "name": "stderr",
     "output_type": "stream",
     "text": [
      "Epoch 76/100: 100%|██████████| 7/7 [00:40<00:00,  5.78s/it]\n"
     ]
    },
    {
     "name": "stdout",
     "output_type": "stream",
     "text": [
      "Epoch 76: Train Loss: 0.0505, Train Acc: 98.6770, Val Loss: 0.4398, Val Acc: 86.4583\n",
      "Epoch 75 - Metrics did not improve, wait: 3\n"
     ]
    },
    {
     "name": "stderr",
     "output_type": "stream",
     "text": [
      "Epoch 77/100: 100%|██████████| 7/7 [00:44<00:00,  6.35s/it]\n"
     ]
    },
    {
     "name": "stdout",
     "output_type": "stream",
     "text": [
      "Epoch 77: Train Loss: 0.0508, Train Acc: 98.6572, Val Loss: 0.4290, Val Acc: 85.9375\n",
      "Epoch 76 - Metrics did not improve, wait: 4\n"
     ]
    },
    {
     "name": "stderr",
     "output_type": "stream",
     "text": [
      "Epoch 78/100: 100%|██████████| 7/7 [00:53<00:00,  7.59s/it]\n"
     ]
    },
    {
     "name": "stdout",
     "output_type": "stream",
     "text": [
      "Epoch 78: Train Loss: 0.0481, Train Acc: 98.9002, Val Loss: 0.4347, Val Acc: 87.6302\n",
      "Epoch 77 - Metrics did not improve, wait: 5\n"
     ]
    },
    {
     "name": "stderr",
     "output_type": "stream",
     "text": [
      "Epoch 79/100: 100%|██████████| 7/7 [00:48<00:00,  6.94s/it]\n"
     ]
    },
    {
     "name": "stdout",
     "output_type": "stream",
     "text": [
      "Epoch 79: Train Loss: 0.0528, Train Acc: 98.3421, Val Loss: 0.4439, Val Acc: 86.4583\n",
      "Epoch 78 - Metrics did not improve, wait: 6\n"
     ]
    },
    {
     "name": "stderr",
     "output_type": "stream",
     "text": [
      "Epoch 80/100: 100%|██████████| 7/7 [00:50<00:00,  7.17s/it]\n"
     ]
    },
    {
     "name": "stdout",
     "output_type": "stream",
     "text": [
      "Epoch 80: Train Loss: 0.0496, Train Acc: 98.9758, Val Loss: 0.4237, Val Acc: 87.2396\n",
      "Epoch 79 - Metrics did not improve, wait: 7\n"
     ]
    },
    {
     "name": "stderr",
     "output_type": "stream",
     "text": [
      "Epoch 81/100: 100%|██████████| 7/7 [00:54<00:00,  7.78s/it]\n"
     ]
    },
    {
     "name": "stdout",
     "output_type": "stream",
     "text": [
      "Epoch 81: Train Loss: 0.0451, Train Acc: 98.9920, Val Loss: 0.4287, Val Acc: 87.8906\n",
      "Epoch 80 - Metrics did not improve, wait: 8\n"
     ]
    },
    {
     "name": "stderr",
     "output_type": "stream",
     "text": [
      "Epoch 82/100: 100%|██████████| 7/7 [00:49<00:00,  7.04s/it]\n"
     ]
    },
    {
     "name": "stdout",
     "output_type": "stream",
     "text": [
      "Epoch 82: Train Loss: 0.0449, Train Acc: 99.2188, Val Loss: 0.4213, Val Acc: 86.9792\n",
      "Epoch 81 - Metrics did not improve, wait: 9\n"
     ]
    },
    {
     "name": "stderr",
     "output_type": "stream",
     "text": [
      "Epoch 83/100: 100%|██████████| 7/7 [00:45<00:00,  6.47s/it]\n"
     ]
    },
    {
     "name": "stdout",
     "output_type": "stream",
     "text": [
      "Epoch 83: Train Loss: 0.0419, Train Acc: 99.1990, Val Loss: 0.4263, Val Acc: 87.1094\n",
      "Epoch 82 - Metrics did not improve, wait: 10\n",
      "Epoch 82 - Patience reached - Restoring weights\n"
     ]
    },
    {
     "name": "stderr",
     "output_type": "stream",
     "text": [
      "Epoch 1/100: 100%|██████████| 7/7 [00:43<00:00,  6.17s/it]\n"
     ]
    },
    {
     "name": "stdout",
     "output_type": "stream",
     "text": [
      "Epoch 1: Train Loss: 2.5532, Train Acc: 11.4483, Val Loss: 2.5484, Val Acc: 16.0156\n",
      "Epoch 0 - Keeping weights\n"
     ]
    },
    {
     "name": "stderr",
     "output_type": "stream",
     "text": [
      "Epoch 2/100: 100%|██████████| 7/7 [00:39<00:00,  5.69s/it]\n"
     ]
    },
    {
     "name": "stdout",
     "output_type": "stream",
     "text": [
      "Epoch 2: Train Loss: 2.5100, Train Acc: 17.6764, Val Loss: 2.5229, Val Acc: 14.3229\n"
     ]
    },
    {
     "name": "stderr",
     "output_type": "stream",
     "text": [
      "Epoch 3/100: 100%|██████████| 7/7 [00:39<00:00,  5.62s/it]\n"
     ]
    },
    {
     "name": "stdout",
     "output_type": "stream",
     "text": [
      "Epoch 3: Train Loss: 2.4590, Train Acc: 18.8412, Val Loss: 2.4947, Val Acc: 17.3177\n"
     ]
    },
    {
     "name": "stderr",
     "output_type": "stream",
     "text": [
      "Epoch 4/100: 100%|██████████| 7/7 [00:41<00:00,  5.87s/it]\n"
     ]
    },
    {
     "name": "stdout",
     "output_type": "stream",
     "text": [
      "Epoch 4: Train Loss: 2.4080, Train Acc: 20.3819, Val Loss: 2.4677, Val Acc: 18.2292\n"
     ]
    },
    {
     "name": "stderr",
     "output_type": "stream",
     "text": [
      "Epoch 5/100: 100%|██████████| 7/7 [8:50:38<00:00, 4548.38s/it]\n"
     ]
    },
    {
     "name": "stdout",
     "output_type": "stream",
     "text": [
      "Epoch 5: Train Loss: 2.3815, Train Acc: 22.1224, Val Loss: 2.4454, Val Acc: 20.3125\n"
     ]
    },
    {
     "name": "stderr",
     "output_type": "stream",
     "text": [
      "Epoch 6/100: 100%|██████████| 7/7 [00:51<00:00,  7.42s/it]\n"
     ]
    },
    {
     "name": "stdout",
     "output_type": "stream",
     "text": [
      "Epoch 6: Train Loss: 2.3584, Train Acc: 24.1928, Val Loss: 2.4287, Val Acc: 24.6094\n"
     ]
    },
    {
     "name": "stderr",
     "output_type": "stream",
     "text": [
      "Epoch 7/100: 100%|██████████| 7/7 [00:37<00:00,  5.35s/it]\n"
     ]
    },
    {
     "name": "stdout",
     "output_type": "stream",
     "text": [
      "Epoch 7: Train Loss: 2.3414, Train Acc: 27.8504, Val Loss: 2.4160, Val Acc: 30.2083\n"
     ]
    },
    {
     "name": "stderr",
     "output_type": "stream",
     "text": [
      "Epoch 8/100: 100%|██████████| 7/7 [00:35<00:00,  5.04s/it]\n"
     ]
    },
    {
     "name": "stdout",
     "output_type": "stream",
     "text": [
      "Epoch 8: Train Loss: 2.3191, Train Acc: 29.6686, Val Loss: 2.4010, Val Acc: 32.4219\n"
     ]
    },
    {
     "name": "stderr",
     "output_type": "stream",
     "text": [
      "Epoch 9/100: 100%|██████████| 7/7 [00:33<00:00,  4.78s/it]\n"
     ]
    },
    {
     "name": "stdout",
     "output_type": "stream",
     "text": [
      "Epoch 9: Train Loss: 2.2853, Train Acc: 30.3002, Val Loss: 2.3832, Val Acc: 31.7708\n"
     ]
    },
    {
     "name": "stderr",
     "output_type": "stream",
     "text": [
      "Epoch 10/100: 100%|██████████| 7/7 [00:33<00:00,  4.84s/it]\n"
     ]
    },
    {
     "name": "stdout",
     "output_type": "stream",
     "text": [
      "Epoch 10: Train Loss: 2.2566, Train Acc: 30.2697, Val Loss: 2.3621, Val Acc: 31.1198\n"
     ]
    },
    {
     "name": "stderr",
     "output_type": "stream",
     "text": [
      "Epoch 11/100: 100%|██████████| 7/7 [00:33<00:00,  4.73s/it]\n"
     ]
    },
    {
     "name": "stdout",
     "output_type": "stream",
     "text": [
      "Epoch 11: Train Loss: 2.2180, Train Acc: 31.3838, Val Loss: 2.3364, Val Acc: 32.4219\n",
      "Epoch 10 - Metrics did not improve, wait: 1\n"
     ]
    },
    {
     "name": "stderr",
     "output_type": "stream",
     "text": [
      "Epoch 12/100: 100%|██████████| 7/7 [00:33<00:00,  4.84s/it]\n"
     ]
    },
    {
     "name": "stdout",
     "output_type": "stream",
     "text": [
      "Epoch 12: Train Loss: 2.1883, Train Acc: 32.2695, Val Loss: 2.3084, Val Acc: 32.6823\n",
      "Epoch 11 - Best metrics: 32.682291666666664 - Keeping weights\n"
     ]
    },
    {
     "name": "stderr",
     "output_type": "stream",
     "text": [
      "Epoch 13/100: 100%|██████████| 7/7 [00:35<00:00,  5.00s/it]\n"
     ]
    },
    {
     "name": "stdout",
     "output_type": "stream",
     "text": [
      "Epoch 13: Train Loss: 2.1540, Train Acc: 32.4172, Val Loss: 2.2800, Val Acc: 34.3750\n",
      "Epoch 12 - Best metrics: 34.375 - Keeping weights\n"
     ]
    },
    {
     "name": "stderr",
     "output_type": "stream",
     "text": [
      "Epoch 14/100: 100%|██████████| 7/7 [00:34<00:00,  4.90s/it]\n"
     ]
    },
    {
     "name": "stdout",
     "output_type": "stream",
     "text": [
      "Epoch 14: Train Loss: 2.1177, Train Acc: 32.7520, Val Loss: 2.2511, Val Acc: 35.4167\n",
      "Epoch 13 - Best metrics: 35.416666666666664 - Keeping weights\n"
     ]
    },
    {
     "name": "stderr",
     "output_type": "stream",
     "text": [
      "Epoch 15/100: 100%|██████████| 7/7 [00:34<00:00,  4.91s/it]\n"
     ]
    },
    {
     "name": "stdout",
     "output_type": "stream",
     "text": [
      "Epoch 15: Train Loss: 2.0849, Train Acc: 34.2982, Val Loss: 2.2239, Val Acc: 35.2865\n",
      "Epoch 14 - Metrics did not improve, wait: 1\n"
     ]
    },
    {
     "name": "stderr",
     "output_type": "stream",
     "text": [
      "Epoch 16/100: 100%|██████████| 7/7 [00:34<00:00,  4.89s/it]\n"
     ]
    },
    {
     "name": "stdout",
     "output_type": "stream",
     "text": [
      "Epoch 16: Train Loss: 2.0427, Train Acc: 34.7426, Val Loss: 2.2002, Val Acc: 35.4167\n",
      "Epoch 15 - Metrics did not improve, wait: 2\n"
     ]
    },
    {
     "name": "stderr",
     "output_type": "stream",
     "text": [
      "Epoch 17/100: 100%|██████████| 7/7 [00:34<00:00,  4.95s/it]\n"
     ]
    },
    {
     "name": "stdout",
     "output_type": "stream",
     "text": [
      "Epoch 17: Train Loss: 2.0102, Train Acc: 35.9074, Val Loss: 2.1706, Val Acc: 35.4167\n",
      "Epoch 16 - Metrics did not improve, wait: 3\n"
     ]
    },
    {
     "name": "stderr",
     "output_type": "stream",
     "text": [
      "Epoch 18/100: 100%|██████████| 7/7 [00:38<00:00,  5.56s/it]\n"
     ]
    },
    {
     "name": "stdout",
     "output_type": "stream",
     "text": [
      "Epoch 18: Train Loss: 1.9952, Train Acc: 35.9957, Val Loss: 2.1458, Val Acc: 35.9375\n",
      "Epoch 17 - Best metrics: 35.9375 - Keeping weights\n"
     ]
    },
    {
     "name": "stderr",
     "output_type": "stream",
     "text": [
      "Epoch 19/100: 100%|██████████| 7/7 [00:34<00:00,  4.91s/it]\n"
     ]
    },
    {
     "name": "stdout",
     "output_type": "stream",
     "text": [
      "Epoch 19: Train Loss: 1.9565, Train Acc: 38.0908, Val Loss: 2.1174, Val Acc: 37.8906\n",
      "Epoch 18 - Best metrics: 37.890625 - Keeping weights\n"
     ]
    },
    {
     "name": "stderr",
     "output_type": "stream",
     "text": [
      "Epoch 20/100: 100%|██████████| 7/7 [00:36<00:00,  5.21s/it]\n"
     ]
    },
    {
     "name": "stdout",
     "output_type": "stream",
     "text": [
      "Epoch 20: Train Loss: 1.9125, Train Acc: 38.2709, Val Loss: 2.0900, Val Acc: 37.7604\n",
      "Epoch 19 - Metrics did not improve, wait: 1\n"
     ]
    },
    {
     "name": "stderr",
     "output_type": "stream",
     "text": [
      "Epoch 21/100: 100%|██████████| 7/7 [00:34<00:00,  4.99s/it]\n"
     ]
    },
    {
     "name": "stdout",
     "output_type": "stream",
     "text": [
      "Epoch 21: Train Loss: 1.8892, Train Acc: 39.4499, Val Loss: 2.0634, Val Acc: 39.8438\n",
      "Epoch 20 - Best metrics: 39.84375 - Keeping weights\n"
     ]
    },
    {
     "name": "stderr",
     "output_type": "stream",
     "text": [
      "Epoch 22/100: 100%|██████████| 7/7 [00:36<00:00,  5.17s/it]\n"
     ]
    },
    {
     "name": "stdout",
     "output_type": "stream",
     "text": [
      "Epoch 22: Train Loss: 1.8578, Train Acc: 39.2464, Val Loss: 2.0342, Val Acc: 40.8854\n",
      "Epoch 21 - Best metrics: 40.885416666666664 - Keeping weights\n"
     ]
    },
    {
     "name": "stderr",
     "output_type": "stream",
     "text": [
      "Epoch 23/100: 100%|██████████| 7/7 [5:24:30<00:00, 2781.45s/it]\n"
     ]
    },
    {
     "name": "stdout",
     "output_type": "stream",
     "text": [
      "Epoch 23: Train Loss: 1.8337, Train Acc: 41.4263, Val Loss: 2.0101, Val Acc: 41.4062\n",
      "Epoch 22 - Best metrics: 41.40625 - Keeping weights\n"
     ]
    },
    {
     "name": "stderr",
     "output_type": "stream",
     "text": [
      "Epoch 24/100: 100%|██████████| 7/7 [00:53<00:00,  7.70s/it]\n"
     ]
    },
    {
     "name": "stdout",
     "output_type": "stream",
     "text": [
      "Epoch 24: Train Loss: 1.7949, Train Acc: 41.8205, Val Loss: 1.9846, Val Acc: 41.5365\n",
      "Epoch 23 - Best metrics: 41.536458333333336 - Keeping weights\n"
     ]
    },
    {
     "name": "stderr",
     "output_type": "stream",
     "text": [
      "Epoch 25/100: 100%|██████████| 7/7 [00:37<00:00,  5.32s/it]\n"
     ]
    },
    {
     "name": "stdout",
     "output_type": "stream",
     "text": [
      "Epoch 25: Train Loss: 1.7617, Train Acc: 42.9888, Val Loss: 1.9556, Val Acc: 42.4479\n",
      "Epoch 24 - Best metrics: 42.447916666666664 - Keeping weights\n"
     ]
    },
    {
     "name": "stderr",
     "output_type": "stream",
     "text": [
      "Epoch 26/100: 100%|██████████| 7/7 [00:38<00:00,  5.55s/it]\n"
     ]
    },
    {
     "name": "stdout",
     "output_type": "stream",
     "text": [
      "Epoch 26: Train Loss: 1.7385, Train Acc: 43.7609, Val Loss: 1.9303, Val Acc: 42.4479\n",
      "Epoch 25 - Metrics did not improve, wait: 1\n"
     ]
    },
    {
     "name": "stderr",
     "output_type": "stream",
     "text": [
      "Epoch 27/100: 100%|██████████| 7/7 [00:37<00:00,  5.39s/it]\n"
     ]
    },
    {
     "name": "stdout",
     "output_type": "stream",
     "text": [
      "Epoch 27: Train Loss: 1.7008, Train Acc: 45.6476, Val Loss: 1.8978, Val Acc: 43.4896\n",
      "Epoch 26 - Best metrics: 43.489583333333336 - Keeping weights\n"
     ]
    },
    {
     "name": "stderr",
     "output_type": "stream",
     "text": [
      "Epoch 28/100: 100%|██████████| 7/7 [00:37<00:00,  5.32s/it]\n"
     ]
    },
    {
     "name": "stdout",
     "output_type": "stream",
     "text": [
      "Epoch 28: Train Loss: 1.6767, Train Acc: 45.4908, Val Loss: 1.8724, Val Acc: 43.7500\n",
      "Epoch 27 - Best metrics: 43.75 - Keeping weights\n"
     ]
    },
    {
     "name": "stderr",
     "output_type": "stream",
     "text": [
      "Epoch 29/100: 100%|██████████| 7/7 [00:39<00:00,  5.60s/it]\n"
     ]
    },
    {
     "name": "stdout",
     "output_type": "stream",
     "text": [
      "Epoch 29: Train Loss: 1.6492, Train Acc: 46.4826, Val Loss: 1.8490, Val Acc: 47.9167\n",
      "Epoch 28 - Best metrics: 47.916666666666664 - Keeping weights\n"
     ]
    },
    {
     "name": "stderr",
     "output_type": "stream",
     "text": [
      "Epoch 30/100: 100%|██████████| 7/7 [00:43<00:00,  6.26s/it]\n"
     ]
    },
    {
     "name": "stdout",
     "output_type": "stream",
     "text": [
      "Epoch 30: Train Loss: 1.6293, Train Acc: 47.5160, Val Loss: 1.8267, Val Acc: 49.0885\n",
      "Epoch 29 - Best metrics: 49.088541666666664 - Keeping weights\n"
     ]
    },
    {
     "name": "stderr",
     "output_type": "stream",
     "text": [
      "Epoch 31/100: 100%|██████████| 7/7 [00:44<00:00,  6.41s/it]\n"
     ]
    },
    {
     "name": "stdout",
     "output_type": "stream",
     "text": [
      "Epoch 31: Train Loss: 1.5831, Train Acc: 48.6194, Val Loss: 1.8056, Val Acc: 50.9115\n",
      "Epoch 30 - Best metrics: 50.911458333333336 - Keeping weights\n"
     ]
    },
    {
     "name": "stderr",
     "output_type": "stream",
     "text": [
      "Epoch 32/100: 100%|██████████| 7/7 [00:42<00:00,  6.14s/it]\n"
     ]
    },
    {
     "name": "stdout",
     "output_type": "stream",
     "text": [
      "Epoch 32: Train Loss: 1.5673, Train Acc: 49.9947, Val Loss: 1.7777, Val Acc: 51.3021\n",
      "Epoch 31 - Best metrics: 51.302083333333336 - Keeping weights\n"
     ]
    },
    {
     "name": "stderr",
     "output_type": "stream",
     "text": [
      "Epoch 33/100: 100%|██████████| 7/7 [00:39<00:00,  5.69s/it]\n"
     ]
    },
    {
     "name": "stdout",
     "output_type": "stream",
     "text": [
      "Epoch 33: Train Loss: 1.5343, Train Acc: 50.4751, Val Loss: 1.7580, Val Acc: 53.1250\n",
      "Epoch 32 - Best metrics: 53.125 - Keeping weights\n"
     ]
    },
    {
     "name": "stderr",
     "output_type": "stream",
     "text": [
      "Epoch 34/100: 100%|██████████| 7/7 [00:36<00:00,  5.17s/it]\n"
     ]
    },
    {
     "name": "stdout",
     "output_type": "stream",
     "text": [
      "Epoch 34: Train Loss: 1.5129, Train Acc: 51.6003, Val Loss: 1.7342, Val Acc: 56.3802\n",
      "Epoch 33 - Best metrics: 56.380208333333336 - Keeping weights\n"
     ]
    },
    {
     "name": "stderr",
     "output_type": "stream",
     "text": [
      "Epoch 35/100: 100%|██████████| 7/7 [00:35<00:00,  5.06s/it]\n"
     ]
    },
    {
     "name": "stdout",
     "output_type": "stream",
     "text": [
      "Epoch 35: Train Loss: 1.4691, Train Acc: 53.3769, Val Loss: 1.7098, Val Acc: 56.6406\n",
      "Epoch 34 - Best metrics: 56.640625 - Keeping weights\n"
     ]
    },
    {
     "name": "stderr",
     "output_type": "stream",
     "text": [
      "Epoch 36/100: 100%|██████████| 7/7 [00:40<00:00,  5.82s/it]\n"
     ]
    },
    {
     "name": "stdout",
     "output_type": "stream",
     "text": [
      "Epoch 36: Train Loss: 1.4642, Train Acc: 53.1176, Val Loss: 1.6930, Val Acc: 57.0312\n",
      "Epoch 35 - Best metrics: 57.03125 - Keeping weights\n"
     ]
    },
    {
     "name": "stderr",
     "output_type": "stream",
     "text": [
      "Epoch 37/100: 100%|██████████| 7/7 [00:41<00:00,  5.86s/it]\n"
     ]
    },
    {
     "name": "stdout",
     "output_type": "stream",
     "text": [
      "Epoch 37: Train Loss: 1.4315, Train Acc: 54.1652, Val Loss: 1.6752, Val Acc: 57.4219\n",
      "Epoch 36 - Best metrics: 57.421875 - Keeping weights\n"
     ]
    },
    {
     "name": "stderr",
     "output_type": "stream",
     "text": [
      "Epoch 38/100: 100%|██████████| 7/7 [00:37<00:00,  5.43s/it]\n"
     ]
    },
    {
     "name": "stdout",
     "output_type": "stream",
     "text": [
      "Epoch 38: Train Loss: 1.4050, Train Acc: 55.2488, Val Loss: 1.6550, Val Acc: 58.3333\n",
      "Epoch 37 - Best metrics: 58.333333333333336 - Keeping weights\n"
     ]
    },
    {
     "name": "stderr",
     "output_type": "stream",
     "text": [
      "Epoch 39/100: 100%|██████████| 7/7 [00:37<00:00,  5.38s/it]\n"
     ]
    },
    {
     "name": "stdout",
     "output_type": "stream",
     "text": [
      "Epoch 39: Train Loss: 1.3920, Train Acc: 55.5567, Val Loss: 1.6456, Val Acc: 59.1146\n",
      "Epoch 38 - Best metrics: 59.114583333333336 - Keeping weights\n"
     ]
    },
    {
     "name": "stderr",
     "output_type": "stream",
     "text": [
      "Epoch 40/100: 100%|██████████| 7/7 [00:40<00:00,  5.74s/it]\n"
     ]
    },
    {
     "name": "stdout",
     "output_type": "stream",
     "text": [
      "Epoch 40: Train Loss: 1.3793, Train Acc: 56.5704, Val Loss: 1.6269, Val Acc: 58.7240\n",
      "Epoch 39 - Metrics did not improve, wait: 1\n"
     ]
    },
    {
     "name": "stderr",
     "output_type": "stream",
     "text": [
      "Epoch 41/100: 100%|██████████| 7/7 [00:37<00:00,  5.33s/it]\n"
     ]
    },
    {
     "name": "stdout",
     "output_type": "stream",
     "text": [
      "Epoch 41: Train Loss: 1.3420, Train Acc: 56.9752, Val Loss: 1.5976, Val Acc: 60.1562\n",
      "Epoch 40 - Best metrics: 60.15625 - Keeping weights\n"
     ]
    },
    {
     "name": "stderr",
     "output_type": "stream",
     "text": [
      "Epoch 42/100: 100%|██████████| 7/7 [00:38<00:00,  5.56s/it]\n"
     ]
    },
    {
     "name": "stdout",
     "output_type": "stream",
     "text": [
      "Epoch 42: Train Loss: 1.3240, Train Acc: 57.9938, Val Loss: 1.5896, Val Acc: 60.2865\n",
      "Epoch 41 - Best metrics: 60.286458333333336 - Keeping weights\n"
     ]
    },
    {
     "name": "stderr",
     "output_type": "stream",
     "text": [
      "Epoch 43/100: 100%|██████████| 7/7 [00:37<00:00,  5.31s/it]\n"
     ]
    },
    {
     "name": "stdout",
     "output_type": "stream",
     "text": [
      "Epoch 43: Train Loss: 1.3146, Train Acc: 57.2344, Val Loss: 1.5761, Val Acc: 61.0677\n",
      "Epoch 42 - Best metrics: 61.067708333333336 - Keeping weights\n"
     ]
    },
    {
     "name": "stderr",
     "output_type": "stream",
     "text": [
      "Epoch 44/100: 100%|██████████| 7/7 [00:39<00:00,  5.58s/it]\n"
     ]
    },
    {
     "name": "stdout",
     "output_type": "stream",
     "text": [
      "Epoch 44: Train Loss: 1.2901, Train Acc: 59.7653, Val Loss: 1.5544, Val Acc: 61.1979\n",
      "Epoch 43 - Best metrics: 61.197916666666664 - Keeping weights\n"
     ]
    },
    {
     "name": "stderr",
     "output_type": "stream",
     "text": [
      "Epoch 45/100: 100%|██████████| 7/7 [00:38<00:00,  5.47s/it]\n"
     ]
    },
    {
     "name": "stdout",
     "output_type": "stream",
     "text": [
      "Epoch 45: Train Loss: 1.2700, Train Acc: 59.9561, Val Loss: 1.5421, Val Acc: 62.2396\n",
      "Epoch 44 - Best metrics: 62.239583333333336 - Keeping weights\n"
     ]
    },
    {
     "name": "stderr",
     "output_type": "stream",
     "text": [
      "Epoch 46/100: 100%|██████████| 7/7 [00:36<00:00,  5.27s/it]\n"
     ]
    },
    {
     "name": "stdout",
     "output_type": "stream",
     "text": [
      "Epoch 46: Train Loss: 1.2414, Train Acc: 61.2629, Val Loss: 1.5226, Val Acc: 61.8490\n",
      "Epoch 45 - Metrics did not improve, wait: 1\n"
     ]
    },
    {
     "name": "stderr",
     "output_type": "stream",
     "text": [
      "Epoch 47/100: 100%|██████████| 7/7 [00:38<00:00,  5.53s/it]\n"
     ]
    },
    {
     "name": "stdout",
     "output_type": "stream",
     "text": [
      "Epoch 47: Train Loss: 1.2284, Train Acc: 61.0092, Val Loss: 1.5154, Val Acc: 62.2396\n",
      "Epoch 46 - Metrics did not improve, wait: 2\n"
     ]
    },
    {
     "name": "stderr",
     "output_type": "stream",
     "text": [
      "Epoch 48/100: 100%|██████████| 7/7 [00:38<00:00,  5.54s/it]\n"
     ]
    },
    {
     "name": "stdout",
     "output_type": "stream",
     "text": [
      "Epoch 48: Train Loss: 1.2296, Train Acc: 60.6419, Val Loss: 1.4896, Val Acc: 62.8906\n",
      "Epoch 47 - Best metrics: 62.890625 - Keeping weights\n"
     ]
    },
    {
     "name": "stderr",
     "output_type": "stream",
     "text": [
      "Epoch 49/100: 100%|██████████| 7/7 [00:37<00:00,  5.41s/it]\n"
     ]
    },
    {
     "name": "stdout",
     "output_type": "stream",
     "text": [
      "Epoch 49: Train Loss: 1.2155, Train Acc: 62.5032, Val Loss: 1.4823, Val Acc: 64.4531\n",
      "Epoch 48 - Best metrics: 64.453125 - Keeping weights\n"
     ]
    },
    {
     "name": "stderr",
     "output_type": "stream",
     "text": [
      "Epoch 50/100: 100%|██████████| 7/7 [00:36<00:00,  5.27s/it]\n"
     ]
    },
    {
     "name": "stdout",
     "output_type": "stream",
     "text": [
      "Epoch 50: Train Loss: 1.1709, Train Acc: 63.4392, Val Loss: 1.4701, Val Acc: 65.4948\n",
      "Epoch 49 - Best metrics: 65.49479166666667 - Keeping weights\n"
     ]
    },
    {
     "name": "stderr",
     "output_type": "stream",
     "text": [
      "Epoch 51/100: 100%|██████████| 7/7 [00:36<00:00,  5.15s/it]\n"
     ]
    },
    {
     "name": "stdout",
     "output_type": "stream",
     "text": [
      "Epoch 51: Train Loss: 1.1618, Train Acc: 63.6787, Val Loss: 1.4503, Val Acc: 64.8438\n",
      "Epoch 50 - Metrics did not improve, wait: 1\n"
     ]
    },
    {
     "name": "stderr",
     "output_type": "stream",
     "text": [
      "Epoch 52/100: 100%|██████████| 7/7 [00:34<00:00,  4.95s/it]\n"
     ]
    },
    {
     "name": "stdout",
     "output_type": "stream",
     "text": [
      "Epoch 52: Train Loss: 1.1474, Train Acc: 64.0962, Val Loss: 1.4364, Val Acc: 66.4062\n",
      "Epoch 51 - Best metrics: 66.40625 - Keeping weights\n"
     ]
    },
    {
     "name": "stderr",
     "output_type": "stream",
     "text": [
      "Epoch 53/100: 100%|██████████| 7/7 [00:37<00:00,  5.34s/it]\n"
     ]
    },
    {
     "name": "stdout",
     "output_type": "stream",
     "text": [
      "Epoch 53: Train Loss: 1.1268, Train Acc: 65.2807, Val Loss: 1.4338, Val Acc: 66.6667\n",
      "Epoch 52 - Best metrics: 66.66666666666667 - Keeping weights\n"
     ]
    },
    {
     "name": "stderr",
     "output_type": "stream",
     "text": [
      "Epoch 54/100: 100%|██████████| 7/7 [00:39<00:00,  5.63s/it]\n"
     ]
    },
    {
     "name": "stdout",
     "output_type": "stream",
     "text": [
      "Epoch 54: Train Loss: 1.1219, Train Acc: 65.4552, Val Loss: 1.4057, Val Acc: 64.4531\n",
      "Epoch 53 - Metrics did not improve, wait: 1\n"
     ]
    },
    {
     "name": "stderr",
     "output_type": "stream",
     "text": [
      "Epoch 55/100: 100%|██████████| 7/7 [00:37<00:00,  5.32s/it]\n"
     ]
    },
    {
     "name": "stdout",
     "output_type": "stream",
     "text": [
      "Epoch 55: Train Loss: 1.1008, Train Acc: 65.3436, Val Loss: 1.4081, Val Acc: 66.6667\n",
      "Epoch 54 - Metrics did not improve, wait: 2\n"
     ]
    },
    {
     "name": "stderr",
     "output_type": "stream",
     "text": [
      "Epoch 56/100: 100%|██████████| 7/7 [00:38<00:00,  5.48s/it]\n"
     ]
    },
    {
     "name": "stdout",
     "output_type": "stream",
     "text": [
      "Epoch 56: Train Loss: 1.0843, Train Acc: 65.5435, Val Loss: 1.3851, Val Acc: 66.7969\n",
      "Epoch 55 - Best metrics: 66.796875 - Keeping weights\n"
     ]
    },
    {
     "name": "stderr",
     "output_type": "stream",
     "text": [
      "Epoch 57/100: 100%|██████████| 7/7 [00:39<00:00,  5.71s/it]\n"
     ]
    },
    {
     "name": "stdout",
     "output_type": "stream",
     "text": [
      "Epoch 57: Train Loss: 1.0707, Train Acc: 66.9294, Val Loss: 1.3719, Val Acc: 66.9271\n",
      "Epoch 56 - Best metrics: 66.92708333333333 - Keeping weights\n"
     ]
    },
    {
     "name": "stderr",
     "output_type": "stream",
     "text": [
      "Epoch 58/100: 100%|██████████| 7/7 [00:38<00:00,  5.45s/it]\n"
     ]
    },
    {
     "name": "stdout",
     "output_type": "stream",
     "text": [
      "Epoch 58: Train Loss: 1.0630, Train Acc: 66.2760, Val Loss: 1.3684, Val Acc: 66.4062\n",
      "Epoch 57 - Metrics did not improve, wait: 1\n"
     ]
    },
    {
     "name": "stderr",
     "output_type": "stream",
     "text": [
      "Epoch 59/100: 100%|██████████| 7/7 [00:38<00:00,  5.53s/it]\n"
     ]
    },
    {
     "name": "stdout",
     "output_type": "stream",
     "text": [
      "Epoch 59: Train Loss: 1.0506, Train Acc: 67.1096, Val Loss: 1.3484, Val Acc: 67.1875\n",
      "Epoch 58 - Best metrics: 67.1875 - Keeping weights\n"
     ]
    },
    {
     "name": "stderr",
     "output_type": "stream",
     "text": [
      "Epoch 60/100: 100%|██████████| 7/7 [00:37<00:00,  5.39s/it]\n"
     ]
    },
    {
     "name": "stdout",
     "output_type": "stream",
     "text": [
      "Epoch 60: Train Loss: 1.0503, Train Acc: 67.2572, Val Loss: 1.3387, Val Acc: 68.4896\n",
      "Epoch 59 - Best metrics: 68.48958333333333 - Keeping weights\n"
     ]
    },
    {
     "name": "stderr",
     "output_type": "stream",
     "text": [
      "Epoch 61/100: 100%|██████████| 7/7 [00:38<00:00,  5.53s/it]\n"
     ]
    },
    {
     "name": "stdout",
     "output_type": "stream",
     "text": [
      "Epoch 61: Train Loss: 1.0203, Train Acc: 68.0526, Val Loss: 1.3357, Val Acc: 69.0104\n",
      "Epoch 60 - Best metrics: 69.01041666666667 - Keeping weights\n"
     ]
    },
    {
     "name": "stderr",
     "output_type": "stream",
     "text": [
      "Epoch 62/100: 100%|██████████| 7/7 [00:38<00:00,  5.54s/it]\n"
     ]
    },
    {
     "name": "stdout",
     "output_type": "stream",
     "text": [
      "Epoch 62: Train Loss: 0.9823, Train Acc: 69.3036, Val Loss: 1.3088, Val Acc: 69.5312\n",
      "Epoch 61 - Best metrics: 69.53125 - Keeping weights\n"
     ]
    },
    {
     "name": "stderr",
     "output_type": "stream",
     "text": [
      "Epoch 63/100: 100%|██████████| 7/7 [00:39<00:00,  5.65s/it]\n"
     ]
    },
    {
     "name": "stdout",
     "output_type": "stream",
     "text": [
      "Epoch 63: Train Loss: 0.9881, Train Acc: 68.1875, Val Loss: 1.3048, Val Acc: 68.7500\n",
      "Epoch 62 - Metrics did not improve, wait: 1\n"
     ]
    },
    {
     "name": "stderr",
     "output_type": "stream",
     "text": [
      "Epoch 64/100: 100%|██████████| 7/7 [00:40<00:00,  5.82s/it]\n"
     ]
    },
    {
     "name": "stdout",
     "output_type": "stream",
     "text": [
      "Epoch 64: Train Loss: 0.9840, Train Acc: 68.2002, Val Loss: 1.2986, Val Acc: 70.0521\n",
      "Epoch 63 - Best metrics: 70.05208333333333 - Keeping weights\n"
     ]
    },
    {
     "name": "stderr",
     "output_type": "stream",
     "text": [
      "Epoch 65/100: 100%|██████████| 7/7 [00:41<00:00,  5.99s/it]\n"
     ]
    },
    {
     "name": "stdout",
     "output_type": "stream",
     "text": [
      "Epoch 65: Train Loss: 0.9537, Train Acc: 69.6780, Val Loss: 1.2843, Val Acc: 72.1354\n",
      "Epoch 64 - Best metrics: 72.13541666666667 - Keeping weights\n"
     ]
    },
    {
     "name": "stderr",
     "output_type": "stream",
     "text": [
      "Epoch 66/100: 100%|██████████| 7/7 [00:40<00:00,  5.72s/it]\n"
     ]
    },
    {
     "name": "stdout",
     "output_type": "stream",
     "text": [
      "Epoch 66: Train Loss: 0.9305, Train Acc: 70.7220, Val Loss: 1.2709, Val Acc: 71.8750\n",
      "Epoch 65 - Metrics did not improve, wait: 1\n"
     ]
    },
    {
     "name": "stderr",
     "output_type": "stream",
     "text": [
      "Epoch 67/100: 100%|██████████| 7/7 [00:39<00:00,  5.70s/it]\n"
     ]
    },
    {
     "name": "stdout",
     "output_type": "stream",
     "text": [
      "Epoch 67: Train Loss: 0.9437, Train Acc: 70.6952, Val Loss: 1.2552, Val Acc: 72.2656\n",
      "Epoch 66 - Best metrics: 72.265625 - Keeping weights\n"
     ]
    },
    {
     "name": "stderr",
     "output_type": "stream",
     "text": [
      "Epoch 68/100: 100%|██████████| 7/7 [00:41<00:00,  5.91s/it]\n"
     ]
    },
    {
     "name": "stdout",
     "output_type": "stream",
     "text": [
      "Epoch 68: Train Loss: 0.9219, Train Acc: 70.3964, Val Loss: 1.2607, Val Acc: 74.0885\n",
      "Epoch 67 - Best metrics: 74.08854166666667 - Keeping weights\n"
     ]
    },
    {
     "name": "stderr",
     "output_type": "stream",
     "text": [
      "Epoch 69/100: 100%|██████████| 7/7 [00:38<00:00,  5.56s/it]\n"
     ]
    },
    {
     "name": "stdout",
     "output_type": "stream",
     "text": [
      "Epoch 69: Train Loss: 0.9286, Train Acc: 71.0985, Val Loss: 1.2452, Val Acc: 73.5677\n",
      "Epoch 68 - Metrics did not improve, wait: 1\n"
     ]
    },
    {
     "name": "stderr",
     "output_type": "stream",
     "text": [
      "Epoch 70/100: 100%|██████████| 7/7 [00:45<00:00,  6.47s/it]\n"
     ]
    },
    {
     "name": "stdout",
     "output_type": "stream",
     "text": [
      "Epoch 70: Train Loss: 0.8992, Train Acc: 72.0217, Val Loss: 1.2325, Val Acc: 73.5677\n",
      "Epoch 69 - Metrics did not improve, wait: 2\n"
     ]
    },
    {
     "name": "stderr",
     "output_type": "stream",
     "text": [
      "Epoch 71/100: 100%|██████████| 7/7 [00:40<00:00,  5.76s/it]\n"
     ]
    },
    {
     "name": "stdout",
     "output_type": "stream",
     "text": [
      "Epoch 71: Train Loss: 0.8943, Train Acc: 72.0415, Val Loss: 1.2169, Val Acc: 71.7448\n",
      "Epoch 70 - Metrics did not improve, wait: 3\n"
     ]
    },
    {
     "name": "stderr",
     "output_type": "stream",
     "text": [
      "Epoch 72/100: 100%|██████████| 7/7 [00:37<00:00,  5.36s/it]\n"
     ]
    },
    {
     "name": "stdout",
     "output_type": "stream",
     "text": [
      "Epoch 72: Train Loss: 0.8983, Train Acc: 71.7858, Val Loss: 1.2233, Val Acc: 74.8698\n",
      "Epoch 71 - Best metrics: 74.86979166666667 - Keeping weights\n"
     ]
    },
    {
     "name": "stderr",
     "output_type": "stream",
     "text": [
      "Epoch 73/100: 100%|██████████| 7/7 [00:39<00:00,  5.66s/it]\n"
     ]
    },
    {
     "name": "stdout",
     "output_type": "stream",
     "text": [
      "Epoch 73: Train Loss: 0.8623, Train Acc: 71.9984, Val Loss: 1.2106, Val Acc: 73.4375\n",
      "Epoch 72 - Metrics did not improve, wait: 1\n"
     ]
    },
    {
     "name": "stderr",
     "output_type": "stream",
     "text": [
      "Epoch 74/100: 100%|██████████| 7/7 [00:40<00:00,  5.78s/it]\n"
     ]
    },
    {
     "name": "stdout",
     "output_type": "stream",
     "text": [
      "Epoch 74: Train Loss: 0.8577, Train Acc: 72.8426, Val Loss: 1.1844, Val Acc: 74.3490\n",
      "Epoch 73 - Metrics did not improve, wait: 2\n"
     ]
    },
    {
     "name": "stderr",
     "output_type": "stream",
     "text": [
      "Epoch 75/100: 100%|██████████| 7/7 [00:38<00:00,  5.44s/it]\n"
     ]
    },
    {
     "name": "stdout",
     "output_type": "stream",
     "text": [
      "Epoch 75: Train Loss: 0.8509, Train Acc: 73.6527, Val Loss: 1.1762, Val Acc: 74.0885\n",
      "Epoch 74 - Metrics did not improve, wait: 3\n"
     ]
    },
    {
     "name": "stderr",
     "output_type": "stream",
     "text": [
      "Epoch 76/100: 100%|██████████| 7/7 [00:39<00:00,  5.71s/it]\n"
     ]
    },
    {
     "name": "stdout",
     "output_type": "stream",
     "text": [
      "Epoch 76: Train Loss: 0.8433, Train Acc: 73.6796, Val Loss: 1.1719, Val Acc: 73.0469\n",
      "Epoch 75 - Metrics did not improve, wait: 4\n"
     ]
    },
    {
     "name": "stderr",
     "output_type": "stream",
     "text": [
      "Epoch 77/100: 100%|██████████| 7/7 [00:44<00:00,  6.37s/it]\n"
     ]
    },
    {
     "name": "stdout",
     "output_type": "stream",
     "text": [
      "Epoch 77: Train Loss: 0.8248, Train Acc: 74.4933, Val Loss: 1.1679, Val Acc: 75.0000\n",
      "Epoch 76 - Best metrics: 75.0 - Keeping weights\n"
     ]
    },
    {
     "name": "stderr",
     "output_type": "stream",
     "text": [
      "Epoch 78/100: 100%|██████████| 7/7 [00:36<00:00,  5.15s/it]\n"
     ]
    },
    {
     "name": "stdout",
     "output_type": "stream",
     "text": [
      "Epoch 78: Train Loss: 0.8128, Train Acc: 75.2619, Val Loss: 1.1484, Val Acc: 73.8281\n",
      "Epoch 77 - Metrics did not improve, wait: 1\n"
     ]
    },
    {
     "name": "stderr",
     "output_type": "stream",
     "text": [
      "Epoch 79/100: 100%|██████████| 7/7 [00:35<00:00,  5.09s/it]\n"
     ]
    },
    {
     "name": "stdout",
     "output_type": "stream",
     "text": [
      "Epoch 79: Train Loss: 0.8085, Train Acc: 74.2235, Val Loss: 1.1553, Val Acc: 75.1302\n",
      "Epoch 78 - Best metrics: 75.13020833333333 - Keeping weights\n"
     ]
    },
    {
     "name": "stderr",
     "output_type": "stream",
     "text": [
      "Epoch 80/100: 100%|██████████| 7/7 [00:36<00:00,  5.17s/it]\n"
     ]
    },
    {
     "name": "stdout",
     "output_type": "stream",
     "text": [
      "Epoch 80: Train Loss: 0.7990, Train Acc: 74.0702, Val Loss: 1.1438, Val Acc: 75.9115\n",
      "Epoch 79 - Best metrics: 75.91145833333333 - Keeping weights\n"
     ]
    },
    {
     "name": "stderr",
     "output_type": "stream",
     "text": [
      "Epoch 81/100: 100%|██████████| 7/7 [00:42<00:00,  6.01s/it]\n"
     ]
    },
    {
     "name": "stdout",
     "output_type": "stream",
     "text": [
      "Epoch 81: Train Loss: 0.7787, Train Acc: 75.2061, Val Loss: 1.1267, Val Acc: 75.2604\n",
      "Epoch 80 - Metrics did not improve, wait: 1\n"
     ]
    },
    {
     "name": "stderr",
     "output_type": "stream",
     "text": [
      "Epoch 82/100: 100%|██████████| 7/7 [00:58<00:00,  8.39s/it]\n"
     ]
    },
    {
     "name": "stdout",
     "output_type": "stream",
     "text": [
      "Epoch 82: Train Loss: 0.7757, Train Acc: 75.1376, Val Loss: 1.1138, Val Acc: 75.5208\n",
      "Epoch 81 - Metrics did not improve, wait: 2\n"
     ]
    },
    {
     "name": "stderr",
     "output_type": "stream",
     "text": [
      "Epoch 83/100: 100%|██████████| 7/7 [00:46<00:00,  6.65s/it]\n"
     ]
    },
    {
     "name": "stdout",
     "output_type": "stream",
     "text": [
      "Epoch 83: Train Loss: 0.7647, Train Acc: 75.3106, Val Loss: 1.1117, Val Acc: 75.1302\n",
      "Epoch 82 - Metrics did not improve, wait: 3\n"
     ]
    },
    {
     "name": "stderr",
     "output_type": "stream",
     "text": [
      "Epoch 84/100: 100%|██████████| 7/7 [00:44<00:00,  6.29s/it]\n"
     ]
    },
    {
     "name": "stdout",
     "output_type": "stream",
     "text": [
      "Epoch 84: Train Loss: 0.7576, Train Acc: 76.5885, Val Loss: 1.1092, Val Acc: 75.7812\n",
      "Epoch 83 - Metrics did not improve, wait: 4\n"
     ]
    },
    {
     "name": "stderr",
     "output_type": "stream",
     "text": [
      "Epoch 85/100: 100%|██████████| 7/7 [00:42<00:00,  6.11s/it]\n"
     ]
    },
    {
     "name": "stdout",
     "output_type": "stream",
     "text": [
      "Epoch 85: Train Loss: 0.7343, Train Acc: 76.5687, Val Loss: 1.0949, Val Acc: 75.7812\n",
      "Epoch 84 - Metrics did not improve, wait: 5\n"
     ]
    },
    {
     "name": "stderr",
     "output_type": "stream",
     "text": [
      "Epoch 86/100: 100%|██████████| 7/7 [00:56<00:00,  8.09s/it]\n"
     ]
    },
    {
     "name": "stdout",
     "output_type": "stream",
     "text": [
      "Epoch 86: Train Loss: 0.7349, Train Acc: 77.1952, Val Loss: 1.0952, Val Acc: 74.7396\n",
      "Epoch 85 - Metrics did not improve, wait: 6\n"
     ]
    },
    {
     "name": "stderr",
     "output_type": "stream",
     "text": [
      "Epoch 87/100: 100%|██████████| 7/7 [00:43<00:00,  6.28s/it]\n"
     ]
    },
    {
     "name": "stdout",
     "output_type": "stream",
     "text": [
      "Epoch 87: Train Loss: 0.7353, Train Acc: 77.0999, Val Loss: 1.0681, Val Acc: 74.8698\n",
      "Epoch 86 - Metrics did not improve, wait: 7\n"
     ]
    },
    {
     "name": "stderr",
     "output_type": "stream",
     "text": [
      "Epoch 88/100: 100%|██████████| 7/7 [00:46<00:00,  6.61s/it]\n"
     ]
    },
    {
     "name": "stdout",
     "output_type": "stream",
     "text": [
      "Epoch 88: Train Loss: 0.7202, Train Acc: 77.6508, Val Loss: 1.0717, Val Acc: 74.8698\n",
      "Epoch 87 - Metrics did not improve, wait: 8\n"
     ]
    },
    {
     "name": "stderr",
     "output_type": "stream",
     "text": [
      "Epoch 89/100: 100%|██████████| 7/7 [00:41<00:00,  5.95s/it]\n"
     ]
    },
    {
     "name": "stdout",
     "output_type": "stream",
     "text": [
      "Epoch 89: Train Loss: 0.7029, Train Acc: 77.5011, Val Loss: 1.0584, Val Acc: 74.0885\n",
      "Epoch 88 - Metrics did not improve, wait: 9\n"
     ]
    },
    {
     "name": "stderr",
     "output_type": "stream",
     "text": [
      "Epoch 90/100: 100%|██████████| 7/7 [00:48<00:00,  6.98s/it]\n"
     ]
    },
    {
     "name": "stdout",
     "output_type": "stream",
     "text": [
      "Epoch 90: Train Loss: 0.6935, Train Acc: 77.8451, Val Loss: 1.0456, Val Acc: 75.1302\n",
      "Epoch 89 - Metrics did not improve, wait: 10\n",
      "Epoch 89 - Patience reached - Restoring weights\n"
     ]
    },
    {
     "name": "stderr",
     "output_type": "stream",
     "text": [
      "Epoch 1/100: 100%|██████████| 7/7 [00:49<00:00,  7.08s/it]\n"
     ]
    },
    {
     "name": "stdout",
     "output_type": "stream",
     "text": [
      "Epoch 1: Train Loss: 2.5546, Train Acc: 10.9927, Val Loss: 2.5509, Val Acc: 20.8333\n",
      "Epoch 0 - Keeping weights\n"
     ]
    },
    {
     "name": "stderr",
     "output_type": "stream",
     "text": [
      "Epoch 2/100: 100%|██████████| 7/7 [00:50<00:00,  7.18s/it]\n"
     ]
    },
    {
     "name": "stdout",
     "output_type": "stream",
     "text": [
      "Epoch 2: Train Loss: 2.5226, Train Acc: 16.5244, Val Loss: 2.5326, Val Acc: 17.0573\n"
     ]
    },
    {
     "name": "stderr",
     "output_type": "stream",
     "text": [
      "Epoch 3/100: 100%|██████████| 7/7 [00:46<00:00,  6.71s/it]\n"
     ]
    },
    {
     "name": "stdout",
     "output_type": "stream",
     "text": [
      "Epoch 3: Train Loss: 2.4830, Train Acc: 18.2041, Val Loss: 2.5133, Val Acc: 15.7552\n"
     ]
    },
    {
     "name": "stderr",
     "output_type": "stream",
     "text": [
      "Epoch 4/100: 100%|██████████| 7/7 [00:58<00:00,  8.33s/it]\n"
     ]
    },
    {
     "name": "stdout",
     "output_type": "stream",
     "text": [
      "Epoch 4: Train Loss: 2.4461, Train Acc: 18.9437, Val Loss: 2.4947, Val Acc: 16.4062\n"
     ]
    },
    {
     "name": "stderr",
     "output_type": "stream",
     "text": [
      "Epoch 5/100: 100%|██████████| 7/7 [00:55<00:00,  7.86s/it]\n"
     ]
    },
    {
     "name": "stdout",
     "output_type": "stream",
     "text": [
      "Epoch 5: Train Loss: 2.4146, Train Acc: 17.9915, Val Loss: 2.4773, Val Acc: 18.4896\n"
     ]
    },
    {
     "name": "stderr",
     "output_type": "stream",
     "text": [
      "Epoch 6/100: 100%|██████████| 7/7 [00:54<00:00,  7.82s/it]\n"
     ]
    },
    {
     "name": "stdout",
     "output_type": "stream",
     "text": [
      "Epoch 6: Train Loss: 2.3967, Train Acc: 20.5620, Val Loss: 2.4624, Val Acc: 18.8802\n"
     ]
    },
    {
     "name": "stderr",
     "output_type": "stream",
     "text": [
      "Epoch 7/100: 100%|██████████| 7/7 [00:49<00:00,  7.03s/it]\n"
     ]
    },
    {
     "name": "stdout",
     "output_type": "stream",
     "text": [
      "Epoch 7: Train Loss: 2.3762, Train Acc: 23.7012, Val Loss: 2.4511, Val Acc: 23.5677\n"
     ]
    },
    {
     "name": "stderr",
     "output_type": "stream",
     "text": [
      "Epoch 8/100: 100%|██████████| 7/7 [00:41<00:00,  5.95s/it]\n"
     ]
    },
    {
     "name": "stdout",
     "output_type": "stream",
     "text": [
      "Epoch 8: Train Loss: 2.3689, Train Acc: 25.0242, Val Loss: 2.4422, Val Acc: 26.9531\n"
     ]
    },
    {
     "name": "stderr",
     "output_type": "stream",
     "text": [
      "Epoch 9/100: 100%|██████████| 7/7 [00:39<00:00,  5.63s/it]\n"
     ]
    },
    {
     "name": "stdout",
     "output_type": "stream",
     "text": [
      "Epoch 9: Train Loss: 2.3536, Train Acc: 27.7261, Val Loss: 2.4347, Val Acc: 29.8177\n"
     ]
    },
    {
     "name": "stderr",
     "output_type": "stream",
     "text": [
      "Epoch 10/100: 100%|██████████| 7/7 [00:38<00:00,  5.57s/it]\n"
     ]
    },
    {
     "name": "stdout",
     "output_type": "stream",
     "text": [
      "Epoch 10: Train Loss: 2.3442, Train Acc: 28.7504, Val Loss: 2.4263, Val Acc: 30.5990\n"
     ]
    },
    {
     "name": "stderr",
     "output_type": "stream",
     "text": [
      "Epoch 11/100: 100%|██████████| 7/7 [00:40<00:00,  5.83s/it]\n"
     ]
    },
    {
     "name": "stdout",
     "output_type": "stream",
     "text": [
      "Epoch 11: Train Loss: 2.3224, Train Acc: 30.3524, Val Loss: 2.4166, Val Acc: 31.3802\n",
      "Epoch 10 - Best metrics: 31.380208333333332 - Keeping weights\n"
     ]
    },
    {
     "name": "stderr",
     "output_type": "stream",
     "text": [
      "Epoch 12/100: 100%|██████████| 7/7 [00:40<00:00,  5.78s/it]\n"
     ]
    },
    {
     "name": "stdout",
     "output_type": "stream",
     "text": [
      "Epoch 12: Train Loss: 2.3145, Train Acc: 29.2130, Val Loss: 2.4067, Val Acc: 31.7708\n",
      "Epoch 11 - Best metrics: 31.770833333333332 - Keeping weights\n"
     ]
    },
    {
     "name": "stderr",
     "output_type": "stream",
     "text": [
      "Epoch 13/100: 100%|██████████| 7/7 [00:40<00:00,  5.75s/it]\n"
     ]
    },
    {
     "name": "stdout",
     "output_type": "stream",
     "text": [
      "Epoch 13: Train Loss: 2.2988, Train Acc: 30.9394, Val Loss: 2.3960, Val Acc: 32.5521\n",
      "Epoch 12 - Best metrics: 32.552083333333336 - Keeping weights\n"
     ]
    },
    {
     "name": "stderr",
     "output_type": "stream",
     "text": [
      "Epoch 14/100: 100%|██████████| 7/7 [00:41<00:00,  5.86s/it]\n"
     ]
    },
    {
     "name": "stdout",
     "output_type": "stream",
     "text": [
      "Epoch 14: Train Loss: 2.2815, Train Acc: 31.6628, Val Loss: 2.3847, Val Acc: 31.7708\n",
      "Epoch 13 - Metrics did not improve, wait: 1\n"
     ]
    },
    {
     "name": "stderr",
     "output_type": "stream",
     "text": [
      "Epoch 15/100: 100%|██████████| 7/7 [00:42<00:00,  6.10s/it]\n"
     ]
    },
    {
     "name": "stdout",
     "output_type": "stream",
     "text": [
      "Epoch 15: Train Loss: 2.2560, Train Acc: 32.2406, Val Loss: 2.3704, Val Acc: 32.0312\n",
      "Epoch 14 - Metrics did not improve, wait: 2\n"
     ]
    },
    {
     "name": "stderr",
     "output_type": "stream",
     "text": [
      "Epoch 16/100: 100%|██████████| 7/7 [00:44<00:00,  6.36s/it]\n"
     ]
    },
    {
     "name": "stdout",
     "output_type": "stream",
     "text": [
      "Epoch 16: Train Loss: 2.2359, Train Acc: 32.1254, Val Loss: 2.3542, Val Acc: 31.7708\n",
      "Epoch 15 - Metrics did not improve, wait: 3\n"
     ]
    },
    {
     "name": "stderr",
     "output_type": "stream",
     "text": [
      "Epoch 17/100: 100%|██████████| 7/7 [00:48<00:00,  6.87s/it]\n"
     ]
    },
    {
     "name": "stdout",
     "output_type": "stream",
     "text": [
      "Epoch 17: Train Loss: 2.2143, Train Acc: 33.1264, Val Loss: 2.3387, Val Acc: 32.0312\n",
      "Epoch 16 - Metrics did not improve, wait: 4\n"
     ]
    },
    {
     "name": "stderr",
     "output_type": "stream",
     "text": [
      "Epoch 18/100: 100%|██████████| 7/7 [00:40<00:00,  5.80s/it]\n"
     ]
    },
    {
     "name": "stdout",
     "output_type": "stream",
     "text": [
      "Epoch 18: Train Loss: 2.1860, Train Acc: 32.2949, Val Loss: 2.3189, Val Acc: 32.0312\n",
      "Epoch 17 - Metrics did not improve, wait: 5\n"
     ]
    },
    {
     "name": "stderr",
     "output_type": "stream",
     "text": [
      "Epoch 19/100: 100%|██████████| 7/7 [00:40<00:00,  5.75s/it]\n"
     ]
    },
    {
     "name": "stdout",
     "output_type": "stream",
     "text": [
      "Epoch 19: Train Loss: 2.1557, Train Acc: 34.6077, Val Loss: 2.3006, Val Acc: 32.2917\n",
      "Learning rate changed from 0.001 to 0.0001 at epoch 18\n",
      "Epoch 18 - Metrics did not improve, wait: 6\n"
     ]
    },
    {
     "name": "stderr",
     "output_type": "stream",
     "text": [
      "Epoch 20/100: 100%|██████████| 7/7 [00:40<00:00,  5.85s/it]\n"
     ]
    },
    {
     "name": "stdout",
     "output_type": "stream",
     "text": [
      "Epoch 20: Train Loss: 2.1379, Train Acc: 33.3065, Val Loss: 2.2985, Val Acc: 32.2917\n",
      "Epoch 19 - Metrics did not improve, wait: 7\n"
     ]
    },
    {
     "name": "stderr",
     "output_type": "stream",
     "text": [
      "Epoch 21/100: 100%|██████████| 7/7 [00:40<00:00,  5.82s/it]\n"
     ]
    },
    {
     "name": "stdout",
     "output_type": "stream",
     "text": [
      "Epoch 21: Train Loss: 2.1334, Train Acc: 33.8716, Val Loss: 2.2963, Val Acc: 32.2917\n",
      "Epoch 20 - Metrics did not improve, wait: 8\n"
     ]
    },
    {
     "name": "stderr",
     "output_type": "stream",
     "text": [
      "Epoch 22/100: 100%|██████████| 7/7 [00:39<00:00,  5.69s/it]\n"
     ]
    },
    {
     "name": "stdout",
     "output_type": "stream",
     "text": [
      "Epoch 22: Train Loss: 2.1359, Train Acc: 34.1577, Val Loss: 2.2942, Val Acc: 32.2917\n",
      "Epoch 21 - Metrics did not improve, wait: 9\n"
     ]
    },
    {
     "name": "stderr",
     "output_type": "stream",
     "text": [
      "Epoch 23/100: 100%|██████████| 7/7 [00:39<00:00,  5.67s/it]\n"
     ]
    },
    {
     "name": "stdout",
     "output_type": "stream",
     "text": [
      "Epoch 23: Train Loss: 2.1363, Train Acc: 34.1090, Val Loss: 2.2922, Val Acc: 32.2917\n",
      "Epoch 22 - Metrics did not improve, wait: 10\n",
      "Epoch 22 - Patience reached - Restoring weights\n"
     ]
    },
    {
     "name": "stderr",
     "output_type": "stream",
     "text": [
      "Epoch 1/100: 100%|██████████| 14/14 [00:43<00:00,  3.14s/it]\n"
     ]
    },
    {
     "name": "stdout",
     "output_type": "stream",
     "text": [
      "Epoch 1: Train Loss: 2.5264, Train Acc: 12.3930, Val Loss: 2.5070, Val Acc: 15.3125\n",
      "Epoch 0 - Keeping weights\n"
     ]
    },
    {
     "name": "stderr",
     "output_type": "stream",
     "text": [
      "Epoch 2/100: 100%|██████████| 14/14 [00:45<00:00,  3.22s/it]\n"
     ]
    },
    {
     "name": "stdout",
     "output_type": "stream",
     "text": [
      "Epoch 2: Train Loss: 2.4036, Train Acc: 19.5075, Val Loss: 2.4324, Val Acc: 19.5312\n"
     ]
    },
    {
     "name": "stderr",
     "output_type": "stream",
     "text": [
      "Epoch 3/100: 100%|██████████| 14/14 [00:44<00:00,  3.18s/it]\n"
     ]
    },
    {
     "name": "stdout",
     "output_type": "stream",
     "text": [
      "Epoch 3: Train Loss: 2.3623, Train Acc: 24.8866, Val Loss: 2.3964, Val Acc: 31.0938\n"
     ]
    },
    {
     "name": "stderr",
     "output_type": "stream",
     "text": [
      "Epoch 4/100: 100%|██████████| 14/14 [00:44<00:00,  3.16s/it]\n"
     ]
    },
    {
     "name": "stdout",
     "output_type": "stream",
     "text": [
      "Epoch 4: Train Loss: 2.2934, Train Acc: 29.6802, Val Loss: 2.3667, Val Acc: 31.0938\n"
     ]
    },
    {
     "name": "stderr",
     "output_type": "stream",
     "text": [
      "Epoch 5/100: 100%|██████████| 14/14 [00:46<00:00,  3.29s/it]\n"
     ]
    },
    {
     "name": "stdout",
     "output_type": "stream",
     "text": [
      "Epoch 5: Train Loss: 2.1935, Train Acc: 31.7614, Val Loss: 2.2775, Val Acc: 32.3438\n"
     ]
    },
    {
     "name": "stderr",
     "output_type": "stream",
     "text": [
      "Epoch 6/100: 100%|██████████| 14/14 [00:44<00:00,  3.21s/it]\n"
     ]
    },
    {
     "name": "stdout",
     "output_type": "stream",
     "text": [
      "Epoch 6: Train Loss: 2.0900, Train Acc: 33.0732, Val Loss: 2.1820, Val Acc: 35.9375\n"
     ]
    },
    {
     "name": "stderr",
     "output_type": "stream",
     "text": [
      "Epoch 7/100: 100%|██████████| 14/14 [00:44<00:00,  3.18s/it]\n"
     ]
    },
    {
     "name": "stdout",
     "output_type": "stream",
     "text": [
      "Epoch 7: Train Loss: 1.9830, Train Acc: 36.1525, Val Loss: 2.1013, Val Acc: 37.3438\n"
     ]
    },
    {
     "name": "stderr",
     "output_type": "stream",
     "text": [
      "Epoch 8/100: 100%|██████████| 14/14 [00:43<00:00,  3.12s/it]\n"
     ]
    },
    {
     "name": "stdout",
     "output_type": "stream",
     "text": [
      "Epoch 8: Train Loss: 1.9068, Train Acc: 38.2062, Val Loss: 2.0078, Val Acc: 39.5312\n"
     ]
    },
    {
     "name": "stderr",
     "output_type": "stream",
     "text": [
      "Epoch 9/100: 100%|██████████| 14/14 [00:43<00:00,  3.09s/it]\n"
     ]
    },
    {
     "name": "stdout",
     "output_type": "stream",
     "text": [
      "Epoch 9: Train Loss: 1.8144, Train Acc: 39.8803, Val Loss: 1.9567, Val Acc: 46.7188\n"
     ]
    },
    {
     "name": "stderr",
     "output_type": "stream",
     "text": [
      "Epoch 10/100: 100%|██████████| 14/14 [00:43<00:00,  3.10s/it]\n"
     ]
    },
    {
     "name": "stdout",
     "output_type": "stream",
     "text": [
      "Epoch 10: Train Loss: 1.7314, Train Acc: 43.8762, Val Loss: 1.8509, Val Acc: 46.0938\n"
     ]
    },
    {
     "name": "stderr",
     "output_type": "stream",
     "text": [
      "Epoch 11/100: 100%|██████████| 14/14 [00:43<00:00,  3.13s/it]\n"
     ]
    },
    {
     "name": "stdout",
     "output_type": "stream",
     "text": [
      "Epoch 11: Train Loss: 1.6210, Train Acc: 48.0441, Val Loss: 1.7639, Val Acc: 50.1562\n",
      "Epoch 10 - Best metrics: 50.15625 - Keeping weights\n"
     ]
    },
    {
     "name": "stderr",
     "output_type": "stream",
     "text": [
      "Epoch 12/100: 100%|██████████| 14/14 [00:43<00:00,  3.12s/it]\n"
     ]
    },
    {
     "name": "stdout",
     "output_type": "stream",
     "text": [
      "Epoch 12: Train Loss: 1.5366, Train Acc: 50.3989, Val Loss: 1.7034, Val Acc: 55.6250\n",
      "Epoch 11 - Best metrics: 55.625 - Keeping weights\n"
     ]
    },
    {
     "name": "stderr",
     "output_type": "stream",
     "text": [
      "Epoch 13/100: 100%|██████████| 14/14 [00:44<00:00,  3.15s/it]\n"
     ]
    },
    {
     "name": "stdout",
     "output_type": "stream",
     "text": [
      "Epoch 13: Train Loss: 1.4664, Train Acc: 53.2723, Val Loss: 1.6315, Val Acc: 58.7500\n",
      "Epoch 12 - Best metrics: 58.75 - Keeping weights\n"
     ]
    },
    {
     "name": "stderr",
     "output_type": "stream",
     "text": [
      "Epoch 14/100: 100%|██████████| 14/14 [00:44<00:00,  3.18s/it]\n"
     ]
    },
    {
     "name": "stdout",
     "output_type": "stream",
     "text": [
      "Epoch 14: Train Loss: 1.4097, Train Acc: 55.5657, Val Loss: 1.5951, Val Acc: 61.4062\n",
      "Epoch 13 - Best metrics: 61.40625 - Keeping weights\n"
     ]
    },
    {
     "name": "stderr",
     "output_type": "stream",
     "text": [
      "Epoch 15/100: 100%|██████████| 14/14 [00:43<00:00,  3.10s/it]\n"
     ]
    },
    {
     "name": "stdout",
     "output_type": "stream",
     "text": [
      "Epoch 15: Train Loss: 1.3334, Train Acc: 57.2847, Val Loss: 1.5401, Val Acc: 62.0312\n",
      "Epoch 14 - Best metrics: 62.03125 - Keeping weights\n"
     ]
    },
    {
     "name": "stderr",
     "output_type": "stream",
     "text": [
      "Epoch 16/100: 100%|██████████| 14/14 [00:43<00:00,  3.10s/it]\n"
     ]
    },
    {
     "name": "stdout",
     "output_type": "stream",
     "text": [
      "Epoch 16: Train Loss: 1.2729, Train Acc: 59.8287, Val Loss: 1.5098, Val Acc: 64.3750\n",
      "Epoch 15 - Best metrics: 64.375 - Keeping weights\n"
     ]
    },
    {
     "name": "stderr",
     "output_type": "stream",
     "text": [
      "Epoch 17/100: 100%|██████████| 14/14 [00:44<00:00,  3.18s/it]\n"
     ]
    },
    {
     "name": "stdout",
     "output_type": "stream",
     "text": [
      "Epoch 17: Train Loss: 1.2486, Train Acc: 61.0345, Val Loss: 1.4744, Val Acc: 65.3125\n",
      "Epoch 16 - Best metrics: 65.3125 - Keeping weights\n"
     ]
    },
    {
     "name": "stderr",
     "output_type": "stream",
     "text": [
      "Epoch 18/100: 100%|██████████| 14/14 [00:43<00:00,  3.13s/it]\n"
     ]
    },
    {
     "name": "stdout",
     "output_type": "stream",
     "text": [
      "Epoch 18: Train Loss: 1.2156, Train Acc: 61.9163, Val Loss: 1.4427, Val Acc: 64.8438\n",
      "Epoch 17 - Metrics did not improve, wait: 1\n"
     ]
    },
    {
     "name": "stderr",
     "output_type": "stream",
     "text": [
      "Epoch 19/100: 100%|██████████| 14/14 [00:43<00:00,  3.14s/it]\n"
     ]
    },
    {
     "name": "stdout",
     "output_type": "stream",
     "text": [
      "Epoch 19: Train Loss: 1.1591, Train Acc: 63.1998, Val Loss: 1.4032, Val Acc: 66.5625\n",
      "Epoch 18 - Best metrics: 66.5625 - Keeping weights\n"
     ]
    },
    {
     "name": "stderr",
     "output_type": "stream",
     "text": [
      "Epoch 20/100: 100%|██████████| 14/14 [00:44<00:00,  3.16s/it]\n"
     ]
    },
    {
     "name": "stdout",
     "output_type": "stream",
     "text": [
      "Epoch 20: Train Loss: 1.0999, Train Acc: 64.9352, Val Loss: 1.3731, Val Acc: 68.5938\n",
      "Epoch 19 - Best metrics: 68.59375 - Keeping weights\n"
     ]
    },
    {
     "name": "stderr",
     "output_type": "stream",
     "text": [
      "Epoch 21/100: 100%|██████████| 14/14 [00:43<00:00,  3.14s/it]\n"
     ]
    },
    {
     "name": "stdout",
     "output_type": "stream",
     "text": [
      "Epoch 21: Train Loss: 1.0617, Train Acc: 65.7668, Val Loss: 1.3148, Val Acc: 69.2188\n",
      "Epoch 20 - Best metrics: 69.21875 - Keeping weights\n"
     ]
    },
    {
     "name": "stderr",
     "output_type": "stream",
     "text": [
      "Epoch 22/100: 100%|██████████| 14/14 [00:42<00:00,  3.07s/it]\n"
     ]
    },
    {
     "name": "stdout",
     "output_type": "stream",
     "text": [
      "Epoch 22: Train Loss: 1.0224, Train Acc: 67.8032, Val Loss: 1.2925, Val Acc: 69.8438\n",
      "Epoch 21 - Best metrics: 69.84375 - Keeping weights\n"
     ]
    },
    {
     "name": "stderr",
     "output_type": "stream",
     "text": [
      "Epoch 23/100: 100%|██████████| 14/14 [00:44<00:00,  3.20s/it]\n"
     ]
    },
    {
     "name": "stdout",
     "output_type": "stream",
     "text": [
      "Epoch 23: Train Loss: 0.9874, Train Acc: 67.8764, Val Loss: 1.2579, Val Acc: 70.7812\n",
      "Epoch 22 - Best metrics: 70.78125 - Keeping weights\n"
     ]
    },
    {
     "name": "stderr",
     "output_type": "stream",
     "text": [
      "Epoch 24/100: 100%|██████████| 14/14 [00:46<00:00,  3.34s/it]\n"
     ]
    },
    {
     "name": "stdout",
     "output_type": "stream",
     "text": [
      "Epoch 24: Train Loss: 0.9330, Train Acc: 69.9402, Val Loss: 1.2153, Val Acc: 70.4688\n",
      "Epoch 23 - Metrics did not improve, wait: 1\n"
     ]
    },
    {
     "name": "stderr",
     "output_type": "stream",
     "text": [
      "Epoch 25/100: 100%|██████████| 14/14 [00:40<00:00,  2.88s/it]\n"
     ]
    },
    {
     "name": "stdout",
     "output_type": "stream",
     "text": [
      "Epoch 25: Train Loss: 0.9250, Train Acc: 70.3701, Val Loss: 1.1813, Val Acc: 73.1250\n",
      "Epoch 24 - Best metrics: 73.125 - Keeping weights\n"
     ]
    },
    {
     "name": "stderr",
     "output_type": "stream",
     "text": [
      "Epoch 26/100: 100%|██████████| 14/14 [00:41<00:00,  2.97s/it]\n"
     ]
    },
    {
     "name": "stdout",
     "output_type": "stream",
     "text": [
      "Epoch 26: Train Loss: 0.8988, Train Acc: 69.3272, Val Loss: 1.1643, Val Acc: 73.7500\n",
      "Epoch 25 - Best metrics: 73.75 - Keeping weights\n"
     ]
    },
    {
     "name": "stderr",
     "output_type": "stream",
     "text": [
      "Epoch 27/100: 100%|██████████| 14/14 [00:40<00:00,  2.93s/it]\n"
     ]
    },
    {
     "name": "stdout",
     "output_type": "stream",
     "text": [
      "Epoch 27: Train Loss: 0.8309, Train Acc: 72.3342, Val Loss: 1.1544, Val Acc: 73.4375\n",
      "Epoch 26 - Metrics did not improve, wait: 1\n"
     ]
    },
    {
     "name": "stderr",
     "output_type": "stream",
     "text": [
      "Epoch 28/100: 100%|██████████| 14/14 [00:39<00:00,  2.82s/it]\n"
     ]
    },
    {
     "name": "stdout",
     "output_type": "stream",
     "text": [
      "Epoch 28: Train Loss: 0.8362, Train Acc: 72.4074, Val Loss: 1.0946, Val Acc: 75.4688\n",
      "Epoch 27 - Best metrics: 75.46875 - Keeping weights\n"
     ]
    },
    {
     "name": "stderr",
     "output_type": "stream",
     "text": [
      "Epoch 29/100: 100%|██████████| 14/14 [00:39<00:00,  2.79s/it]\n"
     ]
    },
    {
     "name": "stdout",
     "output_type": "stream",
     "text": [
      "Epoch 29: Train Loss: 0.7724, Train Acc: 74.7557, Val Loss: 1.0950, Val Acc: 75.1562\n",
      "Epoch 28 - Metrics did not improve, wait: 1\n"
     ]
    },
    {
     "name": "stderr",
     "output_type": "stream",
     "text": [
      "Epoch 30/100: 100%|██████████| 14/14 [00:40<00:00,  2.88s/it]\n"
     ]
    },
    {
     "name": "stdout",
     "output_type": "stream",
     "text": [
      "Epoch 30: Train Loss: 0.7338, Train Acc: 77.2385, Val Loss: 1.0597, Val Acc: 76.0938\n",
      "Epoch 29 - Best metrics: 76.09375 - Keeping weights\n"
     ]
    },
    {
     "name": "stderr",
     "output_type": "stream",
     "text": [
      "Epoch 31/100: 100%|██████████| 14/14 [00:43<00:00,  3.11s/it]\n"
     ]
    },
    {
     "name": "stdout",
     "output_type": "stream",
     "text": [
      "Epoch 31: Train Loss: 0.7058, Train Acc: 76.9824, Val Loss: 1.0132, Val Acc: 75.9375\n",
      "Epoch 30 - Metrics did not improve, wait: 1\n"
     ]
    },
    {
     "name": "stderr",
     "output_type": "stream",
     "text": [
      "Epoch 32/100: 100%|██████████| 14/14 [00:44<00:00,  3.20s/it]\n"
     ]
    },
    {
     "name": "stdout",
     "output_type": "stream",
     "text": [
      "Epoch 32: Train Loss: 0.6814, Train Acc: 78.8129, Val Loss: 1.0034, Val Acc: 76.5625\n",
      "Epoch 31 - Best metrics: 76.5625 - Keeping weights\n"
     ]
    },
    {
     "name": "stderr",
     "output_type": "stream",
     "text": [
      "Epoch 33/100: 100%|██████████| 14/14 [00:43<00:00,  3.11s/it]\n"
     ]
    },
    {
     "name": "stdout",
     "output_type": "stream",
     "text": [
      "Epoch 33: Train Loss: 0.6571, Train Acc: 79.2310, Val Loss: 0.9729, Val Acc: 77.5000\n",
      "Epoch 32 - Best metrics: 77.5 - Keeping weights\n"
     ]
    },
    {
     "name": "stderr",
     "output_type": "stream",
     "text": [
      "Epoch 34/100: 100%|██████████| 14/14 [00:40<00:00,  2.92s/it]\n"
     ]
    },
    {
     "name": "stdout",
     "output_type": "stream",
     "text": [
      "Epoch 34: Train Loss: 0.6476, Train Acc: 79.1697, Val Loss: 0.9493, Val Acc: 77.9688\n",
      "Epoch 33 - Best metrics: 77.96875 - Keeping weights\n"
     ]
    },
    {
     "name": "stderr",
     "output_type": "stream",
     "text": [
      "Epoch 35/100: 100%|██████████| 14/14 [00:38<00:00,  2.77s/it]\n"
     ]
    },
    {
     "name": "stdout",
     "output_type": "stream",
     "text": [
      "Epoch 35: Train Loss: 0.6130, Train Acc: 81.2903, Val Loss: 0.9282, Val Acc: 77.6562\n",
      "Epoch 34 - Metrics did not improve, wait: 1\n"
     ]
    },
    {
     "name": "stderr",
     "output_type": "stream",
     "text": [
      "Epoch 36/100: 100%|██████████| 14/14 [00:38<00:00,  2.77s/it]\n"
     ]
    },
    {
     "name": "stdout",
     "output_type": "stream",
     "text": [
      "Epoch 36: Train Loss: 0.5844, Train Acc: 82.8189, Val Loss: 0.9163, Val Acc: 79.0625\n",
      "Epoch 35 - Best metrics: 79.0625 - Keeping weights\n"
     ]
    },
    {
     "name": "stderr",
     "output_type": "stream",
     "text": [
      "Epoch 37/100: 100%|██████████| 14/14 [00:40<00:00,  2.90s/it]\n"
     ]
    },
    {
     "name": "stdout",
     "output_type": "stream",
     "text": [
      "Epoch 37: Train Loss: 0.5598, Train Acc: 82.2224, Val Loss: 0.8947, Val Acc: 77.9688\n",
      "Epoch 36 - Metrics did not improve, wait: 1\n"
     ]
    },
    {
     "name": "stderr",
     "output_type": "stream",
     "text": [
      "Epoch 38/100: 100%|██████████| 14/14 [00:40<00:00,  2.88s/it]\n"
     ]
    },
    {
     "name": "stdout",
     "output_type": "stream",
     "text": [
      "Epoch 38: Train Loss: 0.5305, Train Acc: 83.8956, Val Loss: 0.8725, Val Acc: 78.1250\n",
      "Epoch 37 - Metrics did not improve, wait: 2\n"
     ]
    },
    {
     "name": "stderr",
     "output_type": "stream",
     "text": [
      "Epoch 39/100: 100%|██████████| 14/14 [00:40<00:00,  2.88s/it]\n"
     ]
    },
    {
     "name": "stdout",
     "output_type": "stream",
     "text": [
      "Epoch 39: Train Loss: 0.5146, Train Acc: 84.4034, Val Loss: 0.8369, Val Acc: 79.0625\n",
      "Epoch 38 - Metrics did not improve, wait: 3\n"
     ]
    },
    {
     "name": "stderr",
     "output_type": "stream",
     "text": [
      "Epoch 40/100: 100%|██████████| 14/14 [00:39<00:00,  2.85s/it]\n"
     ]
    },
    {
     "name": "stdout",
     "output_type": "stream",
     "text": [
      "Epoch 40: Train Loss: 0.4864, Train Acc: 85.5588, Val Loss: 0.8220, Val Acc: 81.2500\n",
      "Epoch 39 - Best metrics: 81.25 - Keeping weights\n"
     ]
    },
    {
     "name": "stderr",
     "output_type": "stream",
     "text": [
      "Epoch 41/100: 100%|██████████| 14/14 [00:39<00:00,  2.85s/it]\n"
     ]
    },
    {
     "name": "stdout",
     "output_type": "stream",
     "text": [
      "Epoch 41: Train Loss: 0.4613, Train Acc: 86.0107, Val Loss: 0.8128, Val Acc: 81.0938\n",
      "Epoch 40 - Metrics did not improve, wait: 1\n"
     ]
    },
    {
     "name": "stderr",
     "output_type": "stream",
     "text": [
      "Epoch 42/100: 100%|██████████| 14/14 [00:38<00:00,  2.74s/it]\n"
     ]
    },
    {
     "name": "stdout",
     "output_type": "stream",
     "text": [
      "Epoch 42: Train Loss: 0.4524, Train Acc: 85.4307, Val Loss: 0.7953, Val Acc: 80.6250\n",
      "Epoch 41 - Metrics did not improve, wait: 2\n"
     ]
    },
    {
     "name": "stderr",
     "output_type": "stream",
     "text": [
      "Epoch 43/100: 100%|██████████| 14/14 [00:41<00:00,  3.00s/it]\n"
     ]
    },
    {
     "name": "stdout",
     "output_type": "stream",
     "text": [
      "Epoch 43: Train Loss: 0.4195, Train Acc: 87.1935, Val Loss: 0.7748, Val Acc: 81.2500\n",
      "Epoch 42 - Metrics did not improve, wait: 3\n"
     ]
    },
    {
     "name": "stderr",
     "output_type": "stream",
     "text": [
      "Epoch 44/100: 100%|██████████| 14/14 [00:42<00:00,  3.04s/it]\n"
     ]
    },
    {
     "name": "stdout",
     "output_type": "stream",
     "text": [
      "Epoch 44: Train Loss: 0.4138, Train Acc: 86.8981, Val Loss: 0.7645, Val Acc: 81.0938\n",
      "Epoch 43 - Metrics did not improve, wait: 4\n"
     ]
    },
    {
     "name": "stderr",
     "output_type": "stream",
     "text": [
      "Epoch 45/100: 100%|██████████| 14/14 [00:40<00:00,  2.91s/it]\n"
     ]
    },
    {
     "name": "stdout",
     "output_type": "stream",
     "text": [
      "Epoch 45: Train Loss: 0.3846, Train Acc: 87.6400, Val Loss: 0.7421, Val Acc: 82.3438\n",
      "Epoch 44 - Best metrics: 82.34375 - Keeping weights\n"
     ]
    },
    {
     "name": "stderr",
     "output_type": "stream",
     "text": [
      "Epoch 46/100: 100%|██████████| 14/14 [00:41<00:00,  2.95s/it]\n"
     ]
    },
    {
     "name": "stdout",
     "output_type": "stream",
     "text": [
      "Epoch 46: Train Loss: 0.3613, Train Acc: 88.1925, Val Loss: 0.7213, Val Acc: 81.4062\n",
      "Epoch 45 - Metrics did not improve, wait: 1\n"
     ]
    },
    {
     "name": "stderr",
     "output_type": "stream",
     "text": [
      "Epoch 47/100: 100%|██████████| 14/14 [3:53:21<00:00, 1000.08s/it]  \n"
     ]
    },
    {
     "name": "stdout",
     "output_type": "stream",
     "text": [
      "Epoch 47: Train Loss: 0.3399, Train Acc: 89.6489, Val Loss: 0.6981, Val Acc: 82.6562\n",
      "Epoch 46 - Best metrics: 82.65625 - Keeping weights\n"
     ]
    },
    {
     "name": "stderr",
     "output_type": "stream",
     "text": [
      "Epoch 48/100: 100%|██████████| 14/14 [00:40<00:00,  2.92s/it]\n"
     ]
    },
    {
     "name": "stdout",
     "output_type": "stream",
     "text": [
      "Epoch 48: Train Loss: 0.3440, Train Acc: 88.8347, Val Loss: 0.6870, Val Acc: 83.7500\n",
      "Epoch 47 - Best metrics: 83.75 - Keeping weights\n"
     ]
    },
    {
     "name": "stderr",
     "output_type": "stream",
     "text": [
      "Epoch 49/100: 100%|██████████| 14/14 [00:39<00:00,  2.82s/it]\n"
     ]
    },
    {
     "name": "stdout",
     "output_type": "stream",
     "text": [
      "Epoch 49: Train Loss: 0.3098, Train Acc: 91.2169, Val Loss: 0.6775, Val Acc: 84.0625\n",
      "Epoch 48 - Best metrics: 84.0625 - Keeping weights\n"
     ]
    },
    {
     "name": "stderr",
     "output_type": "stream",
     "text": [
      "Epoch 50/100: 100%|██████████| 14/14 [00:38<00:00,  2.72s/it]\n"
     ]
    },
    {
     "name": "stdout",
     "output_type": "stream",
     "text": [
      "Epoch 50: Train Loss: 0.3041, Train Acc: 90.7256, Val Loss: 0.6643, Val Acc: 82.6562\n",
      "Epoch 49 - Metrics did not improve, wait: 1\n"
     ]
    },
    {
     "name": "stderr",
     "output_type": "stream",
     "text": [
      "Epoch 51/100: 100%|██████████| 14/14 [00:38<00:00,  2.77s/it]\n"
     ]
    },
    {
     "name": "stdout",
     "output_type": "stream",
     "text": [
      "Epoch 51: Train Loss: 0.2961, Train Acc: 90.6588, Val Loss: 0.6687, Val Acc: 83.1250\n",
      "Epoch 50 - Metrics did not improve, wait: 2\n"
     ]
    },
    {
     "name": "stderr",
     "output_type": "stream",
     "text": [
      "Epoch 52/100: 100%|██████████| 14/14 [00:37<00:00,  2.71s/it]\n"
     ]
    },
    {
     "name": "stdout",
     "output_type": "stream",
     "text": [
      "Epoch 52: Train Loss: 0.2839, Train Acc: 91.3230, Val Loss: 0.6572, Val Acc: 84.5312\n",
      "Epoch 51 - Best metrics: 84.53125 - Keeping weights\n"
     ]
    },
    {
     "name": "stderr",
     "output_type": "stream",
     "text": [
      "Epoch 53/100: 100%|██████████| 14/14 [00:38<00:00,  2.72s/it]\n"
     ]
    },
    {
     "name": "stdout",
     "output_type": "stream",
     "text": [
      "Epoch 53: Train Loss: 0.2661, Train Acc: 90.9772, Val Loss: 0.6501, Val Acc: 85.4688\n",
      "Epoch 52 - Best metrics: 85.46875 - Keeping weights\n"
     ]
    },
    {
     "name": "stderr",
     "output_type": "stream",
     "text": [
      "Epoch 54/100: 100%|██████████| 14/14 [00:37<00:00,  2.71s/it]\n"
     ]
    },
    {
     "name": "stdout",
     "output_type": "stream",
     "text": [
      "Epoch 54: Train Loss: 0.2649, Train Acc: 92.0594, Val Loss: 0.6162, Val Acc: 85.0000\n",
      "Epoch 53 - Metrics did not improve, wait: 1\n"
     ]
    },
    {
     "name": "stderr",
     "output_type": "stream",
     "text": [
      "Epoch 55/100: 100%|██████████| 14/14 [00:37<00:00,  2.71s/it]\n"
     ]
    },
    {
     "name": "stdout",
     "output_type": "stream",
     "text": [
      "Epoch 55: Train Loss: 0.2503, Train Acc: 92.2497, Val Loss: 0.6157, Val Acc: 85.3125\n",
      "Epoch 54 - Metrics did not improve, wait: 2\n"
     ]
    },
    {
     "name": "stderr",
     "output_type": "stream",
     "text": [
      "Epoch 56/100: 100%|██████████| 14/14 [00:37<00:00,  2.71s/it]\n"
     ]
    },
    {
     "name": "stdout",
     "output_type": "stream",
     "text": [
      "Epoch 56: Train Loss: 0.2322, Train Acc: 92.9358, Val Loss: 0.6027, Val Acc: 85.9375\n",
      "Epoch 55 - Best metrics: 85.9375 - Keeping weights\n"
     ]
    },
    {
     "name": "stderr",
     "output_type": "stream",
     "text": [
      "Epoch 57/100: 100%|██████████| 14/14 [00:38<00:00,  2.75s/it]\n"
     ]
    },
    {
     "name": "stdout",
     "output_type": "stream",
     "text": [
      "Epoch 57: Train Loss: 0.2207, Train Acc: 94.0126, Val Loss: 0.5966, Val Acc: 85.4688\n",
      "Epoch 56 - Metrics did not improve, wait: 1\n"
     ]
    },
    {
     "name": "stderr",
     "output_type": "stream",
     "text": [
      "Epoch 58/100: 100%|██████████| 14/14 [00:37<00:00,  2.69s/it]\n"
     ]
    },
    {
     "name": "stdout",
     "output_type": "stream",
     "text": [
      "Epoch 58: Train Loss: 0.2015, Train Acc: 93.5716, Val Loss: 0.5766, Val Acc: 85.9375\n",
      "Epoch 57 - Metrics did not improve, wait: 2\n"
     ]
    },
    {
     "name": "stderr",
     "output_type": "stream",
     "text": [
      "Epoch 59/100: 100%|██████████| 14/14 [00:37<00:00,  2.70s/it]\n"
     ]
    },
    {
     "name": "stdout",
     "output_type": "stream",
     "text": [
      "Epoch 59: Train Loss: 0.2052, Train Acc: 93.9513, Val Loss: 0.5753, Val Acc: 86.2500\n",
      "Epoch 58 - Best metrics: 86.25 - Keeping weights\n"
     ]
    },
    {
     "name": "stderr",
     "output_type": "stream",
     "text": [
      "Epoch 60/100: 100%|██████████| 14/14 [00:38<00:00,  2.72s/it]\n"
     ]
    },
    {
     "name": "stdout",
     "output_type": "stream",
     "text": [
      "Epoch 60: Train Loss: 0.1865, Train Acc: 94.6264, Val Loss: 0.5638, Val Acc: 85.0000\n",
      "Epoch 59 - Metrics did not improve, wait: 1\n"
     ]
    },
    {
     "name": "stderr",
     "output_type": "stream",
     "text": [
      "Epoch 61/100: 100%|██████████| 14/14 [00:38<00:00,  2.72s/it]\n"
     ]
    },
    {
     "name": "stdout",
     "output_type": "stream",
     "text": [
      "Epoch 61: Train Loss: 0.1884, Train Acc: 94.5148, Val Loss: 0.5382, Val Acc: 85.9375\n",
      "Epoch 60 - Metrics did not improve, wait: 2\n"
     ]
    },
    {
     "name": "stderr",
     "output_type": "stream",
     "text": [
      "Epoch 62/100: 100%|██████████| 14/14 [00:38<00:00,  2.72s/it]\n"
     ]
    },
    {
     "name": "stdout",
     "output_type": "stream",
     "text": [
      "Epoch 62: Train Loss: 0.1697, Train Acc: 94.8889, Val Loss: 0.5468, Val Acc: 85.3125\n",
      "Epoch 61 - Metrics did not improve, wait: 3\n"
     ]
    },
    {
     "name": "stderr",
     "output_type": "stream",
     "text": [
      "Epoch 63/100: 100%|██████████| 14/14 [00:38<00:00,  2.77s/it]\n"
     ]
    },
    {
     "name": "stdout",
     "output_type": "stream",
     "text": [
      "Epoch 63: Train Loss: 0.1678, Train Acc: 94.7435, Val Loss: 0.5350, Val Acc: 85.7812\n",
      "Epoch 62 - Metrics did not improve, wait: 4\n"
     ]
    },
    {
     "name": "stderr",
     "output_type": "stream",
     "text": [
      "Epoch 64/100: 100%|██████████| 14/14 [00:37<00:00,  2.69s/it]\n"
     ]
    },
    {
     "name": "stdout",
     "output_type": "stream",
     "text": [
      "Epoch 64: Train Loss: 0.1657, Train Acc: 95.1341, Val Loss: 0.5505, Val Acc: 85.6250\n",
      "Epoch 63 - Metrics did not improve, wait: 5\n"
     ]
    },
    {
     "name": "stderr",
     "output_type": "stream",
     "text": [
      "Epoch 65/100: 100%|██████████| 14/14 [00:38<00:00,  2.75s/it]\n"
     ]
    },
    {
     "name": "stdout",
     "output_type": "stream",
     "text": [
      "Epoch 65: Train Loss: 0.1446, Train Acc: 95.9154, Val Loss: 0.5229, Val Acc: 87.1875\n",
      "Epoch 64 - Best metrics: 87.1875 - Keeping weights\n"
     ]
    },
    {
     "name": "stderr",
     "output_type": "stream",
     "text": [
      "Epoch 66/100: 100%|██████████| 14/14 [00:37<00:00,  2.71s/it]\n"
     ]
    },
    {
     "name": "stdout",
     "output_type": "stream",
     "text": [
      "Epoch 66: Train Loss: 0.1499, Train Acc: 95.6921, Val Loss: 0.5065, Val Acc: 87.6562\n",
      "Epoch 65 - Best metrics: 87.65625 - Keeping weights\n"
     ]
    },
    {
     "name": "stderr",
     "output_type": "stream",
     "text": [
      "Epoch 67/100: 100%|██████████| 14/14 [00:37<00:00,  2.71s/it]\n"
     ]
    },
    {
     "name": "stdout",
     "output_type": "stream",
     "text": [
      "Epoch 67: Train Loss: 0.1428, Train Acc: 95.8541, Val Loss: 0.5185, Val Acc: 85.7812\n",
      "Epoch 66 - Metrics did not improve, wait: 1\n"
     ]
    },
    {
     "name": "stderr",
     "output_type": "stream",
     "text": [
      "Epoch 68/100: 100%|██████████| 14/14 [00:39<00:00,  2.81s/it]\n"
     ]
    },
    {
     "name": "stdout",
     "output_type": "stream",
     "text": [
      "Epoch 68: Train Loss: 0.1300, Train Acc: 97.1485, Val Loss: 0.4951, Val Acc: 86.5625\n",
      "Epoch 67 - Metrics did not improve, wait: 2\n"
     ]
    },
    {
     "name": "stderr",
     "output_type": "stream",
     "text": [
      "Epoch 69/100: 100%|██████████| 14/14 [00:38<00:00,  2.73s/it]\n"
     ]
    },
    {
     "name": "stdout",
     "output_type": "stream",
     "text": [
      "Epoch 69: Train Loss: 0.1285, Train Acc: 95.8486, Val Loss: 0.5019, Val Acc: 86.4062\n",
      "Epoch 68 - Metrics did not improve, wait: 3\n"
     ]
    },
    {
     "name": "stderr",
     "output_type": "stream",
     "text": [
      "Epoch 70/100: 100%|██████████| 14/14 [00:39<00:00,  2.81s/it]\n"
     ]
    },
    {
     "name": "stdout",
     "output_type": "stream",
     "text": [
      "Epoch 70: Train Loss: 0.1268, Train Acc: 95.9547, Val Loss: 0.5008, Val Acc: 86.0938\n",
      "Epoch 69 - Metrics did not improve, wait: 4\n"
     ]
    },
    {
     "name": "stderr",
     "output_type": "stream",
     "text": [
      "Epoch 71/100: 100%|██████████| 14/14 [00:39<00:00,  2.81s/it]\n"
     ]
    },
    {
     "name": "stdout",
     "output_type": "stream",
     "text": [
      "Epoch 71: Train Loss: 0.1334, Train Acc: 96.0883, Val Loss: 0.4963, Val Acc: 87.3438\n",
      "Epoch 70 - Metrics did not improve, wait: 5\n"
     ]
    },
    {
     "name": "stderr",
     "output_type": "stream",
     "text": [
      "Epoch 72/100: 100%|██████████| 14/14 [00:39<00:00,  2.81s/it]\n"
     ]
    },
    {
     "name": "stdout",
     "output_type": "stream",
     "text": [
      "Epoch 72: Train Loss: 0.1151, Train Acc: 96.8585, Val Loss: 0.4894, Val Acc: 85.4688\n",
      "Learning rate changed from 0.001 to 0.0001 at epoch 71\n",
      "Epoch 71 - Metrics did not improve, wait: 6\n"
     ]
    },
    {
     "name": "stderr",
     "output_type": "stream",
     "text": [
      "Epoch 73/100: 100%|██████████| 14/14 [00:39<00:00,  2.83s/it]\n"
     ]
    },
    {
     "name": "stdout",
     "output_type": "stream",
     "text": [
      "Epoch 73: Train Loss: 0.1069, Train Acc: 97.1376, Val Loss: 0.4836, Val Acc: 86.2500\n",
      "Epoch 72 - Metrics did not improve, wait: 7\n"
     ]
    },
    {
     "name": "stderr",
     "output_type": "stream",
     "text": [
      "Epoch 74/100: 100%|██████████| 14/14 [00:37<00:00,  2.68s/it]\n"
     ]
    },
    {
     "name": "stdout",
     "output_type": "stream",
     "text": [
      "Epoch 74: Train Loss: 0.0947, Train Acc: 97.8685, Val Loss: 0.4791, Val Acc: 86.5625\n",
      "Epoch 73 - Metrics did not improve, wait: 8\n"
     ]
    },
    {
     "name": "stderr",
     "output_type": "stream",
     "text": [
      "Epoch 75/100: 100%|██████████| 14/14 [00:39<00:00,  2.79s/it]\n"
     ]
    },
    {
     "name": "stdout",
     "output_type": "stream",
     "text": [
      "Epoch 75: Train Loss: 0.0961, Train Acc: 97.3717, Val Loss: 0.4760, Val Acc: 86.8750\n",
      "Epoch 74 - Metrics did not improve, wait: 9\n"
     ]
    },
    {
     "name": "stderr",
     "output_type": "stream",
     "text": [
      "Epoch 76/100: 100%|██████████| 14/14 [00:38<00:00,  2.78s/it]\n"
     ]
    },
    {
     "name": "stdout",
     "output_type": "stream",
     "text": [
      "Epoch 76: Train Loss: 0.0958, Train Acc: 97.5895, Val Loss: 0.4743, Val Acc: 86.5625\n",
      "Epoch 75 - Metrics did not improve, wait: 10\n",
      "Epoch 75 - Patience reached - Restoring weights\n"
     ]
    },
    {
     "name": "stderr",
     "output_type": "stream",
     "text": [
      "Epoch 1/100: 100%|██████████| 7/7 [00:35<00:00,  5.03s/it]\n"
     ]
    },
    {
     "name": "stdout",
     "output_type": "stream",
     "text": [
      "Epoch 1: Train Loss: 2.5543, Train Acc: 10.4347, Val Loss: 2.5507, Val Acc: 20.8333\n",
      "Epoch 0 - Keeping weights\n"
     ]
    },
    {
     "name": "stderr",
     "output_type": "stream",
     "text": [
      "Epoch 2/100: 100%|██████████| 7/7 [00:33<00:00,  4.79s/it]\n"
     ]
    },
    {
     "name": "stdout",
     "output_type": "stream",
     "text": [
      "Epoch 2: Train Loss: 2.5206, Train Acc: 15.8836, Val Loss: 2.5321, Val Acc: 21.8750\n"
     ]
    },
    {
     "name": "stderr",
     "output_type": "stream",
     "text": [
      "Epoch 3/100: 100%|██████████| 7/7 [00:33<00:00,  4.81s/it]\n"
     ]
    },
    {
     "name": "stdout",
     "output_type": "stream",
     "text": [
      "Epoch 3: Train Loss: 2.4849, Train Acc: 19.3110, Val Loss: 2.5128, Val Acc: 20.3125\n"
     ]
    },
    {
     "name": "stderr",
     "output_type": "stream",
     "text": [
      "Epoch 4/100: 100%|██████████| 7/7 [00:33<00:00,  4.76s/it]\n"
     ]
    },
    {
     "name": "stdout",
     "output_type": "stream",
     "text": [
      "Epoch 4: Train Loss: 2.4431, Train Acc: 21.7410, Val Loss: 2.4937, Val Acc: 20.1823\n"
     ]
    },
    {
     "name": "stderr",
     "output_type": "stream",
     "text": [
      "Epoch 5/100: 100%|██████████| 7/7 [00:33<00:00,  4.81s/it]\n"
     ]
    },
    {
     "name": "stdout",
     "output_type": "stream",
     "text": [
      "Epoch 5: Train Loss: 2.4148, Train Acc: 21.7841, Val Loss: 2.4761, Val Acc: 20.5729\n"
     ]
    },
    {
     "name": "stderr",
     "output_type": "stream",
     "text": [
      "Epoch 6/100: 100%|██████████| 7/7 [00:32<00:00,  4.70s/it]\n"
     ]
    },
    {
     "name": "stdout",
     "output_type": "stream",
     "text": [
      "Epoch 6: Train Loss: 2.3954, Train Acc: 21.3143, Val Loss: 2.4612, Val Acc: 20.3125\n"
     ]
    },
    {
     "name": "stderr",
     "output_type": "stream",
     "text": [
      "Epoch 7/100: 100%|██████████| 7/7 [00:33<00:00,  4.77s/it]\n"
     ]
    },
    {
     "name": "stdout",
     "output_type": "stream",
     "text": [
      "Epoch 7: Train Loss: 2.3793, Train Acc: 23.2547, Val Loss: 2.4491, Val Acc: 22.3958\n"
     ]
    },
    {
     "name": "stderr",
     "output_type": "stream",
     "text": [
      "Epoch 8/100: 100%|██████████| 7/7 [00:32<00:00,  4.67s/it]\n"
     ]
    },
    {
     "name": "stdout",
     "output_type": "stream",
     "text": [
      "Epoch 8: Train Loss: 2.3666, Train Acc: 24.7777, Val Loss: 2.4397, Val Acc: 23.8281\n"
     ]
    },
    {
     "name": "stderr",
     "output_type": "stream",
     "text": [
      "Epoch 9/100: 100%|██████████| 7/7 [00:33<00:00,  4.72s/it]\n"
     ]
    },
    {
     "name": "stdout",
     "output_type": "stream",
     "text": [
      "Epoch 9: Train Loss: 2.3529, Train Acc: 27.6957, Val Loss: 2.4306, Val Acc: 25.5208\n"
     ]
    },
    {
     "name": "stderr",
     "output_type": "stream",
     "text": [
      "Epoch 10/100: 100%|██████████| 7/7 [00:33<00:00,  4.80s/it]\n"
     ]
    },
    {
     "name": "stdout",
     "output_type": "stream",
     "text": [
      "Epoch 10: Train Loss: 2.3360, Train Acc: 27.4004, Val Loss: 2.4214, Val Acc: 26.1719\n"
     ]
    },
    {
     "name": "stderr",
     "output_type": "stream",
     "text": [
      "Epoch 11/100: 100%|██████████| 7/7 [00:33<00:00,  4.72s/it]\n"
     ]
    },
    {
     "name": "stdout",
     "output_type": "stream",
     "text": [
      "Epoch 11: Train Loss: 2.3245, Train Acc: 28.7143, Val Loss: 2.4108, Val Acc: 27.8646\n",
      "Epoch 10 - Best metrics: 27.864583333333332 - Keeping weights\n"
     ]
    },
    {
     "name": "stderr",
     "output_type": "stream",
     "text": [
      "Epoch 12/100: 100%|██████████| 7/7 [00:32<00:00,  4.70s/it]\n"
     ]
    },
    {
     "name": "stdout",
     "output_type": "stream",
     "text": [
      "Epoch 12: Train Loss: 2.3064, Train Acc: 29.5083, Val Loss: 2.3997, Val Acc: 28.3854\n",
      "Epoch 11 - Best metrics: 28.385416666666668 - Keeping weights\n"
     ]
    },
    {
     "name": "stderr",
     "output_type": "stream",
     "text": [
      "Epoch 13/100: 100%|██████████| 7/7 [00:32<00:00,  4.69s/it]\n"
     ]
    },
    {
     "name": "stdout",
     "output_type": "stream",
     "text": [
      "Epoch 13: Train Loss: 2.2797, Train Acc: 30.0318, Val Loss: 2.3866, Val Acc: 28.3854\n",
      "Epoch 12 - Metrics did not improve, wait: 1\n"
     ]
    },
    {
     "name": "stderr",
     "output_type": "stream",
     "text": [
      "Epoch 14/100: 100%|██████████| 7/7 [00:33<00:00,  4.72s/it]\n"
     ]
    },
    {
     "name": "stdout",
     "output_type": "stream",
     "text": [
      "Epoch 14: Train Loss: 2.2681, Train Acc: 30.0338, Val Loss: 2.3717, Val Acc: 29.2969\n",
      "Epoch 13 - Best metrics: 29.296875 - Keeping weights\n"
     ]
    },
    {
     "name": "stderr",
     "output_type": "stream",
     "text": [
      "Epoch 15/100: 100%|██████████| 7/7 [00:33<00:00,  4.74s/it]\n"
     ]
    },
    {
     "name": "stdout",
     "output_type": "stream",
     "text": [
      "Epoch 15: Train Loss: 2.2350, Train Acc: 31.1337, Val Loss: 2.3560, Val Acc: 30.0781\n",
      "Epoch 14 - Best metrics: 30.078125 - Keeping weights\n"
     ]
    },
    {
     "name": "stderr",
     "output_type": "stream",
     "text": [
      "Epoch 16/100: 100%|██████████| 7/7 [00:33<00:00,  4.79s/it]\n"
     ]
    },
    {
     "name": "stdout",
     "output_type": "stream",
     "text": [
      "Epoch 16: Train Loss: 2.2172, Train Acc: 31.7942, Val Loss: 2.3387, Val Acc: 30.9896\n",
      "Epoch 15 - Best metrics: 30.989583333333332 - Keeping weights\n"
     ]
    },
    {
     "name": "stderr",
     "output_type": "stream",
     "text": [
      "Epoch 17/100: 100%|██████████| 7/7 [00:35<00:00,  5.03s/it]\n"
     ]
    },
    {
     "name": "stdout",
     "output_type": "stream",
     "text": [
      "Epoch 17: Train Loss: 2.1926, Train Acc: 30.9825, Val Loss: 2.3222, Val Acc: 30.9896\n",
      "Epoch 16 - Metrics did not improve, wait: 1\n"
     ]
    },
    {
     "name": "stderr",
     "output_type": "stream",
     "text": [
      "Epoch 18/100: 100%|██████████| 7/7 [00:34<00:00,  4.88s/it]\n"
     ]
    },
    {
     "name": "stdout",
     "output_type": "stream",
     "text": [
      "Epoch 18: Train Loss: 2.1686, Train Acc: 32.2243, Val Loss: 2.3040, Val Acc: 31.9010\n",
      "Epoch 17 - Best metrics: 31.901041666666668 - Keeping weights\n"
     ]
    },
    {
     "name": "stderr",
     "output_type": "stream",
     "text": [
      "Epoch 19/100: 100%|██████████| 7/7 [00:36<00:00,  5.17s/it]\n"
     ]
    },
    {
     "name": "stdout",
     "output_type": "stream",
     "text": [
      "Epoch 19: Train Loss: 2.1407, Train Acc: 32.3091, Val Loss: 2.2841, Val Acc: 32.1615\n",
      "Epoch 18 - Best metrics: 32.161458333333336 - Keeping weights\n"
     ]
    },
    {
     "name": "stderr",
     "output_type": "stream",
     "text": [
      "Epoch 20/100: 100%|██████████| 7/7 [00:33<00:00,  4.84s/it]\n"
     ]
    },
    {
     "name": "stdout",
     "output_type": "stream",
     "text": [
      "Epoch 20: Train Loss: 2.1121, Train Acc: 32.8580, Val Loss: 2.2641, Val Acc: 32.6823\n",
      "Epoch 19 - Best metrics: 32.682291666666664 - Keeping weights\n"
     ]
    },
    {
     "name": "stderr",
     "output_type": "stream",
     "text": [
      "Epoch 21/100: 100%|██████████| 7/7 [00:34<00:00,  4.92s/it]\n"
     ]
    },
    {
     "name": "stdout",
     "output_type": "stream",
     "text": [
      "Epoch 21: Train Loss: 2.0955, Train Acc: 32.9392, Val Loss: 2.2451, Val Acc: 32.2917\n",
      "Epoch 20 - Metrics did not improve, wait: 1\n"
     ]
    },
    {
     "name": "stderr",
     "output_type": "stream",
     "text": [
      "Epoch 22/100: 100%|██████████| 7/7 [00:34<00:00,  5.00s/it]\n"
     ]
    },
    {
     "name": "stdout",
     "output_type": "stream",
     "text": [
      "Epoch 22: Train Loss: 2.0634, Train Acc: 34.3286, Val Loss: 2.2297, Val Acc: 32.4219\n",
      "Epoch 21 - Metrics did not improve, wait: 2\n"
     ]
    },
    {
     "name": "stderr",
     "output_type": "stream",
     "text": [
      "Epoch 23/100: 100%|██████████| 7/7 [00:35<00:00,  5.08s/it]\n"
     ]
    },
    {
     "name": "stdout",
     "output_type": "stream",
     "text": [
      "Epoch 23: Train Loss: 2.0546, Train Acc: 33.1659, Val Loss: 2.2102, Val Acc: 34.3750\n",
      "Epoch 22 - Best metrics: 34.375 - Keeping weights\n"
     ]
    },
    {
     "name": "stderr",
     "output_type": "stream",
     "text": [
      "Epoch 24/100: 100%|██████████| 7/7 [00:33<00:00,  4.83s/it]\n"
     ]
    },
    {
     "name": "stdout",
     "output_type": "stream",
     "text": [
      "Epoch 24: Train Loss: 2.0298, Train Acc: 35.6552, Val Loss: 2.1944, Val Acc: 34.5052\n",
      "Epoch 23 - Best metrics: 34.505208333333336 - Keeping weights\n"
     ]
    },
    {
     "name": "stderr",
     "output_type": "stream",
     "text": [
      "Epoch 25/100: 100%|██████████| 7/7 [00:34<00:00,  4.87s/it]\n"
     ]
    },
    {
     "name": "stdout",
     "output_type": "stream",
     "text": [
      "Epoch 25: Train Loss: 2.0077, Train Acc: 35.5923, Val Loss: 2.1742, Val Acc: 34.8958\n",
      "Epoch 24 - Best metrics: 34.895833333333336 - Keeping weights\n"
     ]
    },
    {
     "name": "stderr",
     "output_type": "stream",
     "text": [
      "Epoch 26/100: 100%|██████████| 7/7 [00:33<00:00,  4.81s/it]\n"
     ]
    },
    {
     "name": "stdout",
     "output_type": "stream",
     "text": [
      "Epoch 26: Train Loss: 1.9857, Train Acc: 36.1772, Val Loss: 2.1589, Val Acc: 35.5469\n",
      "Epoch 25 - Best metrics: 35.546875 - Keeping weights\n"
     ]
    },
    {
     "name": "stderr",
     "output_type": "stream",
     "text": [
      "Epoch 27/100: 100%|██████████| 7/7 [00:33<00:00,  4.84s/it]\n"
     ]
    },
    {
     "name": "stdout",
     "output_type": "stream",
     "text": [
      "Epoch 27: Train Loss: 1.9644, Train Acc: 35.6679, Val Loss: 2.1378, Val Acc: 37.2396\n",
      "Epoch 26 - Best metrics: 37.239583333333336 - Keeping weights\n"
     ]
    },
    {
     "name": "stderr",
     "output_type": "stream",
     "text": [
      "Epoch 28/100: 100%|██████████| 7/7 [00:34<00:00,  4.98s/it]\n"
     ]
    },
    {
     "name": "stdout",
     "output_type": "stream",
     "text": [
      "Epoch 28: Train Loss: 1.9409, Train Acc: 38.2978, Val Loss: 2.1198, Val Acc: 38.4115\n",
      "Epoch 27 - Best metrics: 38.411458333333336 - Keeping weights\n"
     ]
    },
    {
     "name": "stderr",
     "output_type": "stream",
     "text": [
      "Epoch 29/100: 100%|██████████| 7/7 [00:34<00:00,  4.86s/it]\n"
     ]
    },
    {
     "name": "stdout",
     "output_type": "stream",
     "text": [
      "Epoch 29: Train Loss: 1.9302, Train Acc: 38.1197, Val Loss: 2.1024, Val Acc: 38.6719\n",
      "Epoch 28 - Best metrics: 38.671875 - Keeping weights\n"
     ]
    },
    {
     "name": "stderr",
     "output_type": "stream",
     "text": [
      "Epoch 30/100: 100%|██████████| 7/7 [00:40<00:00,  5.84s/it]\n"
     ]
    },
    {
     "name": "stdout",
     "output_type": "stream",
     "text": [
      "Epoch 30: Train Loss: 1.9087, Train Acc: 37.9757, Val Loss: 2.0892, Val Acc: 38.8021\n",
      "Epoch 29 - Best metrics: 38.802083333333336 - Keeping weights\n"
     ]
    },
    {
     "name": "stderr",
     "output_type": "stream",
     "text": [
      "Epoch 31/100: 100%|██████████| 7/7 [00:38<00:00,  5.51s/it]\n"
     ]
    },
    {
     "name": "stdout",
     "output_type": "stream",
     "text": [
      "Epoch 31: Train Loss: 1.8818, Train Acc: 38.5266, Val Loss: 2.0672, Val Acc: 39.8438\n",
      "Epoch 30 - Best metrics: 39.84375 - Keeping weights\n"
     ]
    },
    {
     "name": "stderr",
     "output_type": "stream",
     "text": [
      "Epoch 32/100: 100%|██████████| 7/7 [00:35<00:00,  5.11s/it]\n"
     ]
    },
    {
     "name": "stdout",
     "output_type": "stream",
     "text": [
      "Epoch 32: Train Loss: 1.8542, Train Acc: 40.2509, Val Loss: 2.0516, Val Acc: 41.4062\n",
      "Epoch 31 - Best metrics: 41.40625 - Keeping weights\n"
     ]
    },
    {
     "name": "stderr",
     "output_type": "stream",
     "text": [
      "Epoch 33/100: 100%|██████████| 7/7 [00:32<00:00,  4.67s/it]\n"
     ]
    },
    {
     "name": "stdout",
     "output_type": "stream",
     "text": [
      "Epoch 33: Train Loss: 1.8310, Train Acc: 39.8299, Val Loss: 2.0313, Val Acc: 40.8854\n",
      "Epoch 32 - Metrics did not improve, wait: 1\n"
     ]
    },
    {
     "name": "stderr",
     "output_type": "stream",
     "text": [
      "Epoch 34/100: 100%|██████████| 7/7 [00:33<00:00,  4.83s/it]\n"
     ]
    },
    {
     "name": "stdout",
     "output_type": "stream",
     "text": [
      "Epoch 34: Train Loss: 1.8110, Train Acc: 41.6008, Val Loss: 2.0090, Val Acc: 41.5365\n",
      "Epoch 33 - Best metrics: 41.536458333333336 - Keeping weights\n"
     ]
    },
    {
     "name": "stderr",
     "output_type": "stream",
     "text": [
      "Epoch 35/100: 100%|██████████| 7/7 [00:32<00:00,  4.69s/it]\n"
     ]
    },
    {
     "name": "stdout",
     "output_type": "stream",
     "text": [
      "Epoch 35: Train Loss: 1.7835, Train Acc: 40.9905, Val Loss: 1.9888, Val Acc: 42.1875\n",
      "Epoch 34 - Best metrics: 42.1875 - Keeping weights\n"
     ]
    },
    {
     "name": "stderr",
     "output_type": "stream",
     "text": [
      "Epoch 36/100: 100%|██████████| 7/7 [00:34<00:00,  4.87s/it]\n"
     ]
    },
    {
     "name": "stdout",
     "output_type": "stream",
     "text": [
      "Epoch 36: Train Loss: 1.7548, Train Acc: 43.3865, Val Loss: 1.9742, Val Acc: 42.9688\n",
      "Epoch 35 - Best metrics: 42.96875 - Keeping weights\n"
     ]
    },
    {
     "name": "stderr",
     "output_type": "stream",
     "text": [
      "Epoch 37/100: 100%|██████████| 7/7 [00:33<00:00,  4.72s/it]\n"
     ]
    },
    {
     "name": "stdout",
     "output_type": "stream",
     "text": [
      "Epoch 37: Train Loss: 1.7457, Train Acc: 43.7214, Val Loss: 1.9540, Val Acc: 43.8802\n",
      "Epoch 36 - Best metrics: 43.880208333333336 - Keeping weights\n"
     ]
    },
    {
     "name": "stderr",
     "output_type": "stream",
     "text": [
      "Epoch 38/100: 100%|██████████| 7/7 [00:33<00:00,  4.84s/it]\n"
     ]
    },
    {
     "name": "stdout",
     "output_type": "stream",
     "text": [
      "Epoch 38: Train Loss: 1.7180, Train Acc: 44.9582, Val Loss: 1.9346, Val Acc: 44.5312\n",
      "Epoch 37 - Best metrics: 44.53125 - Keeping weights\n"
     ]
    },
    {
     "name": "stderr",
     "output_type": "stream",
     "text": [
      "Epoch 39/100: 100%|██████████| 7/7 [00:33<00:00,  4.81s/it]\n"
     ]
    },
    {
     "name": "stdout",
     "output_type": "stream",
     "text": [
      "Epoch 39: Train Loss: 1.6851, Train Acc: 45.1723, Val Loss: 1.9121, Val Acc: 44.4010\n",
      "Epoch 38 - Metrics did not improve, wait: 1\n"
     ]
    },
    {
     "name": "stderr",
     "output_type": "stream",
     "text": [
      "Epoch 40/100: 100%|██████████| 7/7 [00:34<00:00,  4.87s/it]\n"
     ]
    },
    {
     "name": "stdout",
     "output_type": "stream",
     "text": [
      "Epoch 40: Train Loss: 1.6844, Train Acc: 46.1442, Val Loss: 1.8977, Val Acc: 46.7448\n",
      "Epoch 39 - Best metrics: 46.744791666666664 - Keeping weights\n"
     ]
    },
    {
     "name": "stderr",
     "output_type": "stream",
     "text": [
      "Epoch 41/100: 100%|██████████| 7/7 [00:33<00:00,  4.72s/it]\n"
     ]
    },
    {
     "name": "stdout",
     "output_type": "stream",
     "text": [
      "Epoch 41: Train Loss: 1.6537, Train Acc: 45.0282, Val Loss: 1.8733, Val Acc: 46.7448\n",
      "Epoch 40 - Metrics did not improve, wait: 1\n"
     ]
    },
    {
     "name": "stderr",
     "output_type": "stream",
     "text": [
      "Epoch 42/100: 100%|██████████| 7/7 [00:32<00:00,  4.70s/it]\n"
     ]
    },
    {
     "name": "stdout",
     "output_type": "stream",
     "text": [
      "Epoch 42: Train Loss: 1.6297, Train Acc: 46.0630, Val Loss: 1.8548, Val Acc: 48.1771\n",
      "Epoch 41 - Best metrics: 48.177083333333336 - Keeping weights\n"
     ]
    },
    {
     "name": "stderr",
     "output_type": "stream",
     "text": [
      "Epoch 43/100: 100%|██████████| 7/7 [00:33<00:00,  4.84s/it]\n"
     ]
    },
    {
     "name": "stdout",
     "output_type": "stream",
     "text": [
      "Epoch 43: Train Loss: 1.5930, Train Acc: 48.7939, Val Loss: 1.8366, Val Acc: 48.8281\n",
      "Epoch 42 - Best metrics: 48.828125 - Keeping weights\n"
     ]
    },
    {
     "name": "stderr",
     "output_type": "stream",
     "text": [
      "Epoch 44/100: 100%|██████████| 7/7 [00:33<00:00,  4.73s/it]\n"
     ]
    },
    {
     "name": "stdout",
     "output_type": "stream",
     "text": [
      "Epoch 44: Train Loss: 1.5962, Train Acc: 48.0613, Val Loss: 1.8272, Val Acc: 51.0417\n",
      "Epoch 43 - Best metrics: 51.041666666666664 - Keeping weights\n"
     ]
    },
    {
     "name": "stderr",
     "output_type": "stream",
     "text": [
      "Epoch 45/100: 100%|██████████| 7/7 [00:33<00:00,  4.83s/it]\n"
     ]
    },
    {
     "name": "stdout",
     "output_type": "stream",
     "text": [
      "Epoch 45: Train Loss: 1.5860, Train Acc: 48.5529, Val Loss: 1.8077, Val Acc: 51.1719\n",
      "Epoch 44 - Best metrics: 51.171875 - Keeping weights\n"
     ]
    },
    {
     "name": "stderr",
     "output_type": "stream",
     "text": [
      "Epoch 46/100: 100%|██████████| 7/7 [00:32<00:00,  4.67s/it]\n"
     ]
    },
    {
     "name": "stdout",
     "output_type": "stream",
     "text": [
      "Epoch 46: Train Loss: 1.5747, Train Acc: 49.3971, Val Loss: 1.7911, Val Acc: 52.0833\n",
      "Epoch 45 - Best metrics: 52.083333333333336 - Keeping weights\n"
     ]
    },
    {
     "name": "stderr",
     "output_type": "stream",
     "text": [
      "Epoch 47/100: 100%|██████████| 7/7 [00:33<00:00,  4.78s/it]\n"
     ]
    },
    {
     "name": "stdout",
     "output_type": "stream",
     "text": [
      "Epoch 47: Train Loss: 1.5331, Train Acc: 50.7378, Val Loss: 1.7717, Val Acc: 51.5625\n",
      "Epoch 46 - Metrics did not improve, wait: 1\n"
     ]
    },
    {
     "name": "stderr",
     "output_type": "stream",
     "text": [
      "Epoch 48/100: 100%|██████████| 7/7 [00:32<00:00,  4.70s/it]\n"
     ]
    },
    {
     "name": "stdout",
     "output_type": "stream",
     "text": [
      "Epoch 48: Train Loss: 1.5404, Train Acc: 49.2495, Val Loss: 1.7639, Val Acc: 55.0781\n",
      "Epoch 47 - Best metrics: 55.078125 - Keeping weights\n"
     ]
    },
    {
     "name": "stderr",
     "output_type": "stream",
     "text": [
      "Epoch 49/100: 100%|██████████| 7/7 [00:33<00:00,  4.72s/it]\n"
     ]
    },
    {
     "name": "stdout",
     "output_type": "stream",
     "text": [
      "Epoch 49: Train Loss: 1.5059, Train Acc: 53.2221, Val Loss: 1.7498, Val Acc: 54.8177\n",
      "Epoch 48 - Metrics did not improve, wait: 1\n"
     ]
    },
    {
     "name": "stderr",
     "output_type": "stream",
     "text": [
      "Epoch 50/100: 100%|██████████| 7/7 [00:33<00:00,  4.84s/it]\n"
     ]
    },
    {
     "name": "stdout",
     "output_type": "stream",
     "text": [
      "Epoch 50: Train Loss: 1.4910, Train Acc: 52.0447, Val Loss: 1.7253, Val Acc: 55.0781\n",
      "Epoch 49 - Metrics did not improve, wait: 2\n"
     ]
    },
    {
     "name": "stderr",
     "output_type": "stream",
     "text": [
      "Epoch 51/100: 100%|██████████| 7/7 [00:33<00:00,  4.73s/it]\n"
     ]
    },
    {
     "name": "stdout",
     "output_type": "stream",
     "text": [
      "Epoch 51: Train Loss: 1.4722, Train Acc: 54.0140, Val Loss: 1.7212, Val Acc: 55.3385\n",
      "Epoch 50 - Best metrics: 55.338541666666664 - Keeping weights\n"
     ]
    },
    {
     "name": "stderr",
     "output_type": "stream",
     "text": [
      "Epoch 52/100: 100%|██████████| 7/7 [00:33<00:00,  4.72s/it]\n"
     ]
    },
    {
     "name": "stdout",
     "output_type": "stream",
     "text": [
      "Epoch 52: Train Loss: 1.4618, Train Acc: 54.1546, Val Loss: 1.7056, Val Acc: 56.2500\n",
      "Epoch 51 - Best metrics: 56.25 - Keeping weights\n"
     ]
    },
    {
     "name": "stderr",
     "output_type": "stream",
     "text": [
      "Epoch 53/100: 100%|██████████| 7/7 [00:33<00:00,  4.79s/it]\n"
     ]
    },
    {
     "name": "stdout",
     "output_type": "stream",
     "text": [
      "Epoch 53: Train Loss: 1.4428, Train Acc: 53.7279, Val Loss: 1.6898, Val Acc: 57.2917\n",
      "Epoch 52 - Best metrics: 57.291666666666664 - Keeping weights\n"
     ]
    },
    {
     "name": "stderr",
     "output_type": "stream",
     "text": [
      "Epoch 54/100: 100%|██████████| 7/7 [00:32<00:00,  4.70s/it]\n"
     ]
    },
    {
     "name": "stdout",
     "output_type": "stream",
     "text": [
      "Epoch 54: Train Loss: 1.4308, Train Acc: 53.5372, Val Loss: 1.6731, Val Acc: 56.7708\n",
      "Epoch 53 - Metrics did not improve, wait: 1\n"
     ]
    },
    {
     "name": "stderr",
     "output_type": "stream",
     "text": [
      "Epoch 55/100: 100%|██████████| 7/7 [00:33<00:00,  4.80s/it]\n"
     ]
    },
    {
     "name": "stdout",
     "output_type": "stream",
     "text": [
      "Epoch 55: Train Loss: 1.4178, Train Acc: 54.3432, Val Loss: 1.6711, Val Acc: 56.7708\n",
      "Epoch 54 - Metrics did not improve, wait: 2\n"
     ]
    },
    {
     "name": "stderr",
     "output_type": "stream",
     "text": [
      "Epoch 56/100: 100%|██████████| 7/7 [00:33<00:00,  4.73s/it]\n"
     ]
    },
    {
     "name": "stdout",
     "output_type": "stream",
     "text": [
      "Epoch 56: Train Loss: 1.4047, Train Acc: 55.1697, Val Loss: 1.6560, Val Acc: 57.5521\n",
      "Epoch 55 - Best metrics: 57.552083333333336 - Keeping weights\n"
     ]
    },
    {
     "name": "stderr",
     "output_type": "stream",
     "text": [
      "Epoch 57/100: 100%|██████████| 7/7 [00:33<00:00,  4.74s/it]\n"
     ]
    },
    {
     "name": "stdout",
     "output_type": "stream",
     "text": [
      "Epoch 57: Train Loss: 1.3843, Train Acc: 56.5881, Val Loss: 1.6506, Val Acc: 57.5521\n",
      "Epoch 56 - Metrics did not improve, wait: 1\n"
     ]
    },
    {
     "name": "stderr",
     "output_type": "stream",
     "text": [
      "Epoch 58/100: 100%|██████████| 7/7 [00:32<00:00,  4.71s/it]\n"
     ]
    },
    {
     "name": "stdout",
     "output_type": "stream",
     "text": [
      "Epoch 58: Train Loss: 1.3738, Train Acc: 56.0519, Val Loss: 1.6343, Val Acc: 58.8542\n",
      "Epoch 57 - Best metrics: 58.854166666666664 - Keeping weights\n"
     ]
    },
    {
     "name": "stderr",
     "output_type": "stream",
     "text": [
      "Epoch 59/100: 100%|██████████| 7/7 [00:33<00:00,  4.76s/it]\n"
     ]
    },
    {
     "name": "stdout",
     "output_type": "stream",
     "text": [
      "Epoch 59: Train Loss: 1.3609, Train Acc: 56.7053, Val Loss: 1.6142, Val Acc: 57.2917\n",
      "Epoch 58 - Metrics did not improve, wait: 1\n"
     ]
    },
    {
     "name": "stderr",
     "output_type": "stream",
     "text": [
      "Epoch 60/100: 100%|██████████| 7/7 [00:33<00:00,  4.72s/it]\n"
     ]
    },
    {
     "name": "stdout",
     "output_type": "stream",
     "text": [
      "Epoch 60: Train Loss: 1.3701, Train Acc: 56.5506, Val Loss: 1.6111, Val Acc: 59.5052\n",
      "Epoch 59 - Best metrics: 59.505208333333336 - Keeping weights\n"
     ]
    },
    {
     "name": "stderr",
     "output_type": "stream",
     "text": [
      "Epoch 61/100: 100%|██████████| 7/7 [00:32<00:00,  4.70s/it]\n"
     ]
    },
    {
     "name": "stdout",
     "output_type": "stream",
     "text": [
      "Epoch 61: Train Loss: 1.3327, Train Acc: 57.3749, Val Loss: 1.6042, Val Acc: 59.3750\n",
      "Epoch 60 - Metrics did not improve, wait: 1\n"
     ]
    },
    {
     "name": "stderr",
     "output_type": "stream",
     "text": [
      "Epoch 62/100: 100%|██████████| 7/7 [00:32<00:00,  4.71s/it]\n"
     ]
    },
    {
     "name": "stdout",
     "output_type": "stream",
     "text": [
      "Epoch 62: Train Loss: 1.3178, Train Acc: 57.9669, Val Loss: 1.5842, Val Acc: 61.0677\n",
      "Epoch 61 - Best metrics: 61.067708333333336 - Keeping weights\n"
     ]
    },
    {
     "name": "stderr",
     "output_type": "stream",
     "text": [
      "Epoch 63/100: 100%|██████████| 7/7 [00:35<00:00,  5.10s/it]\n"
     ]
    },
    {
     "name": "stdout",
     "output_type": "stream",
     "text": [
      "Epoch 63: Train Loss: 1.3151, Train Acc: 58.3307, Val Loss: 1.5852, Val Acc: 60.1562\n",
      "Epoch 62 - Metrics did not improve, wait: 1\n"
     ]
    },
    {
     "name": "stderr",
     "output_type": "stream",
     "text": [
      "Epoch 64/100: 100%|██████████| 7/7 [00:33<00:00,  4.84s/it]\n"
     ]
    },
    {
     "name": "stdout",
     "output_type": "stream",
     "text": [
      "Epoch 64: Train Loss: 1.2956, Train Acc: 58.5864, Val Loss: 1.5663, Val Acc: 60.1562\n",
      "Epoch 63 - Metrics did not improve, wait: 2\n"
     ]
    },
    {
     "name": "stderr",
     "output_type": "stream",
     "text": [
      "Epoch 65/100: 100%|██████████| 7/7 [00:33<00:00,  4.83s/it]\n"
     ]
    },
    {
     "name": "stdout",
     "output_type": "stream",
     "text": [
      "Epoch 65: Train Loss: 1.2823, Train Acc: 58.6295, Val Loss: 1.5638, Val Acc: 60.2865\n",
      "Epoch 64 - Metrics did not improve, wait: 3\n"
     ]
    },
    {
     "name": "stderr",
     "output_type": "stream",
     "text": [
      "Epoch 66/100: 100%|██████████| 7/7 [00:33<00:00,  4.81s/it]\n"
     ]
    },
    {
     "name": "stdout",
     "output_type": "stream",
     "text": [
      "Epoch 66: Train Loss: 1.2621, Train Acc: 61.1082, Val Loss: 1.5414, Val Acc: 61.0677\n",
      "Epoch 65 - Metrics did not improve, wait: 4\n"
     ]
    },
    {
     "name": "stderr",
     "output_type": "stream",
     "text": [
      "Epoch 67/100: 100%|██████████| 7/7 [00:33<00:00,  4.75s/it]\n"
     ]
    },
    {
     "name": "stdout",
     "output_type": "stream",
     "text": [
      "Epoch 67: Train Loss: 1.2617, Train Acc: 59.8140, Val Loss: 1.5375, Val Acc: 61.9792\n",
      "Epoch 66 - Best metrics: 61.979166666666664 - Keeping weights\n"
     ]
    },
    {
     "name": "stderr",
     "output_type": "stream",
     "text": [
      "Epoch 68/100: 100%|██████████| 7/7 [00:33<00:00,  4.85s/it]\n"
     ]
    },
    {
     "name": "stdout",
     "output_type": "stream",
     "text": [
      "Epoch 68: Train Loss: 1.2413, Train Acc: 60.5826, Val Loss: 1.5253, Val Acc: 61.8490\n",
      "Epoch 67 - Metrics did not improve, wait: 1\n"
     ]
    },
    {
     "name": "stderr",
     "output_type": "stream",
     "text": [
      "Epoch 69/100: 100%|██████████| 7/7 [00:32<00:00,  4.71s/it]\n"
     ]
    },
    {
     "name": "stdout",
     "output_type": "stream",
     "text": [
      "Epoch 69: Train Loss: 1.2387, Train Acc: 61.4161, Val Loss: 1.5179, Val Acc: 61.5885\n",
      "Epoch 68 - Metrics did not improve, wait: 2\n"
     ]
    },
    {
     "name": "stderr",
     "output_type": "stream",
     "text": [
      "Epoch 70/100: 100%|██████████| 7/7 [00:33<00:00,  4.83s/it]\n"
     ]
    },
    {
     "name": "stdout",
     "output_type": "stream",
     "text": [
      "Epoch 70: Train Loss: 1.2235, Train Acc: 60.9337, Val Loss: 1.5123, Val Acc: 63.0208\n",
      "Epoch 69 - Best metrics: 63.020833333333336 - Keeping weights\n"
     ]
    },
    {
     "name": "stderr",
     "output_type": "stream",
     "text": [
      "Epoch 71/100: 100%|██████████| 7/7 [00:33<00:00,  4.83s/it]\n"
     ]
    },
    {
     "name": "stdout",
     "output_type": "stream",
     "text": [
      "Epoch 71: Train Loss: 1.2049, Train Acc: 62.0137, Val Loss: 1.4987, Val Acc: 61.8490\n",
      "Epoch 70 - Metrics did not improve, wait: 1\n"
     ]
    },
    {
     "name": "stderr",
     "output_type": "stream",
     "text": [
      "Epoch 72/100: 100%|██████████| 7/7 [00:33<00:00,  4.84s/it]\n"
     ]
    },
    {
     "name": "stdout",
     "output_type": "stream",
     "text": [
      "Epoch 72: Train Loss: 1.1978, Train Acc: 62.9801, Val Loss: 1.4853, Val Acc: 62.8906\n",
      "Epoch 71 - Metrics did not improve, wait: 2\n"
     ]
    },
    {
     "name": "stderr",
     "output_type": "stream",
     "text": [
      "Epoch 73/100: 100%|██████████| 7/7 [00:33<00:00,  4.73s/it]\n"
     ]
    },
    {
     "name": "stdout",
     "output_type": "stream",
     "text": [
      "Epoch 73: Train Loss: 1.1948, Train Acc: 62.4906, Val Loss: 1.4758, Val Acc: 63.9323\n",
      "Epoch 72 - Best metrics: 63.932291666666664 - Keeping weights\n"
     ]
    },
    {
     "name": "stderr",
     "output_type": "stream",
     "text": [
      "Epoch 74/100: 100%|██████████| 7/7 [00:33<00:00,  4.78s/it]\n"
     ]
    },
    {
     "name": "stdout",
     "output_type": "stream",
     "text": [
      "Epoch 74: Train Loss: 1.1816, Train Acc: 62.0928, Val Loss: 1.4716, Val Acc: 62.5000\n",
      "Epoch 73 - Metrics did not improve, wait: 1\n"
     ]
    },
    {
     "name": "stderr",
     "output_type": "stream",
     "text": [
      "Epoch 75/100: 100%|██████████| 7/7 [00:34<00:00,  4.88s/it]\n"
     ]
    },
    {
     "name": "stdout",
     "output_type": "stream",
     "text": [
      "Epoch 75: Train Loss: 1.1658, Train Acc: 62.9568, Val Loss: 1.4617, Val Acc: 64.3229\n",
      "Epoch 74 - Best metrics: 64.32291666666667 - Keeping weights\n"
     ]
    },
    {
     "name": "stderr",
     "output_type": "stream",
     "text": [
      "Epoch 76/100: 100%|██████████| 7/7 [00:33<00:00,  4.74s/it]\n"
     ]
    },
    {
     "name": "stdout",
     "output_type": "stream",
     "text": [
      "Epoch 76: Train Loss: 1.1462, Train Acc: 64.0708, Val Loss: 1.4487, Val Acc: 66.5365\n",
      "Epoch 75 - Best metrics: 66.53645833333333 - Keeping weights\n"
     ]
    },
    {
     "name": "stderr",
     "output_type": "stream",
     "text": [
      "Epoch 77/100: 100%|██████████| 7/7 [00:33<00:00,  4.74s/it]\n"
     ]
    },
    {
     "name": "stdout",
     "output_type": "stream",
     "text": [
      "Epoch 77: Train Loss: 1.1393, Train Acc: 64.6217, Val Loss: 1.4483, Val Acc: 63.8021\n",
      "Epoch 76 - Metrics did not improve, wait: 1\n"
     ]
    },
    {
     "name": "stderr",
     "output_type": "stream",
     "text": [
      "Epoch 78/100: 100%|██████████| 7/7 [00:33<00:00,  4.74s/it]\n"
     ]
    },
    {
     "name": "stdout",
     "output_type": "stream",
     "text": [
      "Epoch 78: Train Loss: 1.1274, Train Acc: 65.3959, Val Loss: 1.4365, Val Acc: 66.1458\n",
      "Epoch 77 - Metrics did not improve, wait: 2\n"
     ]
    },
    {
     "name": "stderr",
     "output_type": "stream",
     "text": [
      "Epoch 79/100: 100%|██████████| 7/7 [00:34<00:00,  4.97s/it]\n"
     ]
    },
    {
     "name": "stdout",
     "output_type": "stream",
     "text": [
      "Epoch 79: Train Loss: 1.1219, Train Acc: 63.9937, Val Loss: 1.4226, Val Acc: 63.8021\n",
      "Epoch 78 - Metrics did not improve, wait: 3\n"
     ]
    },
    {
     "name": "stderr",
     "output_type": "stream",
     "text": [
      "Epoch 80/100: 100%|██████████| 7/7 [00:33<00:00,  4.77s/it]\n"
     ]
    },
    {
     "name": "stdout",
     "output_type": "stream",
     "text": [
      "Epoch 80: Train Loss: 1.1054, Train Acc: 65.0808, Val Loss: 1.4146, Val Acc: 66.0156\n",
      "Epoch 79 - Metrics did not improve, wait: 4\n"
     ]
    },
    {
     "name": "stderr",
     "output_type": "stream",
     "text": [
      "Epoch 81/100: 100%|██████████| 7/7 [00:33<00:00,  4.75s/it]\n"
     ]
    },
    {
     "name": "stdout",
     "output_type": "stream",
     "text": [
      "Epoch 81: Train Loss: 1.0811, Train Acc: 66.3445, Val Loss: 1.4064, Val Acc: 66.9271\n",
      "Epoch 80 - Best metrics: 66.92708333333333 - Keeping weights\n"
     ]
    },
    {
     "name": "stderr",
     "output_type": "stream",
     "text": [
      "Epoch 82/100: 100%|██████████| 7/7 [00:33<00:00,  4.84s/it]\n"
     ]
    },
    {
     "name": "stdout",
     "output_type": "stream",
     "text": [
      "Epoch 82: Train Loss: 1.0976, Train Acc: 64.9657, Val Loss: 1.3935, Val Acc: 66.6667\n",
      "Epoch 81 - Metrics did not improve, wait: 1\n"
     ]
    },
    {
     "name": "stderr",
     "output_type": "stream",
     "text": [
      "Epoch 83/100: 100%|██████████| 7/7 [00:32<00:00,  4.69s/it]\n"
     ]
    },
    {
     "name": "stdout",
     "output_type": "stream",
     "text": [
      "Epoch 83: Train Loss: 1.0682, Train Acc: 66.2273, Val Loss: 1.3955, Val Acc: 67.8385\n",
      "Epoch 82 - Best metrics: 67.83854166666667 - Keeping weights\n"
     ]
    },
    {
     "name": "stderr",
     "output_type": "stream",
     "text": [
      "Epoch 84/100: 100%|██████████| 7/7 [00:33<00:00,  4.79s/it]\n"
     ]
    },
    {
     "name": "stdout",
     "output_type": "stream",
     "text": [
      "Epoch 84: Train Loss: 1.0671, Train Acc: 67.7863, Val Loss: 1.3778, Val Acc: 67.1875\n",
      "Epoch 83 - Metrics did not improve, wait: 1\n"
     ]
    },
    {
     "name": "stderr",
     "output_type": "stream",
     "text": [
      "Epoch 85/100: 100%|██████████| 7/7 [00:33<00:00,  4.72s/it]\n"
     ]
    },
    {
     "name": "stdout",
     "output_type": "stream",
     "text": [
      "Epoch 85: Train Loss: 1.0698, Train Acc: 66.7818, Val Loss: 1.3832, Val Acc: 67.1875\n",
      "Epoch 84 - Metrics did not improve, wait: 2\n"
     ]
    },
    {
     "name": "stderr",
     "output_type": "stream",
     "text": [
      "Epoch 86/100: 100%|██████████| 7/7 [00:34<00:00,  4.89s/it]\n"
     ]
    },
    {
     "name": "stdout",
     "output_type": "stream",
     "text": [
      "Epoch 86: Train Loss: 1.0537, Train Acc: 66.7387, Val Loss: 1.3751, Val Acc: 67.4479\n",
      "Epoch 85 - Metrics did not improve, wait: 3\n"
     ]
    },
    {
     "name": "stderr",
     "output_type": "stream",
     "text": [
      "Epoch 87/100: 100%|██████████| 7/7 [00:33<00:00,  4.77s/it]\n"
     ]
    },
    {
     "name": "stdout",
     "output_type": "stream",
     "text": [
      "Epoch 87: Train Loss: 1.0476, Train Acc: 66.5282, Val Loss: 1.3612, Val Acc: 67.5781\n",
      "Epoch 86 - Metrics did not improve, wait: 4\n"
     ]
    },
    {
     "name": "stderr",
     "output_type": "stream",
     "text": [
      "Epoch 88/100: 100%|██████████| 7/7 [00:33<00:00,  4.75s/it]\n"
     ]
    },
    {
     "name": "stdout",
     "output_type": "stream",
     "text": [
      "Epoch 88: Train Loss: 1.0300, Train Acc: 67.5687, Val Loss: 1.3634, Val Acc: 68.8802\n",
      "Epoch 87 - Best metrics: 68.88020833333333 - Keeping weights\n"
     ]
    },
    {
     "name": "stderr",
     "output_type": "stream",
     "text": [
      "Epoch 89/100: 100%|██████████| 7/7 [00:33<00:00,  4.71s/it]\n"
     ]
    },
    {
     "name": "stdout",
     "output_type": "stream",
     "text": [
      "Epoch 89: Train Loss: 1.0263, Train Acc: 68.0547, Val Loss: 1.3430, Val Acc: 68.6198\n",
      "Epoch 88 - Metrics did not improve, wait: 1\n"
     ]
    },
    {
     "name": "stderr",
     "output_type": "stream",
     "text": [
      "Epoch 90/100: 100%|██████████| 7/7 [00:33<00:00,  4.76s/it]\n"
     ]
    },
    {
     "name": "stdout",
     "output_type": "stream",
     "text": [
      "Epoch 90: Train Loss: 1.0183, Train Acc: 68.3874, Val Loss: 1.3452, Val Acc: 68.6198\n",
      "Epoch 89 - Metrics did not improve, wait: 2\n"
     ]
    },
    {
     "name": "stderr",
     "output_type": "stream",
     "text": [
      "Epoch 91/100: 100%|██████████| 7/7 [00:34<00:00,  4.86s/it]\n"
     ]
    },
    {
     "name": "stdout",
     "output_type": "stream",
     "text": [
      "Epoch 91: Train Loss: 1.0076, Train Acc: 68.2723, Val Loss: 1.3391, Val Acc: 70.0521\n",
      "Epoch 90 - Best metrics: 70.05208333333333 - Keeping weights\n"
     ]
    },
    {
     "name": "stderr",
     "output_type": "stream",
     "text": [
      "Epoch 92/100: 100%|██████████| 7/7 [00:33<00:00,  4.72s/it]\n"
     ]
    },
    {
     "name": "stdout",
     "output_type": "stream",
     "text": [
      "Epoch 92: Train Loss: 0.9998, Train Acc: 69.0337, Val Loss: 1.3224, Val Acc: 69.4010\n",
      "Epoch 91 - Metrics did not improve, wait: 1\n"
     ]
    },
    {
     "name": "stderr",
     "output_type": "stream",
     "text": [
      "Epoch 93/100: 100%|██████████| 7/7 [00:33<00:00,  4.80s/it]\n"
     ]
    },
    {
     "name": "stdout",
     "output_type": "stream",
     "text": [
      "Epoch 93: Train Loss: 0.9974, Train Acc: 68.2489, Val Loss: 1.3298, Val Acc: 70.0521\n",
      "Epoch 92 - Metrics did not improve, wait: 2\n"
     ]
    },
    {
     "name": "stderr",
     "output_type": "stream",
     "text": [
      "Epoch 94/100: 100%|██████████| 7/7 [00:33<00:00,  4.76s/it]\n"
     ]
    },
    {
     "name": "stdout",
     "output_type": "stream",
     "text": [
      "Epoch 94: Train Loss: 0.9716, Train Acc: 69.6836, Val Loss: 1.3214, Val Acc: 71.7448\n",
      "Epoch 93 - Best metrics: 71.74479166666667 - Keeping weights\n"
     ]
    },
    {
     "name": "stderr",
     "output_type": "stream",
     "text": [
      "Epoch 95/100: 100%|██████████| 7/7 [00:34<00:00,  4.90s/it]\n"
     ]
    },
    {
     "name": "stdout",
     "output_type": "stream",
     "text": [
      "Epoch 95: Train Loss: 0.9803, Train Acc: 69.5289, Val Loss: 1.3018, Val Acc: 70.0521\n",
      "Epoch 94 - Metrics did not improve, wait: 1\n"
     ]
    },
    {
     "name": "stderr",
     "output_type": "stream",
     "text": [
      "Epoch 96/100: 100%|██████████| 7/7 [00:33<00:00,  4.77s/it]\n"
     ]
    },
    {
     "name": "stdout",
     "output_type": "stream",
     "text": [
      "Epoch 96: Train Loss: 0.9651, Train Acc: 69.3001, Val Loss: 1.3003, Val Acc: 71.3542\n",
      "Epoch 95 - Metrics did not improve, wait: 2\n"
     ]
    },
    {
     "name": "stderr",
     "output_type": "stream",
     "text": [
      "Epoch 97/100: 100%|██████████| 7/7 [00:42<00:00,  6.11s/it]\n"
     ]
    },
    {
     "name": "stdout",
     "output_type": "stream",
     "text": [
      "Epoch 97: Train Loss: 0.9588, Train Acc: 69.6476, Val Loss: 1.2854, Val Acc: 70.1823\n",
      "Epoch 96 - Metrics did not improve, wait: 3\n"
     ]
    },
    {
     "name": "stderr",
     "output_type": "stream",
     "text": [
      "Epoch 98/100: 100%|██████████| 7/7 [00:44<00:00,  6.38s/it]\n"
     ]
    },
    {
     "name": "stdout",
     "output_type": "stream",
     "text": [
      "Epoch 98: Train Loss: 0.9445, Train Acc: 71.1056, Val Loss: 1.2902, Val Acc: 70.5729\n",
      "Epoch 97 - Metrics did not improve, wait: 4\n"
     ]
    },
    {
     "name": "stderr",
     "output_type": "stream",
     "text": [
      "Epoch 99/100: 100%|██████████| 7/7 [00:36<00:00,  5.18s/it]\n"
     ]
    },
    {
     "name": "stdout",
     "output_type": "stream",
     "text": [
      "Epoch 99: Train Loss: 0.9428, Train Acc: 71.4404, Val Loss: 1.2740, Val Acc: 71.8750\n",
      "Epoch 98 - Best metrics: 71.875 - Keeping weights\n"
     ]
    },
    {
     "name": "stderr",
     "output_type": "stream",
     "text": [
      "Epoch 100/100: 100%|██████████| 7/7 [00:35<00:00,  5.12s/it]\n"
     ]
    },
    {
     "name": "stdout",
     "output_type": "stream",
     "text": [
      "Epoch 100: Train Loss: 0.9461, Train Acc: 70.6104, Val Loss: 1.2692, Val Acc: 71.4844\n",
      "Epoch 99 - Metrics did not improve, wait: 1\n",
      "Max epoch reached - Stop training - Restoring weights\n"
     ]
    },
    {
     "name": "stderr",
     "output_type": "stream",
     "text": [
      "Epoch 1/100: 100%|██████████| 27/27 [00:49<00:00,  1.85s/it]\n"
     ]
    },
    {
     "name": "stdout",
     "output_type": "stream",
     "text": [
      "Epoch 1: Train Loss: 2.4119, Train Acc: 19.9122, Val Loss: 2.3920, Val Acc: 27.7778\n",
      "Epoch 0 - Keeping weights\n"
     ]
    },
    {
     "name": "stderr",
     "output_type": "stream",
     "text": [
      "Epoch 2/100: 100%|██████████| 27/27 [00:49<00:00,  1.82s/it]\n"
     ]
    },
    {
     "name": "stdout",
     "output_type": "stream",
     "text": [
      "Epoch 2: Train Loss: 2.1577, Train Acc: 32.1143, Val Loss: 2.1355, Val Acc: 37.1528\n"
     ]
    },
    {
     "name": "stderr",
     "output_type": "stream",
     "text": [
      "Epoch 3/100: 100%|██████████| 27/27 [2:42:49<00:00, 361.83s/it]   \n"
     ]
    },
    {
     "name": "stdout",
     "output_type": "stream",
     "text": [
      "Epoch 3: Train Loss: 1.9004, Train Acc: 37.8690, Val Loss: 1.9296, Val Acc: 39.9306\n"
     ]
    },
    {
     "name": "stderr",
     "output_type": "stream",
     "text": [
      "Epoch 4/100: 100%|██████████| 27/27 [00:51<00:00,  1.93s/it]\n"
     ]
    },
    {
     "name": "stdout",
     "output_type": "stream",
     "text": [
      "Epoch 4: Train Loss: 1.6602, Train Acc: 44.9235, Val Loss: 1.7462, Val Acc: 55.0347\n"
     ]
    },
    {
     "name": "stderr",
     "output_type": "stream",
     "text": [
      "Epoch 5/100: 100%|██████████| 27/27 [1:58:52<00:00, 264.17s/it]   \n"
     ]
    },
    {
     "name": "stdout",
     "output_type": "stream",
     "text": [
      "Epoch 5: Train Loss: 1.4673, Train Acc: 53.9826, Val Loss: 1.5968, Val Acc: 57.2917\n"
     ]
    },
    {
     "name": "stderr",
     "output_type": "stream",
     "text": [
      "Epoch 6/100: 100%|██████████| 27/27 [00:53<00:00,  1.98s/it]\n"
     ]
    },
    {
     "name": "stdout",
     "output_type": "stream",
     "text": [
      "Epoch 6: Train Loss: 1.2983, Train Acc: 58.5022, Val Loss: 1.4146, Val Acc: 63.1944\n"
     ]
    },
    {
     "name": "stderr",
     "output_type": "stream",
     "text": [
      "Epoch 7/100: 100%|██████████| 27/27 [00:49<00:00,  1.84s/it]\n"
     ]
    },
    {
     "name": "stdout",
     "output_type": "stream",
     "text": [
      "Epoch 7: Train Loss: 1.1823, Train Acc: 61.3208, Val Loss: 1.4253, Val Acc: 66.3194\n"
     ]
    },
    {
     "name": "stderr",
     "output_type": "stream",
     "text": [
      "Epoch 8/100: 100%|██████████| 27/27 [00:48<00:00,  1.80s/it]\n"
     ]
    },
    {
     "name": "stdout",
     "output_type": "stream",
     "text": [
      "Epoch 8: Train Loss: 1.0572, Train Acc: 65.6753, Val Loss: 1.3358, Val Acc: 70.1389\n"
     ]
    },
    {
     "name": "stderr",
     "output_type": "stream",
     "text": [
      "Epoch 9/100: 100%|██████████| 27/27 [00:48<00:00,  1.79s/it]\n"
     ]
    },
    {
     "name": "stdout",
     "output_type": "stream",
     "text": [
      "Epoch 9: Train Loss: 0.9767, Train Acc: 67.8222, Val Loss: 1.1989, Val Acc: 74.3056\n"
     ]
    },
    {
     "name": "stderr",
     "output_type": "stream",
     "text": [
      "Epoch 10/100: 100%|██████████| 27/27 [00:48<00:00,  1.81s/it]\n"
     ]
    },
    {
     "name": "stdout",
     "output_type": "stream",
     "text": [
      "Epoch 10: Train Loss: 0.8757, Train Acc: 71.5259, Val Loss: 1.1107, Val Acc: 74.6528\n"
     ]
    },
    {
     "name": "stderr",
     "output_type": "stream",
     "text": [
      "Epoch 11/100: 100%|██████████| 27/27 [00:48<00:00,  1.79s/it]\n"
     ]
    },
    {
     "name": "stdout",
     "output_type": "stream",
     "text": [
      "Epoch 11: Train Loss: 0.7960, Train Acc: 74.2135, Val Loss: 1.0418, Val Acc: 76.7361\n",
      "Epoch 10 - Best metrics: 76.73611111111111 - Keeping weights\n"
     ]
    },
    {
     "name": "stderr",
     "output_type": "stream",
     "text": [
      "Epoch 12/100: 100%|██████████| 27/27 [00:48<00:00,  1.80s/it]\n"
     ]
    },
    {
     "name": "stdout",
     "output_type": "stream",
     "text": [
      "Epoch 12: Train Loss: 0.7120, Train Acc: 76.4155, Val Loss: 0.9748, Val Acc: 77.9514\n",
      "Epoch 11 - Best metrics: 77.95138888888889 - Keeping weights\n"
     ]
    },
    {
     "name": "stderr",
     "output_type": "stream",
     "text": [
      "Epoch 13/100: 100%|██████████| 27/27 [12:04<00:00, 26.84s/it]  \n"
     ]
    },
    {
     "name": "stdout",
     "output_type": "stream",
     "text": [
      "Epoch 13: Train Loss: 0.6534, Train Acc: 78.8925, Val Loss: 0.9487, Val Acc: 78.4722\n",
      "Epoch 12 - Best metrics: 78.47222222222223 - Keeping weights\n"
     ]
    },
    {
     "name": "stderr",
     "output_type": "stream",
     "text": [
      "Epoch 14/100: 100%|██████████| 27/27 [00:49<00:00,  1.83s/it]\n"
     ]
    },
    {
     "name": "stdout",
     "output_type": "stream",
     "text": [
      "Epoch 14: Train Loss: 0.5980, Train Acc: 80.9957, Val Loss: 0.8426, Val Acc: 78.8194\n",
      "Epoch 13 - Best metrics: 78.81944444444444 - Keeping weights\n"
     ]
    },
    {
     "name": "stderr",
     "output_type": "stream",
     "text": [
      "Epoch 15/100: 100%|██████████| 27/27 [00:49<00:00,  1.83s/it]\n"
     ]
    },
    {
     "name": "stdout",
     "output_type": "stream",
     "text": [
      "Epoch 15: Train Loss: 0.5408, Train Acc: 82.2082, Val Loss: 0.8963, Val Acc: 78.4722\n",
      "Epoch 14 - Metrics did not improve, wait: 1\n"
     ]
    },
    {
     "name": "stderr",
     "output_type": "stream",
     "text": [
      "Epoch 16/100: 100%|██████████| 27/27 [00:49<00:00,  1.83s/it]\n"
     ]
    },
    {
     "name": "stdout",
     "output_type": "stream",
     "text": [
      "Epoch 16: Train Loss: 0.4751, Train Acc: 85.6832, Val Loss: 0.7678, Val Acc: 81.7708\n",
      "Epoch 15 - Best metrics: 81.77083333333333 - Keeping weights\n"
     ]
    },
    {
     "name": "stderr",
     "output_type": "stream",
     "text": [
      "Epoch 17/100: 100%|██████████| 27/27 [00:48<00:00,  1.80s/it]\n"
     ]
    },
    {
     "name": "stdout",
     "output_type": "stream",
     "text": [
      "Epoch 17: Train Loss: 0.4165, Train Acc: 86.3748, Val Loss: 0.7703, Val Acc: 81.2500\n",
      "Epoch 16 - Metrics did not improve, wait: 1\n"
     ]
    },
    {
     "name": "stderr",
     "output_type": "stream",
     "text": [
      "Epoch 18/100: 100%|██████████| 27/27 [00:48<00:00,  1.80s/it]\n"
     ]
    },
    {
     "name": "stdout",
     "output_type": "stream",
     "text": [
      "Epoch 18: Train Loss: 0.3594, Train Acc: 88.8082, Val Loss: 0.6861, Val Acc: 82.9861\n",
      "Epoch 17 - Best metrics: 82.98611111111111 - Keeping weights\n"
     ]
    },
    {
     "name": "stderr",
     "output_type": "stream",
     "text": [
      "Epoch 19/100: 100%|██████████| 27/27 [00:48<00:00,  1.80s/it]\n"
     ]
    },
    {
     "name": "stdout",
     "output_type": "stream",
     "text": [
      "Epoch 19: Train Loss: 0.3380, Train Acc: 88.8082, Val Loss: 0.6703, Val Acc: 83.6806\n",
      "Epoch 18 - Best metrics: 83.68055555555556 - Keeping weights\n"
     ]
    },
    {
     "name": "stderr",
     "output_type": "stream",
     "text": [
      "Epoch 20/100: 100%|██████████| 27/27 [00:48<00:00,  1.81s/it]\n"
     ]
    },
    {
     "name": "stdout",
     "output_type": "stream",
     "text": [
      "Epoch 20: Train Loss: 0.3085, Train Acc: 90.3186, Val Loss: 0.6596, Val Acc: 83.8542\n",
      "Epoch 19 - Best metrics: 83.85416666666667 - Keeping weights\n"
     ]
    },
    {
     "name": "stderr",
     "output_type": "stream",
     "text": [
      "Epoch 21/100: 100%|██████████| 27/27 [00:48<00:00,  1.81s/it]\n"
     ]
    },
    {
     "name": "stdout",
     "output_type": "stream",
     "text": [
      "Epoch 21: Train Loss: 0.2622, Train Acc: 91.9475, Val Loss: 0.6085, Val Acc: 85.0694\n",
      "Epoch 20 - Best metrics: 85.06944444444444 - Keeping weights\n"
     ]
    },
    {
     "name": "stderr",
     "output_type": "stream",
     "text": [
      "Epoch 22/100: 100%|██████████| 27/27 [00:48<00:00,  1.79s/it]\n"
     ]
    },
    {
     "name": "stdout",
     "output_type": "stream",
     "text": [
      "Epoch 22: Train Loss: 0.2291, Train Acc: 92.8763, Val Loss: 0.5594, Val Acc: 85.2431\n",
      "Epoch 21 - Best metrics: 85.24305555555556 - Keeping weights\n"
     ]
    },
    {
     "name": "stderr",
     "output_type": "stream",
     "text": [
      "Epoch 23/100: 100%|██████████| 27/27 [00:48<00:00,  1.79s/it]\n"
     ]
    },
    {
     "name": "stdout",
     "output_type": "stream",
     "text": [
      "Epoch 23: Train Loss: 0.2098, Train Acc: 93.7936, Val Loss: 0.5552, Val Acc: 87.5000\n",
      "Epoch 22 - Best metrics: 87.5 - Keeping weights\n"
     ]
    },
    {
     "name": "stderr",
     "output_type": "stream",
     "text": [
      "Epoch 24/100: 100%|██████████| 27/27 [00:50<00:00,  1.87s/it]\n"
     ]
    },
    {
     "name": "stdout",
     "output_type": "stream",
     "text": [
      "Epoch 24: Train Loss: 0.2031, Train Acc: 93.5043, Val Loss: 0.5390, Val Acc: 86.1111\n",
      "Epoch 23 - Metrics did not improve, wait: 1\n"
     ]
    },
    {
     "name": "stderr",
     "output_type": "stream",
     "text": [
      "Epoch 25/100: 100%|██████████| 27/27 [00:49<00:00,  1.85s/it]\n"
     ]
    },
    {
     "name": "stdout",
     "output_type": "stream",
     "text": [
      "Epoch 25: Train Loss: 0.1751, Train Acc: 94.2044, Val Loss: 0.5059, Val Acc: 86.6319\n",
      "Epoch 24 - Metrics did not improve, wait: 2\n"
     ]
    },
    {
     "name": "stderr",
     "output_type": "stream",
     "text": [
      "Epoch 26/100: 100%|██████████| 27/27 [00:49<00:00,  1.84s/it]\n"
     ]
    },
    {
     "name": "stdout",
     "output_type": "stream",
     "text": [
      "Epoch 26: Train Loss: 0.1373, Train Acc: 95.7669, Val Loss: 0.4895, Val Acc: 87.8472\n",
      "Epoch 25 - Best metrics: 87.84722222222223 - Keeping weights\n"
     ]
    },
    {
     "name": "stderr",
     "output_type": "stream",
     "text": [
      "Epoch 27/100: 100%|██████████| 27/27 [00:48<00:00,  1.79s/it]\n"
     ]
    },
    {
     "name": "stdout",
     "output_type": "stream",
     "text": [
      "Epoch 27: Train Loss: 0.1363, Train Acc: 96.0620, Val Loss: 0.4784, Val Acc: 87.8472\n",
      "Epoch 26 - Metrics did not improve, wait: 1\n"
     ]
    },
    {
     "name": "stderr",
     "output_type": "stream",
     "text": [
      "Epoch 28/100: 100%|██████████| 27/27 [00:48<00:00,  1.80s/it]\n"
     ]
    },
    {
     "name": "stdout",
     "output_type": "stream",
     "text": [
      "Epoch 28: Train Loss: 0.1185, Train Acc: 96.2935, Val Loss: 0.4849, Val Acc: 87.6736\n",
      "Epoch 27 - Metrics did not improve, wait: 2\n"
     ]
    },
    {
     "name": "stderr",
     "output_type": "stream",
     "text": [
      "Epoch 29/100: 100%|██████████| 27/27 [00:52<00:00,  1.93s/it]\n"
     ]
    },
    {
     "name": "stdout",
     "output_type": "stream",
     "text": [
      "Epoch 29: Train Loss: 0.1298, Train Acc: 95.5354, Val Loss: 0.4500, Val Acc: 88.0208\n",
      "Epoch 28 - Best metrics: 88.02083333333333 - Keeping weights\n"
     ]
    },
    {
     "name": "stderr",
     "output_type": "stream",
     "text": [
      "Epoch 30/100: 100%|██████████| 27/27 [00:53<00:00,  1.99s/it]\n"
     ]
    },
    {
     "name": "stdout",
     "output_type": "stream",
     "text": [
      "Epoch 30: Train Loss: 0.0924, Train Acc: 97.3266, Val Loss: 0.4474, Val Acc: 88.0208\n",
      "Epoch 29 - Metrics did not improve, wait: 1\n"
     ]
    },
    {
     "name": "stderr",
     "output_type": "stream",
     "text": [
      "Epoch 31/100: 100%|██████████| 27/27 [00:52<00:00,  1.95s/it]\n"
     ]
    },
    {
     "name": "stdout",
     "output_type": "stream",
     "text": [
      "Epoch 31: Train Loss: 0.0812, Train Acc: 97.8588, Val Loss: 0.4318, Val Acc: 89.0625\n",
      "Epoch 30 - Best metrics: 89.0625 - Keeping weights\n"
     ]
    },
    {
     "name": "stderr",
     "output_type": "stream",
     "text": [
      "Epoch 32/100: 100%|██████████| 27/27 [00:54<00:00,  2.03s/it]\n"
     ]
    },
    {
     "name": "stdout",
     "output_type": "stream",
     "text": [
      "Epoch 32: Train Loss: 0.0856, Train Acc: 97.3901, Val Loss: 0.4131, Val Acc: 88.5417\n",
      "Epoch 31 - Metrics did not improve, wait: 1\n"
     ]
    },
    {
     "name": "stderr",
     "output_type": "stream",
     "text": [
      "Epoch 33/100: 100%|██████████| 27/27 [01:10<00:00,  2.63s/it]\n"
     ]
    },
    {
     "name": "stdout",
     "output_type": "stream",
     "text": [
      "Epoch 33: Train Loss: 0.0758, Train Acc: 97.7431, Val Loss: 0.4162, Val Acc: 89.2361\n",
      "Epoch 32 - Best metrics: 89.23611111111111 - Keeping weights\n"
     ]
    },
    {
     "name": "stderr",
     "output_type": "stream",
     "text": [
      "Epoch 34/100: 100%|██████████| 27/27 [01:14<00:00,  2.76s/it]\n"
     ]
    },
    {
     "name": "stdout",
     "output_type": "stream",
     "text": [
      "Epoch 34: Train Loss: 0.0688, Train Acc: 97.9110, Val Loss: 0.4252, Val Acc: 87.8472\n",
      "Epoch 33 - Metrics did not improve, wait: 1\n"
     ]
    },
    {
     "name": "stderr",
     "output_type": "stream",
     "text": [
      "Epoch 35/100: 100%|██████████| 27/27 [01:11<00:00,  2.65s/it]\n"
     ]
    },
    {
     "name": "stdout",
     "output_type": "stream",
     "text": [
      "Epoch 35: Train Loss: 0.0658, Train Acc: 98.0846, Val Loss: 0.4023, Val Acc: 89.7569\n",
      "Epoch 34 - Best metrics: 89.75694444444444 - Keeping weights\n"
     ]
    },
    {
     "name": "stderr",
     "output_type": "stream",
     "text": [
      "Epoch 36/100: 100%|██████████| 27/27 [01:13<00:00,  2.73s/it]\n"
     ]
    },
    {
     "name": "stdout",
     "output_type": "stream",
     "text": [
      "Epoch 36: Train Loss: 0.0669, Train Acc: 98.2639, Val Loss: 0.4194, Val Acc: 88.5417\n",
      "Epoch 35 - Metrics did not improve, wait: 1\n"
     ]
    },
    {
     "name": "stderr",
     "output_type": "stream",
     "text": [
      "Epoch 37/100: 100%|██████████| 27/27 [01:11<00:00,  2.65s/it]\n"
     ]
    },
    {
     "name": "stdout",
     "output_type": "stream",
     "text": [
      "Epoch 37: Train Loss: 0.0576, Train Acc: 98.4347, Val Loss: 0.3948, Val Acc: 89.5833\n",
      "Epoch 36 - Metrics did not improve, wait: 2\n"
     ]
    },
    {
     "name": "stderr",
     "output_type": "stream",
     "text": [
      "Epoch 38/100: 100%|██████████| 27/27 [01:13<00:00,  2.71s/it]\n"
     ]
    },
    {
     "name": "stdout",
     "output_type": "stream",
     "text": [
      "Epoch 38: Train Loss: 0.0515, Train Acc: 98.6604, Val Loss: 0.4028, Val Acc: 87.8472\n",
      "Epoch 37 - Metrics did not improve, wait: 3\n"
     ]
    },
    {
     "name": "stderr",
     "output_type": "stream",
     "text": [
      "Epoch 39/100: 100%|██████████| 27/27 [01:17<00:00,  2.88s/it]\n"
     ]
    },
    {
     "name": "stdout",
     "output_type": "stream",
     "text": [
      "Epoch 39: Train Loss: 0.0467, Train Acc: 98.7847, Val Loss: 0.3812, Val Acc: 89.4097\n",
      "Epoch 38 - Metrics did not improve, wait: 4\n"
     ]
    },
    {
     "name": "stderr",
     "output_type": "stream",
     "text": [
      "Epoch 40/100: 100%|██████████| 27/27 [01:18<00:00,  2.93s/it]\n"
     ]
    },
    {
     "name": "stdout",
     "output_type": "stream",
     "text": [
      "Epoch 40: Train Loss: 0.0343, Train Acc: 99.4763, Val Loss: 0.3533, Val Acc: 89.7569\n",
      "Epoch 39 - Metrics did not improve, wait: 5\n"
     ]
    },
    {
     "name": "stderr",
     "output_type": "stream",
     "text": [
      "Epoch 41/100: 100%|██████████| 27/27 [01:11<00:00,  2.64s/it]\n"
     ]
    },
    {
     "name": "stdout",
     "output_type": "stream",
     "text": [
      "Epoch 41: Train Loss: 0.0349, Train Acc: 99.0684, Val Loss: 0.3876, Val Acc: 88.8889\n",
      "Epoch 40 - Metrics did not improve, wait: 6\n"
     ]
    },
    {
     "name": "stderr",
     "output_type": "stream",
     "text": [
      "Epoch 42/100: 100%|██████████| 27/27 [01:07<00:00,  2.52s/it]\n"
     ]
    },
    {
     "name": "stdout",
     "output_type": "stream",
     "text": [
      "Epoch 42: Train Loss: 0.0336, Train Acc: 98.8948, Val Loss: 0.3868, Val Acc: 89.0625\n",
      "Epoch 41 - Metrics did not improve, wait: 7\n"
     ]
    },
    {
     "name": "stderr",
     "output_type": "stream",
     "text": [
      "Epoch 43/100: 100%|██████████| 27/27 [01:08<00:00,  2.55s/it]\n"
     ]
    },
    {
     "name": "stdout",
     "output_type": "stream",
     "text": [
      "Epoch 43: Train Loss: 0.0259, Train Acc: 99.3634, Val Loss: 0.3712, Val Acc: 89.0625\n",
      "Epoch 42 - Metrics did not improve, wait: 8\n"
     ]
    },
    {
     "name": "stderr",
     "output_type": "stream",
     "text": [
      "Epoch 44/100: 100%|██████████| 27/27 [01:08<00:00,  2.53s/it]\n"
     ]
    },
    {
     "name": "stdout",
     "output_type": "stream",
     "text": [
      "Epoch 44: Train Loss: 0.0241, Train Acc: 99.5370, Val Loss: 0.3665, Val Acc: 89.9306\n",
      "Epoch 43 - Best metrics: 89.93055555555556 - Keeping weights\n"
     ]
    },
    {
     "name": "stderr",
     "output_type": "stream",
     "text": [
      "Epoch 45/100: 100%|██████████| 27/27 [01:08<00:00,  2.55s/it]\n"
     ]
    },
    {
     "name": "stdout",
     "output_type": "stream",
     "text": [
      "Epoch 45: Train Loss: 0.0247, Train Acc: 99.3634, Val Loss: 0.3651, Val Acc: 90.1042\n",
      "Epoch 44 - Best metrics: 90.10416666666667 - Keeping weights\n"
     ]
    },
    {
     "name": "stderr",
     "output_type": "stream",
     "text": [
      "Epoch 46/100: 100%|██████████| 27/27 [01:08<00:00,  2.53s/it]\n"
     ]
    },
    {
     "name": "stdout",
     "output_type": "stream",
     "text": [
      "Epoch 46: Train Loss: 0.0246, Train Acc: 99.3634, Val Loss: 0.3717, Val Acc: 89.2361\n",
      "Epoch 45 - Metrics did not improve, wait: 1\n"
     ]
    },
    {
     "name": "stderr",
     "output_type": "stream",
     "text": [
      "Epoch 47/100: 100%|██████████| 27/27 [01:08<00:00,  2.54s/it]\n"
     ]
    },
    {
     "name": "stdout",
     "output_type": "stream",
     "text": [
      "Epoch 47: Train Loss: 0.0355, Train Acc: 98.8426, Val Loss: 0.3645, Val Acc: 89.2361\n",
      "Epoch 46 - Metrics did not improve, wait: 2\n"
     ]
    },
    {
     "name": "stderr",
     "output_type": "stream",
     "text": [
      "Epoch 48/100: 100%|██████████| 27/27 [01:08<00:00,  2.55s/it]\n"
     ]
    },
    {
     "name": "stdout",
     "output_type": "stream",
     "text": [
      "Epoch 48: Train Loss: 0.0364, Train Acc: 98.8397, Val Loss: 0.3997, Val Acc: 88.7153\n",
      "Epoch 47 - Metrics did not improve, wait: 3\n"
     ]
    },
    {
     "name": "stderr",
     "output_type": "stream",
     "text": [
      "Epoch 49/100: 100%|██████████| 27/27 [01:09<00:00,  2.56s/it]\n"
     ]
    },
    {
     "name": "stdout",
     "output_type": "stream",
     "text": [
      "Epoch 49: Train Loss: 0.0562, Train Acc: 98.3189, Val Loss: 0.3823, Val Acc: 90.2778\n",
      "Epoch 48 - Best metrics: 90.27777777777777 - Keeping weights\n"
     ]
    },
    {
     "name": "stderr",
     "output_type": "stream",
     "text": [
      "Epoch 50/100: 100%|██████████| 27/27 [01:09<00:00,  2.56s/it]\n"
     ]
    },
    {
     "name": "stdout",
     "output_type": "stream",
     "text": [
      "Epoch 50: Train Loss: 0.0267, Train Acc: 99.2477, Val Loss: 0.3752, Val Acc: 88.7153\n",
      "Epoch 49 - Metrics did not improve, wait: 1\n"
     ]
    },
    {
     "name": "stderr",
     "output_type": "stream",
     "text": [
      "Epoch 51/100: 100%|██████████| 27/27 [01:09<00:00,  2.59s/it]\n"
     ]
    },
    {
     "name": "stdout",
     "output_type": "stream",
     "text": [
      "Epoch 51: Train Loss: 0.0310, Train Acc: 99.3606, Val Loss: 0.3588, Val Acc: 90.1042\n",
      "Epoch 50 - Metrics did not improve, wait: 2\n"
     ]
    },
    {
     "name": "stderr",
     "output_type": "stream",
     "text": [
      "Epoch 52/100: 100%|██████████| 27/27 [01:08<00:00,  2.54s/it]\n"
     ]
    },
    {
     "name": "stdout",
     "output_type": "stream",
     "text": [
      "Epoch 52: Train Loss: 0.0210, Train Acc: 99.5949, Val Loss: 0.3323, Val Acc: 91.3194\n",
      "Epoch 51 - Best metrics: 91.31944444444444 - Keeping weights\n"
     ]
    },
    {
     "name": "stderr",
     "output_type": "stream",
     "text": [
      "Epoch 53/100: 100%|██████████| 27/27 [01:09<00:00,  2.56s/it]\n"
     ]
    },
    {
     "name": "stdout",
     "output_type": "stream",
     "text": [
      "Epoch 53: Train Loss: 0.0182, Train Acc: 99.5342, Val Loss: 0.3509, Val Acc: 89.9306\n",
      "Epoch 52 - Metrics did not improve, wait: 1\n"
     ]
    },
    {
     "name": "stderr",
     "output_type": "stream",
     "text": [
      "Epoch 54/100: 100%|██████████| 27/27 [01:08<00:00,  2.54s/it]\n"
     ]
    },
    {
     "name": "stdout",
     "output_type": "stream",
     "text": [
      "Epoch 54: Train Loss: 0.0192, Train Acc: 99.4792, Val Loss: 0.3614, Val Acc: 90.1042\n",
      "Epoch 53 - Metrics did not improve, wait: 2\n"
     ]
    },
    {
     "name": "stderr",
     "output_type": "stream",
     "text": [
      "Epoch 55/100: 100%|██████████| 27/27 [01:08<00:00,  2.54s/it]\n"
     ]
    },
    {
     "name": "stdout",
     "output_type": "stream",
     "text": [
      "Epoch 55: Train Loss: 0.0162, Train Acc: 99.6528, Val Loss: 0.3478, Val Acc: 90.2778\n",
      "Epoch 54 - Metrics did not improve, wait: 3\n"
     ]
    },
    {
     "name": "stderr",
     "output_type": "stream",
     "text": [
      "Epoch 56/100: 100%|██████████| 27/27 [01:09<00:00,  2.57s/it]\n"
     ]
    },
    {
     "name": "stdout",
     "output_type": "stream",
     "text": [
      "Epoch 56: Train Loss: 0.0145, Train Acc: 99.8264, Val Loss: 0.3537, Val Acc: 89.4097\n",
      "Epoch 55 - Metrics did not improve, wait: 4\n"
     ]
    },
    {
     "name": "stderr",
     "output_type": "stream",
     "text": [
      "Epoch 57/100: 100%|██████████| 27/27 [01:10<00:00,  2.59s/it]\n"
     ]
    },
    {
     "name": "stdout",
     "output_type": "stream",
     "text": [
      "Epoch 57: Train Loss: 0.0160, Train Acc: 99.5342, Val Loss: 0.3591, Val Acc: 89.9306\n",
      "Epoch 56 - Metrics did not improve, wait: 5\n"
     ]
    },
    {
     "name": "stderr",
     "output_type": "stream",
     "text": [
      "Epoch 58/100: 100%|██████████| 27/27 [02:51<00:00,  6.35s/it]\n"
     ]
    },
    {
     "name": "stdout",
     "output_type": "stream",
     "text": [
      "Epoch 58: Train Loss: 0.0154, Train Acc: 99.7657, Val Loss: 0.3284, Val Acc: 90.4514\n",
      "Epoch 57 - Metrics did not improve, wait: 6\n"
     ]
    },
    {
     "name": "stderr",
     "output_type": "stream",
     "text": [
      "Epoch 59/100: 100%|██████████| 27/27 [01:07<00:00,  2.52s/it]\n"
     ]
    },
    {
     "name": "stdout",
     "output_type": "stream",
     "text": [
      "Epoch 59: Train Loss: 0.0206, Train Acc: 99.5370, Val Loss: 0.3805, Val Acc: 88.3681\n",
      "Epoch 58 - Metrics did not improve, wait: 7\n"
     ]
    },
    {
     "name": "stderr",
     "output_type": "stream",
     "text": [
      "Epoch 60/100: 100%|██████████| 27/27 [01:07<00:00,  2.50s/it]\n"
     ]
    },
    {
     "name": "stdout",
     "output_type": "stream",
     "text": [
      "Epoch 60: Train Loss: 0.0201, Train Acc: 99.5370, Val Loss: 0.3369, Val Acc: 90.9722\n",
      "Epoch 59 - Metrics did not improve, wait: 8\n"
     ]
    },
    {
     "name": "stderr",
     "output_type": "stream",
     "text": [
      "Epoch 61/100: 100%|██████████| 27/27 [01:07<00:00,  2.52s/it]\n"
     ]
    },
    {
     "name": "stdout",
     "output_type": "stream",
     "text": [
      "Epoch 61: Train Loss: 0.0129, Train Acc: 99.6499, Val Loss: 0.3365, Val Acc: 90.1042\n",
      "Epoch 60 - Metrics did not improve, wait: 9\n"
     ]
    },
    {
     "name": "stderr",
     "output_type": "stream",
     "text": [
      "Epoch 62/100: 100%|██████████| 27/27 [01:07<00:00,  2.50s/it]\n"
     ]
    },
    {
     "name": "stdout",
     "output_type": "stream",
     "text": [
      "Epoch 62: Train Loss: 0.0175, Train Acc: 99.7685, Val Loss: 0.3650, Val Acc: 88.8889\n",
      "Epoch 61 - Metrics did not improve, wait: 10\n",
      "Epoch 61 - Patience reached - Restoring weights\n"
     ]
    },
    {
     "name": "stderr",
     "output_type": "stream",
     "text": [
      "Epoch 1/100: 100%|██████████| 7/7 [00:52<00:00,  7.53s/it]\n"
     ]
    },
    {
     "name": "stdout",
     "output_type": "stream",
     "text": [
      "Epoch 1: Train Loss: 2.5179, Train Acc: 16.9185, Val Loss: 2.5039, Val Acc: 17.8385\n",
      "Epoch 0 - Keeping weights\n"
     ]
    },
    {
     "name": "stderr",
     "output_type": "stream",
     "text": [
      "Epoch 2/100: 100%|██████████| 7/7 [00:51<00:00,  7.31s/it]\n"
     ]
    },
    {
     "name": "stdout",
     "output_type": "stream",
     "text": [
      "Epoch 2: Train Loss: 2.4032, Train Acc: 20.4306, Val Loss: 2.4416, Val Acc: 17.3177\n"
     ]
    },
    {
     "name": "stderr",
     "output_type": "stream",
     "text": [
      "Epoch 3/100: 100%|██████████| 7/7 [00:51<00:00,  7.31s/it]\n"
     ]
    },
    {
     "name": "stdout",
     "output_type": "stream",
     "text": [
      "Epoch 3: Train Loss: 2.3532, Train Acc: 24.7558, Val Loss: 2.4122, Val Acc: 32.4219\n"
     ]
    },
    {
     "name": "stderr",
     "output_type": "stream",
     "text": [
      "Epoch 4/100: 100%|██████████| 7/7 [00:51<00:00,  7.30s/it]\n"
     ]
    },
    {
     "name": "stdout",
     "output_type": "stream",
     "text": [
      "Epoch 4: Train Loss: 2.2862, Train Acc: 31.2955, Val Loss: 2.3668, Val Acc: 32.1615\n"
     ]
    },
    {
     "name": "stderr",
     "output_type": "stream",
     "text": [
      "Epoch 5/100: 100%|██████████| 7/7 [00:51<00:00,  7.33s/it]\n"
     ]
    },
    {
     "name": "stdout",
     "output_type": "stream",
     "text": [
      "Epoch 5: Train Loss: 2.2050, Train Acc: 33.2542, Val Loss: 2.2978, Val Acc: 32.1615\n"
     ]
    },
    {
     "name": "stderr",
     "output_type": "stream",
     "text": [
      "Epoch 6/100: 100%|██████████| 7/7 [00:50<00:00,  7.26s/it]\n"
     ]
    },
    {
     "name": "stdout",
     "output_type": "stream",
     "text": [
      "Epoch 6: Train Loss: 2.1041, Train Acc: 32.8311, Val Loss: 2.2082, Val Acc: 35.4167\n"
     ]
    },
    {
     "name": "stderr",
     "output_type": "stream",
     "text": [
      "Epoch 7/100: 100%|██████████| 7/7 [00:50<00:00,  7.25s/it]\n"
     ]
    },
    {
     "name": "stdout",
     "output_type": "stream",
     "text": [
      "Epoch 7: Train Loss: 2.0055, Train Acc: 35.1261, Val Loss: 2.1337, Val Acc: 35.5469\n"
     ]
    },
    {
     "name": "stderr",
     "output_type": "stream",
     "text": [
      "Epoch 8/100: 100%|██████████| 7/7 [00:51<00:00,  7.30s/it]\n"
     ]
    },
    {
     "name": "stdout",
     "output_type": "stream",
     "text": [
      "Epoch 8: Train Loss: 1.9092, Train Acc: 37.6804, Val Loss: 2.0329, Val Acc: 39.7135\n"
     ]
    },
    {
     "name": "stderr",
     "output_type": "stream",
     "text": [
      "Epoch 9/100: 100%|██████████| 7/7 [00:50<00:00,  7.25s/it]\n"
     ]
    },
    {
     "name": "stdout",
     "output_type": "stream",
     "text": [
      "Epoch 9: Train Loss: 1.8246, Train Acc: 40.6161, Val Loss: 1.9767, Val Acc: 39.3229\n"
     ]
    },
    {
     "name": "stderr",
     "output_type": "stream",
     "text": [
      "Epoch 10/100: 100%|██████████| 7/7 [00:50<00:00,  7.28s/it]\n"
     ]
    },
    {
     "name": "stdout",
     "output_type": "stream",
     "text": [
      "Epoch 10: Train Loss: 1.7497, Train Acc: 42.5622, Val Loss: 1.9087, Val Acc: 42.4479\n"
     ]
    },
    {
     "name": "stderr",
     "output_type": "stream",
     "text": [
      "Epoch 11/100: 100%|██████████| 7/7 [00:50<00:00,  7.29s/it]\n"
     ]
    },
    {
     "name": "stdout",
     "output_type": "stream",
     "text": [
      "Epoch 11: Train Loss: 1.6573, Train Acc: 45.4584, Val Loss: 1.8203, Val Acc: 45.5729\n",
      "Epoch 10 - Best metrics: 45.572916666666664 - Keeping weights\n"
     ]
    },
    {
     "name": "stderr",
     "output_type": "stream",
     "text": [
      "Epoch 12/100: 100%|██████████| 7/7 [00:51<00:00,  7.31s/it]\n"
     ]
    },
    {
     "name": "stdout",
     "output_type": "stream",
     "text": [
      "Epoch 12: Train Loss: 1.6014, Train Acc: 48.4788, Val Loss: 1.7835, Val Acc: 51.1719\n",
      "Epoch 11 - Best metrics: 51.171875 - Keeping weights\n"
     ]
    },
    {
     "name": "stderr",
     "output_type": "stream",
     "text": [
      "Epoch 13/100: 100%|██████████| 7/7 [01:01<00:00,  8.75s/it]\n"
     ]
    },
    {
     "name": "stdout",
     "output_type": "stream",
     "text": [
      "Epoch 13: Train Loss: 1.5377, Train Acc: 49.6274, Val Loss: 1.7053, Val Acc: 55.5990\n",
      "Epoch 12 - Best metrics: 55.598958333333336 - Keeping weights\n"
     ]
    },
    {
     "name": "stderr",
     "output_type": "stream",
     "text": [
      "Epoch 14/100: 100%|██████████| 7/7 [00:53<00:00,  7.63s/it]\n"
     ]
    },
    {
     "name": "stdout",
     "output_type": "stream",
     "text": [
      "Epoch 14: Train Loss: 1.4507, Train Acc: 53.3966, Val Loss: 1.6504, Val Acc: 57.9427\n",
      "Epoch 13 - Best metrics: 57.942708333333336 - Keeping weights\n"
     ]
    },
    {
     "name": "stderr",
     "output_type": "stream",
     "text": [
      "Epoch 15/100: 100%|██████████| 7/7 [00:56<00:00,  8.13s/it]\n"
     ]
    },
    {
     "name": "stdout",
     "output_type": "stream",
     "text": [
      "Epoch 15: Train Loss: 1.4110, Train Acc: 55.7079, Val Loss: 1.6287, Val Acc: 58.7240\n",
      "Epoch 14 - Best metrics: 58.723958333333336 - Keeping weights\n"
     ]
    },
    {
     "name": "stderr",
     "output_type": "stream",
     "text": [
      "Epoch 16/100: 100%|██████████| 7/7 [00:52<00:00,  7.53s/it]\n"
     ]
    },
    {
     "name": "stdout",
     "output_type": "stream",
     "text": [
      "Epoch 16: Train Loss: 1.3469, Train Acc: 56.8331, Val Loss: 1.5719, Val Acc: 56.9010\n",
      "Epoch 15 - Metrics did not improve, wait: 1\n"
     ]
    },
    {
     "name": "stderr",
     "output_type": "stream",
     "text": [
      "Epoch 17/100: 100%|██████████| 7/7 [00:52<00:00,  7.47s/it]\n"
     ]
    },
    {
     "name": "stdout",
     "output_type": "stream",
     "text": [
      "Epoch 17: Train Loss: 1.3046, Train Acc: 58.1993, Val Loss: 1.5577, Val Acc: 61.9792\n",
      "Epoch 16 - Best metrics: 61.979166666666664 - Keeping weights\n"
     ]
    },
    {
     "name": "stderr",
     "output_type": "stream",
     "text": [
      "Epoch 18/100: 100%|██████████| 7/7 [00:53<00:00,  7.68s/it]\n"
     ]
    },
    {
     "name": "stdout",
     "output_type": "stream",
     "text": [
      "Epoch 18: Train Loss: 1.2424, Train Acc: 60.9083, Val Loss: 1.5160, Val Acc: 63.8021\n",
      "Epoch 17 - Best metrics: 63.802083333333336 - Keeping weights\n"
     ]
    },
    {
     "name": "stderr",
     "output_type": "stream",
     "text": [
      "Epoch 19/100: 100%|██████████| 7/7 [00:52<00:00,  7.51s/it]\n"
     ]
    },
    {
     "name": "stdout",
     "output_type": "stream",
     "text": [
      "Epoch 19: Train Loss: 1.2052, Train Acc: 61.5561, Val Loss: 1.4447, Val Acc: 64.3229\n",
      "Epoch 18 - Best metrics: 64.32291666666667 - Keeping weights\n"
     ]
    },
    {
     "name": "stderr",
     "output_type": "stream",
     "text": [
      "Epoch 20/100: 100%|██████████| 7/7 [00:53<00:00,  7.58s/it]\n"
     ]
    },
    {
     "name": "stdout",
     "output_type": "stream",
     "text": [
      "Epoch 20: Train Loss: 1.1367, Train Acc: 64.3858, Val Loss: 1.4104, Val Acc: 64.9740\n",
      "Epoch 19 - Best metrics: 64.97395833333333 - Keeping weights\n"
     ]
    },
    {
     "name": "stderr",
     "output_type": "stream",
     "text": [
      "Epoch 21/100: 100%|██████████| 7/7 [00:53<00:00,  7.71s/it]\n"
     ]
    },
    {
     "name": "stdout",
     "output_type": "stream",
     "text": [
      "Epoch 21: Train Loss: 1.1183, Train Acc: 63.9054, Val Loss: 1.3836, Val Acc: 64.4531\n",
      "Epoch 20 - Metrics did not improve, wait: 1\n"
     ]
    },
    {
     "name": "stderr",
     "output_type": "stream",
     "text": [
      "Epoch 22/100: 100%|██████████| 7/7 [00:51<00:00,  7.41s/it]\n"
     ]
    },
    {
     "name": "stdout",
     "output_type": "stream",
     "text": [
      "Epoch 22: Train Loss: 1.0815, Train Acc: 65.9554, Val Loss: 1.3491, Val Acc: 69.0104\n",
      "Epoch 21 - Best metrics: 69.01041666666667 - Keeping weights\n"
     ]
    },
    {
     "name": "stderr",
     "output_type": "stream",
     "text": [
      "Epoch 23/100: 100%|██████████| 7/7 [00:51<00:00,  7.41s/it]\n"
     ]
    },
    {
     "name": "stdout",
     "output_type": "stream",
     "text": [
      "Epoch 23: Train Loss: 1.0260, Train Acc: 67.6260, Val Loss: 1.3335, Val Acc: 67.4479\n",
      "Epoch 22 - Metrics did not improve, wait: 1\n"
     ]
    },
    {
     "name": "stderr",
     "output_type": "stream",
     "text": [
      "Epoch 24/100: 100%|██████████| 7/7 [00:53<00:00,  7.66s/it]\n"
     ]
    },
    {
     "name": "stdout",
     "output_type": "stream",
     "text": [
      "Epoch 24: Train Loss: 1.0185, Train Acc: 67.0771, Val Loss: 1.2873, Val Acc: 70.3125\n",
      "Epoch 23 - Best metrics: 70.3125 - Keeping weights\n"
     ]
    },
    {
     "name": "stderr",
     "output_type": "stream",
     "text": [
      "Epoch 25/100: 100%|██████████| 7/7 [00:53<00:00,  7.69s/it]\n"
     ]
    },
    {
     "name": "stdout",
     "output_type": "stream",
     "text": [
      "Epoch 25: Train Loss: 0.9709, Train Acc: 69.2103, Val Loss: 1.2709, Val Acc: 72.9167\n",
      "Epoch 24 - Best metrics: 72.91666666666667 - Keeping weights\n"
     ]
    },
    {
     "name": "stderr",
     "output_type": "stream",
     "text": [
      "Epoch 26/100: 100%|██████████| 7/7 [00:53<00:00,  7.69s/it]\n"
     ]
    },
    {
     "name": "stdout",
     "output_type": "stream",
     "text": [
      "Epoch 26: Train Loss: 0.9502, Train Acc: 70.2706, Val Loss: 1.2451, Val Acc: 72.6562\n",
      "Epoch 25 - Metrics did not improve, wait: 1\n"
     ]
    },
    {
     "name": "stderr",
     "output_type": "stream",
     "text": [
      "Epoch 27/100: 100%|██████████| 7/7 [00:54<00:00,  7.77s/it]\n"
     ]
    },
    {
     "name": "stdout",
     "output_type": "stream",
     "text": [
      "Epoch 27: Train Loss: 0.9067, Train Acc: 71.1000, Val Loss: 1.2095, Val Acc: 68.6198\n",
      "Epoch 26 - Metrics did not improve, wait: 2\n"
     ]
    },
    {
     "name": "stderr",
     "output_type": "stream",
     "text": [
      "Epoch 28/100: 100%|██████████| 7/7 [00:52<00:00,  7.56s/it]\n"
     ]
    },
    {
     "name": "stdout",
     "output_type": "stream",
     "text": [
      "Epoch 28: Train Loss: 0.8815, Train Acc: 72.3530, Val Loss: 1.1715, Val Acc: 73.6979\n",
      "Epoch 27 - Best metrics: 73.69791666666667 - Keeping weights\n"
     ]
    },
    {
     "name": "stderr",
     "output_type": "stream",
     "text": [
      "Epoch 29/100: 100%|██████████| 7/7 [00:52<00:00,  7.55s/it]\n"
     ]
    },
    {
     "name": "stdout",
     "output_type": "stream",
     "text": [
      "Epoch 29: Train Loss: 0.8515, Train Acc: 72.7203, Val Loss: 1.2209, Val Acc: 72.0052\n",
      "Epoch 28 - Metrics did not improve, wait: 1\n"
     ]
    },
    {
     "name": "stderr",
     "output_type": "stream",
     "text": [
      "Epoch 30/100: 100%|██████████| 7/7 [00:52<00:00,  7.55s/it]\n"
     ]
    },
    {
     "name": "stdout",
     "output_type": "stream",
     "text": [
      "Epoch 30: Train Loss: 0.8441, Train Acc: 73.5178, Val Loss: 1.1922, Val Acc: 70.9635\n",
      "Epoch 29 - Metrics did not improve, wait: 2\n"
     ]
    },
    {
     "name": "stderr",
     "output_type": "stream",
     "text": [
      "Epoch 31/100: 100%|██████████| 7/7 [00:52<00:00,  7.47s/it]\n"
     ]
    },
    {
     "name": "stdout",
     "output_type": "stream",
     "text": [
      "Epoch 31: Train Loss: 0.7793, Train Acc: 75.2781, Val Loss: 1.1117, Val Acc: 73.1771\n",
      "Epoch 30 - Metrics did not improve, wait: 3\n"
     ]
    },
    {
     "name": "stderr",
     "output_type": "stream",
     "text": [
      "Epoch 32/100: 100%|██████████| 7/7 [00:52<00:00,  7.55s/it]\n"
     ]
    },
    {
     "name": "stdout",
     "output_type": "stream",
     "text": [
      "Epoch 32: Train Loss: 0.7510, Train Acc: 76.3419, Val Loss: 1.0942, Val Acc: 74.4792\n",
      "Epoch 31 - Best metrics: 74.47916666666667 - Keeping weights\n"
     ]
    },
    {
     "name": "stderr",
     "output_type": "stream",
     "text": [
      "Epoch 33/100: 100%|██████████| 7/7 [00:52<00:00,  7.57s/it]\n"
     ]
    },
    {
     "name": "stdout",
     "output_type": "stream",
     "text": [
      "Epoch 33: Train Loss: 0.7523, Train Acc: 76.2141, Val Loss: 1.0900, Val Acc: 73.0469\n",
      "Epoch 32 - Metrics did not improve, wait: 1\n"
     ]
    },
    {
     "name": "stderr",
     "output_type": "stream",
     "text": [
      "Epoch 34/100: 100%|██████████| 7/7 [00:53<00:00,  7.58s/it]\n"
     ]
    },
    {
     "name": "stdout",
     "output_type": "stream",
     "text": [
      "Epoch 34: Train Loss: 0.7159, Train Acc: 77.0222, Val Loss: 1.0325, Val Acc: 74.7396\n",
      "Epoch 33 - Best metrics: 74.73958333333333 - Keeping weights\n"
     ]
    },
    {
     "name": "stderr",
     "output_type": "stream",
     "text": [
      "Epoch 35/100: 100%|██████████| 7/7 [00:53<00:00,  7.66s/it]\n"
     ]
    },
    {
     "name": "stdout",
     "output_type": "stream",
     "text": [
      "Epoch 35: Train Loss: 0.6825, Train Acc: 78.0161, Val Loss: 1.0097, Val Acc: 75.5208\n",
      "Epoch 34 - Best metrics: 75.52083333333333 - Keeping weights\n"
     ]
    },
    {
     "name": "stderr",
     "output_type": "stream",
     "text": [
      "Epoch 36/100: 100%|██████████| 7/7 [00:48<00:00,  6.88s/it]\n"
     ]
    },
    {
     "name": "stdout",
     "output_type": "stream",
     "text": [
      "Epoch 36: Train Loss: 0.6512, Train Acc: 79.2579, Val Loss: 1.0019, Val Acc: 75.7812\n",
      "Epoch 35 - Best metrics: 75.78125 - Keeping weights\n"
     ]
    },
    {
     "name": "stderr",
     "output_type": "stream",
     "text": [
      "Epoch 37/100: 100%|██████████| 7/7 [00:44<00:00,  6.36s/it]\n"
     ]
    },
    {
     "name": "stdout",
     "output_type": "stream",
     "text": [
      "Epoch 37: Train Loss: 0.6212, Train Acc: 81.4342, Val Loss: 0.9665, Val Acc: 75.2604\n",
      "Epoch 36 - Metrics did not improve, wait: 1\n"
     ]
    },
    {
     "name": "stderr",
     "output_type": "stream",
     "text": [
      "Epoch 38/100: 100%|██████████| 7/7 [00:51<00:00,  7.34s/it]\n"
     ]
    },
    {
     "name": "stdout",
     "output_type": "stream",
     "text": [
      "Epoch 38: Train Loss: 0.6194, Train Acc: 80.8924, Val Loss: 0.9557, Val Acc: 75.0000\n",
      "Epoch 37 - Metrics did not improve, wait: 2\n"
     ]
    },
    {
     "name": "stderr",
     "output_type": "stream",
     "text": [
      "Epoch 39/100: 100%|██████████| 7/7 [00:49<00:00,  7.10s/it]\n"
     ]
    },
    {
     "name": "stdout",
     "output_type": "stream",
     "text": [
      "Epoch 39: Train Loss: 0.5887, Train Acc: 81.1481, Val Loss: 0.9663, Val Acc: 75.3906\n",
      "Epoch 38 - Metrics did not improve, wait: 3\n"
     ]
    },
    {
     "name": "stderr",
     "output_type": "stream",
     "text": [
      "Epoch 40/100: 100%|██████████| 7/7 [00:43<00:00,  6.17s/it]\n"
     ]
    },
    {
     "name": "stdout",
     "output_type": "stream",
     "text": [
      "Epoch 40: Train Loss: 0.5686, Train Acc: 81.7818, Val Loss: 0.9200, Val Acc: 77.8646\n",
      "Epoch 39 - Best metrics: 77.86458333333333 - Keeping weights\n"
     ]
    },
    {
     "name": "stderr",
     "output_type": "stream",
     "text": [
      "Epoch 41/100: 100%|██████████| 7/7 [00:43<00:00,  6.15s/it]\n"
     ]
    },
    {
     "name": "stdout",
     "output_type": "stream",
     "text": [
      "Epoch 41: Train Loss: 0.5374, Train Acc: 83.4538, Val Loss: 0.9210, Val Acc: 76.5625\n",
      "Epoch 40 - Metrics did not improve, wait: 1\n"
     ]
    },
    {
     "name": "stderr",
     "output_type": "stream",
     "text": [
      "Epoch 42/100: 100%|██████████| 7/7 [00:43<00:00,  6.19s/it]\n"
     ]
    },
    {
     "name": "stdout",
     "output_type": "stream",
     "text": [
      "Epoch 42: Train Loss: 0.5471, Train Acc: 83.0236, Val Loss: 0.9278, Val Acc: 75.7812\n",
      "Epoch 41 - Metrics did not improve, wait: 2\n"
     ]
    },
    {
     "name": "stderr",
     "output_type": "stream",
     "text": [
      "Epoch 43/100: 100%|██████████| 7/7 [00:42<00:00,  6.11s/it]\n"
     ]
    },
    {
     "name": "stdout",
     "output_type": "stream",
     "text": [
      "Epoch 43: Train Loss: 0.5026, Train Acc: 84.2944, Val Loss: 0.8681, Val Acc: 76.5625\n",
      "Epoch 42 - Metrics did not improve, wait: 3\n"
     ]
    },
    {
     "name": "stderr",
     "output_type": "stream",
     "text": [
      "Epoch 44/100: 100%|██████████| 7/7 [00:43<00:00,  6.24s/it]\n"
     ]
    },
    {
     "name": "stdout",
     "output_type": "stream",
     "text": [
      "Epoch 44: Train Loss: 0.4976, Train Acc: 84.0803, Val Loss: 0.8656, Val Acc: 79.5573\n",
      "Epoch 43 - Best metrics: 79.55729166666667 - Keeping weights\n"
     ]
    },
    {
     "name": "stderr",
     "output_type": "stream",
     "text": [
      "Epoch 45/100: 100%|██████████| 7/7 [00:44<00:00,  6.30s/it]\n"
     ]
    },
    {
     "name": "stdout",
     "output_type": "stream",
     "text": [
      "Epoch 45: Train Loss: 0.4722, Train Acc: 84.8616, Val Loss: 0.8265, Val Acc: 80.0781\n",
      "Epoch 44 - Best metrics: 80.078125 - Keeping weights\n"
     ]
    },
    {
     "name": "stderr",
     "output_type": "stream",
     "text": [
      "Epoch 46/100: 100%|██████████| 7/7 [00:42<00:00,  6.10s/it]\n"
     ]
    },
    {
     "name": "stdout",
     "output_type": "stream",
     "text": [
      "Epoch 46: Train Loss: 0.4565, Train Acc: 85.3928, Val Loss: 0.8648, Val Acc: 76.9531\n",
      "Epoch 45 - Metrics did not improve, wait: 1\n"
     ]
    },
    {
     "name": "stderr",
     "output_type": "stream",
     "text": [
      "Epoch 47/100: 100%|██████████| 7/7 [00:44<00:00,  6.30s/it]\n"
     ]
    },
    {
     "name": "stdout",
     "output_type": "stream",
     "text": [
      "Epoch 47: Train Loss: 0.4463, Train Acc: 86.1522, Val Loss: 0.8412, Val Acc: 78.5156\n",
      "Epoch 46 - Metrics did not improve, wait: 2\n"
     ]
    },
    {
     "name": "stderr",
     "output_type": "stream",
     "text": [
      "Epoch 48/100: 100%|██████████| 7/7 [00:44<00:00,  6.37s/it]\n"
     ]
    },
    {
     "name": "stdout",
     "output_type": "stream",
     "text": [
      "Epoch 48: Train Loss: 0.4273, Train Acc: 86.3033, Val Loss: 0.7753, Val Acc: 79.2969\n",
      "Epoch 47 - Metrics did not improve, wait: 3\n"
     ]
    },
    {
     "name": "stderr",
     "output_type": "stream",
     "text": [
      "Epoch 49/100: 100%|██████████| 7/7 [00:43<00:00,  6.19s/it]\n"
     ]
    },
    {
     "name": "stdout",
     "output_type": "stream",
     "text": [
      "Epoch 49: Train Loss: 0.3957, Train Acc: 87.9972, Val Loss: 0.7604, Val Acc: 79.4271\n",
      "Epoch 48 - Metrics did not improve, wait: 4\n"
     ]
    },
    {
     "name": "stderr",
     "output_type": "stream",
     "text": [
      "Epoch 50/100: 100%|██████████| 7/7 [00:44<00:00,  6.42s/it]\n"
     ]
    },
    {
     "name": "stdout",
     "output_type": "stream",
     "text": [
      "Epoch 50: Train Loss: 0.3792, Train Acc: 88.9261, Val Loss: 0.8119, Val Acc: 76.6927\n",
      "Epoch 49 - Metrics did not improve, wait: 5\n"
     ]
    },
    {
     "name": "stderr",
     "output_type": "stream",
     "text": [
      "Epoch 51/100: 100%|██████████| 7/7 [00:44<00:00,  6.29s/it]\n"
     ]
    },
    {
     "name": "stdout",
     "output_type": "stream",
     "text": [
      "Epoch 51: Train Loss: 0.3906, Train Acc: 87.1135, Val Loss: 0.7578, Val Acc: 79.0365\n",
      "Epoch 50 - Metrics did not improve, wait: 6\n"
     ]
    },
    {
     "name": "stderr",
     "output_type": "stream",
     "text": [
      "Epoch 52/100: 100%|██████████| 7/7 [00:43<00:00,  6.29s/it]\n"
     ]
    },
    {
     "name": "stdout",
     "output_type": "stream",
     "text": [
      "Epoch 52: Train Loss: 0.3612, Train Acc: 88.9225, Val Loss: 0.7242, Val Acc: 80.7292\n",
      "Epoch 51 - Best metrics: 80.72916666666667 - Keeping weights\n"
     ]
    },
    {
     "name": "stderr",
     "output_type": "stream",
     "text": [
      "Epoch 53/100: 100%|██████████| 7/7 [00:43<00:00,  6.15s/it]\n"
     ]
    },
    {
     "name": "stdout",
     "output_type": "stream",
     "text": [
      "Epoch 53: Train Loss: 0.3315, Train Acc: 89.3005, Val Loss: 0.7149, Val Acc: 81.6406\n",
      "Epoch 52 - Best metrics: 81.640625 - Keeping weights\n"
     ]
    },
    {
     "name": "stderr",
     "output_type": "stream",
     "text": [
      "Epoch 54/100: 100%|██████████| 7/7 [00:43<00:00,  6.28s/it]\n"
     ]
    },
    {
     "name": "stdout",
     "output_type": "stream",
     "text": [
      "Epoch 54: Train Loss: 0.3275, Train Acc: 90.5642, Val Loss: 0.7063, Val Acc: 81.5104\n",
      "Epoch 53 - Metrics did not improve, wait: 1\n"
     ]
    },
    {
     "name": "stderr",
     "output_type": "stream",
     "text": [
      "Epoch 55/100: 100%|██████████| 7/7 [00:43<00:00,  6.21s/it]\n"
     ]
    },
    {
     "name": "stdout",
     "output_type": "stream",
     "text": [
      "Epoch 55: Train Loss: 0.3051, Train Acc: 90.8107, Val Loss: 0.6758, Val Acc: 80.2083\n",
      "Epoch 54 - Metrics did not improve, wait: 2\n"
     ]
    },
    {
     "name": "stderr",
     "output_type": "stream",
     "text": [
      "Epoch 56/100: 100%|██████████| 7/7 [00:43<00:00,  6.24s/it]\n"
     ]
    },
    {
     "name": "stdout",
     "output_type": "stream",
     "text": [
      "Epoch 56: Train Loss: 0.2994, Train Acc: 90.9710, Val Loss: 0.6791, Val Acc: 82.1615\n",
      "Epoch 55 - Best metrics: 82.16145833333333 - Keeping weights\n"
     ]
    },
    {
     "name": "stderr",
     "output_type": "stream",
     "text": [
      "Epoch 57/100: 100%|██████████| 7/7 [00:43<00:00,  6.22s/it]\n"
     ]
    },
    {
     "name": "stdout",
     "output_type": "stream",
     "text": [
      "Epoch 57: Train Loss: 0.2887, Train Acc: 90.5713, Val Loss: 0.7007, Val Acc: 82.2917\n",
      "Epoch 56 - Best metrics: 82.29166666666667 - Keeping weights\n"
     ]
    },
    {
     "name": "stderr",
     "output_type": "stream",
     "text": [
      "Epoch 58/100: 100%|██████████| 7/7 [00:44<00:00,  6.30s/it]\n"
     ]
    },
    {
     "name": "stdout",
     "output_type": "stream",
     "text": [
      "Epoch 58: Train Loss: 0.2647, Train Acc: 91.5199, Val Loss: 0.6733, Val Acc: 80.7292\n",
      "Epoch 57 - Metrics did not improve, wait: 1\n"
     ]
    },
    {
     "name": "stderr",
     "output_type": "stream",
     "text": [
      "Epoch 59/100: 100%|██████████| 7/7 [00:44<00:00,  6.32s/it]\n"
     ]
    },
    {
     "name": "stdout",
     "output_type": "stream",
     "text": [
      "Epoch 59: Train Loss: 0.2653, Train Acc: 92.4650, Val Loss: 0.6289, Val Acc: 82.5521\n",
      "Epoch 58 - Best metrics: 82.55208333333333 - Keeping weights\n"
     ]
    },
    {
     "name": "stderr",
     "output_type": "stream",
     "text": [
      "Epoch 60/100: 100%|██████████| 7/7 [00:44<00:00,  6.31s/it]\n"
     ]
    },
    {
     "name": "stdout",
     "output_type": "stream",
     "text": [
      "Epoch 60: Train Loss: 0.2587, Train Acc: 91.8999, Val Loss: 0.6965, Val Acc: 79.6875\n",
      "Epoch 59 - Metrics did not improve, wait: 1\n"
     ]
    },
    {
     "name": "stderr",
     "output_type": "stream",
     "text": [
      "Epoch 61/100: 100%|██████████| 7/7 [00:45<00:00,  6.45s/it]\n"
     ]
    },
    {
     "name": "stdout",
     "output_type": "stream",
     "text": [
      "Epoch 61: Train Loss: 0.2490, Train Acc: 92.4792, Val Loss: 0.6330, Val Acc: 82.9427\n",
      "Epoch 60 - Best metrics: 82.94270833333333 - Keeping weights\n"
     ]
    },
    {
     "name": "stderr",
     "output_type": "stream",
     "text": [
      "Epoch 62/100: 100%|██████████| 7/7 [00:43<00:00,  6.22s/it]\n"
     ]
    },
    {
     "name": "stdout",
     "output_type": "stream",
     "text": [
      "Epoch 62: Train Loss: 0.2311, Train Acc: 93.1778, Val Loss: 0.6116, Val Acc: 82.8125\n",
      "Epoch 61 - Metrics did not improve, wait: 1\n"
     ]
    },
    {
     "name": "stderr",
     "output_type": "stream",
     "text": [
      "Epoch 63/100: 100%|██████████| 7/7 [00:44<00:00,  6.30s/it]\n"
     ]
    },
    {
     "name": "stdout",
     "output_type": "stream",
     "text": [
      "Epoch 63: Train Loss: 0.2216, Train Acc: 94.1858, Val Loss: 0.6155, Val Acc: 83.0729\n",
      "Epoch 62 - Best metrics: 83.07291666666667 - Keeping weights\n"
     ]
    },
    {
     "name": "stderr",
     "output_type": "stream",
     "text": [
      "Epoch 64/100: 100%|██████████| 7/7 [00:43<00:00,  6.27s/it]\n"
     ]
    },
    {
     "name": "stdout",
     "output_type": "stream",
     "text": [
      "Epoch 64: Train Loss: 0.2129, Train Acc: 93.7881, Val Loss: 0.6017, Val Acc: 82.1615\n",
      "Epoch 63 - Metrics did not improve, wait: 1\n"
     ]
    },
    {
     "name": "stderr",
     "output_type": "stream",
     "text": [
      "Epoch 65/100: 100%|██████████| 7/7 [00:43<00:00,  6.16s/it]\n"
     ]
    },
    {
     "name": "stdout",
     "output_type": "stream",
     "text": [
      "Epoch 65: Train Loss: 0.2019, Train Acc: 93.6836, Val Loss: 0.5915, Val Acc: 82.5521\n",
      "Epoch 64 - Metrics did not improve, wait: 2\n"
     ]
    },
    {
     "name": "stderr",
     "output_type": "stream",
     "text": [
      "Epoch 66/100: 100%|██████████| 7/7 [00:44<00:00,  6.34s/it]\n"
     ]
    },
    {
     "name": "stdout",
     "output_type": "stream",
     "text": [
      "Epoch 66: Train Loss: 0.1937, Train Acc: 93.6369, Val Loss: 0.5985, Val Acc: 82.8125\n",
      "Epoch 65 - Metrics did not improve, wait: 3\n"
     ]
    },
    {
     "name": "stderr",
     "output_type": "stream",
     "text": [
      "Epoch 67/100: 100%|██████████| 7/7 [00:43<00:00,  6.24s/it]\n"
     ]
    },
    {
     "name": "stdout",
     "output_type": "stream",
     "text": [
      "Epoch 67: Train Loss: 0.1964, Train Acc: 94.4450, Val Loss: 0.5962, Val Acc: 83.3333\n",
      "Epoch 66 - Best metrics: 83.33333333333333 - Keeping weights\n"
     ]
    },
    {
     "name": "stderr",
     "output_type": "stream",
     "text": [
      "Epoch 68/100: 100%|██████████| 7/7 [00:44<00:00,  6.31s/it]\n"
     ]
    },
    {
     "name": "stdout",
     "output_type": "stream",
     "text": [
      "Epoch 68: Train Loss: 0.1908, Train Acc: 94.3892, Val Loss: 0.5770, Val Acc: 83.3333\n",
      "Epoch 67 - Metrics did not improve, wait: 1\n"
     ]
    },
    {
     "name": "stderr",
     "output_type": "stream",
     "text": [
      "Epoch 69/100: 100%|██████████| 7/7 [00:45<00:00,  6.47s/it]\n"
     ]
    },
    {
     "name": "stdout",
     "output_type": "stream",
     "text": [
      "Epoch 69: Train Loss: 0.1811, Train Acc: 94.4415, Val Loss: 0.5713, Val Acc: 83.0729\n",
      "Epoch 68 - Metrics did not improve, wait: 2\n"
     ]
    },
    {
     "name": "stderr",
     "output_type": "stream",
     "text": [
      "Epoch 70/100: 100%|██████████| 7/7 [00:45<00:00,  6.45s/it]\n"
     ]
    },
    {
     "name": "stdout",
     "output_type": "stream",
     "text": [
      "Epoch 70: Train Loss: 0.1567, Train Acc: 95.6205, Val Loss: 0.5494, Val Acc: 84.5052\n",
      "Epoch 69 - Best metrics: 84.50520833333333 - Keeping weights\n"
     ]
    },
    {
     "name": "stderr",
     "output_type": "stream",
     "text": [
      "Epoch 71/100: 100%|██████████| 7/7 [00:44<00:00,  6.35s/it]\n"
     ]
    },
    {
     "name": "stdout",
     "output_type": "stream",
     "text": [
      "Epoch 71: Train Loss: 0.1650, Train Acc: 94.5729, Val Loss: 0.5630, Val Acc: 83.2031\n",
      "Epoch 70 - Metrics did not improve, wait: 1\n"
     ]
    },
    {
     "name": "stderr",
     "output_type": "stream",
     "text": [
      "Epoch 72/100: 100%|██████████| 7/7 [00:44<00:00,  6.35s/it]\n"
     ]
    },
    {
     "name": "stdout",
     "output_type": "stream",
     "text": [
      "Epoch 72: Train Loss: 0.1555, Train Acc: 95.7087, Val Loss: 0.5698, Val Acc: 85.5469\n",
      "Epoch 71 - Best metrics: 85.546875 - Keeping weights\n"
     ]
    },
    {
     "name": "stderr",
     "output_type": "stream",
     "text": [
      "Epoch 73/100: 100%|██████████| 7/7 [00:36<00:00,  5.17s/it]\n"
     ]
    },
    {
     "name": "stdout",
     "output_type": "stream",
     "text": [
      "Epoch 73: Train Loss: 0.1446, Train Acc: 96.4377, Val Loss: 0.5422, Val Acc: 83.3333\n",
      "Epoch 72 - Metrics did not improve, wait: 1\n"
     ]
    },
    {
     "name": "stderr",
     "output_type": "stream",
     "text": [
      "Epoch 74/100: 100%|██████████| 7/7 [00:39<00:00,  5.62s/it]\n"
     ]
    },
    {
     "name": "stdout",
     "output_type": "stream",
     "text": [
      "Epoch 74: Train Loss: 0.1424, Train Acc: 96.4215, Val Loss: 0.5343, Val Acc: 83.2031\n",
      "Epoch 73 - Metrics did not improve, wait: 2\n"
     ]
    },
    {
     "name": "stderr",
     "output_type": "stream",
     "text": [
      "Epoch 75/100: 100%|██████████| 7/7 [00:39<00:00,  5.57s/it]\n"
     ]
    },
    {
     "name": "stdout",
     "output_type": "stream",
     "text": [
      "Epoch 75: Train Loss: 0.1484, Train Acc: 95.3937, Val Loss: 0.5270, Val Acc: 84.2448\n",
      "Epoch 74 - Metrics did not improve, wait: 3\n"
     ]
    },
    {
     "name": "stderr",
     "output_type": "stream",
     "text": [
      "Epoch 76/100: 100%|██████████| 7/7 [00:38<00:00,  5.51s/it]\n"
     ]
    },
    {
     "name": "stdout",
     "output_type": "stream",
     "text": [
      "Epoch 76: Train Loss: 0.1335, Train Acc: 96.8877, Val Loss: 0.5167, Val Acc: 83.4635\n",
      "Epoch 75 - Metrics did not improve, wait: 4\n"
     ]
    },
    {
     "name": "stderr",
     "output_type": "stream",
     "text": [
      "Epoch 77/100: 100%|██████████| 7/7 [00:36<00:00,  5.23s/it]\n"
     ]
    },
    {
     "name": "stdout",
     "output_type": "stream",
     "text": [
      "Epoch 77: Train Loss: 0.1327, Train Acc: 96.1587, Val Loss: 0.5184, Val Acc: 84.6354\n",
      "Epoch 76 - Metrics did not improve, wait: 5\n"
     ]
    },
    {
     "name": "stderr",
     "output_type": "stream",
     "text": [
      "Epoch 78/100: 100%|██████████| 7/7 [00:36<00:00,  5.26s/it]\n"
     ]
    },
    {
     "name": "stdout",
     "output_type": "stream",
     "text": [
      "Epoch 78: Train Loss: 0.1194, Train Acc: 96.9831, Val Loss: 0.5215, Val Acc: 84.6354\n",
      "Epoch 77 - Metrics did not improve, wait: 6\n"
     ]
    },
    {
     "name": "stderr",
     "output_type": "stream",
     "text": [
      "Epoch 79/100: 100%|██████████| 7/7 [00:36<00:00,  5.25s/it]\n"
     ]
    },
    {
     "name": "stdout",
     "output_type": "stream",
     "text": [
      "Epoch 79: Train Loss: 0.1183, Train Acc: 96.7725, Val Loss: 0.5141, Val Acc: 85.5469\n",
      "Epoch 78 - Metrics did not improve, wait: 7\n"
     ]
    },
    {
     "name": "stderr",
     "output_type": "stream",
     "text": [
      "Epoch 80/100: 100%|██████████| 7/7 [00:36<00:00,  5.18s/it]\n"
     ]
    },
    {
     "name": "stdout",
     "output_type": "stream",
     "text": [
      "Epoch 80: Train Loss: 0.1120, Train Acc: 97.0028, Val Loss: 0.4941, Val Acc: 84.3750\n",
      "Epoch 79 - Metrics did not improve, wait: 8\n"
     ]
    },
    {
     "name": "stderr",
     "output_type": "stream",
     "text": [
      "Epoch 81/100: 100%|██████████| 7/7 [00:36<00:00,  5.20s/it]\n"
     ]
    },
    {
     "name": "stdout",
     "output_type": "stream",
     "text": [
      "Epoch 81: Train Loss: 0.1094, Train Acc: 96.7959, Val Loss: 0.4848, Val Acc: 85.2865\n",
      "Epoch 80 - Metrics did not improve, wait: 9\n"
     ]
    },
    {
     "name": "stderr",
     "output_type": "stream",
     "text": [
      "Epoch 82/100: 100%|██████████| 7/7 [00:36<00:00,  5.28s/it]\n"
     ]
    },
    {
     "name": "stdout",
     "output_type": "stream",
     "text": [
      "Epoch 82: Train Loss: 0.1106, Train Acc: 96.7528, Val Loss: 0.5112, Val Acc: 83.7240\n",
      "Epoch 81 - Metrics did not improve, wait: 10\n",
      "Epoch 81 - Patience reached - Restoring weights\n"
     ]
    },
    {
     "name": "stderr",
     "output_type": "stream",
     "text": [
      "Epoch 1/100: 100%|██████████| 7/7 [00:19<00:00,  2.74s/it]\n"
     ]
    },
    {
     "name": "stdout",
     "output_type": "stream",
     "text": [
      "Epoch 1: Train Loss: 2.5437, Train Acc: 11.6786, Val Loss: 2.5329, Val Acc: 12.1094\n",
      "Epoch 0 - Keeping weights\n"
     ]
    },
    {
     "name": "stderr",
     "output_type": "stream",
     "text": [
      "Epoch 2/100: 100%|██████████| 7/7 [00:18<00:00,  2.67s/it]\n"
     ]
    },
    {
     "name": "stdout",
     "output_type": "stream",
     "text": [
      "Epoch 2: Train Loss: 2.4376, Train Acc: 17.3741, Val Loss: 2.4547, Val Acc: 12.1094\n"
     ]
    },
    {
     "name": "stderr",
     "output_type": "stream",
     "text": [
      "Epoch 3/100: 100%|██████████| 7/7 [00:19<00:00,  2.72s/it]\n"
     ]
    },
    {
     "name": "stdout",
     "output_type": "stream",
     "text": [
      "Epoch 3: Train Loss: 2.3963, Train Acc: 20.9074, Val Loss: 2.4177, Val Acc: 32.8125\n"
     ]
    },
    {
     "name": "stderr",
     "output_type": "stream",
     "text": [
      "Epoch 4/100: 100%|██████████| 7/7 [00:18<00:00,  2.63s/it]\n"
     ]
    },
    {
     "name": "stdout",
     "output_type": "stream",
     "text": [
      "Epoch 4: Train Loss: 2.3169, Train Acc: 26.9286, Val Loss: 2.3785, Val Acc: 26.6927\n"
     ]
    },
    {
     "name": "stderr",
     "output_type": "stream",
     "text": [
      "Epoch 5/100: 100%|██████████| 7/7 [00:18<00:00,  2.71s/it]\n"
     ]
    },
    {
     "name": "stdout",
     "output_type": "stream",
     "text": [
      "Epoch 5: Train Loss: 2.2039, Train Acc: 30.7522, Val Loss: 2.2655, Val Acc: 30.7292\n"
     ]
    },
    {
     "name": "stderr",
     "output_type": "stream",
     "text": [
      "Epoch 6/100: 100%|██████████| 7/7 [00:19<00:00,  2.73s/it]\n"
     ]
    },
    {
     "name": "stdout",
     "output_type": "stream",
     "text": [
      "Epoch 6: Train Loss: 2.0864, Train Acc: 33.6752, Val Loss: 2.1414, Val Acc: 35.5469\n"
     ]
    },
    {
     "name": "stderr",
     "output_type": "stream",
     "text": [
      "Epoch 7/100: 100%|██████████| 7/7 [08:55<00:00, 76.55s/it] \n"
     ]
    },
    {
     "name": "stdout",
     "output_type": "stream",
     "text": [
      "Epoch 7: Train Loss: 1.9676, Train Acc: 37.6119, Val Loss: 2.0693, Val Acc: 37.8906\n"
     ]
    },
    {
     "name": "stderr",
     "output_type": "stream",
     "text": [
      "Epoch 8/100: 100%|██████████| 7/7 [00:19<00:00,  2.78s/it]\n"
     ]
    },
    {
     "name": "stdout",
     "output_type": "stream",
     "text": [
      "Epoch 8: Train Loss: 1.8632, Train Acc: 39.5382, Val Loss: 1.9473, Val Acc: 41.6667\n"
     ]
    },
    {
     "name": "stderr",
     "output_type": "stream",
     "text": [
      "Epoch 9/100: 100%|██████████| 7/7 [00:19<00:00,  2.82s/it]\n"
     ]
    },
    {
     "name": "stdout",
     "output_type": "stream",
     "text": [
      "Epoch 9: Train Loss: 1.7529, Train Acc: 43.3434, Val Loss: 1.8580, Val Acc: 45.5729\n"
     ]
    },
    {
     "name": "stderr",
     "output_type": "stream",
     "text": [
      "Epoch 10/100: 100%|██████████| 7/7 [00:18<00:00,  2.59s/it]\n"
     ]
    },
    {
     "name": "stdout",
     "output_type": "stream",
     "text": [
      "Epoch 10: Train Loss: 1.6396, Train Acc: 45.6420, Val Loss: 1.7661, Val Acc: 50.5208\n"
     ]
    },
    {
     "name": "stderr",
     "output_type": "stream",
     "text": [
      "Epoch 11/100: 100%|██████████| 7/7 [00:18<00:00,  2.60s/it]\n"
     ]
    },
    {
     "name": "stdout",
     "output_type": "stream",
     "text": [
      "Epoch 11: Train Loss: 1.5712, Train Acc: 48.7974, Val Loss: 1.7212, Val Acc: 56.1198\n",
      "Epoch 10 - Best metrics: 56.119791666666664 - Keeping weights\n"
     ]
    },
    {
     "name": "stderr",
     "output_type": "stream",
     "text": [
      "Epoch 12/100: 100%|██████████| 7/7 [00:17<00:00,  2.56s/it]\n"
     ]
    },
    {
     "name": "stdout",
     "output_type": "stream",
     "text": [
      "Epoch 12: Train Loss: 1.4585, Train Acc: 53.5930, Val Loss: 1.6169, Val Acc: 57.9427\n",
      "Epoch 11 - Best metrics: 57.942708333333336 - Keeping weights\n"
     ]
    },
    {
     "name": "stderr",
     "output_type": "stream",
     "text": [
      "Epoch 13/100: 100%|██████████| 7/7 [00:18<00:00,  2.62s/it]\n"
     ]
    },
    {
     "name": "stdout",
     "output_type": "stream",
     "text": [
      "Epoch 13: Train Loss: 1.3844, Train Acc: 55.8789, Val Loss: 1.5578, Val Acc: 62.5000\n",
      "Epoch 12 - Best metrics: 62.5 - Keeping weights\n"
     ]
    },
    {
     "name": "stderr",
     "output_type": "stream",
     "text": [
      "Epoch 14/100: 100%|██████████| 7/7 [00:18<00:00,  2.63s/it]\n"
     ]
    },
    {
     "name": "stdout",
     "output_type": "stream",
     "text": [
      "Epoch 14: Train Loss: 1.3071, Train Acc: 58.9262, Val Loss: 1.4775, Val Acc: 64.9740\n",
      "Epoch 13 - Best metrics: 64.97395833333333 - Keeping weights\n"
     ]
    },
    {
     "name": "stderr",
     "output_type": "stream",
     "text": [
      "Epoch 15/100: 100%|██████████| 7/7 [00:17<00:00,  2.54s/it]\n"
     ]
    },
    {
     "name": "stdout",
     "output_type": "stream",
     "text": [
      "Epoch 15: Train Loss: 1.2415, Train Acc: 60.8991, Val Loss: 1.4142, Val Acc: 65.3646\n",
      "Epoch 14 - Best metrics: 65.36458333333333 - Keeping weights\n"
     ]
    },
    {
     "name": "stderr",
     "output_type": "stream",
     "text": [
      "Epoch 16/100: 100%|██████████| 7/7 [00:18<00:00,  2.62s/it]\n"
     ]
    },
    {
     "name": "stdout",
     "output_type": "stream",
     "text": [
      "Epoch 16: Train Loss: 1.1494, Train Acc: 62.5732, Val Loss: 1.3630, Val Acc: 67.3177\n",
      "Epoch 15 - Best metrics: 67.31770833333333 - Keeping weights\n"
     ]
    },
    {
     "name": "stderr",
     "output_type": "stream",
     "text": [
      "Epoch 17/100: 100%|██████████| 7/7 [6:11:52<00:00, 3187.48s/it]\n"
     ]
    },
    {
     "name": "stdout",
     "output_type": "stream",
     "text": [
      "Epoch 17: Train Loss: 1.1027, Train Acc: 64.6633, Val Loss: 1.2993, Val Acc: 69.1406\n",
      "Epoch 16 - Best metrics: 69.140625 - Keeping weights\n"
     ]
    },
    {
     "name": "stderr",
     "output_type": "stream",
     "text": [
      "Epoch 18/100: 100%|██████████| 7/7 [00:30<00:00,  4.31s/it]\n"
     ]
    },
    {
     "name": "stdout",
     "output_type": "stream",
     "text": [
      "Epoch 18: Train Loss: 1.0379, Train Acc: 65.3959, Val Loss: 1.2810, Val Acc: 70.3125\n",
      "Epoch 17 - Best metrics: 70.3125 - Keeping weights\n"
     ]
    },
    {
     "name": "stderr",
     "output_type": "stream",
     "text": [
      "Epoch 19/100: 100%|██████████| 7/7 [00:19<00:00,  2.74s/it]\n"
     ]
    },
    {
     "name": "stdout",
     "output_type": "stream",
     "text": [
      "Epoch 19: Train Loss: 0.9877, Train Acc: 67.2876, Val Loss: 1.2183, Val Acc: 71.6146\n",
      "Epoch 18 - Best metrics: 71.61458333333333 - Keeping weights\n"
     ]
    },
    {
     "name": "stderr",
     "output_type": "stream",
     "text": [
      "Epoch 20/100: 100%|██████████| 7/7 [00:19<00:00,  2.71s/it]\n"
     ]
    },
    {
     "name": "stdout",
     "output_type": "stream",
     "text": [
      "Epoch 20: Train Loss: 0.9240, Train Acc: 70.0940, Val Loss: 1.1862, Val Acc: 72.7865\n",
      "Epoch 19 - Best metrics: 72.78645833333333 - Keeping weights\n"
     ]
    },
    {
     "name": "stderr",
     "output_type": "stream",
     "text": [
      "Epoch 21/100: 100%|██████████| 7/7 [00:18<00:00,  2.63s/it]\n"
     ]
    },
    {
     "name": "stdout",
     "output_type": "stream",
     "text": [
      "Epoch 21: Train Loss: 0.8462, Train Acc: 73.0551, Val Loss: 1.0945, Val Acc: 77.3438\n",
      "Epoch 20 - Best metrics: 77.34375 - Keeping weights\n"
     ]
    },
    {
     "name": "stderr",
     "output_type": "stream",
     "text": [
      "Epoch 22/100: 100%|██████████| 7/7 [00:18<00:00,  2.68s/it]\n"
     ]
    },
    {
     "name": "stdout",
     "output_type": "stream",
     "text": [
      "Epoch 22: Train Loss: 0.8043, Train Acc: 73.7354, Val Loss: 1.0737, Val Acc: 73.5677\n",
      "Epoch 21 - Metrics did not improve, wait: 1\n"
     ]
    },
    {
     "name": "stderr",
     "output_type": "stream",
     "text": [
      "Epoch 23/100: 100%|██████████| 7/7 [00:18<00:00,  2.69s/it]\n"
     ]
    },
    {
     "name": "stdout",
     "output_type": "stream",
     "text": [
      "Epoch 23: Train Loss: 0.7441, Train Acc: 75.9711, Val Loss: 1.0215, Val Acc: 77.0833\n",
      "Epoch 22 - Metrics did not improve, wait: 2\n"
     ]
    },
    {
     "name": "stderr",
     "output_type": "stream",
     "text": [
      "Epoch 24/100: 100%|██████████| 7/7 [00:18<00:00,  2.67s/it]\n"
     ]
    },
    {
     "name": "stdout",
     "output_type": "stream",
     "text": [
      "Epoch 24: Train Loss: 0.7108, Train Acc: 77.5047, Val Loss: 0.9587, Val Acc: 77.4740\n",
      "Epoch 23 - Best metrics: 77.47395833333333 - Keeping weights\n"
     ]
    },
    {
     "name": "stderr",
     "output_type": "stream",
     "text": [
      "Epoch 25/100: 100%|██████████| 7/7 [00:18<00:00,  2.61s/it]\n"
     ]
    },
    {
     "name": "stdout",
     "output_type": "stream",
     "text": [
      "Epoch 25: Train Loss: 0.6768, Train Acc: 78.9287, Val Loss: 0.9621, Val Acc: 77.6042\n",
      "Epoch 24 - Best metrics: 77.60416666666667 - Keeping weights\n"
     ]
    },
    {
     "name": "stderr",
     "output_type": "stream",
     "text": [
      "Epoch 26/100: 100%|██████████| 7/7 [00:18<00:00,  2.68s/it]\n"
     ]
    },
    {
     "name": "stdout",
     "output_type": "stream",
     "text": [
      "Epoch 26: Train Loss: 0.6332, Train Acc: 79.2833, Val Loss: 0.9190, Val Acc: 79.4271\n",
      "Epoch 25 - Best metrics: 79.42708333333333 - Keeping weights\n"
     ]
    },
    {
     "name": "stderr",
     "output_type": "stream",
     "text": [
      "Epoch 27/100: 100%|██████████| 7/7 [00:18<00:00,  2.61s/it]\n"
     ]
    },
    {
     "name": "stdout",
     "output_type": "stream",
     "text": [
      "Epoch 27: Train Loss: 0.5751, Train Acc: 81.3029, Val Loss: 0.8580, Val Acc: 81.1198\n",
      "Epoch 26 - Best metrics: 81.11979166666667 - Keeping weights\n"
     ]
    },
    {
     "name": "stderr",
     "output_type": "stream",
     "text": [
      "Epoch 28/100: 100%|██████████| 7/7 [34:09<00:00, 292.83s/it]\n"
     ]
    },
    {
     "name": "stdout",
     "output_type": "stream",
     "text": [
      "Epoch 28: Train Loss: 0.5208, Train Acc: 83.7455, Val Loss: 0.8502, Val Acc: 80.7292\n",
      "Epoch 27 - Metrics did not improve, wait: 1\n"
     ]
    },
    {
     "name": "stderr",
     "output_type": "stream",
     "text": [
      "Epoch 29/100: 100%|██████████| 7/7 [00:22<00:00,  3.24s/it]\n"
     ]
    },
    {
     "name": "stdout",
     "output_type": "stream",
     "text": [
      "Epoch 29: Train Loss: 0.4820, Train Acc: 85.1964, Val Loss: 0.7793, Val Acc: 82.8125\n",
      "Epoch 28 - Best metrics: 82.8125 - Keeping weights\n"
     ]
    },
    {
     "name": "stderr",
     "output_type": "stream",
     "text": [
      "Epoch 30/100: 100%|██████████| 7/7 [00:20<00:00,  2.93s/it]\n"
     ]
    },
    {
     "name": "stdout",
     "output_type": "stream",
     "text": [
      "Epoch 30: Train Loss: 0.4561, Train Acc: 85.8427, Val Loss: 0.7447, Val Acc: 81.7708\n",
      "Epoch 29 - Metrics did not improve, wait: 1\n"
     ]
    },
    {
     "name": "stderr",
     "output_type": "stream",
     "text": [
      "Epoch 31/100: 100%|██████████| 7/7 [00:20<00:00,  2.99s/it]\n"
     ]
    },
    {
     "name": "stdout",
     "output_type": "stream",
     "text": [
      "Epoch 31: Train Loss: 0.4253, Train Acc: 85.4556, Val Loss: 0.7422, Val Acc: 79.6875\n",
      "Epoch 30 - Metrics did not improve, wait: 2\n"
     ]
    },
    {
     "name": "stderr",
     "output_type": "stream",
     "text": [
      "Epoch 32/100: 100%|██████████| 7/7 [00:20<00:00,  2.89s/it]\n"
     ]
    },
    {
     "name": "stdout",
     "output_type": "stream",
     "text": [
      "Epoch 32: Train Loss: 0.3768, Train Acc: 88.4076, Val Loss: 0.7025, Val Acc: 82.0312\n",
      "Epoch 31 - Metrics did not improve, wait: 3\n"
     ]
    },
    {
     "name": "stderr",
     "output_type": "stream",
     "text": [
      "Epoch 33/100: 100%|██████████| 7/7 [00:20<00:00,  2.90s/it]\n"
     ]
    },
    {
     "name": "stdout",
     "output_type": "stream",
     "text": [
      "Epoch 33: Train Loss: 0.3659, Train Acc: 88.1053, Val Loss: 0.6721, Val Acc: 82.2917\n",
      "Epoch 32 - Metrics did not improve, wait: 4\n"
     ]
    },
    {
     "name": "stderr",
     "output_type": "stream",
     "text": [
      "Epoch 34/100: 100%|██████████| 7/7 [00:19<00:00,  2.77s/it]\n"
     ]
    },
    {
     "name": "stdout",
     "output_type": "stream",
     "text": [
      "Epoch 34: Train Loss: 0.3449, Train Acc: 89.1726, Val Loss: 0.6644, Val Acc: 82.9427\n",
      "Epoch 33 - Best metrics: 82.94270833333333 - Keeping weights\n"
     ]
    },
    {
     "name": "stderr",
     "output_type": "stream",
     "text": [
      "Epoch 35/100: 100%|██████████| 7/7 [00:19<00:00,  2.77s/it]\n"
     ]
    },
    {
     "name": "stdout",
     "output_type": "stream",
     "text": [
      "Epoch 35: Train Loss: 0.3221, Train Acc: 89.8316, Val Loss: 0.6383, Val Acc: 85.8073\n",
      "Epoch 34 - Best metrics: 85.80729166666667 - Keeping weights\n"
     ]
    },
    {
     "name": "stderr",
     "output_type": "stream",
     "text": [
      "Epoch 36/100: 100%|██████████| 7/7 [00:20<00:00,  2.87s/it]\n"
     ]
    },
    {
     "name": "stdout",
     "output_type": "stream",
     "text": [
      "Epoch 36: Train Loss: 0.2974, Train Acc: 90.2131, Val Loss: 0.6073, Val Acc: 84.7656\n",
      "Epoch 35 - Metrics did not improve, wait: 1\n"
     ]
    },
    {
     "name": "stderr",
     "output_type": "stream",
     "text": [
      "Epoch 37/100: 100%|██████████| 7/7 [00:19<00:00,  2.72s/it]\n"
     ]
    },
    {
     "name": "stdout",
     "output_type": "stream",
     "text": [
      "Epoch 37: Train Loss: 0.2720, Train Acc: 91.5722, Val Loss: 0.5986, Val Acc: 83.4635\n",
      "Epoch 36 - Metrics did not improve, wait: 2\n"
     ]
    },
    {
     "name": "stderr",
     "output_type": "stream",
     "text": [
      "Epoch 38/100: 100%|██████████| 7/7 [00:19<00:00,  2.80s/it]\n"
     ]
    },
    {
     "name": "stdout",
     "output_type": "stream",
     "text": [
      "Epoch 38: Train Loss: 0.2493, Train Acc: 91.9035, Val Loss: 0.5940, Val Acc: 83.4635\n",
      "Epoch 37 - Metrics did not improve, wait: 3\n"
     ]
    },
    {
     "name": "stderr",
     "output_type": "stream",
     "text": [
      "Epoch 39/100: 100%|██████████| 7/7 [00:19<00:00,  2.74s/it]\n"
     ]
    },
    {
     "name": "stdout",
     "output_type": "stream",
     "text": [
      "Epoch 39: Train Loss: 0.2372, Train Acc: 93.1382, Val Loss: 0.5788, Val Acc: 84.1146\n",
      "Epoch 38 - Metrics did not improve, wait: 4\n"
     ]
    },
    {
     "name": "stderr",
     "output_type": "stream",
     "text": [
      "Epoch 40/100: 100%|██████████| 7/7 [00:19<00:00,  2.72s/it]\n"
     ]
    },
    {
     "name": "stdout",
     "output_type": "stream",
     "text": [
      "Epoch 40: Train Loss: 0.2173, Train Acc: 93.2244, Val Loss: 0.5481, Val Acc: 84.8958\n",
      "Epoch 39 - Metrics did not improve, wait: 5\n"
     ]
    },
    {
     "name": "stderr",
     "output_type": "stream",
     "text": [
      "Epoch 41/100: 100%|██████████| 7/7 [00:19<00:00,  2.73s/it]\n"
     ]
    },
    {
     "name": "stdout",
     "output_type": "stream",
     "text": [
      "Epoch 41: Train Loss: 0.1914, Train Acc: 94.3263, Val Loss: 0.5180, Val Acc: 84.7656\n",
      "Epoch 40 - Metrics did not improve, wait: 6\n"
     ]
    },
    {
     "name": "stderr",
     "output_type": "stream",
     "text": [
      "Epoch 42/100: 100%|██████████| 7/7 [00:19<00:00,  2.80s/it]\n"
     ]
    },
    {
     "name": "stdout",
     "output_type": "stream",
     "text": [
      "Epoch 42: Train Loss: 0.1973, Train Acc: 93.4208, Val Loss: 0.5189, Val Acc: 84.8958\n",
      "Epoch 41 - Metrics did not improve, wait: 7\n"
     ]
    },
    {
     "name": "stderr",
     "output_type": "stream",
     "text": [
      "Epoch 43/100: 100%|██████████| 7/7 [00:19<00:00,  2.78s/it]\n"
     ]
    },
    {
     "name": "stdout",
     "output_type": "stream",
     "text": [
      "Epoch 43: Train Loss: 0.1790, Train Acc: 94.2020, Val Loss: 0.5079, Val Acc: 85.2865\n",
      "Epoch 42 - Metrics did not improve, wait: 8\n"
     ]
    },
    {
     "name": "stderr",
     "output_type": "stream",
     "text": [
      "Epoch 44/100: 100%|██████████| 7/7 [00:19<00:00,  2.72s/it]\n"
     ]
    },
    {
     "name": "stdout",
     "output_type": "stream",
     "text": [
      "Epoch 44: Train Loss: 0.1765, Train Acc: 94.8950, Val Loss: 0.4862, Val Acc: 86.7188\n",
      "Epoch 43 - Best metrics: 86.71875 - Keeping weights\n"
     ]
    },
    {
     "name": "stderr",
     "output_type": "stream",
     "text": [
      "Epoch 45/100: 100%|██████████| 7/7 [00:19<00:00,  2.78s/it]\n"
     ]
    },
    {
     "name": "stdout",
     "output_type": "stream",
     "text": [
      "Epoch 45: Train Loss: 0.1454, Train Acc: 95.8832, Val Loss: 0.4854, Val Acc: 86.0677\n",
      "Epoch 44 - Metrics did not improve, wait: 1\n"
     ]
    },
    {
     "name": "stderr",
     "output_type": "stream",
     "text": [
      "Epoch 46/100: 100%|██████████| 7/7 [00:19<00:00,  2.72s/it]\n"
     ]
    },
    {
     "name": "stdout",
     "output_type": "stream",
     "text": [
      "Epoch 46: Train Loss: 0.1569, Train Acc: 95.1147, Val Loss: 0.4619, Val Acc: 87.3698\n",
      "Epoch 45 - Best metrics: 87.36979166666667 - Keeping weights\n"
     ]
    },
    {
     "name": "stderr",
     "output_type": "stream",
     "text": [
      "Epoch 47/100: 100%|██████████| 7/7 [00:19<00:00,  2.76s/it]\n"
     ]
    },
    {
     "name": "stdout",
     "output_type": "stream",
     "text": [
      "Epoch 47: Train Loss: 0.1335, Train Acc: 96.1064, Val Loss: 0.4657, Val Acc: 86.0677\n",
      "Epoch 46 - Metrics did not improve, wait: 1\n"
     ]
    },
    {
     "name": "stderr",
     "output_type": "stream",
     "text": [
      "Epoch 48/100: 100%|██████████| 7/7 [00:19<00:00,  2.75s/it]\n"
     ]
    },
    {
     "name": "stdout",
     "output_type": "stream",
     "text": [
      "Epoch 48: Train Loss: 0.1212, Train Acc: 96.3494, Val Loss: 0.4691, Val Acc: 84.8958\n",
      "Epoch 47 - Metrics did not improve, wait: 2\n"
     ]
    },
    {
     "name": "stderr",
     "output_type": "stream",
     "text": [
      "Epoch 49/100: 100%|██████████| 7/7 [00:18<00:00,  2.67s/it]\n"
     ]
    },
    {
     "name": "stdout",
     "output_type": "stream",
     "text": [
      "Epoch 49: Train Loss: 0.1269, Train Acc: 95.5809, Val Loss: 0.4587, Val Acc: 85.9375\n",
      "Epoch 48 - Metrics did not improve, wait: 3\n"
     ]
    },
    {
     "name": "stderr",
     "output_type": "stream",
     "text": [
      "Epoch 50/100: 100%|██████████| 7/7 [00:19<00:00,  2.77s/it]\n"
     ]
    },
    {
     "name": "stdout",
     "output_type": "stream",
     "text": [
      "Epoch 50: Train Loss: 0.1098, Train Acc: 96.4737, Val Loss: 0.4492, Val Acc: 85.5469\n",
      "Epoch 49 - Metrics did not improve, wait: 4\n"
     ]
    },
    {
     "name": "stderr",
     "output_type": "stream",
     "text": [
      "Epoch 51/100: 100%|██████████| 7/7 [00:19<00:00,  2.75s/it]\n"
     ]
    },
    {
     "name": "stdout",
     "output_type": "stream",
     "text": [
      "Epoch 51: Train Loss: 0.1097, Train Acc: 96.7598, Val Loss: 0.4334, Val Acc: 86.1979\n",
      "Epoch 50 - Metrics did not improve, wait: 5\n"
     ]
    },
    {
     "name": "stderr",
     "output_type": "stream",
     "text": [
      "Epoch 52/100: 100%|██████████| 7/7 [00:19<00:00,  2.76s/it]\n"
     ]
    },
    {
     "name": "stdout",
     "output_type": "stream",
     "text": [
      "Epoch 52: Train Loss: 0.1023, Train Acc: 97.4097, Val Loss: 0.4281, Val Acc: 87.3698\n",
      "Epoch 51 - Metrics did not improve, wait: 6\n"
     ]
    },
    {
     "name": "stderr",
     "output_type": "stream",
     "text": [
      "Epoch 53/100: 100%|██████████| 7/7 [00:19<00:00,  2.85s/it]\n"
     ]
    },
    {
     "name": "stdout",
     "output_type": "stream",
     "text": [
      "Epoch 53: Train Loss: 0.0982, Train Acc: 96.8608, Val Loss: 0.4252, Val Acc: 87.7604\n",
      "Epoch 52 - Best metrics: 87.76041666666667 - Keeping weights\n"
     ]
    },
    {
     "name": "stderr",
     "output_type": "stream",
     "text": [
      "Epoch 54/100: 100%|██████████| 7/7 [00:18<00:00,  2.71s/it]\n"
     ]
    },
    {
     "name": "stdout",
     "output_type": "stream",
     "text": [
      "Epoch 54: Train Loss: 0.0835, Train Acc: 97.4620, Val Loss: 0.4078, Val Acc: 87.5000\n",
      "Epoch 53 - Metrics did not improve, wait: 1\n"
     ]
    },
    {
     "name": "stderr",
     "output_type": "stream",
     "text": [
      "Epoch 55/100: 100%|██████████| 7/7 [00:19<00:00,  2.76s/it]\n"
     ]
    },
    {
     "name": "stdout",
     "output_type": "stream",
     "text": [
      "Epoch 55: Train Loss: 0.0833, Train Acc: 97.3701, Val Loss: 0.4083, Val Acc: 85.9375\n",
      "Epoch 54 - Metrics did not improve, wait: 2\n"
     ]
    },
    {
     "name": "stderr",
     "output_type": "stream",
     "text": [
      "Epoch 56/100: 100%|██████████| 7/7 [00:19<00:00,  2.77s/it]\n"
     ]
    },
    {
     "name": "stdout",
     "output_type": "stream",
     "text": [
      "Epoch 56: Train Loss: 0.0826, Train Acc: 97.6852, Val Loss: 0.4112, Val Acc: 87.3698\n",
      "Epoch 55 - Metrics did not improve, wait: 3\n"
     ]
    },
    {
     "name": "stderr",
     "output_type": "stream",
     "text": [
      "Epoch 57/100: 100%|██████████| 7/7 [00:18<00:00,  2.67s/it]\n"
     ]
    },
    {
     "name": "stdout",
     "output_type": "stream",
     "text": [
      "Epoch 57: Train Loss: 0.0695, Train Acc: 98.0956, Val Loss: 0.4009, Val Acc: 85.8073\n",
      "Epoch 56 - Metrics did not improve, wait: 4\n"
     ]
    },
    {
     "name": "stderr",
     "output_type": "stream",
     "text": [
      "Epoch 58/100: 100%|██████████| 7/7 [00:19<00:00,  2.72s/it]\n"
     ]
    },
    {
     "name": "stdout",
     "output_type": "stream",
     "text": [
      "Epoch 58: Train Loss: 0.0722, Train Acc: 97.4062, Val Loss: 0.3909, Val Acc: 87.3698\n",
      "Epoch 57 - Metrics did not improve, wait: 5\n"
     ]
    },
    {
     "name": "stderr",
     "output_type": "stream",
     "text": [
      "Epoch 59/100: 100%|██████████| 7/7 [00:18<00:00,  2.69s/it]\n"
     ]
    },
    {
     "name": "stdout",
     "output_type": "stream",
     "text": [
      "Epoch 59: Train Loss: 0.0620, Train Acc: 98.3584, Val Loss: 0.3981, Val Acc: 86.8490\n",
      "Epoch 58 - Metrics did not improve, wait: 6\n"
     ]
    },
    {
     "name": "stderr",
     "output_type": "stream",
     "text": [
      "Epoch 60/100: 100%|██████████| 7/7 [00:19<00:00,  2.84s/it]\n"
     ]
    },
    {
     "name": "stdout",
     "output_type": "stream",
     "text": [
      "Epoch 60: Train Loss: 0.0687, Train Acc: 98.0038, Val Loss: 0.3962, Val Acc: 87.6302\n",
      "Epoch 59 - Metrics did not improve, wait: 7\n"
     ]
    },
    {
     "name": "stderr",
     "output_type": "stream",
     "text": [
      "Epoch 61/100: 100%|██████████| 7/7 [00:18<00:00,  2.69s/it]\n"
     ]
    },
    {
     "name": "stdout",
     "output_type": "stream",
     "text": [
      "Epoch 61: Train Loss: 0.0636, Train Acc: 97.7643, Val Loss: 0.3884, Val Acc: 88.4115\n",
      "Epoch 60 - Best metrics: 88.41145833333333 - Keeping weights\n"
     ]
    },
    {
     "name": "stderr",
     "output_type": "stream",
     "text": [
      "Epoch 62/100: 100%|██████████| 7/7 [00:19<00:00,  2.76s/it]\n"
     ]
    },
    {
     "name": "stdout",
     "output_type": "stream",
     "text": [
      "Epoch 62: Train Loss: 0.0544, Train Acc: 98.6374, Val Loss: 0.3823, Val Acc: 88.0208\n",
      "Epoch 61 - Metrics did not improve, wait: 1\n"
     ]
    },
    {
     "name": "stderr",
     "output_type": "stream",
     "text": [
      "Epoch 63/100: 100%|██████████| 7/7 [00:18<00:00,  2.71s/it]\n"
     ]
    },
    {
     "name": "stdout",
     "output_type": "stream",
     "text": [
      "Epoch 63: Train Loss: 0.0695, Train Acc: 97.8166, Val Loss: 0.3803, Val Acc: 87.5000\n",
      "Epoch 62 - Metrics did not improve, wait: 2\n"
     ]
    },
    {
     "name": "stderr",
     "output_type": "stream",
     "text": [
      "Epoch 64/100: 100%|██████████| 7/7 [00:18<00:00,  2.69s/it]\n"
     ]
    },
    {
     "name": "stdout",
     "output_type": "stream",
     "text": [
      "Epoch 64: Train Loss: 0.0553, Train Acc: 98.3619, Val Loss: 0.4002, Val Acc: 85.8073\n",
      "Epoch 63 - Metrics did not improve, wait: 3\n"
     ]
    },
    {
     "name": "stderr",
     "output_type": "stream",
     "text": [
      "Epoch 65/100: 100%|██████████| 7/7 [00:19<00:00,  2.75s/it]\n"
     ]
    },
    {
     "name": "stdout",
     "output_type": "stream",
     "text": [
      "Epoch 65: Train Loss: 0.0608, Train Acc: 98.2107, Val Loss: 0.3837, Val Acc: 87.1094\n",
      "Epoch 64 - Metrics did not improve, wait: 4\n"
     ]
    },
    {
     "name": "stderr",
     "output_type": "stream",
     "text": [
      "Epoch 66/100: 100%|██████████| 7/7 [00:18<00:00,  2.69s/it]\n"
     ]
    },
    {
     "name": "stdout",
     "output_type": "stream",
     "text": [
      "Epoch 66: Train Loss: 0.0449, Train Acc: 98.8246, Val Loss: 0.3737, Val Acc: 86.8490\n",
      "Epoch 65 - Metrics did not improve, wait: 5\n"
     ]
    },
    {
     "name": "stderr",
     "output_type": "stream",
     "text": [
      "Epoch 67/100: 100%|██████████| 7/7 [00:19<00:00,  2.78s/it]\n"
     ]
    },
    {
     "name": "stdout",
     "output_type": "stream",
     "text": [
      "Epoch 67: Train Loss: 0.0486, Train Acc: 98.5456, Val Loss: 0.3775, Val Acc: 87.5000\n",
      "Epoch 66 - Metrics did not improve, wait: 6\n"
     ]
    },
    {
     "name": "stderr",
     "output_type": "stream",
     "text": [
      "Epoch 68/100: 100%|██████████| 7/7 [00:19<00:00,  2.72s/it]\n"
     ]
    },
    {
     "name": "stdout",
     "output_type": "stream",
     "text": [
      "Epoch 68: Train Loss: 0.0519, Train Acc: 98.6014, Val Loss: 0.3899, Val Acc: 87.3698\n",
      "Epoch 67 - Metrics did not improve, wait: 7\n"
     ]
    },
    {
     "name": "stderr",
     "output_type": "stream",
     "text": [
      "Epoch 69/100: 100%|██████████| 7/7 [00:19<00:00,  2.76s/it]\n"
     ]
    },
    {
     "name": "stdout",
     "output_type": "stream",
     "text": [
      "Epoch 69: Train Loss: 0.0539, Train Acc: 98.3386, Val Loss: 0.4067, Val Acc: 86.8490\n",
      "Epoch 68 - Metrics did not improve, wait: 8\n"
     ]
    },
    {
     "name": "stderr",
     "output_type": "stream",
     "text": [
      "Epoch 70/100: 100%|██████████| 7/7 [00:19<00:00,  2.78s/it]\n"
     ]
    },
    {
     "name": "stdout",
     "output_type": "stream",
     "text": [
      "Epoch 70: Train Loss: 0.0446, Train Acc: 98.7886, Val Loss: 0.3906, Val Acc: 86.0677\n",
      "Epoch 69 - Metrics did not improve, wait: 9\n"
     ]
    },
    {
     "name": "stderr",
     "output_type": "stream",
     "text": [
      "Epoch 71/100: 100%|██████████| 7/7 [00:18<00:00,  2.68s/it]\n"
     ]
    },
    {
     "name": "stdout",
     "output_type": "stream",
     "text": [
      "Epoch 71: Train Loss: 0.0398, Train Acc: 98.9002, Val Loss: 0.3737, Val Acc: 87.7604\n",
      "Epoch 70 - Metrics did not improve, wait: 10\n",
      "Epoch 70 - Patience reached - Restoring weights\n"
     ]
    },
    {
     "name": "stderr",
     "output_type": "stream",
     "text": [
      "Epoch 1/100: 100%|██████████| 14/14 [00:43<00:00,  3.08s/it]\n"
     ]
    },
    {
     "name": "stdout",
     "output_type": "stream",
     "text": [
      "Epoch 1: Train Loss: 2.4608, Train Acc: 17.4034, Val Loss: 2.4310, Val Acc: 20.0000\n",
      "Epoch 0 - Keeping weights\n"
     ]
    },
    {
     "name": "stderr",
     "output_type": "stream",
     "text": [
      "Epoch 2/100: 100%|██████████| 14/14 [00:41<00:00,  2.98s/it]\n"
     ]
    },
    {
     "name": "stdout",
     "output_type": "stream",
     "text": [
      "Epoch 2: Train Loss: 2.3303, Train Acc: 25.7126, Val Loss: 2.3651, Val Acc: 30.6250\n"
     ]
    },
    {
     "name": "stderr",
     "output_type": "stream",
     "text": [
      "Epoch 3/100: 100%|██████████| 14/14 [00:40<00:00,  2.91s/it]\n"
     ]
    },
    {
     "name": "stdout",
     "output_type": "stream",
     "text": [
      "Epoch 3: Train Loss: 2.1650, Train Acc: 31.8730, Val Loss: 2.2104, Val Acc: 32.9688\n"
     ]
    },
    {
     "name": "stderr",
     "output_type": "stream",
     "text": [
      "Epoch 4/100: 100%|██████████| 14/14 [00:41<00:00,  2.98s/it]\n"
     ]
    },
    {
     "name": "stdout",
     "output_type": "stream",
     "text": [
      "Epoch 4: Train Loss: 1.9968, Train Acc: 36.1077, Val Loss: 2.0782, Val Acc: 39.2188\n"
     ]
    },
    {
     "name": "stderr",
     "output_type": "stream",
     "text": [
      "Epoch 5/100: 100%|██████████| 14/14 [00:41<00:00,  2.98s/it]\n"
     ]
    },
    {
     "name": "stdout",
     "output_type": "stream",
     "text": [
      "Epoch 5: Train Loss: 1.8384, Train Acc: 39.8410, Val Loss: 1.9248, Val Acc: 38.9062\n"
     ]
    },
    {
     "name": "stderr",
     "output_type": "stream",
     "text": [
      "Epoch 6/100: 100%|██████████| 14/14 [00:41<00:00,  2.94s/it]\n"
     ]
    },
    {
     "name": "stdout",
     "output_type": "stream",
     "text": [
      "Epoch 6: Train Loss: 1.7014, Train Acc: 43.2176, Val Loss: 1.8291, Val Acc: 52.3438\n"
     ]
    },
    {
     "name": "stderr",
     "output_type": "stream",
     "text": [
      "Epoch 7/100: 100%|██████████| 14/14 [00:41<00:00,  2.97s/it]\n"
     ]
    },
    {
     "name": "stdout",
     "output_type": "stream",
     "text": [
      "Epoch 7: Train Loss: 1.5917, Train Acc: 48.9873, Val Loss: 1.7224, Val Acc: 52.5000\n"
     ]
    },
    {
     "name": "stderr",
     "output_type": "stream",
     "text": [
      "Epoch 8/100: 100%|██████████| 14/14 [00:41<00:00,  2.99s/it]\n"
     ]
    },
    {
     "name": "stdout",
     "output_type": "stream",
     "text": [
      "Epoch 8: Train Loss: 1.4670, Train Acc: 52.6758, Val Loss: 1.6499, Val Acc: 57.8125\n"
     ]
    },
    {
     "name": "stderr",
     "output_type": "stream",
     "text": [
      "Epoch 9/100: 100%|██████████| 14/14 [00:41<00:00,  2.99s/it]\n"
     ]
    },
    {
     "name": "stdout",
     "output_type": "stream",
     "text": [
      "Epoch 9: Train Loss: 1.3978, Train Acc: 55.4157, Val Loss: 1.5637, Val Acc: 59.3750\n"
     ]
    },
    {
     "name": "stderr",
     "output_type": "stream",
     "text": [
      "Epoch 10/100: 100%|██████████| 14/14 [00:42<00:00,  3.00s/it]\n"
     ]
    },
    {
     "name": "stdout",
     "output_type": "stream",
     "text": [
      "Epoch 10: Train Loss: 1.2966, Train Acc: 58.2443, Val Loss: 1.5384, Val Acc: 61.7188\n"
     ]
    },
    {
     "name": "stderr",
     "output_type": "stream",
     "text": [
      "Epoch 11/100: 100%|██████████| 14/14 [00:42<00:00,  3.02s/it]\n"
     ]
    },
    {
     "name": "stdout",
     "output_type": "stream",
     "text": [
      "Epoch 11: Train Loss: 1.2039, Train Acc: 62.8257, Val Loss: 1.4315, Val Acc: 64.8438\n",
      "Epoch 10 - Best metrics: 64.84375 - Keeping weights\n"
     ]
    },
    {
     "name": "stderr",
     "output_type": "stream",
     "text": [
      "Epoch 12/100: 100%|██████████| 14/14 [00:42<00:00,  3.03s/it]\n"
     ]
    },
    {
     "name": "stdout",
     "output_type": "stream",
     "text": [
      "Epoch 12: Train Loss: 1.1352, Train Acc: 63.5676, Val Loss: 1.3912, Val Acc: 67.0312\n",
      "Epoch 11 - Best metrics: 67.03125 - Keeping weights\n"
     ]
    },
    {
     "name": "stderr",
     "output_type": "stream",
     "text": [
      "Epoch 13/100: 100%|██████████| 14/14 [00:41<00:00,  2.96s/it]\n"
     ]
    },
    {
     "name": "stdout",
     "output_type": "stream",
     "text": [
      "Epoch 13: Train Loss: 1.0718, Train Acc: 65.2755, Val Loss: 1.3019, Val Acc: 68.4375\n",
      "Epoch 12 - Best metrics: 68.4375 - Keeping weights\n"
     ]
    },
    {
     "name": "stderr",
     "output_type": "stream",
     "text": [
      "Epoch 14/100: 100%|██████████| 14/14 [00:41<00:00,  2.97s/it]\n"
     ]
    },
    {
     "name": "stdout",
     "output_type": "stream",
     "text": [
      "Epoch 14: Train Loss: 1.0404, Train Acc: 67.3009, Val Loss: 1.2789, Val Acc: 71.2500\n",
      "Epoch 13 - Best metrics: 71.25 - Keeping weights\n"
     ]
    },
    {
     "name": "stderr",
     "output_type": "stream",
     "text": [
      "Epoch 15/100: 100%|██████████| 14/14 [00:41<00:00,  2.95s/it]\n"
     ]
    },
    {
     "name": "stdout",
     "output_type": "stream",
     "text": [
      "Epoch 15: Train Loss: 0.9348, Train Acc: 70.3198, Val Loss: 1.2156, Val Acc: 72.3438\n",
      "Epoch 14 - Best metrics: 72.34375 - Keeping weights\n"
     ]
    },
    {
     "name": "stderr",
     "output_type": "stream",
     "text": [
      "Epoch 16/100: 100%|██████████| 14/14 [00:41<00:00,  2.98s/it]\n"
     ]
    },
    {
     "name": "stdout",
     "output_type": "stream",
     "text": [
      "Epoch 16: Train Loss: 0.9138, Train Acc: 71.7369, Val Loss: 1.1934, Val Acc: 73.4375\n",
      "Epoch 15 - Best metrics: 73.4375 - Keeping weights\n"
     ]
    },
    {
     "name": "stderr",
     "output_type": "stream",
     "text": [
      "Epoch 17/100: 100%|██████████| 14/14 [00:42<00:00,  3.00s/it]\n"
     ]
    },
    {
     "name": "stdout",
     "output_type": "stream",
     "text": [
      "Epoch 17: Train Loss: 0.8661, Train Acc: 72.8145, Val Loss: 1.1364, Val Acc: 76.2500\n",
      "Epoch 16 - Best metrics: 76.25 - Keeping weights\n"
     ]
    },
    {
     "name": "stderr",
     "output_type": "stream",
     "text": [
      "Epoch 18/100: 100%|██████████| 14/14 [00:40<00:00,  2.93s/it]\n"
     ]
    },
    {
     "name": "stdout",
     "output_type": "stream",
     "text": [
      "Epoch 18: Train Loss: 0.8017, Train Acc: 74.5216, Val Loss: 1.1002, Val Acc: 75.6250\n",
      "Epoch 17 - Metrics did not improve, wait: 1\n"
     ]
    },
    {
     "name": "stderr",
     "output_type": "stream",
     "text": [
      "Epoch 19/100: 100%|██████████| 14/14 [00:42<00:00,  3.03s/it]\n"
     ]
    },
    {
     "name": "stdout",
     "output_type": "stream",
     "text": [
      "Epoch 19: Train Loss: 0.7491, Train Acc: 76.9879, Val Loss: 1.1273, Val Acc: 72.3438\n",
      "Epoch 18 - Metrics did not improve, wait: 2\n"
     ]
    },
    {
     "name": "stderr",
     "output_type": "stream",
     "text": [
      "Epoch 20/100: 100%|██████████| 14/14 [00:40<00:00,  2.92s/it]\n"
     ]
    },
    {
     "name": "stdout",
     "output_type": "stream",
     "text": [
      "Epoch 20: Train Loss: 0.7188, Train Acc: 76.0173, Val Loss: 1.0627, Val Acc: 74.2188\n",
      "Epoch 19 - Metrics did not improve, wait: 3\n"
     ]
    },
    {
     "name": "stderr",
     "output_type": "stream",
     "text": [
      "Epoch 21/100: 100%|██████████| 14/14 [00:42<00:00,  3.02s/it]\n"
     ]
    },
    {
     "name": "stdout",
     "output_type": "stream",
     "text": [
      "Epoch 21: Train Loss: 0.6718, Train Acc: 78.8907, Val Loss: 1.0097, Val Acc: 76.0938\n",
      "Epoch 20 - Metrics did not improve, wait: 4\n"
     ]
    },
    {
     "name": "stderr",
     "output_type": "stream",
     "text": [
      "Epoch 22/100: 100%|██████████| 14/14 [00:41<00:00,  2.95s/it]\n"
     ]
    },
    {
     "name": "stdout",
     "output_type": "stream",
     "text": [
      "Epoch 22: Train Loss: 0.6219, Train Acc: 80.4367, Val Loss: 0.9401, Val Acc: 74.6875\n",
      "Epoch 21 - Metrics did not improve, wait: 5\n"
     ]
    },
    {
     "name": "stderr",
     "output_type": "stream",
     "text": [
      "Epoch 23/100: 100%|██████████| 14/14 [00:41<00:00,  2.93s/it]\n"
     ]
    },
    {
     "name": "stdout",
     "output_type": "stream",
     "text": [
      "Epoch 23: Train Loss: 0.5874, Train Acc: 80.9719, Val Loss: 0.9249, Val Acc: 78.1250\n",
      "Epoch 22 - Best metrics: 78.125 - Keeping weights\n"
     ]
    },
    {
     "name": "stderr",
     "output_type": "stream",
     "text": [
      "Epoch 24/100: 100%|██████████| 14/14 [00:41<00:00,  2.97s/it]\n"
     ]
    },
    {
     "name": "stdout",
     "output_type": "stream",
     "text": [
      "Epoch 24: Train Loss: 0.5302, Train Acc: 83.8517, Val Loss: 0.8927, Val Acc: 76.7188\n",
      "Epoch 23 - Metrics did not improve, wait: 1\n"
     ]
    },
    {
     "name": "stderr",
     "output_type": "stream",
     "text": [
      "Epoch 25/100: 100%|██████████| 14/14 [00:41<00:00,  2.97s/it]\n"
     ]
    },
    {
     "name": "stdout",
     "output_type": "stream",
     "text": [
      "Epoch 25: Train Loss: 0.5136, Train Acc: 83.4108, Val Loss: 0.8944, Val Acc: 79.2188\n",
      "Epoch 24 - Best metrics: 79.21875 - Keeping weights\n"
     ]
    },
    {
     "name": "stderr",
     "output_type": "stream",
     "text": [
      "Epoch 26/100: 100%|██████████| 14/14 [00:41<00:00,  2.95s/it]\n"
     ]
    },
    {
     "name": "stdout",
     "output_type": "stream",
     "text": [
      "Epoch 26: Train Loss: 0.4973, Train Acc: 83.7676, Val Loss: 0.8244, Val Acc: 79.2188\n",
      "Epoch 25 - Metrics did not improve, wait: 1\n"
     ]
    },
    {
     "name": "stderr",
     "output_type": "stream",
     "text": [
      "Epoch 27/100: 100%|██████████| 14/14 [00:41<00:00,  2.95s/it]\n"
     ]
    },
    {
     "name": "stdout",
     "output_type": "stream",
     "text": [
      "Epoch 27: Train Loss: 0.4391, Train Acc: 86.5907, Val Loss: 0.7629, Val Acc: 79.2188\n",
      "Epoch 26 - Metrics did not improve, wait: 2\n"
     ]
    },
    {
     "name": "stderr",
     "output_type": "stream",
     "text": [
      "Epoch 28/100: 100%|██████████| 14/14 [00:41<00:00,  2.93s/it]\n"
     ]
    },
    {
     "name": "stdout",
     "output_type": "stream",
     "text": [
      "Epoch 28: Train Loss: 0.4159, Train Acc: 86.6803, Val Loss: 0.7736, Val Acc: 79.5312\n",
      "Epoch 27 - Best metrics: 79.53125 - Keeping weights\n"
     ]
    },
    {
     "name": "stderr",
     "output_type": "stream",
     "text": [
      "Epoch 29/100: 100%|██████████| 14/14 [00:41<00:00,  3.00s/it]\n"
     ]
    },
    {
     "name": "stdout",
     "output_type": "stream",
     "text": [
      "Epoch 29: Train Loss: 0.3760, Train Acc: 88.5218, Val Loss: 0.7270, Val Acc: 81.5625\n",
      "Epoch 28 - Best metrics: 81.5625 - Keeping weights\n"
     ]
    },
    {
     "name": "stderr",
     "output_type": "stream",
     "text": [
      "Epoch 30/100: 100%|██████████| 14/14 [00:41<00:00,  2.96s/it]\n"
     ]
    },
    {
     "name": "stdout",
     "output_type": "stream",
     "text": [
      "Epoch 30: Train Loss: 0.3761, Train Acc: 87.8806, Val Loss: 0.7216, Val Acc: 82.5000\n",
      "Epoch 29 - Best metrics: 82.5 - Keeping weights\n"
     ]
    },
    {
     "name": "stderr",
     "output_type": "stream",
     "text": [
      "Epoch 31/100: 100%|██████████| 14/14 [00:41<00:00,  2.98s/it]\n"
     ]
    },
    {
     "name": "stdout",
     "output_type": "stream",
     "text": [
      "Epoch 31: Train Loss: 0.3373, Train Acc: 89.5373, Val Loss: 0.7077, Val Acc: 82.1875\n",
      "Epoch 30 - Metrics did not improve, wait: 1\n"
     ]
    },
    {
     "name": "stderr",
     "output_type": "stream",
     "text": [
      "Epoch 32/100: 100%|██████████| 14/14 [00:41<00:00,  2.98s/it]\n"
     ]
    },
    {
     "name": "stdout",
     "output_type": "stream",
     "text": [
      "Epoch 32: Train Loss: 0.3251, Train Acc: 90.2911, Val Loss: 0.6898, Val Acc: 82.9688\n",
      "Epoch 31 - Best metrics: 82.96875 - Keeping weights\n"
     ]
    },
    {
     "name": "stderr",
     "output_type": "stream",
     "text": [
      "Epoch 33/100: 100%|██████████| 14/14 [00:41<00:00,  2.95s/it]\n"
     ]
    },
    {
     "name": "stdout",
     "output_type": "stream",
     "text": [
      "Epoch 33: Train Loss: 0.2951, Train Acc: 90.1960, Val Loss: 0.6539, Val Acc: 83.7500\n",
      "Epoch 32 - Best metrics: 83.75 - Keeping weights\n"
     ]
    },
    {
     "name": "stderr",
     "output_type": "stream",
     "text": [
      "Epoch 34/100: 100%|██████████| 14/14 [7:38:55<00:00, 1966.80s/it]  \n"
     ]
    },
    {
     "name": "stdout",
     "output_type": "stream",
     "text": [
      "Epoch 34: Train Loss: 0.2736, Train Acc: 91.8920, Val Loss: 0.6288, Val Acc: 83.2812\n",
      "Epoch 33 - Metrics did not improve, wait: 1\n"
     ]
    },
    {
     "name": "stderr",
     "output_type": "stream",
     "text": [
      "Epoch 35/100: 100%|██████████| 14/14 [00:43<00:00,  3.08s/it]\n"
     ]
    },
    {
     "name": "stdout",
     "output_type": "stream",
     "text": [
      "Epoch 35: Train Loss: 0.2377, Train Acc: 93.4326, Val Loss: 0.6090, Val Acc: 83.5938\n",
      "Epoch 34 - Metrics did not improve, wait: 2\n"
     ]
    },
    {
     "name": "stderr",
     "output_type": "stream",
     "text": [
      "Epoch 36/100: 100%|██████████| 14/14 [00:41<00:00,  2.96s/it]\n"
     ]
    },
    {
     "name": "stdout",
     "output_type": "stream",
     "text": [
      "Epoch 36: Train Loss: 0.2077, Train Acc: 93.6503, Val Loss: 0.6213, Val Acc: 84.5312\n",
      "Epoch 35 - Best metrics: 84.53125 - Keeping weights\n"
     ]
    },
    {
     "name": "stderr",
     "output_type": "stream",
     "text": [
      "Epoch 37/100: 100%|██████████| 14/14 [00:41<00:00,  2.98s/it]\n"
     ]
    },
    {
     "name": "stdout",
     "output_type": "stream",
     "text": [
      "Epoch 37: Train Loss: 0.2052, Train Acc: 93.6274, Val Loss: 0.5831, Val Acc: 84.0625\n",
      "Epoch 36 - Metrics did not improve, wait: 1\n"
     ]
    },
    {
     "name": "stderr",
     "output_type": "stream",
     "text": [
      "Epoch 38/100: 100%|██████████| 14/14 [1:35:48<00:00, 410.58s/it]   \n"
     ]
    },
    {
     "name": "stdout",
     "output_type": "stream",
     "text": [
      "Epoch 38: Train Loss: 0.2075, Train Acc: 93.7226, Val Loss: 0.5532, Val Acc: 84.8438\n",
      "Epoch 37 - Best metrics: 84.84375 - Keeping weights\n"
     ]
    },
    {
     "name": "stderr",
     "output_type": "stream",
     "text": [
      "Epoch 39/100: 100%|██████████| 14/14 [00:41<00:00,  2.95s/it]\n"
     ]
    },
    {
     "name": "stdout",
     "output_type": "stream",
     "text": [
      "Epoch 39: Train Loss: 0.1899, Train Acc: 94.4535, Val Loss: 0.5724, Val Acc: 85.1562\n",
      "Epoch 38 - Best metrics: 85.15625 - Keeping weights\n"
     ]
    },
    {
     "name": "stderr",
     "output_type": "stream",
     "text": [
      "Epoch 40/100: 100%|██████████| 14/14 [00:41<00:00,  2.95s/it]\n"
     ]
    },
    {
     "name": "stdout",
     "output_type": "stream",
     "text": [
      "Epoch 40: Train Loss: 0.1751, Train Acc: 94.6712, Val Loss: 0.5751, Val Acc: 84.3750\n",
      "Epoch 39 - Metrics did not improve, wait: 1\n"
     ]
    },
    {
     "name": "stderr",
     "output_type": "stream",
     "text": [
      "Epoch 41/100: 100%|██████████| 14/14 [00:40<00:00,  2.91s/it]\n"
     ]
    },
    {
     "name": "stdout",
     "output_type": "stream",
     "text": [
      "Epoch 41: Train Loss: 0.1696, Train Acc: 94.6822, Val Loss: 0.5479, Val Acc: 85.4688\n",
      "Epoch 40 - Best metrics: 85.46875 - Keeping weights\n"
     ]
    },
    {
     "name": "stderr",
     "output_type": "stream",
     "text": [
      "Epoch 42/100: 100%|██████████| 14/14 [00:40<00:00,  2.90s/it]\n"
     ]
    },
    {
     "name": "stdout",
     "output_type": "stream",
     "text": [
      "Epoch 42: Train Loss: 0.1364, Train Acc: 95.9263, Val Loss: 0.4885, Val Acc: 85.7812\n",
      "Epoch 41 - Best metrics: 85.78125 - Keeping weights\n"
     ]
    },
    {
     "name": "stderr",
     "output_type": "stream",
     "text": [
      "Epoch 43/100: 100%|██████████| 14/14 [00:42<00:00,  3.05s/it]\n"
     ]
    },
    {
     "name": "stdout",
     "output_type": "stream",
     "text": [
      "Epoch 43: Train Loss: 0.1221, Train Acc: 96.5347, Val Loss: 0.4811, Val Acc: 86.7188\n",
      "Epoch 42 - Best metrics: 86.71875 - Keeping weights\n"
     ]
    },
    {
     "name": "stderr",
     "output_type": "stream",
     "text": [
      "Epoch 44/100: 100%|██████████| 14/14 [00:41<00:00,  2.99s/it]\n"
     ]
    },
    {
     "name": "stdout",
     "output_type": "stream",
     "text": [
      "Epoch 44: Train Loss: 0.1289, Train Acc: 96.6408, Val Loss: 0.4875, Val Acc: 86.2500\n",
      "Epoch 43 - Metrics did not improve, wait: 1\n"
     ]
    },
    {
     "name": "stderr",
     "output_type": "stream",
     "text": [
      "Epoch 45/100: 100%|██████████| 14/14 [00:41<00:00,  2.98s/it]\n"
     ]
    },
    {
     "name": "stdout",
     "output_type": "stream",
     "text": [
      "Epoch 45: Train Loss: 0.1159, Train Acc: 96.4734, Val Loss: 0.4990, Val Acc: 86.5625\n",
      "Epoch 44 - Metrics did not improve, wait: 2\n"
     ]
    },
    {
     "name": "stderr",
     "output_type": "stream",
     "text": [
      "Epoch 46/100: 100%|██████████| 14/14 [00:41<00:00,  2.95s/it]\n"
     ]
    },
    {
     "name": "stdout",
     "output_type": "stream",
     "text": [
      "Epoch 46: Train Loss: 0.1122, Train Acc: 97.0314, Val Loss: 0.4777, Val Acc: 86.2500\n",
      "Epoch 45 - Metrics did not improve, wait: 3\n"
     ]
    },
    {
     "name": "stderr",
     "output_type": "stream",
     "text": [
      "Epoch 47/100: 100%|██████████| 14/14 [00:41<00:00,  2.93s/it]\n"
     ]
    },
    {
     "name": "stdout",
     "output_type": "stream",
     "text": [
      "Epoch 47: Train Loss: 0.1054, Train Acc: 97.1376, Val Loss: 0.5014, Val Acc: 86.0938\n",
      "Epoch 46 - Metrics did not improve, wait: 4\n"
     ]
    },
    {
     "name": "stderr",
     "output_type": "stream",
     "text": [
      "Epoch 48/100: 100%|██████████| 14/14 [00:41<00:00,  2.96s/it]\n"
     ]
    },
    {
     "name": "stdout",
     "output_type": "stream",
     "text": [
      "Epoch 48: Train Loss: 0.1108, Train Acc: 96.0325, Val Loss: 0.4956, Val Acc: 86.7188\n",
      "Epoch 47 - Metrics did not improve, wait: 5\n"
     ]
    },
    {
     "name": "stderr",
     "output_type": "stream",
     "text": [
      "Epoch 49/100: 100%|██████████| 14/14 [00:41<00:00,  2.98s/it]\n"
     ]
    },
    {
     "name": "stdout",
     "output_type": "stream",
     "text": [
      "Epoch 49: Train Loss: 0.1076, Train Acc: 97.0982, Val Loss: 0.4618, Val Acc: 86.8750\n",
      "Epoch 48 - Best metrics: 86.875 - Keeping weights\n"
     ]
    },
    {
     "name": "stderr",
     "output_type": "stream",
     "text": [
      "Epoch 50/100: 100%|██████████| 14/14 [00:41<00:00,  2.94s/it]\n"
     ]
    },
    {
     "name": "stdout",
     "output_type": "stream",
     "text": [
      "Epoch 50: Train Loss: 0.0845, Train Acc: 97.4275, Val Loss: 0.4691, Val Acc: 87.5000\n",
      "Epoch 49 - Best metrics: 87.5 - Keeping weights\n"
     ]
    },
    {
     "name": "stderr",
     "output_type": "stream",
     "text": [
      "Epoch 51/100: 100%|██████████| 14/14 [00:41<00:00,  2.98s/it]\n"
     ]
    },
    {
     "name": "stdout",
     "output_type": "stream",
     "text": [
      "Epoch 51: Train Loss: 0.0821, Train Acc: 97.8127, Val Loss: 0.4527, Val Acc: 87.0312\n",
      "Epoch 50 - Metrics did not improve, wait: 1\n"
     ]
    },
    {
     "name": "stderr",
     "output_type": "stream",
     "text": [
      "Epoch 52/100: 100%|██████████| 14/14 [00:40<00:00,  2.92s/it]\n"
     ]
    },
    {
     "name": "stdout",
     "output_type": "stream",
     "text": [
      "Epoch 52: Train Loss: 0.0815, Train Acc: 97.7679, Val Loss: 0.4451, Val Acc: 86.5625\n",
      "Epoch 51 - Metrics did not improve, wait: 2\n"
     ]
    },
    {
     "name": "stderr",
     "output_type": "stream",
     "text": [
      "Epoch 53/100: 100%|██████████| 14/14 [00:41<00:00,  2.98s/it]\n"
     ]
    },
    {
     "name": "stdout",
     "output_type": "stream",
     "text": [
      "Epoch 53: Train Loss: 0.0782, Train Acc: 97.7679, Val Loss: 0.4400, Val Acc: 87.3438\n",
      "Epoch 52 - Metrics did not improve, wait: 3\n"
     ]
    },
    {
     "name": "stderr",
     "output_type": "stream",
     "text": [
      "Epoch 54/100: 100%|██████████| 14/14 [00:41<00:00,  2.98s/it]\n"
     ]
    },
    {
     "name": "stdout",
     "output_type": "stream",
     "text": [
      "Epoch 54: Train Loss: 0.0770, Train Acc: 98.0917, Val Loss: 0.4404, Val Acc: 88.1250\n",
      "Epoch 53 - Best metrics: 88.125 - Keeping weights\n"
     ]
    },
    {
     "name": "stderr",
     "output_type": "stream",
     "text": [
      "Epoch 55/100: 100%|██████████| 14/14 [00:41<00:00,  2.94s/it]\n"
     ]
    },
    {
     "name": "stdout",
     "output_type": "stream",
     "text": [
      "Epoch 55: Train Loss: 0.0825, Train Acc: 97.5282, Val Loss: 0.4519, Val Acc: 85.7812\n",
      "Epoch 54 - Metrics did not improve, wait: 1\n"
     ]
    },
    {
     "name": "stderr",
     "output_type": "stream",
     "text": [
      "Epoch 56/100: 100%|██████████| 14/14 [00:40<00:00,  2.91s/it]\n"
     ]
    },
    {
     "name": "stdout",
     "output_type": "stream",
     "text": [
      "Epoch 56: Train Loss: 0.0687, Train Acc: 98.3204, Val Loss: 0.4385, Val Acc: 88.1250\n",
      "Epoch 55 - Metrics did not improve, wait: 2\n"
     ]
    },
    {
     "name": "stderr",
     "output_type": "stream",
     "text": [
      "Epoch 57/100: 100%|██████████| 14/14 [00:41<00:00,  2.95s/it]\n"
     ]
    },
    {
     "name": "stdout",
     "output_type": "stream",
     "text": [
      "Epoch 57: Train Loss: 0.0669, Train Acc: 98.3817, Val Loss: 0.4267, Val Acc: 87.8125\n",
      "Epoch 56 - Metrics did not improve, wait: 3\n"
     ]
    },
    {
     "name": "stderr",
     "output_type": "stream",
     "text": [
      "Epoch 58/100: 100%|██████████| 14/14 [00:41<00:00,  2.99s/it]\n"
     ]
    },
    {
     "name": "stdout",
     "output_type": "stream",
     "text": [
      "Epoch 58: Train Loss: 0.0548, Train Acc: 98.7110, Val Loss: 0.4092, Val Acc: 88.1250\n",
      "Epoch 57 - Metrics did not improve, wait: 4\n"
     ]
    },
    {
     "name": "stderr",
     "output_type": "stream",
     "text": [
      "Epoch 59/100: 100%|██████████| 14/14 [00:40<00:00,  2.88s/it]\n"
     ]
    },
    {
     "name": "stdout",
     "output_type": "stream",
     "text": [
      "Epoch 59: Train Loss: 0.0494, Train Acc: 98.7668, Val Loss: 0.4231, Val Acc: 87.0312\n",
      "Epoch 58 - Metrics did not improve, wait: 5\n"
     ]
    },
    {
     "name": "stderr",
     "output_type": "stream",
     "text": [
      "Epoch 60/100: 100%|██████████| 14/14 [00:40<00:00,  2.91s/it]\n"
     ]
    },
    {
     "name": "stdout",
     "output_type": "stream",
     "text": [
      "Epoch 60: Train Loss: 0.0606, Train Acc: 98.4320, Val Loss: 0.4846, Val Acc: 85.1562\n",
      "Learning rate changed from 0.005 to 0.0005 at epoch 59\n",
      "Epoch 59 - Metrics did not improve, wait: 6\n"
     ]
    },
    {
     "name": "stderr",
     "output_type": "stream",
     "text": [
      "Epoch 61/100: 100%|██████████| 14/14 [00:41<00:00,  2.97s/it]\n"
     ]
    },
    {
     "name": "stdout",
     "output_type": "stream",
     "text": [
      "Epoch 61: Train Loss: 0.0530, Train Acc: 98.6552, Val Loss: 0.4334, Val Acc: 87.1875\n",
      "Epoch 60 - Metrics did not improve, wait: 7\n"
     ]
    },
    {
     "name": "stderr",
     "output_type": "stream",
     "text": [
      "Epoch 62/100: 100%|██████████| 14/14 [00:41<00:00,  2.95s/it]\n"
     ]
    },
    {
     "name": "stdout",
     "output_type": "stream",
     "text": [
      "Epoch 62: Train Loss: 0.0372, Train Acc: 99.3304, Val Loss: 0.4153, Val Acc: 88.2812\n",
      "Epoch 61 - Best metrics: 88.28125 - Keeping weights\n"
     ]
    },
    {
     "name": "stderr",
     "output_type": "stream",
     "text": [
      "Epoch 63/100: 100%|██████████| 14/14 [00:41<00:00,  2.93s/it]\n"
     ]
    },
    {
     "name": "stdout",
     "output_type": "stream",
     "text": [
      "Epoch 63: Train Loss: 0.0367, Train Acc: 99.1017, Val Loss: 0.4097, Val Acc: 88.5938\n",
      "Epoch 62 - Best metrics: 88.59375 - Keeping weights\n"
     ]
    },
    {
     "name": "stderr",
     "output_type": "stream",
     "text": [
      "Epoch 64/100: 100%|██████████| 14/14 [00:42<00:00,  3.00s/it]\n"
     ]
    },
    {
     "name": "stdout",
     "output_type": "stream",
     "text": [
      "Epoch 64: Train Loss: 0.0359, Train Acc: 99.2746, Val Loss: 0.4119, Val Acc: 88.4375\n",
      "Epoch 63 - Metrics did not improve, wait: 1\n"
     ]
    },
    {
     "name": "stderr",
     "output_type": "stream",
     "text": [
      "Epoch 65/100: 100%|██████████| 14/14 [00:41<00:00,  2.93s/it]\n"
     ]
    },
    {
     "name": "stdout",
     "output_type": "stream",
     "text": [
      "Epoch 65: Train Loss: 0.0352, Train Acc: 99.6094, Val Loss: 0.4070, Val Acc: 88.7500\n",
      "Epoch 64 - Best metrics: 88.75 - Keeping weights\n"
     ]
    },
    {
     "name": "stderr",
     "output_type": "stream",
     "text": [
      "Epoch 66/100: 100%|██████████| 14/14 [00:40<00:00,  2.89s/it]\n"
     ]
    },
    {
     "name": "stdout",
     "output_type": "stream",
     "text": [
      "Epoch 66: Train Loss: 0.0337, Train Acc: 99.2023, Val Loss: 0.4016, Val Acc: 88.5938\n",
      "Epoch 65 - Metrics did not improve, wait: 1\n"
     ]
    },
    {
     "name": "stderr",
     "output_type": "stream",
     "text": [
      "Epoch 67/100: 100%|██████████| 14/14 [00:42<00:00,  3.01s/it]\n"
     ]
    },
    {
     "name": "stdout",
     "output_type": "stream",
     "text": [
      "Epoch 67: Train Loss: 0.0360, Train Acc: 99.3249, Val Loss: 0.4012, Val Acc: 88.1250\n",
      "Epoch 66 - Metrics did not improve, wait: 2\n"
     ]
    },
    {
     "name": "stderr",
     "output_type": "stream",
     "text": [
      "Epoch 68/100: 100%|██████████| 14/14 [00:44<00:00,  3.20s/it]\n"
     ]
    },
    {
     "name": "stdout",
     "output_type": "stream",
     "text": [
      "Epoch 68: Train Loss: 0.0326, Train Acc: 99.2746, Val Loss: 0.4000, Val Acc: 88.1250\n",
      "Epoch 67 - Metrics did not improve, wait: 3\n"
     ]
    },
    {
     "name": "stderr",
     "output_type": "stream",
     "text": [
      "Epoch 69/100: 100%|██████████| 14/14 [00:43<00:00,  3.09s/it]\n"
     ]
    },
    {
     "name": "stdout",
     "output_type": "stream",
     "text": [
      "Epoch 69: Train Loss: 0.0340, Train Acc: 99.4420, Val Loss: 0.3974, Val Acc: 88.7500\n",
      "Epoch 68 - Metrics did not improve, wait: 4\n"
     ]
    },
    {
     "name": "stderr",
     "output_type": "stream",
     "text": [
      "Epoch 70/100: 100%|██████████| 14/14 [00:41<00:00,  2.96s/it]\n"
     ]
    },
    {
     "name": "stdout",
     "output_type": "stream",
     "text": [
      "Epoch 70: Train Loss: 0.0346, Train Acc: 99.3249, Val Loss: 0.3974, Val Acc: 88.7500\n",
      "Epoch 69 - Metrics did not improve, wait: 5\n"
     ]
    },
    {
     "name": "stderr",
     "output_type": "stream",
     "text": [
      "Epoch 71/100: 100%|██████████| 14/14 [00:42<00:00,  3.01s/it]\n"
     ]
    },
    {
     "name": "stdout",
     "output_type": "stream",
     "text": [
      "Epoch 71: Train Loss: 0.0333, Train Acc: 99.4420, Val Loss: 0.3963, Val Acc: 88.4375\n",
      "Learning rate changed from 0.0005 to 5e-05 at epoch 70\n",
      "Epoch 70 - Metrics did not improve, wait: 6\n"
     ]
    },
    {
     "name": "stderr",
     "output_type": "stream",
     "text": [
      "Epoch 72/100: 100%|██████████| 14/14 [00:42<00:00,  3.04s/it]\n"
     ]
    },
    {
     "name": "stdout",
     "output_type": "stream",
     "text": [
      "Epoch 72: Train Loss: 0.0293, Train Acc: 99.7155, Val Loss: 0.3962, Val Acc: 88.5938\n",
      "Epoch 71 - Metrics did not improve, wait: 7\n"
     ]
    },
    {
     "name": "stderr",
     "output_type": "stream",
     "text": [
      "Epoch 73/100: 100%|██████████| 14/14 [00:41<00:00,  2.99s/it]\n"
     ]
    },
    {
     "name": "stdout",
     "output_type": "stream",
     "text": [
      "Epoch 73: Train Loss: 0.0322, Train Acc: 99.4365, Val Loss: 0.3960, Val Acc: 88.5938\n",
      "Epoch 72 - Metrics did not improve, wait: 8\n"
     ]
    },
    {
     "name": "stderr",
     "output_type": "stream",
     "text": [
      "Epoch 74/100: 100%|██████████| 14/14 [00:41<00:00,  2.99s/it]\n"
     ]
    },
    {
     "name": "stdout",
     "output_type": "stream",
     "text": [
      "Epoch 74: Train Loss: 0.0284, Train Acc: 99.4365, Val Loss: 0.3956, Val Acc: 88.5938\n",
      "Epoch 73 - Metrics did not improve, wait: 9\n"
     ]
    },
    {
     "name": "stderr",
     "output_type": "stream",
     "text": [
      "Epoch 75/100: 100%|██████████| 14/14 [00:41<00:00,  2.93s/it]\n"
     ]
    },
    {
     "name": "stdout",
     "output_type": "stream",
     "text": [
      "Epoch 75: Train Loss: 0.0325, Train Acc: 99.3862, Val Loss: 0.3952, Val Acc: 88.7500\n",
      "Epoch 74 - Metrics did not improve, wait: 10\n",
      "Epoch 74 - Patience reached - Restoring weights\n"
     ]
    },
    {
     "name": "stderr",
     "output_type": "stream",
     "text": [
      "Epoch 1/100: 100%|██████████| 14/14 [00:41<00:00,  2.95s/it]\n"
     ]
    },
    {
     "name": "stdout",
     "output_type": "stream",
     "text": [
      "Epoch 1: Train Loss: 2.4536, Train Acc: 18.4527, Val Loss: 2.4059, Val Acc: 25.4688\n",
      "Epoch 0 - Keeping weights\n"
     ]
    },
    {
     "name": "stderr",
     "output_type": "stream",
     "text": [
      "Epoch 2/100: 100%|██████████| 14/14 [00:41<00:00,  2.94s/it]\n"
     ]
    },
    {
     "name": "stdout",
     "output_type": "stream",
     "text": [
      "Epoch 2: Train Loss: 2.2680, Train Acc: 29.1496, Val Loss: 2.2683, Val Acc: 32.3438\n"
     ]
    },
    {
     "name": "stderr",
     "output_type": "stream",
     "text": [
      "Epoch 3/100: 100%|██████████| 14/14 [00:42<00:00,  3.02s/it]\n"
     ]
    },
    {
     "name": "stdout",
     "output_type": "stream",
     "text": [
      "Epoch 3: Train Loss: 2.0088, Train Acc: 35.9466, Val Loss: 2.0238, Val Acc: 37.0312\n"
     ]
    },
    {
     "name": "stderr",
     "output_type": "stream",
     "text": [
      "Epoch 4/100: 100%|██████████| 14/14 [00:41<00:00,  2.94s/it]\n"
     ]
    },
    {
     "name": "stdout",
     "output_type": "stream",
     "text": [
      "Epoch 4: Train Loss: 1.7473, Train Acc: 42.7483, Val Loss: 1.7883, Val Acc: 46.4062\n"
     ]
    },
    {
     "name": "stderr",
     "output_type": "stream",
     "text": [
      "Epoch 5/100: 100%|██████████| 14/14 [00:41<00:00,  2.99s/it]\n"
     ]
    },
    {
     "name": "stdout",
     "output_type": "stream",
     "text": [
      "Epoch 5: Train Loss: 1.5274, Train Acc: 50.5718, Val Loss: 1.6155, Val Acc: 58.7500\n"
     ]
    },
    {
     "name": "stderr",
     "output_type": "stream",
     "text": [
      "Epoch 6/100: 100%|██████████| 14/14 [00:41<00:00,  2.99s/it]\n"
     ]
    },
    {
     "name": "stdout",
     "output_type": "stream",
     "text": [
      "Epoch 6: Train Loss: 1.3269, Train Acc: 57.6469, Val Loss: 1.4527, Val Acc: 61.4062\n"
     ]
    },
    {
     "name": "stderr",
     "output_type": "stream",
     "text": [
      "Epoch 7/100: 100%|██████████| 14/14 [00:41<00:00,  3.00s/it]\n"
     ]
    },
    {
     "name": "stdout",
     "output_type": "stream",
     "text": [
      "Epoch 7: Train Loss: 1.1999, Train Acc: 61.1022, Val Loss: 1.4234, Val Acc: 64.8438\n"
     ]
    },
    {
     "name": "stderr",
     "output_type": "stream",
     "text": [
      "Epoch 8/100: 100%|██████████| 14/14 [00:41<00:00,  3.00s/it]\n"
     ]
    },
    {
     "name": "stdout",
     "output_type": "stream",
     "text": [
      "Epoch 8: Train Loss: 1.0530, Train Acc: 66.3907, Val Loss: 1.2436, Val Acc: 69.2188\n"
     ]
    },
    {
     "name": "stderr",
     "output_type": "stream",
     "text": [
      "Epoch 9/100: 100%|██████████| 14/14 [00:41<00:00,  2.99s/it]\n"
     ]
    },
    {
     "name": "stdout",
     "output_type": "stream",
     "text": [
      "Epoch 9: Train Loss: 0.9425, Train Acc: 69.7782, Val Loss: 1.1621, Val Acc: 73.5938\n"
     ]
    },
    {
     "name": "stderr",
     "output_type": "stream",
     "text": [
      "Epoch 10/100: 100%|██████████| 14/14 [00:42<00:00,  3.04s/it]\n"
     ]
    },
    {
     "name": "stdout",
     "output_type": "stream",
     "text": [
      "Epoch 10: Train Loss: 0.8049, Train Acc: 73.8629, Val Loss: 1.0426, Val Acc: 76.4062\n"
     ]
    },
    {
     "name": "stderr",
     "output_type": "stream",
     "text": [
      "Epoch 11/100: 100%|██████████| 14/14 [00:42<00:00,  3.04s/it]\n"
     ]
    },
    {
     "name": "stdout",
     "output_type": "stream",
     "text": [
      "Epoch 11: Train Loss: 0.7041, Train Acc: 78.1936, Val Loss: 0.9624, Val Acc: 79.0625\n",
      "Epoch 10 - Best metrics: 79.0625 - Keeping weights\n"
     ]
    },
    {
     "name": "stderr",
     "output_type": "stream",
     "text": [
      "Epoch 12/100: 100%|██████████| 14/14 [00:41<00:00,  2.99s/it]\n"
     ]
    },
    {
     "name": "stdout",
     "output_type": "stream",
     "text": [
      "Epoch 12: Train Loss: 0.5904, Train Acc: 80.7432, Val Loss: 0.8943, Val Acc: 79.0625\n",
      "Epoch 11 - Metrics did not improve, wait: 1\n"
     ]
    },
    {
     "name": "stderr",
     "output_type": "stream",
     "text": [
      "Epoch 13/100: 100%|██████████| 14/14 [00:41<00:00,  2.94s/it]\n"
     ]
    },
    {
     "name": "stdout",
     "output_type": "stream",
     "text": [
      "Epoch 13: Train Loss: 0.5106, Train Acc: 83.6560, Val Loss: 0.8153, Val Acc: 81.0938\n",
      "Epoch 12 - Best metrics: 81.09375 - Keeping weights\n"
     ]
    },
    {
     "name": "stderr",
     "output_type": "stream",
     "text": [
      "Epoch 14/100: 100%|██████████| 14/14 [00:42<00:00,  3.04s/it]\n"
     ]
    },
    {
     "name": "stdout",
     "output_type": "stream",
     "text": [
      "Epoch 14: Train Loss: 0.4388, Train Acc: 86.3958, Val Loss: 0.7693, Val Acc: 80.9375\n",
      "Epoch 13 - Metrics did not improve, wait: 1\n"
     ]
    },
    {
     "name": "stderr",
     "output_type": "stream",
     "text": [
      "Epoch 15/100: 100%|██████████| 14/14 [00:41<00:00,  2.96s/it]\n"
     ]
    },
    {
     "name": "stdout",
     "output_type": "stream",
     "text": [
      "Epoch 15: Train Loss: 0.3686, Train Acc: 88.4935, Val Loss: 0.7293, Val Acc: 81.8750\n",
      "Epoch 14 - Best metrics: 81.875 - Keeping weights\n"
     ]
    },
    {
     "name": "stderr",
     "output_type": "stream",
     "text": [
      "Epoch 16/100: 100%|██████████| 14/14 [00:41<00:00,  2.95s/it]\n"
     ]
    },
    {
     "name": "stdout",
     "output_type": "stream",
     "text": [
      "Epoch 16: Train Loss: 0.3048, Train Acc: 89.9782, Val Loss: 0.6586, Val Acc: 84.6875\n",
      "Epoch 15 - Best metrics: 84.6875 - Keeping weights\n"
     ]
    },
    {
     "name": "stderr",
     "output_type": "stream",
     "text": [
      "Epoch 17/100: 100%|██████████| 14/14 [00:41<00:00,  2.98s/it]\n"
     ]
    },
    {
     "name": "stdout",
     "output_type": "stream",
     "text": [
      "Epoch 17: Train Loss: 0.2589, Train Acc: 91.6020, Val Loss: 0.5908, Val Acc: 84.0625\n",
      "Epoch 16 - Metrics did not improve, wait: 1\n"
     ]
    },
    {
     "name": "stderr",
     "output_type": "stream",
     "text": [
      "Epoch 18/100: 100%|██████████| 14/14 [00:41<00:00,  2.97s/it]\n"
     ]
    },
    {
     "name": "stdout",
     "output_type": "stream",
     "text": [
      "Epoch 18: Train Loss: 0.2272, Train Acc: 92.9688, Val Loss: 0.5428, Val Acc: 85.7812\n",
      "Epoch 17 - Best metrics: 85.78125 - Keeping weights\n"
     ]
    },
    {
     "name": "stderr",
     "output_type": "stream",
     "text": [
      "Epoch 19/100: 100%|██████████| 14/14 [00:41<00:00,  2.95s/it]\n"
     ]
    },
    {
     "name": "stdout",
     "output_type": "stream",
     "text": [
      "Epoch 19: Train Loss: 0.1924, Train Acc: 94.1242, Val Loss: 0.5333, Val Acc: 87.0312\n",
      "Epoch 18 - Best metrics: 87.03125 - Keeping weights\n"
     ]
    },
    {
     "name": "stderr",
     "output_type": "stream",
     "text": [
      "Epoch 20/100: 100%|██████████| 14/14 [00:42<00:00,  3.00s/it]\n"
     ]
    },
    {
     "name": "stdout",
     "output_type": "stream",
     "text": [
      "Epoch 20: Train Loss: 0.1601, Train Acc: 94.8551, Val Loss: 0.5139, Val Acc: 86.7188\n",
      "Epoch 19 - Metrics did not improve, wait: 1\n"
     ]
    },
    {
     "name": "stderr",
     "output_type": "stream",
     "text": [
      "Epoch 21/100: 100%|██████████| 14/14 [00:41<00:00,  2.97s/it]\n"
     ]
    },
    {
     "name": "stdout",
     "output_type": "stream",
     "text": [
      "Epoch 21: Train Loss: 0.1391, Train Acc: 95.9712, Val Loss: 0.4792, Val Acc: 86.4062\n",
      "Epoch 20 - Metrics did not improve, wait: 2\n"
     ]
    },
    {
     "name": "stderr",
     "output_type": "stream",
     "text": [
      "Epoch 22/100: 100%|██████████| 14/14 [00:42<00:00,  3.01s/it]\n"
     ]
    },
    {
     "name": "stdout",
     "output_type": "stream",
     "text": [
      "Epoch 22: Train Loss: 0.1142, Train Acc: 96.2557, Val Loss: 0.5086, Val Acc: 86.0938\n",
      "Epoch 21 - Metrics did not improve, wait: 3\n"
     ]
    },
    {
     "name": "stderr",
     "output_type": "stream",
     "text": [
      "Epoch 23/100: 100%|██████████| 14/14 [00:41<00:00,  2.97s/it]\n"
     ]
    },
    {
     "name": "stdout",
     "output_type": "stream",
     "text": [
      "Epoch 23: Train Loss: 0.1119, Train Acc: 96.7076, Val Loss: 0.4598, Val Acc: 87.1875\n",
      "Epoch 22 - Best metrics: 87.1875 - Keeping weights\n"
     ]
    },
    {
     "name": "stderr",
     "output_type": "stream",
     "text": [
      "Epoch 24/100: 100%|██████████| 14/14 [00:51<00:00,  3.67s/it]\n"
     ]
    },
    {
     "name": "stdout",
     "output_type": "stream",
     "text": [
      "Epoch 24: Train Loss: 0.1096, Train Acc: 96.4121, Val Loss: 0.4365, Val Acc: 89.2188\n",
      "Epoch 23 - Best metrics: 89.21875 - Keeping weights\n"
     ]
    },
    {
     "name": "stderr",
     "output_type": "stream",
     "text": [
      "Epoch 25/100: 100%|██████████| 14/14 [00:49<00:00,  3.50s/it]\n"
     ]
    },
    {
     "name": "stdout",
     "output_type": "stream",
     "text": [
      "Epoch 25: Train Loss: 0.0920, Train Acc: 97.5895, Val Loss: 0.4425, Val Acc: 87.8125\n",
      "Epoch 24 - Metrics did not improve, wait: 1\n"
     ]
    },
    {
     "name": "stderr",
     "output_type": "stream",
     "text": [
      "Epoch 26/100: 100%|██████████| 14/14 [00:41<00:00,  2.94s/it]\n"
     ]
    },
    {
     "name": "stdout",
     "output_type": "stream",
     "text": [
      "Epoch 26: Train Loss: 0.0783, Train Acc: 97.7569, Val Loss: 0.4527, Val Acc: 87.3438\n",
      "Epoch 25 - Metrics did not improve, wait: 2\n"
     ]
    },
    {
     "name": "stderr",
     "output_type": "stream",
     "text": [
      "Epoch 27/100: 100%|██████████| 14/14 [00:42<00:00,  3.00s/it]\n"
     ]
    },
    {
     "name": "stdout",
     "output_type": "stream",
     "text": [
      "Epoch 27: Train Loss: 0.0689, Train Acc: 97.6453, Val Loss: 0.4067, Val Acc: 87.9688\n",
      "Epoch 26 - Metrics did not improve, wait: 3\n"
     ]
    },
    {
     "name": "stderr",
     "output_type": "stream",
     "text": [
      "Epoch 28/100: 100%|██████████| 14/14 [00:45<00:00,  3.26s/it]\n"
     ]
    },
    {
     "name": "stdout",
     "output_type": "stream",
     "text": [
      "Epoch 28: Train Loss: 0.0700, Train Acc: 97.7011, Val Loss: 0.4129, Val Acc: 88.2812\n",
      "Epoch 27 - Metrics did not improve, wait: 4\n"
     ]
    },
    {
     "name": "stderr",
     "output_type": "stream",
     "text": [
      "Epoch 29/100: 100%|██████████| 14/14 [00:42<00:00,  3.04s/it]\n"
     ]
    },
    {
     "name": "stdout",
     "output_type": "stream",
     "text": [
      "Epoch 29: Train Loss: 0.0537, Train Acc: 98.0359, Val Loss: 0.4069, Val Acc: 88.5938\n",
      "Epoch 28 - Metrics did not improve, wait: 5\n"
     ]
    },
    {
     "name": "stderr",
     "output_type": "stream",
     "text": [
      "Epoch 30/100: 100%|██████████| 14/14 [00:41<00:00,  2.99s/it]\n"
     ]
    },
    {
     "name": "stdout",
     "output_type": "stream",
     "text": [
      "Epoch 30: Train Loss: 0.0386, Train Acc: 99.1629, Val Loss: 0.4176, Val Acc: 88.7500\n",
      "Epoch 29 - Metrics did not improve, wait: 6\n"
     ]
    },
    {
     "name": "stderr",
     "output_type": "stream",
     "text": [
      "Epoch 31/100: 100%|██████████| 14/14 [00:41<00:00,  2.95s/it]\n"
     ]
    },
    {
     "name": "stdout",
     "output_type": "stream",
     "text": [
      "Epoch 31: Train Loss: 0.0520, Train Acc: 98.5381, Val Loss: 0.4086, Val Acc: 88.7500\n",
      "Epoch 30 - Metrics did not improve, wait: 7\n"
     ]
    },
    {
     "name": "stderr",
     "output_type": "stream",
     "text": [
      "Epoch 32/100: 100%|██████████| 14/14 [00:41<00:00,  2.94s/it]\n"
     ]
    },
    {
     "name": "stdout",
     "output_type": "stream",
     "text": [
      "Epoch 32: Train Loss: 0.0461, Train Acc: 98.6552, Val Loss: 0.3771, Val Acc: 88.7500\n",
      "Epoch 31 - Metrics did not improve, wait: 8\n"
     ]
    },
    {
     "name": "stderr",
     "output_type": "stream",
     "text": [
      "Epoch 33/100: 100%|██████████| 14/14 [00:41<00:00,  2.99s/it]\n"
     ]
    },
    {
     "name": "stdout",
     "output_type": "stream",
     "text": [
      "Epoch 33: Train Loss: 0.0345, Train Acc: 99.3862, Val Loss: 0.3911, Val Acc: 87.8125\n",
      "Epoch 32 - Metrics did not improve, wait: 9\n"
     ]
    },
    {
     "name": "stderr",
     "output_type": "stream",
     "text": [
      "Epoch 34/100: 100%|██████████| 14/14 [00:43<00:00,  3.09s/it]\n"
     ]
    },
    {
     "name": "stdout",
     "output_type": "stream",
     "text": [
      "Epoch 34: Train Loss: 0.0476, Train Acc: 98.4823, Val Loss: 0.4027, Val Acc: 88.4375\n",
      "Epoch 33 - Metrics did not improve, wait: 10\n",
      "Epoch 33 - Patience reached - Restoring weights\n"
     ]
    },
    {
     "name": "stderr",
     "output_type": "stream",
     "text": [
      "Epoch 1/100: 100%|██████████| 27/27 [00:57<00:00,  2.13s/it]\n"
     ]
    },
    {
     "name": "stdout",
     "output_type": "stream",
     "text": [
      "Epoch 1: Train Loss: 2.4073, Train Acc: 20.3059, Val Loss: 2.3317, Val Acc: 27.0833\n",
      "Epoch 0 - Keeping weights\n"
     ]
    },
    {
     "name": "stderr",
     "output_type": "stream",
     "text": [
      "Epoch 2/100: 100%|██████████| 27/27 [00:53<00:00,  1.98s/it]\n"
     ]
    },
    {
     "name": "stdout",
     "output_type": "stream",
     "text": [
      "Epoch 2: Train Loss: 2.0149, Train Acc: 34.8541, Val Loss: 1.9571, Val Acc: 40.6250\n"
     ]
    },
    {
     "name": "stderr",
     "output_type": "stream",
     "text": [
      "Epoch 3/100: 100%|██████████| 27/27 [00:54<00:00,  2.02s/it]\n"
     ]
    },
    {
     "name": "stdout",
     "output_type": "stream",
     "text": [
      "Epoch 3: Train Loss: 1.6196, Train Acc: 47.4376, Val Loss: 1.6128, Val Acc: 54.1667\n"
     ]
    },
    {
     "name": "stderr",
     "output_type": "stream",
     "text": [
      "Epoch 4/100: 100%|██████████| 27/27 [00:51<00:00,  1.91s/it]\n"
     ]
    },
    {
     "name": "stdout",
     "output_type": "stream",
     "text": [
      "Epoch 4: Train Loss: 1.3433, Train Acc: 57.8571, Val Loss: 1.4532, Val Acc: 64.9306\n"
     ]
    },
    {
     "name": "stderr",
     "output_type": "stream",
     "text": [
      "Epoch 5/100: 100%|██████████| 27/27 [00:52<00:00,  1.96s/it]\n"
     ]
    },
    {
     "name": "stdout",
     "output_type": "stream",
     "text": [
      "Epoch 5: Train Loss: 1.0872, Train Acc: 64.6014, Val Loss: 1.2692, Val Acc: 70.1389\n"
     ]
    },
    {
     "name": "stderr",
     "output_type": "stream",
     "text": [
      "Epoch 6/100: 100%|██████████| 27/27 [00:50<00:00,  1.87s/it]\n"
     ]
    },
    {
     "name": "stdout",
     "output_type": "stream",
     "text": [
      "Epoch 6: Train Loss: 0.9043, Train Acc: 70.6749, Val Loss: 1.0810, Val Acc: 76.5625\n"
     ]
    },
    {
     "name": "stderr",
     "output_type": "stream",
     "text": [
      "Epoch 7/100: 100%|██████████| 27/27 [00:55<00:00,  2.07s/it]\n"
     ]
    },
    {
     "name": "stdout",
     "output_type": "stream",
     "text": [
      "Epoch 7: Train Loss: 0.6957, Train Acc: 77.5178, Val Loss: 0.9255, Val Acc: 80.2083\n"
     ]
    },
    {
     "name": "stderr",
     "output_type": "stream",
     "text": [
      "Epoch 8/100: 100%|██████████| 27/27 [00:53<00:00,  1.98s/it]\n"
     ]
    },
    {
     "name": "stdout",
     "output_type": "stream",
     "text": [
      "Epoch 8: Train Loss: 0.5303, Train Acc: 82.9548, Val Loss: 0.8435, Val Acc: 80.0347\n"
     ]
    },
    {
     "name": "stderr",
     "output_type": "stream",
     "text": [
      "Epoch 9/100: 100%|██████████| 27/27 [00:52<00:00,  1.95s/it]\n"
     ]
    },
    {
     "name": "stdout",
     "output_type": "stream",
     "text": [
      "Epoch 9: Train Loss: 0.4223, Train Acc: 86.3284, Val Loss: 0.6941, Val Acc: 82.8125\n"
     ]
    },
    {
     "name": "stderr",
     "output_type": "stream",
     "text": [
      "Epoch 10/100: 100%|██████████| 27/27 [00:52<00:00,  1.95s/it]\n"
     ]
    },
    {
     "name": "stdout",
     "output_type": "stream",
     "text": [
      "Epoch 10: Train Loss: 0.3519, Train Acc: 88.2988, Val Loss: 0.7045, Val Acc: 83.6806\n"
     ]
    },
    {
     "name": "stderr",
     "output_type": "stream",
     "text": [
      "Epoch 11/100: 100%|██████████| 27/27 [01:01<00:00,  2.29s/it]\n"
     ]
    },
    {
     "name": "stdout",
     "output_type": "stream",
     "text": [
      "Epoch 11: Train Loss: 0.2842, Train Acc: 91.6467, Val Loss: 0.6088, Val Acc: 85.4167\n",
      "Epoch 10 - Best metrics: 85.41666666666667 - Keeping weights\n"
     ]
    },
    {
     "name": "stderr",
     "output_type": "stream",
     "text": [
      "Epoch 12/100: 100%|██████████| 27/27 [01:01<00:00,  2.28s/it]\n"
     ]
    },
    {
     "name": "stdout",
     "output_type": "stream",
     "text": [
      "Epoch 12: Train Loss: 0.2473, Train Acc: 92.0082, Val Loss: 0.5886, Val Acc: 86.4583\n",
      "Epoch 11 - Best metrics: 86.45833333333333 - Keeping weights\n"
     ]
    },
    {
     "name": "stderr",
     "output_type": "stream",
     "text": [
      "Epoch 13/100: 100%|██████████| 27/27 [00:52<00:00,  1.94s/it]\n"
     ]
    },
    {
     "name": "stdout",
     "output_type": "stream",
     "text": [
      "Epoch 13: Train Loss: 0.2135, Train Acc: 92.8127, Val Loss: 0.5917, Val Acc: 83.3333\n",
      "Epoch 12 - Metrics did not improve, wait: 1\n"
     ]
    },
    {
     "name": "stderr",
     "output_type": "stream",
     "text": [
      "Epoch 14/100: 100%|██████████| 27/27 [00:51<00:00,  1.91s/it]\n"
     ]
    },
    {
     "name": "stdout",
     "output_type": "stream",
     "text": [
      "Epoch 14: Train Loss: 0.1903, Train Acc: 94.1466, Val Loss: 0.5091, Val Acc: 86.4583\n",
      "Epoch 13 - Metrics did not improve, wait: 2\n"
     ]
    },
    {
     "name": "stderr",
     "output_type": "stream",
     "text": [
      "Epoch 15/100: 100%|██████████| 27/27 [00:53<00:00,  1.98s/it]\n"
     ]
    },
    {
     "name": "stdout",
     "output_type": "stream",
     "text": [
      "Epoch 15: Train Loss: 0.1743, Train Acc: 94.0773, Val Loss: 0.5373, Val Acc: 85.5903\n",
      "Epoch 14 - Metrics did not improve, wait: 3\n"
     ]
    },
    {
     "name": "stderr",
     "output_type": "stream",
     "text": [
      "Epoch 16/100: 100%|██████████| 27/27 [00:54<00:00,  2.03s/it]\n"
     ]
    },
    {
     "name": "stdout",
     "output_type": "stream",
     "text": [
      "Epoch 16: Train Loss: 0.1350, Train Acc: 95.6512, Val Loss: 0.5307, Val Acc: 85.5903\n",
      "Epoch 15 - Metrics did not improve, wait: 4\n"
     ]
    },
    {
     "name": "stderr",
     "output_type": "stream",
     "text": [
      "Epoch 17/100: 100%|██████████| 27/27 [00:57<00:00,  2.11s/it]\n"
     ]
    },
    {
     "name": "stdout",
     "output_type": "stream",
     "text": [
      "Epoch 17: Train Loss: 0.1260, Train Acc: 95.8305, Val Loss: 0.4383, Val Acc: 87.6736\n",
      "Epoch 16 - Best metrics: 87.67361111111111 - Keeping weights\n"
     ]
    },
    {
     "name": "stderr",
     "output_type": "stream",
     "text": [
      "Epoch 18/100: 100%|██████████| 27/27 [00:56<00:00,  2.08s/it]\n"
     ]
    },
    {
     "name": "stdout",
     "output_type": "stream",
     "text": [
      "Epoch 18: Train Loss: 0.1173, Train Acc: 96.6378, Val Loss: 0.5185, Val Acc: 84.5486\n",
      "Epoch 17 - Metrics did not improve, wait: 1\n"
     ]
    },
    {
     "name": "stderr",
     "output_type": "stream",
     "text": [
      "Epoch 19/100: 100%|██████████| 27/27 [00:53<00:00,  1.99s/it]\n"
     ]
    },
    {
     "name": "stdout",
     "output_type": "stream",
     "text": [
      "Epoch 19: Train Loss: 0.0967, Train Acc: 96.9850, Val Loss: 0.4369, Val Acc: 86.9792\n",
      "Epoch 18 - Metrics did not improve, wait: 2\n"
     ]
    },
    {
     "name": "stderr",
     "output_type": "stream",
     "text": [
      "Epoch 20/100: 100%|██████████| 27/27 [00:53<00:00,  1.99s/it]\n"
     ]
    },
    {
     "name": "stdout",
     "output_type": "stream",
     "text": [
      "Epoch 20: Train Loss: 0.0750, Train Acc: 97.6795, Val Loss: 0.4264, Val Acc: 86.9792\n",
      "Epoch 19 - Metrics did not improve, wait: 3\n"
     ]
    },
    {
     "name": "stderr",
     "output_type": "stream",
     "text": [
      "Epoch 21/100: 100%|██████████| 27/27 [00:55<00:00,  2.07s/it]\n"
     ]
    },
    {
     "name": "stdout",
     "output_type": "stream",
     "text": [
      "Epoch 21: Train Loss: 0.0898, Train Acc: 96.9879, Val Loss: 0.4418, Val Acc: 87.8472\n",
      "Epoch 20 - Best metrics: 87.84722222222223 - Keeping weights\n"
     ]
    },
    {
     "name": "stderr",
     "output_type": "stream",
     "text": [
      "Epoch 22/100: 100%|██████████| 27/27 [00:55<00:00,  2.07s/it]\n"
     ]
    },
    {
     "name": "stdout",
     "output_type": "stream",
     "text": [
      "Epoch 22: Train Loss: 0.0678, Train Acc: 98.1425, Val Loss: 0.3902, Val Acc: 89.9306\n",
      "Epoch 21 - Best metrics: 89.93055555555556 - Keeping weights\n"
     ]
    },
    {
     "name": "stderr",
     "output_type": "stream",
     "text": [
      "Epoch 23/100: 100%|██████████| 27/27 [00:55<00:00,  2.04s/it]\n"
     ]
    },
    {
     "name": "stdout",
     "output_type": "stream",
     "text": [
      "Epoch 23: Train Loss: 0.0478, Train Acc: 98.4347, Val Loss: 0.3956, Val Acc: 87.5000\n",
      "Epoch 22 - Metrics did not improve, wait: 1\n"
     ]
    },
    {
     "name": "stderr",
     "output_type": "stream",
     "text": [
      "Epoch 24/100: 100%|██████████| 27/27 [00:54<00:00,  2.02s/it]\n"
     ]
    },
    {
     "name": "stdout",
     "output_type": "stream",
     "text": [
      "Epoch 24: Train Loss: 0.0897, Train Acc: 97.0429, Val Loss: 0.4371, Val Acc: 88.7153\n",
      "Epoch 23 - Metrics did not improve, wait: 2\n"
     ]
    },
    {
     "name": "stderr",
     "output_type": "stream",
     "text": [
      "Epoch 25/100: 100%|██████████| 27/27 [00:55<00:00,  2.06s/it]\n"
     ]
    },
    {
     "name": "stdout",
     "output_type": "stream",
     "text": [
      "Epoch 25: Train Loss: 0.0724, Train Acc: 97.8009, Val Loss: 0.4448, Val Acc: 88.1944\n",
      "Epoch 24 - Metrics did not improve, wait: 3\n"
     ]
    },
    {
     "name": "stderr",
     "output_type": "stream",
     "text": [
      "Epoch 26/100: 100%|██████████| 27/27 [00:57<00:00,  2.11s/it]\n"
     ]
    },
    {
     "name": "stdout",
     "output_type": "stream",
     "text": [
      "Epoch 26: Train Loss: 0.0506, Train Acc: 98.4954, Val Loss: 0.4095, Val Acc: 87.6736\n",
      "Epoch 25 - Metrics did not improve, wait: 4\n"
     ]
    },
    {
     "name": "stderr",
     "output_type": "stream",
     "text": [
      "Epoch 27/100: 100%|██████████| 27/27 [00:55<00:00,  2.06s/it]\n"
     ]
    },
    {
     "name": "stdout",
     "output_type": "stream",
     "text": [
      "Epoch 27: Train Loss: 0.0355, Train Acc: 99.0741, Val Loss: 0.3757, Val Acc: 90.2778\n",
      "Epoch 26 - Best metrics: 90.27777777777777 - Keeping weights\n"
     ]
    },
    {
     "name": "stderr",
     "output_type": "stream",
     "text": [
      "Epoch 28/100: 100%|██████████| 27/27 [00:55<00:00,  2.06s/it]\n"
     ]
    },
    {
     "name": "stdout",
     "output_type": "stream",
     "text": [
      "Epoch 28: Train Loss: 0.0261, Train Acc: 99.5370, Val Loss: 0.3459, Val Acc: 90.9722\n",
      "Epoch 27 - Best metrics: 90.97222222222223 - Keeping weights\n"
     ]
    },
    {
     "name": "stderr",
     "output_type": "stream",
     "text": [
      "Epoch 29/100: 100%|██████████| 27/27 [00:55<00:00,  2.07s/it]\n"
     ]
    },
    {
     "name": "stdout",
     "output_type": "stream",
     "text": [
      "Epoch 29: Train Loss: 0.0161, Train Acc: 99.5949, Val Loss: 0.3612, Val Acc: 90.2778\n",
      "Epoch 28 - Metrics did not improve, wait: 1\n"
     ]
    },
    {
     "name": "stderr",
     "output_type": "stream",
     "text": [
      "Epoch 30/100: 100%|██████████| 27/27 [00:58<00:00,  2.16s/it]\n"
     ]
    },
    {
     "name": "stdout",
     "output_type": "stream",
     "text": [
      "Epoch 30: Train Loss: 0.0156, Train Acc: 99.5921, Val Loss: 0.3395, Val Acc: 91.3194\n",
      "Epoch 29 - Best metrics: 91.31944444444444 - Keeping weights\n"
     ]
    },
    {
     "name": "stderr",
     "output_type": "stream",
     "text": [
      "Epoch 31/100: 100%|██████████| 27/27 [00:54<00:00,  2.02s/it]\n"
     ]
    },
    {
     "name": "stdout",
     "output_type": "stream",
     "text": [
      "Epoch 31: Train Loss: 0.0183, Train Acc: 99.4792, Val Loss: 0.3551, Val Acc: 88.8889\n",
      "Epoch 30 - Metrics did not improve, wait: 1\n"
     ]
    },
    {
     "name": "stderr",
     "output_type": "stream",
     "text": [
      "Epoch 32/100: 100%|██████████| 27/27 [00:57<00:00,  2.14s/it]\n"
     ]
    },
    {
     "name": "stdout",
     "output_type": "stream",
     "text": [
      "Epoch 32: Train Loss: 0.0300, Train Acc: 99.0684, Val Loss: 0.4031, Val Acc: 88.7153\n",
      "Epoch 31 - Metrics did not improve, wait: 2\n"
     ]
    },
    {
     "name": "stderr",
     "output_type": "stream",
     "text": [
      "Epoch 33/100: 100%|██████████| 27/27 [00:59<00:00,  2.22s/it]\n"
     ]
    },
    {
     "name": "stdout",
     "output_type": "stream",
     "text": [
      "Epoch 33: Train Loss: 0.0316, Train Acc: 99.0162, Val Loss: 0.3936, Val Acc: 89.5833\n",
      "Epoch 32 - Metrics did not improve, wait: 3\n"
     ]
    },
    {
     "name": "stderr",
     "output_type": "stream",
     "text": [
      "Epoch 34/100: 100%|██████████| 27/27 [00:56<00:00,  2.10s/it]\n"
     ]
    },
    {
     "name": "stdout",
     "output_type": "stream",
     "text": [
      "Epoch 34: Train Loss: 0.0423, Train Acc: 99.3606, Val Loss: 0.4124, Val Acc: 88.0208\n",
      "Epoch 33 - Metrics did not improve, wait: 4\n"
     ]
    },
    {
     "name": "stderr",
     "output_type": "stream",
     "text": [
      "Epoch 35/100: 100%|██████████| 27/27 [00:57<00:00,  2.11s/it]\n"
     ]
    },
    {
     "name": "stdout",
     "output_type": "stream",
     "text": [
      "Epoch 35: Train Loss: 0.0402, Train Acc: 98.9005, Val Loss: 0.4340, Val Acc: 86.6319\n",
      "Epoch 34 - Metrics did not improve, wait: 5\n"
     ]
    },
    {
     "name": "stderr",
     "output_type": "stream",
     "text": [
      "Epoch 36/100: 100%|██████████| 27/27 [00:55<00:00,  2.05s/it]\n"
     ]
    },
    {
     "name": "stdout",
     "output_type": "stream",
     "text": [
      "Epoch 36: Train Loss: 0.0340, Train Acc: 99.3056, Val Loss: 0.3663, Val Acc: 88.3681\n",
      "Learning rate changed from 0.005 to 0.0005 at epoch 35\n",
      "Epoch 35 - Metrics did not improve, wait: 6\n"
     ]
    },
    {
     "name": "stderr",
     "output_type": "stream",
     "text": [
      "Epoch 37/100: 100%|██████████| 27/27 [00:56<00:00,  2.09s/it]\n"
     ]
    },
    {
     "name": "stdout",
     "output_type": "stream",
     "text": [
      "Epoch 37: Train Loss: 0.0153, Train Acc: 99.7685, Val Loss: 0.3567, Val Acc: 88.7153\n",
      "Epoch 36 - Metrics did not improve, wait: 7\n"
     ]
    },
    {
     "name": "stderr",
     "output_type": "stream",
     "text": [
      "Epoch 38/100: 100%|██████████| 27/27 [00:55<00:00,  2.06s/it]\n"
     ]
    },
    {
     "name": "stdout",
     "output_type": "stream",
     "text": [
      "Epoch 38: Train Loss: 0.0093, Train Acc: 99.8843, Val Loss: 0.3491, Val Acc: 89.2361\n",
      "Epoch 37 - Metrics did not improve, wait: 8\n"
     ]
    },
    {
     "name": "stderr",
     "output_type": "stream",
     "text": [
      "Epoch 39/100: 100%|██████████| 27/27 [00:54<00:00,  2.01s/it]\n"
     ]
    },
    {
     "name": "stdout",
     "output_type": "stream",
     "text": [
      "Epoch 39: Train Loss: 0.0089, Train Acc: 99.8814, Val Loss: 0.3439, Val Acc: 88.7153\n",
      "Epoch 38 - Metrics did not improve, wait: 9\n"
     ]
    },
    {
     "name": "stderr",
     "output_type": "stream",
     "text": [
      "Epoch 40/100: 100%|██████████| 27/27 [00:55<00:00,  2.04s/it]\n"
     ]
    },
    {
     "name": "stdout",
     "output_type": "stream",
     "text": [
      "Epoch 40: Train Loss: 0.0079, Train Acc: 99.9421, Val Loss: 0.3435, Val Acc: 89.2361\n",
      "Epoch 39 - Metrics did not improve, wait: 10\n",
      "Epoch 39 - Patience reached - Restoring weights\n"
     ]
    },
    {
     "name": "stderr",
     "output_type": "stream",
     "text": [
      "Epoch 1/100: 100%|██████████| 7/7 [00:42<00:00,  6.14s/it]\n"
     ]
    },
    {
     "name": "stdout",
     "output_type": "stream",
     "text": [
      "Epoch 1: Train Loss: 2.5621, Train Acc: 7.6861, Val Loss: 2.5494, Val Acc: 19.2708\n",
      "Epoch 0 - Keeping weights\n"
     ]
    },
    {
     "name": "stderr",
     "output_type": "stream",
     "text": [
      "Epoch 2/100: 100%|██████████| 7/7 [00:42<00:00,  6.02s/it]\n"
     ]
    },
    {
     "name": "stdout",
     "output_type": "stream",
     "text": [
      "Epoch 2: Train Loss: 2.5101, Train Acc: 18.6484, Val Loss: 2.5226, Val Acc: 24.7396\n"
     ]
    },
    {
     "name": "stderr",
     "output_type": "stream",
     "text": [
      "Epoch 3/100: 100%|██████████| 7/7 [00:41<00:00,  5.90s/it]\n"
     ]
    },
    {
     "name": "stdout",
     "output_type": "stream",
     "text": [
      "Epoch 3: Train Loss: 2.4606, Train Acc: 19.7899, Val Loss: 2.4935, Val Acc: 21.4844\n"
     ]
    },
    {
     "name": "stderr",
     "output_type": "stream",
     "text": [
      "Epoch 4/100: 100%|██████████| 7/7 [00:40<00:00,  5.74s/it]\n"
     ]
    },
    {
     "name": "stdout",
     "output_type": "stream",
     "text": [
      "Epoch 4: Train Loss: 2.4162, Train Acc: 21.6978, Val Loss: 2.4682, Val Acc: 20.1823\n"
     ]
    },
    {
     "name": "stderr",
     "output_type": "stream",
     "text": [
      "Epoch 5/100: 100%|██████████| 7/7 [00:39<00:00,  5.69s/it]\n"
     ]
    },
    {
     "name": "stdout",
     "output_type": "stream",
     "text": [
      "Epoch 5: Train Loss: 2.3831, Train Acc: 22.6678, Val Loss: 2.4502, Val Acc: 25.1302\n"
     ]
    },
    {
     "name": "stderr",
     "output_type": "stream",
     "text": [
      "Epoch 6/100: 100%|██████████| 7/7 [00:38<00:00,  5.46s/it]\n"
     ]
    },
    {
     "name": "stdout",
     "output_type": "stream",
     "text": [
      "Epoch 6: Train Loss: 2.3763, Train Acc: 24.7543, Val Loss: 2.4364, Val Acc: 27.7344\n"
     ]
    },
    {
     "name": "stderr",
     "output_type": "stream",
     "text": [
      "Epoch 7/100: 100%|██████████| 7/7 [00:38<00:00,  5.45s/it]\n"
     ]
    },
    {
     "name": "stdout",
     "output_type": "stream",
     "text": [
      "Epoch 7: Train Loss: 2.3555, Train Acc: 26.3239, Val Loss: 2.4257, Val Acc: 32.6823\n"
     ]
    },
    {
     "name": "stderr",
     "output_type": "stream",
     "text": [
      "Epoch 8/100: 100%|██████████| 7/7 [00:38<00:00,  5.52s/it]\n"
     ]
    },
    {
     "name": "stdout",
     "output_type": "stream",
     "text": [
      "Epoch 8: Train Loss: 2.3300, Train Acc: 29.2724, Val Loss: 2.4149, Val Acc: 32.2917\n"
     ]
    },
    {
     "name": "stderr",
     "output_type": "stream",
     "text": [
      "Epoch 9/100: 100%|██████████| 7/7 [00:38<00:00,  5.51s/it]\n"
     ]
    },
    {
     "name": "stdout",
     "output_type": "stream",
     "text": [
      "Epoch 9: Train Loss: 2.3112, Train Acc: 29.4666, Val Loss: 2.4003, Val Acc: 32.4219\n"
     ]
    },
    {
     "name": "stderr",
     "output_type": "stream",
     "text": [
      "Epoch 10/100: 100%|██████████| 7/7 [00:39<00:00,  5.70s/it]\n"
     ]
    },
    {
     "name": "stdout",
     "output_type": "stream",
     "text": [
      "Epoch 10: Train Loss: 2.2870, Train Acc: 30.2408, Val Loss: 2.3815, Val Acc: 32.9427\n"
     ]
    },
    {
     "name": "stderr",
     "output_type": "stream",
     "text": [
      "Epoch 11/100: 100%|██████████| 7/7 [00:40<00:00,  5.75s/it]\n"
     ]
    },
    {
     "name": "stdout",
     "output_type": "stream",
     "text": [
      "Epoch 11: Train Loss: 2.2574, Train Acc: 30.3093, Val Loss: 2.3584, Val Acc: 33.2031\n",
      "Epoch 10 - Best metrics: 33.203125 - Keeping weights\n"
     ]
    },
    {
     "name": "stderr",
     "output_type": "stream",
     "text": [
      "Epoch 12/100: 100%|██████████| 7/7 [00:39<00:00,  5.71s/it]\n"
     ]
    },
    {
     "name": "stdout",
     "output_type": "stream",
     "text": [
      "Epoch 12: Train Loss: 2.2157, Train Acc: 30.7303, Val Loss: 2.3353, Val Acc: 33.4635\n",
      "Epoch 11 - Best metrics: 33.463541666666664 - Keeping weights\n"
     ]
    },
    {
     "name": "stderr",
     "output_type": "stream",
     "text": [
      "Epoch 13/100: 100%|██████████| 7/7 [00:40<00:00,  5.79s/it]\n"
     ]
    },
    {
     "name": "stdout",
     "output_type": "stream",
     "text": [
      "Epoch 13: Train Loss: 2.1839, Train Acc: 31.7079, Val Loss: 2.3090, Val Acc: 33.3333\n",
      "Epoch 12 - Metrics did not improve, wait: 1\n"
     ]
    },
    {
     "name": "stderr",
     "output_type": "stream",
     "text": [
      "Epoch 14/100: 100%|██████████| 7/7 [00:39<00:00,  5.63s/it]\n"
     ]
    },
    {
     "name": "stdout",
     "output_type": "stream",
     "text": [
      "Epoch 14: Train Loss: 2.1479, Train Acc: 32.7697, Val Loss: 2.2810, Val Acc: 32.6823\n",
      "Epoch 13 - Metrics did not improve, wait: 2\n"
     ]
    },
    {
     "name": "stderr",
     "output_type": "stream",
     "text": [
      "Epoch 15/100: 100%|██████████| 7/7 [00:40<00:00,  5.82s/it]\n"
     ]
    },
    {
     "name": "stdout",
     "output_type": "stream",
     "text": [
      "Epoch 15: Train Loss: 2.1222, Train Acc: 32.8078, Val Loss: 2.2516, Val Acc: 32.4219\n",
      "Epoch 14 - Metrics did not improve, wait: 3\n"
     ]
    },
    {
     "name": "stderr",
     "output_type": "stream",
     "text": [
      "Epoch 16/100: 100%|██████████| 7/7 [00:38<00:00,  5.57s/it]\n"
     ]
    },
    {
     "name": "stdout",
     "output_type": "stream",
     "text": [
      "Epoch 16: Train Loss: 2.0794, Train Acc: 34.4494, Val Loss: 2.2277, Val Acc: 34.3750\n",
      "Epoch 15 - Best metrics: 34.375 - Keeping weights\n"
     ]
    },
    {
     "name": "stderr",
     "output_type": "stream",
     "text": [
      "Epoch 17/100: 100%|██████████| 7/7 [00:40<00:00,  5.74s/it]\n"
     ]
    },
    {
     "name": "stdout",
     "output_type": "stream",
     "text": [
      "Epoch 17: Train Loss: 2.0559, Train Acc: 34.3484, Val Loss: 2.2009, Val Acc: 35.0260\n",
      "Epoch 16 - Best metrics: 35.026041666666664 - Keeping weights\n"
     ]
    },
    {
     "name": "stderr",
     "output_type": "stream",
     "text": [
      "Epoch 18/100: 100%|██████████| 7/7 [00:41<00:00,  5.90s/it]\n"
     ]
    },
    {
     "name": "stdout",
     "output_type": "stream",
     "text": [
      "Epoch 18: Train Loss: 2.0303, Train Acc: 36.2260, Val Loss: 2.1751, Val Acc: 33.5938\n",
      "Epoch 17 - Metrics did not improve, wait: 1\n"
     ]
    },
    {
     "name": "stderr",
     "output_type": "stream",
     "text": [
      "Epoch 19/100: 100%|██████████| 7/7 [00:40<00:00,  5.85s/it]\n"
     ]
    },
    {
     "name": "stdout",
     "output_type": "stream",
     "text": [
      "Epoch 19: Train Loss: 1.9965, Train Acc: 35.5061, Val Loss: 2.1522, Val Acc: 36.0677\n",
      "Epoch 18 - Best metrics: 36.067708333333336 - Keeping weights\n"
     ]
    },
    {
     "name": "stderr",
     "output_type": "stream",
     "text": [
      "Epoch 20/100: 100%|██████████| 7/7 [00:41<00:00,  5.87s/it]\n"
     ]
    },
    {
     "name": "stdout",
     "output_type": "stream",
     "text": [
      "Epoch 20: Train Loss: 1.9627, Train Acc: 37.4049, Val Loss: 2.1276, Val Acc: 36.7188\n",
      "Epoch 19 - Best metrics: 36.71875 - Keeping weights\n"
     ]
    },
    {
     "name": "stderr",
     "output_type": "stream",
     "text": [
      "Epoch 21/100: 100%|██████████| 7/7 [00:40<00:00,  5.85s/it]\n"
     ]
    },
    {
     "name": "stdout",
     "output_type": "stream",
     "text": [
      "Epoch 21: Train Loss: 1.9335, Train Acc: 38.0802, Val Loss: 2.0985, Val Acc: 37.7604\n",
      "Epoch 20 - Best metrics: 37.760416666666664 - Keeping weights\n"
     ]
    },
    {
     "name": "stderr",
     "output_type": "stream",
     "text": [
      "Epoch 22/100: 100%|██████████| 7/7 [00:41<00:00,  5.92s/it]\n"
     ]
    },
    {
     "name": "stdout",
     "output_type": "stream",
     "text": [
      "Epoch 22: Train Loss: 1.8920, Train Acc: 39.0628, Val Loss: 2.0730, Val Acc: 40.3646\n",
      "Epoch 21 - Best metrics: 40.364583333333336 - Keeping weights\n"
     ]
    },
    {
     "name": "stderr",
     "output_type": "stream",
     "text": [
      "Epoch 23/100: 100%|██████████| 7/7 [00:41<00:00,  5.94s/it]\n"
     ]
    },
    {
     "name": "stdout",
     "output_type": "stream",
     "text": [
      "Epoch 23: Train Loss: 1.8644, Train Acc: 40.1068, Val Loss: 2.0450, Val Acc: 40.1042\n",
      "Epoch 22 - Metrics did not improve, wait: 1\n"
     ]
    },
    {
     "name": "stderr",
     "output_type": "stream",
     "text": [
      "Epoch 24/100:  71%|███████▏  | 5/7 [00:36<00:14,  7.33s/it]\n"
     ]
    },
    {
     "ename": "KeyboardInterrupt",
     "evalue": "",
     "output_type": "error",
     "traceback": [
      "\u001b[1;31m---------------------------------------------------------------------------\u001b[0m",
      "\u001b[1;31mKeyboardInterrupt\u001b[0m                         Traceback (most recent call last)",
      "Cell \u001b[1;32mIn[19], line 32\u001b[0m\n\u001b[0;32m     28\u001b[0m val_loader \u001b[38;5;241m=\u001b[39m DataLoader(dataset_val, batch_size\u001b[38;5;241m=\u001b[39mhyperparam[\u001b[38;5;124m'\u001b[39m\u001b[38;5;124mbatch_size\u001b[39m\u001b[38;5;124m'\u001b[39m], shuffle\u001b[38;5;241m=\u001b[39m\u001b[38;5;28;01mFalse\u001b[39;00m)\n\u001b[0;32m     30\u001b[0m trainer \u001b[38;5;241m=\u001b[39m AudioTrainer(model, train_loader, val_loader, hyperparam, device\u001b[38;5;241m=\u001b[39mdevice)\n\u001b[1;32m---> 32\u001b[0m train_accuracy_list, valid_accuracy_list \u001b[38;5;241m=\u001b[39m \u001b[43mtrainer\u001b[49m\u001b[38;5;241;43m.\u001b[39;49m\u001b[43mtrain\u001b[49m\u001b[43m(\u001b[49m\u001b[43m)\u001b[49m\n\u001b[0;32m     33\u001b[0m metric_list\u001b[38;5;241m.\u001b[39mappend(valid_accuracy_list[\u001b[38;5;241m-\u001b[39m\u001b[38;5;241m1\u001b[39m])\n\u001b[0;32m     34\u001b[0m hyperparam[\u001b[38;5;124m'\u001b[39m\u001b[38;5;124mval_accuracy\u001b[39m\u001b[38;5;124m'\u001b[39m] \u001b[38;5;241m=\u001b[39m valid_accuracy_list[\u001b[38;5;241m-\u001b[39m\u001b[38;5;241m1\u001b[39m]\n",
      "File \u001b[1;32mc:\\Users\\Lorena\\Documents\\Uni\\25 SoSe\\Deep Learning\\Deep-Learning-UTokyo\\ClassesML\\AudioTrainer.py:67\u001b[0m, in \u001b[0;36mAudioTrainer.train\u001b[1;34m(self)\u001b[0m\n\u001b[0;32m     64\u001b[0m loss \u001b[38;5;241m=\u001b[39m \u001b[38;5;28mself\u001b[39m\u001b[38;5;241m.\u001b[39mcriterion(y_hat, y)\n\u001b[0;32m     66\u001b[0m \u001b[38;5;66;03m# Backward\u001b[39;00m\n\u001b[1;32m---> 67\u001b[0m \u001b[43mloss\u001b[49m\u001b[38;5;241;43m.\u001b[39;49m\u001b[43mbackward\u001b[49m\u001b[43m(\u001b[49m\u001b[43m)\u001b[49m\n\u001b[0;32m     68\u001b[0m \u001b[38;5;28mself\u001b[39m\u001b[38;5;241m.\u001b[39moptimizer\u001b[38;5;241m.\u001b[39mstep()\n\u001b[0;32m     70\u001b[0m \u001b[38;5;66;03m# TO-DO: Decide how to compute loss\u001b[39;00m\n",
      "File \u001b[1;32mc:\\Users\\Lorena\\.conda\\envs\\CML\\Lib\\site-packages\\torch\\_tensor.py:522\u001b[0m, in \u001b[0;36mTensor.backward\u001b[1;34m(self, gradient, retain_graph, create_graph, inputs)\u001b[0m\n\u001b[0;32m    512\u001b[0m \u001b[38;5;28;01mif\u001b[39;00m has_torch_function_unary(\u001b[38;5;28mself\u001b[39m):\n\u001b[0;32m    513\u001b[0m     \u001b[38;5;28;01mreturn\u001b[39;00m handle_torch_function(\n\u001b[0;32m    514\u001b[0m         Tensor\u001b[38;5;241m.\u001b[39mbackward,\n\u001b[0;32m    515\u001b[0m         (\u001b[38;5;28mself\u001b[39m,),\n\u001b[1;32m   (...)\u001b[0m\n\u001b[0;32m    520\u001b[0m         inputs\u001b[38;5;241m=\u001b[39minputs,\n\u001b[0;32m    521\u001b[0m     )\n\u001b[1;32m--> 522\u001b[0m \u001b[43mtorch\u001b[49m\u001b[38;5;241;43m.\u001b[39;49m\u001b[43mautograd\u001b[49m\u001b[38;5;241;43m.\u001b[39;49m\u001b[43mbackward\u001b[49m\u001b[43m(\u001b[49m\n\u001b[0;32m    523\u001b[0m \u001b[43m    \u001b[49m\u001b[38;5;28;43mself\u001b[39;49m\u001b[43m,\u001b[49m\u001b[43m \u001b[49m\u001b[43mgradient\u001b[49m\u001b[43m,\u001b[49m\u001b[43m \u001b[49m\u001b[43mretain_graph\u001b[49m\u001b[43m,\u001b[49m\u001b[43m \u001b[49m\u001b[43mcreate_graph\u001b[49m\u001b[43m,\u001b[49m\u001b[43m \u001b[49m\u001b[43minputs\u001b[49m\u001b[38;5;241;43m=\u001b[39;49m\u001b[43minputs\u001b[49m\n\u001b[0;32m    524\u001b[0m \u001b[43m\u001b[49m\u001b[43m)\u001b[49m\n",
      "File \u001b[1;32mc:\\Users\\Lorena\\.conda\\envs\\CML\\Lib\\site-packages\\torch\\autograd\\__init__.py:266\u001b[0m, in \u001b[0;36mbackward\u001b[1;34m(tensors, grad_tensors, retain_graph, create_graph, grad_variables, inputs)\u001b[0m\n\u001b[0;32m    261\u001b[0m     retain_graph \u001b[38;5;241m=\u001b[39m create_graph\n\u001b[0;32m    263\u001b[0m \u001b[38;5;66;03m# The reason we repeat the same comment below is that\u001b[39;00m\n\u001b[0;32m    264\u001b[0m \u001b[38;5;66;03m# some Python versions print out the first line of a multi-line function\u001b[39;00m\n\u001b[0;32m    265\u001b[0m \u001b[38;5;66;03m# calls in the traceback and some print out the last line\u001b[39;00m\n\u001b[1;32m--> 266\u001b[0m \u001b[43mVariable\u001b[49m\u001b[38;5;241;43m.\u001b[39;49m\u001b[43m_execution_engine\u001b[49m\u001b[38;5;241;43m.\u001b[39;49m\u001b[43mrun_backward\u001b[49m\u001b[43m(\u001b[49m\u001b[43m  \u001b[49m\u001b[38;5;66;43;03m# Calls into the C++ engine to run the backward pass\u001b[39;49;00m\n\u001b[0;32m    267\u001b[0m \u001b[43m    \u001b[49m\u001b[43mtensors\u001b[49m\u001b[43m,\u001b[49m\n\u001b[0;32m    268\u001b[0m \u001b[43m    \u001b[49m\u001b[43mgrad_tensors_\u001b[49m\u001b[43m,\u001b[49m\n\u001b[0;32m    269\u001b[0m \u001b[43m    \u001b[49m\u001b[43mretain_graph\u001b[49m\u001b[43m,\u001b[49m\n\u001b[0;32m    270\u001b[0m \u001b[43m    \u001b[49m\u001b[43mcreate_graph\u001b[49m\u001b[43m,\u001b[49m\n\u001b[0;32m    271\u001b[0m \u001b[43m    \u001b[49m\u001b[43minputs\u001b[49m\u001b[43m,\u001b[49m\n\u001b[0;32m    272\u001b[0m \u001b[43m    \u001b[49m\u001b[43mallow_unreachable\u001b[49m\u001b[38;5;241;43m=\u001b[39;49m\u001b[38;5;28;43;01mTrue\u001b[39;49;00m\u001b[43m,\u001b[49m\n\u001b[0;32m    273\u001b[0m \u001b[43m    \u001b[49m\u001b[43maccumulate_grad\u001b[49m\u001b[38;5;241;43m=\u001b[39;49m\u001b[38;5;28;43;01mTrue\u001b[39;49;00m\u001b[43m,\u001b[49m\n\u001b[0;32m    274\u001b[0m \u001b[43m\u001b[49m\u001b[43m)\u001b[49m\n",
      "\u001b[1;31mKeyboardInterrupt\u001b[0m: "
     ]
    }
   ],
   "source": [
    "from sklearn.model_selection import ParameterSampler\n",
    "import pandas as pd\n",
    "from ClassesML.AudioTrainer import AudioTrainer\n",
    "from ClassesML.AudioModel import AudioModel\n",
    "\n",
    "hyperparameter_choices = {}\n",
    "for k in hyperparameters.keys():\n",
    "    hyperparameter_choices[k] = [hyperparameters[k]]\n",
    "\n",
    "hyperparameter_choices['learning_rate'] = [0.005, 0.001]\n",
    "hyperparameter_choices['batch_size'] = [64, 128, 256]\n",
    "hyperparameter_choices['max_epoch'] = [100]\n",
    "hyperparameter_choices['hidden_layers_size']=[1000, 5000]\n",
    "hyperparameter_choices['patience_lr'] = [5, 10, 15]\n",
    "hyperparameter_choices['momentum'] = [0.9, 0.95, 0.85]\n",
    "hyperparameter_choices['weight_decay'] = [0.001, 0.002]\n",
    "\n",
    "\n",
    "hyperparameter_try = list(ParameterSampler(hyperparameter_choices, n_iter=20))\n",
    "\n",
    "metric_list = []\n",
    "\n",
    "for hyperparam in hyperparameter_try:\n",
    "\n",
    "    model = AudioModel(hyperparam).to(device)\n",
    "    \n",
    "    train_loader = DataLoader(dataset_train, batch_size=hyperparam['batch_size'], shuffle=True)\n",
    "    val_loader = DataLoader(dataset_val, batch_size=hyperparam['batch_size'], shuffle=False)\n",
    "\n",
    "    trainer = AudioTrainer(model, train_loader, val_loader, hyperparam, device=device)\n",
    "\n",
    "    train_accuracy_list, valid_accuracy_list = trainer.train()\n",
    "    metric_list.append(valid_accuracy_list[-1])\n",
    "    hyperparam['val_accuracy'] = valid_accuracy_list[-1]\n",
    "    hyperparam['train_accuracy'] = train_accuracy_list[-1]\n",
    "\n",
    "idx = np.argsort(metric_list)\n",
    "hyperparameter_sorted = np.array(hyperparameter_try)[idx].tolist()\n",
    "df = pd.DataFrame.from_dict(hyperparameter_sorted)"
   ]
  },
  {
   "cell_type": "code",
   "execution_count": null,
   "id": "ca677dc0",
   "metadata": {},
   "outputs": [
    {
     "name": "stdout",
     "output_type": "stream",
     "text": [
      "+----+----------------+------------------+------------------+---------------+--------------+------------+------------+-------------+-----------------+--------------------+--------------------+-------------+----------------------+-----------+------------------+----------------+--------------+-----------------------+--------------+----------------+------------------+\n",
      "|    |   weight_decay | stride_pool      | stride_conv      |   patience_lr |   output_dim | nesterov   |   momentum |   max_epoch |   learning_rate | kernel_size_pool   | kernel_size_conv   |   input_dim |   hidden_layers_size | filters   | early_stopping   |   dropout_rate |   batch_size | batch_normalization   | activation   |   val_accuracy |   train_accuracy |\n",
      "|----+----------------+------------------+------------------+---------------+--------------+------------+------------+-------------+-----------------+--------------------+--------------------+-------------+----------------------+-----------+------------------+----------------+--------------+-----------------------+--------------+----------------+------------------|\n",
      "|  0 |          0.001 | [(1, 3), (1, 3)] | [(1, 1), (1, 1)] |             5 |           13 | True       |       0.85 |         100 |           0.001 | [(4, 3), (1, 3)]   | [(57, 6), (1, 3)]  |           2 |                 5000 | [80, 80]  | False            |            0.5 |          256 | False                 | relu         |        32.2917 |          34.1577 |\n",
      "|  1 |          0.002 | [(1, 3), (1, 3)] | [(1, 1), (1, 1)] |            15 |           13 | True       |       0.85 |         100 |           0.001 | [(4, 3), (1, 3)]   | [(57, 6), (1, 3)]  |           2 |                 5000 | [80, 80]  | False            |            0.5 |          256 | False                 | relu         |        71.875  |          71.4404 |\n",
      "|  2 |          0.001 | [(1, 3), (1, 3)] | [(1, 1), (1, 1)] |            15 |           13 | True       |       0.9  |         100 |           0.001 | [(4, 3), (1, 3)]   | [(57, 6), (1, 3)]  |           2 |                 5000 | [80, 80]  | False            |            0.5 |          256 | False                 | relu         |        74.0885 |          77.5011 |\n",
      "|  3 |          0.001 | [(1, 3), (1, 3)] | [(1, 1), (1, 1)] |            10 |           13 | True       |       0.85 |         100 |           0.005 | [(4, 3), (1, 3)]   | [(57, 6), (1, 3)]  |           2 |                 5000 | [80, 80]  | False            |            0.5 |          256 | False                 | relu         |        85.2865 |          96.7959 |\n",
      "|  4 |          0.001 | [(1, 3), (1, 3)] | [(1, 1), (1, 1)] |            10 |           13 | True       |       0.95 |         100 |           0.005 | [(4, 3), (1, 3)]   | [(57, 6), (1, 3)]  |           2 |                 1000 | [80, 80]  | False            |            0.5 |          256 | False                 | relu         |        86.0677 |          98.7886 |\n",
      "|  5 |          0.002 | [(1, 3), (1, 3)] | [(1, 1), (1, 1)] |             5 |           13 | True       |       0.95 |         100 |           0.001 | [(4, 3), (1, 3)]   | [(57, 6), (1, 3)]  |           2 |                 5000 | [80, 80]  | False            |            0.5 |          128 | False                 | relu         |        86.875  |          97.3717 |\n",
      "|  6 |          0.002 | [(1, 3), (1, 3)] | [(1, 1), (1, 1)] |            15 |           13 | True       |       0.9  |         100 |           0.005 | [(4, 3), (1, 3)]   | [(57, 6), (1, 3)]  |           2 |                 5000 | [80, 80]  | False            |            0.5 |          256 | False                 | relu         |        86.9792 |          99.2188 |\n",
      "|  7 |          0.002 | [(1, 3), (1, 3)] | [(1, 1), (1, 1)] |            10 |           13 | True       |       0.95 |         100 |           0.005 | [(4, 3), (1, 3)]   | [(57, 6), (1, 3)]  |           2 |                 5000 | [80, 80]  | False            |            0.5 |          128 | False                 | relu         |        87.8125 |          99.3862 |\n",
      "|  8 |          0.002 | [(1, 3), (1, 3)] | [(1, 1), (1, 1)] |             5 |           13 | True       |       0.9  |         100 |           0.005 | [(4, 3), (1, 3)]   | [(57, 6), (1, 3)]  |           2 |                 5000 | [80, 80]  | False            |            0.5 |          128 | False                 | relu         |        87.9688 |          99.6094 |\n",
      "|  9 |          0.001 | [(1, 3), (1, 3)] | [(1, 1), (1, 1)] |             5 |           13 | True       |       0.9  |         100 |           0.005 | [(4, 3), (1, 3)]   | [(57, 6), (1, 3)]  |           2 |                 1000 | [80, 80]  | False            |            0.5 |          128 | False                 | relu         |        88.125  |          98.873  |\n",
      "| 10 |          0.002 | [(1, 3), (1, 3)] | [(1, 1), (1, 1)] |             5 |           13 | True       |       0.85 |         100 |           0.005 | [(4, 3), (1, 3)]   | [(57, 6), (1, 3)]  |           2 |                 5000 | [80, 80]  | False            |            0.5 |          128 | False                 | relu         |        88.5938 |          99.4365 |\n",
      "| 11 |          0.002 | [(1, 3), (1, 3)] | [(1, 1), (1, 1)] |             5 |           13 | True       |       0.95 |         100 |           0.005 | [(4, 3), (1, 3)]   | [(57, 6), (1, 3)]  |           2 |                 5000 | [80, 80]  | False            |            0.5 |           64 | False                 | relu         |        88.7153 |          99.8814 |\n",
      "| 12 |          0.001 | [(1, 3), (1, 3)] | [(1, 1), (1, 1)] |            10 |           13 | True       |       0.85 |         100 |           0.005 | [(4, 3), (1, 3)]   | [(57, 6), (1, 3)]  |           2 |                 5000 | [80, 80]  | False            |            0.5 |           64 | False                 | relu         |        90.1042 |          99.6499 |\n",
      "+----+----------------+------------------+------------------+---------------+--------------+------------+------------+-------------+-----------------+--------------------+--------------------+-------------+----------------------+-----------+------------------+----------------+--------------+-----------------------+--------------+----------------+------------------+\n"
     ]
    },
    {
     "ename": "",
     "evalue": "",
     "output_type": "error",
     "traceback": [
      "\u001b[1;31mThe Kernel crashed while executing code in the current cell or a previous cell. \n",
      "\u001b[1;31mPlease review the code in the cell(s) to identify a possible cause of the failure. \n",
      "\u001b[1;31mClick <a href='https://aka.ms/vscodeJupyterKernelCrash'>here</a> for more info. \n",
      "\u001b[1;31mView Jupyter <a href='command:jupyter.viewOutput'>log</a> for further details."
     ]
    }
   ],
   "source": [
    "from tabulate import tabulate\n",
    "\n",
    "idx = np.argsort(metric_list)\n",
    "hyperparameter_sorted = np.array(hyperparameter_try)[idx].tolist()\n",
    "df = pd.DataFrame.from_dict(hyperparameter_sorted)\n",
    "\n",
    "print(tabulate(df, headers='keys', tablefmt='psql'))"
   ]
  },
  {
   "cell_type": "code",
   "execution_count": null,
   "id": "22b4a5bd",
   "metadata": {},
   "outputs": [],
   "source": [
    "hyperparameter_final = dict(\n",
    "    input_dim=input_dim,\n",
    "    output_dim=n_classes,\n",
    "    hidden_layers_size=5000,\n",
    "    activation='relu',\n",
    "    kernel_size_conv=[(57, 6), (1, 3)],\n",
    "    kernel_size_pool=[(4, 3), (1, 3)],\n",
    "    stride_conv=[(1, 1), (1, 1)],\n",
    "    stride_pool=[(1, 3), (1, 3)],\n",
    "    filters=[80, 80],\n",
    "    batch_normalization=False,\n",
    "    dropout_rate=0.5,\n",
    "    # trainer hyperparameters\n",
    "    learning_rate=0.005,\n",
    "    weight_decay=0.001,\n",
    "    momentum=0.85,\n",
    "    nesterov=True,\n",
    "\n",
    "    # questionable hyperparameters\n",
    "    #batch_size=batch_size,\n",
    "    max_epoch=100,\n",
    "\n",
    "    #Early stopping and sceduler\n",
    "    patience_lr=10,\n",
    "    # here it said was false, but??\n",
    "    early_stopping=True,\n",
    "    batch_size=64\n",
    ")"
   ]
  },
  {
   "cell_type": "code",
   "execution_count": 25,
   "id": "9e69f694",
   "metadata": {},
   "outputs": [],
   "source": [
    "from ClassesML.AudioModel import AudioModel\n",
    "model_final = AudioModel(hyperparameter_final).to(device)"
   ]
  },
  {
   "cell_type": "code",
   "execution_count": 26,
   "id": "ab440171",
   "metadata": {},
   "outputs": [],
   "source": [
    "import torch.nn.functional as F\n",
    "def predict_clip(model, segment_tensors, device, method='prob'):\n",
    "    \"\"\"\n",
    "    Generate prediction for a whole clip given its segments.\n",
    "    \n",
    "    segment_tensors: tensor of shape (n_segments, channels, mel_bands, frames)\n",
    "    method: 'majority' or 'prob'\n",
    "    \"\"\"\n",
    "    model.eval()\n",
    "    segment_tensors = segment_tensors.to(device)\n",
    "    with torch.no_grad():\n",
    "        outputs = model(segment_tensors)  # (n_segments, num_classes)\n",
    "        probs = F.softmax(outputs, dim=1)\n",
    "\n",
    "    if method == 'majority':\n",
    "        preds = torch.argmax(probs, dim=1)\n",
    "        counts = torch.bincount(preds)\n",
    "        clip_pred = torch.argmax(counts).item()\n",
    "    elif method == 'prob':\n",
    "        avg_probs = probs.mean(dim=0)\n",
    "        clip_pred = torch.argmax(avg_probs).item()\n",
    "    else:\n",
    "        raise ValueError(\"method must be 'majority' or 'prob'\")\n",
    "\n",
    "    return clip_pred\n"
   ]
  },
  {
   "cell_type": "code",
   "execution_count": 27,
   "id": "fd1b118c",
   "metadata": {},
   "outputs": [
    {
     "name": "stderr",
     "output_type": "stream",
     "text": [
      "Epoch 1/2:   0%|          | 0/19 [00:00<?, ?it/s]"
     ]
    },
    {
     "name": "stderr",
     "output_type": "stream",
     "text": [
      "Epoch 1/2: 100%|██████████| 19/19 [02:10<00:00,  6.87s/it]\n"
     ]
    },
    {
     "name": "stdout",
     "output_type": "stream",
     "text": [
      "Epoch 1: Train Loss: 2.4909, Train Acc: 17.2626, Val Loss: 2.4540, Val Acc: 33.2366\n"
     ]
    },
    {
     "name": "stderr",
     "output_type": "stream",
     "text": [
      "Epoch 2/2: 100%|██████████| 19/19 [02:34<00:00,  8.13s/it]\n"
     ]
    },
    {
     "name": "stdout",
     "output_type": "stream",
     "text": [
      "Epoch 2: Train Loss: 2.3631, Train Acc: 29.9610, Val Loss: 2.3919, Val Acc: 33.1830\n"
     ]
    },
    {
     "data": {
      "text/plain": [
       "([17.26258581235698, 29.961026887871856],\n",
       " [33.236607142857146, 33.183035714285715])"
      ]
     },
     "execution_count": 27,
     "metadata": {},
     "output_type": "execute_result"
    }
   ],
   "source": [
    "from ClassesML.AudioTrainer import AudioTrainer\n",
    "trainer_final = AudioTrainer(model_final, train_loader, val_loader, hyperparameter_final, device=device)\n",
    "trainer_final.train()"
   ]
  },
  {
   "cell_type": "markdown",
   "id": "e73ddd17",
   "metadata": {},
   "source": [
    "### Evaluate the model using the 5-fold cross validation"
   ]
  },
  {
   "cell_type": "code",
   "execution_count": 28,
   "id": "47376604",
   "metadata": {},
   "outputs": [],
   "source": [
    "import warnings\n",
    "def extract_segments_with_deltas(file_path, variant='short', silence_threshold=-80):\n",
    "    \"\"\"\n",
    "    Extracts 2-channel (log-mel + delta) spectrogram segments from an audio file.\n",
    "\n",
    "    Parameters:\n",
    "    - file_path (str): Path to audio file.\n",
    "    - variant (str): 'short' (41 frames, 50% overlap) or 'long' (101 frames, 90% overlap).\n",
    "    - silence_threshold (float): dB threshold for discarding low-energy segments.\n",
    "\n",
    "    Returns:\n",
    "    - np.ndarray: Array of shape (n_segments, 2, 60, frames_per_segment)\n",
    "    \"\"\"\n",
    "    # Config\n",
    "    sr = 22050\n",
    "    n_fft = 1024\n",
    "    hop_length = 512\n",
    "    n_mels = 60\n",
    "\n",
    "    if variant == 'short':\n",
    "        frames_per_segment = 41\n",
    "        overlap = 0.5\n",
    "    elif variant == 'long':\n",
    "        frames_per_segment = 101\n",
    "        overlap = 0.9\n",
    "    else:\n",
    "        raise ValueError(\"variant must be 'short' or 'long'\")\n",
    "\n",
    "    try:\n",
    "        # Load audio in mono\n",
    "        y, _ = librosa.load(file_path, sr=sr, mono=True)\n",
    "\n",
    "        # Skip empty or very short files\n",
    "        if len(y) < n_fft:\n",
    "            warnings.warn(f\"File too short to process: {file_path}\")\n",
    "            return np.empty((0, 2, 60, frames_per_segment))\n",
    "\n",
    "        # Compute log-mel spectrogram\n",
    "        mel_spec = librosa.feature.melspectrogram(\n",
    "            y=y,\n",
    "            sr=sr,\n",
    "            n_fft=n_fft,\n",
    "            hop_length=hop_length,\n",
    "            n_mels=n_mels\n",
    "        )\n",
    "        log_mel_spec = librosa.power_to_db(mel_spec, ref=np.max)\n",
    "\n",
    "        # Normalize safely\n",
    "        mean = np.mean(log_mel_spec)\n",
    "        std = np.std(log_mel_spec)\n",
    "        if std == 0:\n",
    "            warnings.warn(f\"Zero std encountered in file: {file_path}\")\n",
    "            return np.empty((0, 2, 60, frames_per_segment))\n",
    "\n",
    "        log_mel_spec = (log_mel_spec - mean) / std\n",
    "\n",
    "        # Compute deltas\n",
    "        delta_spec = librosa.feature.delta(log_mel_spec)\n",
    "\n",
    "        # Segmenting\n",
    "        step = int(frames_per_segment * (1 - overlap))\n",
    "        segments = []\n",
    "\n",
    "        for start in range(0, log_mel_spec.shape[1] - frames_per_segment + 1, step):\n",
    "            seg = log_mel_spec[:, start:start + frames_per_segment]\n",
    "            delta = delta_spec[:, start:start + frames_per_segment]\n",
    "\n",
    "            # Skip silent segments\n",
    "            if np.mean(seg) < silence_threshold:\n",
    "                continue\n",
    "\n",
    "            stacked = np.stack([seg, delta], axis=0)\n",
    "            segments.append(stacked)\n",
    "\n",
    "        return np.stack(segments) if segments else np.empty((0, 2, 60, frames_per_segment))\n",
    "\n",
    "    except Exception as e:\n",
    "        warnings.warn(f\"Failed to process {file_path}: {e}\")\n",
    "        return np.empty((0, 2, 60, frames_per_segment))"
   ]
  },
  {
   "cell_type": "code",
   "execution_count": 18,
   "id": "3ff9fdfb",
   "metadata": {},
   "outputs": [
    {
     "name": "stdout",
     "output_type": "stream",
     "text": [
      "Fold 1\n",
      "Train/Val samples: 325\n",
      "Test samples: 325\n",
      "Classes found: ['bear', 'cat', 'chicken', 'cow', 'dog', 'dolphin', 'donkey', 'elephant', 'frog', 'horse', 'lion', 'monkey', 'sheep']\n",
      "Total segments extracted: 1442\n",
      "train set contains 1081 segments.\n",
      "Classes found: ['bear', 'cat', 'chicken', 'cow', 'dog', 'dolphin', 'donkey', 'elephant', 'frog', 'horse', 'lion', 'monkey', 'sheep']\n",
      "Total segments extracted: 1442\n",
      "val set contains 361 segments.\n"
     ]
    },
    {
     "name": "stderr",
     "output_type": "stream",
     "text": [
      "Epoch 1/2: 100%|██████████| 9/9 [00:59<00:00,  6.56s/it]\n"
     ]
    },
    {
     "name": "stdout",
     "output_type": "stream",
     "text": [
      "Epoch 1: Train Loss: 1.7755, Train Acc: 43.9998, Val Loss: 1.9040, Val Acc: 48.0184\n"
     ]
    },
    {
     "name": "stderr",
     "output_type": "stream",
     "text": [
      "Epoch 2/2: 100%|██████████| 9/9 [00:45<00:00,  5.05s/it]\n"
     ]
    },
    {
     "name": "stdout",
     "output_type": "stream",
     "text": [
      "Epoch 2: Train Loss: 1.6610, Train Acc: 46.9740, Val Loss: 1.8662, Val Acc: 44.1443\n",
      "Model saved to model_fold_1.pth\n",
      "\n",
      "Fold 1 - Test Accuracy: 23.0769\n",
      "\n",
      "Fold 2\n",
      "Train/Val samples: 325\n",
      "Test samples: 325\n",
      "Classes found: ['bear', 'cat', 'chicken', 'cow', 'dog', 'dolphin', 'donkey', 'elephant', 'frog', 'horse', 'lion', 'monkey', 'sheep']\n",
      "Total segments extracted: 1467\n",
      "train set contains 1100 segments.\n",
      "Classes found: ['bear', 'cat', 'chicken', 'cow', 'dog', 'dolphin', 'donkey', 'elephant', 'frog', 'horse', 'lion', 'monkey', 'sheep']\n",
      "Total segments extracted: 1467\n",
      "val set contains 367 segments.\n"
     ]
    },
    {
     "name": "stderr",
     "output_type": "stream",
     "text": [
      "Epoch 1/2: 100%|██████████| 9/9 [00:44<00:00,  4.94s/it]\n"
     ]
    },
    {
     "name": "stdout",
     "output_type": "stream",
     "text": [
      "Epoch 1: Train Loss: 1.6520, Train Acc: 47.3821, Val Loss: 1.7642, Val Acc: 54.4154\n"
     ]
    },
    {
     "name": "stderr",
     "output_type": "stream",
     "text": [
      "Epoch 2/2: 100%|██████████| 9/9 [00:43<00:00,  4.79s/it]\n"
     ]
    },
    {
     "name": "stdout",
     "output_type": "stream",
     "text": [
      "Epoch 2: Train Loss: 1.5254, Train Acc: 51.5716, Val Loss: 1.6895, Val Acc: 56.9984\n",
      "Model saved to model_fold_2.pth\n",
      "\n",
      "Fold 2 - Test Accuracy: 32.3077\n",
      "\n"
     ]
    },
    {
     "name": "stderr",
     "output_type": "stream",
     "text": [
      "c:\\Users\\Lorena\\.conda\\envs\\CML\\Lib\\site-packages\\torch\\nn\\modules\\lazy.py:181: UserWarning: Lazy modules are a new feature under heavy development so changes to the API or functionality can happen at any moment.\n",
      "  warnings.warn('Lazy modules are a new feature under heavy development '\n"
     ]
    },
    {
     "name": "stdout",
     "output_type": "stream",
     "text": [
      "Total segments extracted: 2301\n",
      "val set contains 576 segments.\n"
     ]
    },
    {
     "name": "stderr",
     "output_type": "stream",
     "text": [
      "Epoch 1/2: 100%|██████████| 14/14 [00:59<00:00,  4.22s/it]\n"
     ]
    },
    {
     "name": "stdout",
     "output_type": "stream",
     "text": [
      "Epoch 1: Train Loss: 2.2818, Train Acc: 30.2611, Val Loss: 2.3417, Val Acc: 28.4375\n",
      "Epoch 0 - Keeping weights\n"
     ]
    },
    {
     "name": "stderr",
     "output_type": "stream",
     "text": [
      "Epoch 2/2:   0%|          | 0/14 [00:03<?, ?it/s]\n"
     ]
    },
    {
     "ename": "KeyboardInterrupt",
     "evalue": "",
     "output_type": "error",
     "traceback": [
      "\u001b[1;31m---------------------------------------------------------------------------\u001b[0m",
      "\u001b[1;31mKeyboardInterrupt\u001b[0m                         Traceback (most recent call last)",
      "Cell \u001b[1;32mIn[18], line 27\u001b[0m\n\u001b[0;32m     25\u001b[0m model_final \u001b[38;5;241m=\u001b[39m AudioModel(hyperparameter_final)\u001b[38;5;241m.\u001b[39mto(device)\n\u001b[0;32m     26\u001b[0m trainer_final \u001b[38;5;241m=\u001b[39m AudioTrainer(model, train_loader, val_loader, hyperparameter_final, device\u001b[38;5;241m=\u001b[39mdevice)\n\u001b[1;32m---> 27\u001b[0m \u001b[43mtrainer_final\u001b[49m\u001b[38;5;241;43m.\u001b[39;49m\u001b[43mtrain\u001b[49m\u001b[43m(\u001b[49m\u001b[43m)\u001b[49m\n\u001b[0;32m     28\u001b[0m \u001b[38;5;66;03m# Save the model for this fold\u001b[39;00m\n\u001b[0;32m     29\u001b[0m model_save_path \u001b[38;5;241m=\u001b[39m \u001b[38;5;124mf\u001b[39m\u001b[38;5;124m'\u001b[39m\u001b[38;5;124mmodel_fold_\u001b[39m\u001b[38;5;132;01m{\u001b[39;00mfold\u001b[38;5;250m \u001b[39m\u001b[38;5;241m+\u001b[39m\u001b[38;5;250m \u001b[39m\u001b[38;5;241m1\u001b[39m\u001b[38;5;132;01m}\u001b[39;00m\u001b[38;5;124m.pth\u001b[39m\u001b[38;5;124m'\u001b[39m\n",
      "File \u001b[1;32mc:\\Users\\Lorena\\Documents\\Uni\\25 SoSe\\Deep Learning\\Deep-Learning-UTokyo\\ClassesML\\AudioTrainer.py:67\u001b[0m, in \u001b[0;36mAudioTrainer.train\u001b[1;34m(self)\u001b[0m\n\u001b[0;32m     64\u001b[0m loss \u001b[38;5;241m=\u001b[39m \u001b[38;5;28mself\u001b[39m\u001b[38;5;241m.\u001b[39mcriterion(y_hat, y)\n\u001b[0;32m     66\u001b[0m \u001b[38;5;66;03m# Backward\u001b[39;00m\n\u001b[1;32m---> 67\u001b[0m \u001b[43mloss\u001b[49m\u001b[38;5;241;43m.\u001b[39;49m\u001b[43mbackward\u001b[49m\u001b[43m(\u001b[49m\u001b[43m)\u001b[49m\n\u001b[0;32m     68\u001b[0m \u001b[38;5;28mself\u001b[39m\u001b[38;5;241m.\u001b[39moptimizer\u001b[38;5;241m.\u001b[39mstep()\n\u001b[0;32m     70\u001b[0m \u001b[38;5;66;03m# TO-DO: Decide how to compute loss\u001b[39;00m\n",
      "File \u001b[1;32mc:\\Users\\Lorena\\.conda\\envs\\CML\\Lib\\site-packages\\torch\\_tensor.py:522\u001b[0m, in \u001b[0;36mTensor.backward\u001b[1;34m(self, gradient, retain_graph, create_graph, inputs)\u001b[0m\n\u001b[0;32m    512\u001b[0m \u001b[38;5;28;01mif\u001b[39;00m has_torch_function_unary(\u001b[38;5;28mself\u001b[39m):\n\u001b[0;32m    513\u001b[0m     \u001b[38;5;28;01mreturn\u001b[39;00m handle_torch_function(\n\u001b[0;32m    514\u001b[0m         Tensor\u001b[38;5;241m.\u001b[39mbackward,\n\u001b[0;32m    515\u001b[0m         (\u001b[38;5;28mself\u001b[39m,),\n\u001b[1;32m   (...)\u001b[0m\n\u001b[0;32m    520\u001b[0m         inputs\u001b[38;5;241m=\u001b[39minputs,\n\u001b[0;32m    521\u001b[0m     )\n\u001b[1;32m--> 522\u001b[0m \u001b[43mtorch\u001b[49m\u001b[38;5;241;43m.\u001b[39;49m\u001b[43mautograd\u001b[49m\u001b[38;5;241;43m.\u001b[39;49m\u001b[43mbackward\u001b[49m\u001b[43m(\u001b[49m\n\u001b[0;32m    523\u001b[0m \u001b[43m    \u001b[49m\u001b[38;5;28;43mself\u001b[39;49m\u001b[43m,\u001b[49m\u001b[43m \u001b[49m\u001b[43mgradient\u001b[49m\u001b[43m,\u001b[49m\u001b[43m \u001b[49m\u001b[43mretain_graph\u001b[49m\u001b[43m,\u001b[49m\u001b[43m \u001b[49m\u001b[43mcreate_graph\u001b[49m\u001b[43m,\u001b[49m\u001b[43m \u001b[49m\u001b[43minputs\u001b[49m\u001b[38;5;241;43m=\u001b[39;49m\u001b[43minputs\u001b[49m\n\u001b[0;32m    524\u001b[0m \u001b[43m\u001b[49m\u001b[43m)\u001b[49m\n",
      "File \u001b[1;32mc:\\Users\\Lorena\\.conda\\envs\\CML\\Lib\\site-packages\\torch\\autograd\\__init__.py:266\u001b[0m, in \u001b[0;36mbackward\u001b[1;34m(tensors, grad_tensors, retain_graph, create_graph, grad_variables, inputs)\u001b[0m\n\u001b[0;32m    261\u001b[0m     retain_graph \u001b[38;5;241m=\u001b[39m create_graph\n\u001b[0;32m    263\u001b[0m \u001b[38;5;66;03m# The reason we repeat the same comment below is that\u001b[39;00m\n\u001b[0;32m    264\u001b[0m \u001b[38;5;66;03m# some Python versions print out the first line of a multi-line function\u001b[39;00m\n\u001b[0;32m    265\u001b[0m \u001b[38;5;66;03m# calls in the traceback and some print out the last line\u001b[39;00m\n\u001b[1;32m--> 266\u001b[0m \u001b[43mVariable\u001b[49m\u001b[38;5;241;43m.\u001b[39;49m\u001b[43m_execution_engine\u001b[49m\u001b[38;5;241;43m.\u001b[39;49m\u001b[43mrun_backward\u001b[49m\u001b[43m(\u001b[49m\u001b[43m  \u001b[49m\u001b[38;5;66;43;03m# Calls into the C++ engine to run the backward pass\u001b[39;49;00m\n\u001b[0;32m    267\u001b[0m \u001b[43m    \u001b[49m\u001b[43mtensors\u001b[49m\u001b[43m,\u001b[49m\n\u001b[0;32m    268\u001b[0m \u001b[43m    \u001b[49m\u001b[43mgrad_tensors_\u001b[49m\u001b[43m,\u001b[49m\n\u001b[0;32m    269\u001b[0m \u001b[43m    \u001b[49m\u001b[43mretain_graph\u001b[49m\u001b[43m,\u001b[49m\n\u001b[0;32m    270\u001b[0m \u001b[43m    \u001b[49m\u001b[43mcreate_graph\u001b[49m\u001b[43m,\u001b[49m\n\u001b[0;32m    271\u001b[0m \u001b[43m    \u001b[49m\u001b[43minputs\u001b[49m\u001b[43m,\u001b[49m\n\u001b[0;32m    272\u001b[0m \u001b[43m    \u001b[49m\u001b[43mallow_unreachable\u001b[49m\u001b[38;5;241;43m=\u001b[39;49m\u001b[38;5;28;43;01mTrue\u001b[39;49;00m\u001b[43m,\u001b[49m\n\u001b[0;32m    273\u001b[0m \u001b[43m    \u001b[49m\u001b[43maccumulate_grad\u001b[49m\u001b[38;5;241;43m=\u001b[39;49m\u001b[38;5;28;43;01mTrue\u001b[39;49;00m\u001b[43m,\u001b[49m\n\u001b[0;32m    274\u001b[0m \u001b[43m\u001b[49m\u001b[43m)\u001b[49m\n",
      "\u001b[1;31mKeyboardInterrupt\u001b[0m: "
     ]
    }
   ],
   "source": [
    "import pandas as pd\n",
    "from sklearn.model_selection import KFold\n",
    "\n",
    "# Load your dataset\n",
    "df = pd.read_csv('data/Animal_Sound_processed.csv')  # Update path if needed\n",
    "\n",
    "# Prepare 5-Fold cross-validator\n",
    "kf = KFold(n_splits=5, shuffle=True, random_state=42)\n",
    "accuracy_list = []\n",
    "val_loader_list = []\n",
    "train_accuracy_per_epoch_list = []\n",
    "val_accuracy_per_epoch_list = []\n",
    "\n",
    "\n",
    "\n",
    "\n",
    "for fold, (train_val_idx, val_idx) in enumerate(kf.split(df)):\n",
    "    df_train_val = df.iloc[train_val_idx].reset_index(drop=True)\n",
    "    df_test = df.iloc[val_idx].reset_index(drop=True)\n",
    "\n",
    "    print(f\"Fold {fold + 1}\")\n",
    "    print(f\"Train/Val samples: {len(df_train_val)}\")\n",
    "    print(f\"Test samples: {len(df_test)}\")\n",
    "\n",
    "    # Create datasets for this fold\n",
    "    dataset_train = AnimalSoundDataset(df_train_val, split='train', split_ratio=0.75, seed=42)\n",
    "    dataset_val = AnimalSoundDataset(df_train_val, split='val', split_ratio=0.75, seed=42)\n",
    "    train_loader = DataLoader(dataset_train, batch_size=batch_size, shuffle=True)\n",
    "    val_loader = DataLoader(dataset_val, batch_size=batch_size, shuffle=False)\n",
    "    val_loader_list.append(val_loader)\n",
    "\n",
    "    # Initialize model and trainer\n",
    "    model_final = AudioModel(hyperparameter_final).to(device)\n",
    "    trainer_final = AudioTrainer(model, train_loader, val_loader, hyperparameter_final, device=device)\n",
    "    train_acc_list, val_acc_list = trainer_final.train()\n",
    "    train_accuracy_per_epoch_list.append(train_acc_list)\n",
    "    val_accuracy_per_epoch_list.append(val_acc_list)\n",
    "    # Save the model for this fold\n",
    "    model_save_path = f'model_fold_{fold + 1}.pth'\n",
    "    torch.save(model.state_dict(), model_save_path)\n",
    "    print(f\"Model saved to {model_save_path}\\n\")\n",
    "\n",
    "    # Evaluate on test set\n",
    "    total_predictions = 0\n",
    "    correct_predictions = 0\n",
    "    for path, label in zip(df_test['path'], df_test['name']):\n",
    "\n",
    "        test_segments = extract_segments_with_deltas(path, variant='short')\n",
    "        predicted_sound = predict_clip(model, torch.tensor(test_segments, dtype=torch.float32).to(device), device, method='prob')\n",
    "        \n",
    "\n",
    "        predicted_label = dataset_train.classes[predicted_sound]\n",
    "        \n",
    "        if predicted_label == label:\n",
    "            correct_predictions += 1\n",
    "        total_predictions += 1\n",
    "    accuracy = correct_predictions / total_predictions * 100 if total_predictions > 0 else 0\n",
    "    accuracy_list.append(accuracy)\n",
    "    print(f\"Fold {fold + 1} - Test Accuracy: {accuracy:.4f}\\n\")\n",
    "\n",
    "\n",
    "        \n",
    "\n",
    "   "
   ]
  },
  {
   "cell_type": "code",
   "execution_count": 53,
   "id": "20ca4eb3",
   "metadata": {},
   "outputs": [],
   "source": [
    "max_accuracy_idx = accuracy_list.index(max(accuracy_list))\n",
    "max_val_loader = val_loader_list[max_accuracy_idx]\n",
    "max_train_acc_list = train_accuracy_per_epoch_list[max_accuracy_idx]\n",
    "max_val_acc_list = val_accuracy_per_epoch_list[max_accuracy_idx]"
   ]
  },
  {
   "cell_type": "code",
   "execution_count": 54,
   "id": "583579ba",
   "metadata": {},
   "outputs": [],
   "source": [
    "from sklearn.metrics import confusion_matrix\n",
    "from Utilities.Utilities import Utilities\n",
    "import seaborn as sns\n",
    "\n",
    "def plot_confusion_matrix_fashion(y, y_hat):\n",
    "    accuracy = Utilities.compute_accuracy(y, y_hat)\n",
    "\n",
    "    y_hat = np.argmax(y_hat, 1)\n",
    "\n",
    "    cm = confusion_matrix(y, y_hat)\n",
    "    cm_normalized = cm.astype(\"float\") / cm.sum(axis=1)[:, np.newaxis]\n",
    "\n",
    "    label_map = {0: 'bear', 1: 'cat', 2: 'chicken',\n",
    "                    3: 'cow', 4: 'dog', 5: 'dolphin',\n",
    "                    6: 'donkey', 7: 'elephant', 8: 'frog', 9: 'horse',\n",
    "                    10: 'lion', 11: 'monkey', 12: 'sheep'}\n",
    "    \n",
    "    plt.figure()\n",
    "    plt.subplot(1, 1, 1)\n",
    "    sns.heatmap(cm_normalized, annot=True, fmt=\".2f\", cmap=\"Blues\",\n",
    "                xticklabels=[label_map[i] for i in range(13)],\n",
    "                yticklabels=[label_map[i] for i in range(13)])\n",
    "    plt.xlabel(\"Predicted label\")\n",
    "    plt.ylabel(\"True label\")\n",
    "    plt.title(\"Confusion matrix - Accuracy: \" + str(accuracy))\n",
    "    plt.tight_layout()\n",
    "    return plt.show()\n",
    "\n",
    "x_list = []\n",
    "y_list = []\n",
    "\n",
    "for x_batch, y_batch in max_val_loader:\n",
    "    x_list.append(x_batch)\n",
    "    y_list.append(y_batch)\n",
    "\n",
    "x_all = torch.cat(x_list).to(device)\n",
    "y_all = torch.cat(y_list).to(device)\n",
    "\n",
    "# === Run model and evaluate ===\n",
    "with torch.no_grad():\n",
    "    y_hat = model(x_all)\n",
    "\n",
    "y_true = y_all.cpu().numpy()\n",
    "y_pred_logits = y_hat.cpu().numpy()\n",
    "\n",
    "# === Plot confusion matrix ===\n",
    "plot_confusion_matrix_fashion(y_true, y_pred_logits)"
   ]
  },
  {
   "cell_type": "code",
   "execution_count": 55,
   "id": "1c384fb0",
   "metadata": {},
   "outputs": [],
   "source": [
    "plt.figure()\n",
    "plt.plot(max_train_acc_list, 'b', label='Train accuracy')\n",
    "plt.plot(max_val_acc_list, 'r', label='Valid accuracy')\n",
    "plt.legend()\n",
    "plt.show()"
   ]
  }
 ],
 "metadata": {
  "kernelspec": {
   "display_name": "CML",
   "language": "python",
   "name": "python3"
  },
  "language_info": {
   "codemirror_mode": {
    "name": "ipython",
    "version": 3
   },
   "file_extension": ".py",
   "mimetype": "text/x-python",
   "name": "python",
   "nbconvert_exporter": "python",
   "pygments_lexer": "ipython3",
   "version": "3.11.11"
  }
 },
 "nbformat": 4,
 "nbformat_minor": 5
}

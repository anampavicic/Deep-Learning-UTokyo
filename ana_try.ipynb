{
  "cells": [
    {
      "cell_type": "code",
      "execution_count": 1,
      "id": "d2afcaba",
      "metadata": {
        "id": "d2afcaba"
      },
      "outputs": [],
      "source": [
        "import pandas as pd\n",
        "import numpy as np\n",
        "import matplotlib.pyplot as plt\n",
        "import os\n",
        "\n",
        "import torch\n",
        "import torch.nn as nn\n",
        "from torch.utils.data import DataLoader\n",
        "\n",
        "# Libraries for processing sounds\n",
        "import librosa\n",
        "from IPython.display import Audio\n",
        "import random"
      ]
    },
    {
      "cell_type": "code",
      "execution_count": 2,
      "id": "c987561e",
      "metadata": {
        "id": "c987561e"
      },
      "outputs": [],
      "source": [
        "device = torch.device(\"cuda\" if torch.cuda.is_available() else \"cpu\")\n"
      ]
    },
    {
      "cell_type": "code",
      "execution_count": 6,
      "id": "b32ebae5",
      "metadata": {
        "id": "b32ebae5",
        "outputId": "97be81f7-0e4c-40a2-87f1-ca28bb7384ac",
        "colab": {
          "base_uri": "https://localhost:8080/"
        }
      },
      "outputs": [
        {
          "output_type": "execute_result",
          "data": {
            "text/plain": [
              "650"
            ]
          },
          "metadata": {},
          "execution_count": 6
        }
      ],
      "source": [
        "df = pd.read_csv('data/Animal_Sound_processed.csv')\n",
        "len(df)"
      ]
    },
    {
      "cell_type": "code",
      "execution_count": 8,
      "id": "478c2ca8",
      "metadata": {
        "id": "478c2ca8",
        "outputId": "63a71721-82f3-4f86-e0d6-13051676c4cd",
        "colab": {
          "base_uri": "https://localhost:8080/"
        }
      },
      "outputs": [
        {
          "output_type": "stream",
          "name": "stdout",
          "text": [
            "Classes found: ['bear', 'cat', 'chicken', 'cow', 'dog', 'dolphin', 'donkey', 'elephant', 'frog', 'horse', 'lion', 'monkey', 'sheep']\n",
            "Total segments extracted: 2909\n",
            "train set contains 2327 segments.\n",
            "Classes found: ['bear', 'cat', 'chicken', 'cow', 'dog', 'dolphin', 'donkey', 'elephant', 'frog', 'horse', 'lion', 'monkey', 'sheep']\n",
            "Total segments extracted: 2909\n",
            "val set contains 582 segments.\n"
          ]
        }
      ],
      "source": [
        "from ClassesData.AnimalSoundDataset import AnimalSoundDataset\n",
        "\n",
        "dataset_train = AnimalSoundDataset(df, split='train', split_ratio=0.8, seed=42)\n",
        "dataset_val = AnimalSoundDataset(df, split='val', split_ratio=0.8, seed=42)"
      ]
    },
    {
      "cell_type": "code",
      "execution_count": 9,
      "id": "53797c34",
      "metadata": {
        "id": "53797c34"
      },
      "outputs": [],
      "source": [
        "# in a paper there are 20000 samples in the training set\n",
        "# and they use 1000 for batch\n",
        "# we have 2000 samples in the training set\n",
        "# therefore we use 128 for batch\n",
        "batch_size = 128"
      ]
    },
    {
      "cell_type": "code",
      "execution_count": 10,
      "id": "389e147a",
      "metadata": {
        "id": "389e147a",
        "outputId": "ec69ae30-0987-46fd-ba53-43707c2c34c0",
        "colab": {
          "base_uri": "https://localhost:8080/"
        }
      },
      "outputs": [
        {
          "output_type": "stream",
          "name": "stdout",
          "text": [
            "Number of batches in train loader: 19\n",
            "torch.Size([128, 2, 60, 41])\n",
            "torch.Size([128])\n"
          ]
        }
      ],
      "source": [
        "train_loader = DataLoader(dataset_train, batch_size=batch_size, shuffle=True)\n",
        "val_loader = DataLoader(dataset_val, batch_size=batch_size, shuffle=False)\n",
        "\n",
        "print(f\"Number of batches in train loader: {len(train_loader)}\")\n",
        "\n",
        "for batch in train_loader:\n",
        "    x_batch, y_batch = batch\n",
        "    print(x_batch.shape)  # [batch_size, 1, 128, 400]\n",
        "    print(y_batch.shape)  # [batch_size]\n",
        "    break"
      ]
    },
    {
      "cell_type": "code",
      "execution_count": 11,
      "id": "572b8b78",
      "metadata": {
        "id": "572b8b78",
        "outputId": "c0e78ee4-e2a1-45d6-e43d-8c83ec50543d",
        "colab": {
          "base_uri": "https://localhost:8080/"
        }
      },
      "outputs": [
        {
          "output_type": "stream",
          "name": "stdout",
          "text": [
            "Input dimension: 2, Number of classes: 13\n"
          ]
        }
      ],
      "source": [
        "input_dim = dataset_train[0][0].shape[0]  # e.g., (2, 60, 41) for short segments\n",
        "n_classes = len(dataset_train.classes)\n",
        "print(f\"Input dimension: {input_dim}, Number of classes: {n_classes}\")\n",
        "\n",
        "hyperparameters = dict(\n",
        "    input_dim=input_dim,\n",
        "    output_dim=n_classes,\n",
        "    hidden_layers_size=5000,\n",
        "    activation='relu',\n",
        "    kernel_size_conv=[(57, 6), (1, 3)],\n",
        "    kernel_size_pool=[(4, 3), (1, 3)],\n",
        "    stride_conv=[(1, 1), (1, 1)],\n",
        "    stride_pool=[(1, 3), (1, 3)],\n",
        "    filters=[80, 80],\n",
        "    batch_normalization=False,\n",
        "    dropout_rate=0.5,\n",
        "    # trainer hyperparameters\n",
        "    learning_rate=0.002,\n",
        "    weight_decay=0.001,\n",
        "    momentum=0.9,\n",
        "    nesterov=True,\n",
        "\n",
        "    # questionable hyperparameters\n",
        "    #batch_size=batch_size,\n",
        "    max_epoch=10\n",
        ")"
      ]
    },
    {
      "cell_type": "code",
      "execution_count": 12,
      "id": "9e69f694",
      "metadata": {
        "id": "9e69f694",
        "outputId": "1edd3d65-66da-46c2-c4af-f44ac202f833",
        "colab": {
          "base_uri": "https://localhost:8080/",
          "height": 478
        }
      },
      "outputs": [
        {
          "output_type": "error",
          "ename": "ModuleNotFoundError",
          "evalue": "No module named 'Utilities'",
          "traceback": [
            "\u001b[0;31m---------------------------------------------------------------------------\u001b[0m",
            "\u001b[0;31mModuleNotFoundError\u001b[0m                       Traceback (most recent call last)",
            "\u001b[0;32m/tmp/ipython-input-12-3337996458.py\u001b[0m in \u001b[0;36m<cell line: 0>\u001b[0;34m()\u001b[0m\n\u001b[0;32m----> 1\u001b[0;31m \u001b[0;32mfrom\u001b[0m \u001b[0mClassesML\u001b[0m\u001b[0;34m.\u001b[0m\u001b[0mAudioModel\u001b[0m \u001b[0;32mimport\u001b[0m \u001b[0mAudioModel\u001b[0m\u001b[0;34m\u001b[0m\u001b[0;34m\u001b[0m\u001b[0m\n\u001b[0m\u001b[1;32m      2\u001b[0m \u001b[0mmodel\u001b[0m \u001b[0;34m=\u001b[0m \u001b[0mAudioModel\u001b[0m\u001b[0;34m(\u001b[0m\u001b[0mhyperparameters\u001b[0m\u001b[0;34m)\u001b[0m\u001b[0;34m.\u001b[0m\u001b[0mto\u001b[0m\u001b[0;34m(\u001b[0m\u001b[0mdevice\u001b[0m\u001b[0;34m)\u001b[0m\u001b[0;34m\u001b[0m\u001b[0;34m\u001b[0m\u001b[0m\n",
            "\u001b[0;32m/content/ClassesML/AudioModel.py\u001b[0m in \u001b[0;36m<module>\u001b[0;34m\u001b[0m\n\u001b[1;32m      8\u001b[0m \u001b[0;32mimport\u001b[0m \u001b[0mtorch\u001b[0m\u001b[0;34m.\u001b[0m\u001b[0mnn\u001b[0m \u001b[0;32mas\u001b[0m \u001b[0mnn\u001b[0m\u001b[0;34m\u001b[0m\u001b[0;34m\u001b[0m\u001b[0m\n\u001b[1;32m      9\u001b[0m \u001b[0;32mfrom\u001b[0m \u001b[0mtorch\u001b[0m\u001b[0;34m.\u001b[0m\u001b[0mutils\u001b[0m\u001b[0;34m.\u001b[0m\u001b[0mdata\u001b[0m \u001b[0;32mimport\u001b[0m \u001b[0mDataset\u001b[0m\u001b[0;34m,\u001b[0m \u001b[0mDataLoader\u001b[0m\u001b[0;34m\u001b[0m\u001b[0;34m\u001b[0m\u001b[0m\n\u001b[0;32m---> 10\u001b[0;31m \u001b[0;32mfrom\u001b[0m \u001b[0mClassesML\u001b[0m\u001b[0;34m.\u001b[0m\u001b[0mBlocks\u001b[0m \u001b[0;32mimport\u001b[0m \u001b[0mConv2DBlock\u001b[0m\u001b[0;34m\u001b[0m\u001b[0;34m\u001b[0m\u001b[0m\n\u001b[0m\u001b[1;32m     11\u001b[0m \u001b[0;32mfrom\u001b[0m \u001b[0mUtilities\u001b[0m\u001b[0;34m.\u001b[0m\u001b[0mUtilities\u001b[0m \u001b[0;32mimport\u001b[0m \u001b[0mUtilities\u001b[0m\u001b[0;34m\u001b[0m\u001b[0;34m\u001b[0m\u001b[0m\n\u001b[1;32m     12\u001b[0m \u001b[0;34m\u001b[0m\u001b[0m\n",
            "\u001b[0;32m/content/ClassesML/Blocks.py\u001b[0m in \u001b[0;36m<module>\u001b[0;34m\u001b[0m\n\u001b[1;32m      4\u001b[0m \u001b[0;32mimport\u001b[0m \u001b[0mnumpy\u001b[0m \u001b[0;32mas\u001b[0m \u001b[0mnp\u001b[0m\u001b[0;34m\u001b[0m\u001b[0;34m\u001b[0m\u001b[0m\n\u001b[1;32m      5\u001b[0m \u001b[0;32mimport\u001b[0m \u001b[0mmath\u001b[0m\u001b[0;34m\u001b[0m\u001b[0;34m\u001b[0m\u001b[0m\n\u001b[0;32m----> 6\u001b[0;31m \u001b[0;32mfrom\u001b[0m \u001b[0mUtilities\u001b[0m\u001b[0;34m.\u001b[0m\u001b[0mUtilities\u001b[0m \u001b[0;32mimport\u001b[0m \u001b[0mUtilities\u001b[0m\u001b[0;34m\u001b[0m\u001b[0;34m\u001b[0m\u001b[0m\n\u001b[0m\u001b[1;32m      7\u001b[0m \u001b[0;34m\u001b[0m\u001b[0m\n\u001b[1;32m      8\u001b[0m \u001b[0;31m# %%\u001b[0m\u001b[0;34m\u001b[0m\u001b[0;34m\u001b[0m\u001b[0m\n",
            "\u001b[0;31mModuleNotFoundError\u001b[0m: No module named 'Utilities'",
            "",
            "\u001b[0;31m---------------------------------------------------------------------------\u001b[0;32m\nNOTE: If your import is failing due to a missing package, you can\nmanually install dependencies using either !pip or !apt.\n\nTo view examples of installing some common dependencies, click the\n\"Open Examples\" button below.\n\u001b[0;31m---------------------------------------------------------------------------\u001b[0m\n"
          ],
          "errorDetails": {
            "actions": [
              {
                "action": "open_url",
                "actionText": "Open Examples",
                "url": "/notebooks/snippets/importing_libraries.ipynb"
              }
            ]
          }
        }
      ],
      "source": [
        "from ClassesML.AudioModel import AudioModel\n",
        "model = AudioModel(hyperparameters).to(device)"
      ]
    },
    {
      "cell_type": "code",
      "execution_count": null,
      "id": "ab440171",
      "metadata": {
        "id": "ab440171"
      },
      "outputs": [],
      "source": [
        "import torch.nn.functional as F\n",
        "def predict_clip(model, segment_tensors, device, method='prob'):\n",
        "    \"\"\"\n",
        "    Generate prediction for a whole clip given its segments.\n",
        "\n",
        "    segment_tensors: tensor of shape (n_segments, channels, mel_bands, frames)\n",
        "    method: 'majority' or 'prob'\n",
        "    \"\"\"\n",
        "    model.eval()\n",
        "    segment_tensors = segment_tensors.to(device)\n",
        "    with torch.no_grad():\n",
        "        outputs = model(segment_tensors)  # (n_segments, num_classes)\n",
        "        probs = F.softmax(outputs, dim=1)\n",
        "\n",
        "    if method == 'majority':\n",
        "        preds = torch.argmax(probs, dim=1)\n",
        "        counts = torch.bincount(preds)\n",
        "        clip_pred = torch.argmax(counts).item()\n",
        "    elif method == 'prob':\n",
        "        avg_probs = probs.mean(dim=0)\n",
        "        clip_pred = torch.argmax(avg_probs).item()\n",
        "    else:\n",
        "        raise ValueError(\"method must be 'majority' or 'prob'\")\n",
        "\n",
        "    return clip_pred\n"
      ]
    },
    {
      "cell_type": "code",
      "execution_count": null,
      "id": "fd1b118c",
      "metadata": {
        "id": "fd1b118c",
        "outputId": "b6fed746-21e3-46ec-ffc3-bcfeb2130934"
      },
      "outputs": [
        {
          "name": "stderr",
          "output_type": "stream",
          "text": [
            "Epoch 1/10:   0%|          | 0/19 [00:00<?, ?it/s]/Users/anampavicic/miniconda3/envs/DLClass/lib/python3.11/site-packages/torch/nn/modules/conv.py:549: UserWarning: Using padding='same' with even kernel lengths and odd dilation may require a zero-padded copy of the input be created (Triggered internally at /Users/runner/work/pytorch/pytorch/pytorch/aten/src/ATen/native/Convolution.cpp:1037.)\n",
            "  return F.conv2d(\n",
            "Epoch 1/10: 100%|██████████| 19/19 [00:14<00:00,  1.31it/s]\n"
          ]
        },
        {
          "name": "stdout",
          "output_type": "stream",
          "text": [
            "Epoch 1: Train Loss: 2.4937, Train Acc: 15.5714, Val Loss: 2.4500, Val Acc: 31.7545\n"
          ]
        },
        {
          "name": "stderr",
          "output_type": "stream",
          "text": [
            "Epoch 2/10: 100%|██████████| 19/19 [00:13<00:00,  1.38it/s]\n"
          ]
        },
        {
          "name": "stdout",
          "output_type": "stream",
          "text": [
            "Epoch 2: Train Loss: 2.3670, Train Acc: 22.1253, Val Loss: 2.3961, Val Acc: 33.0268\n"
          ]
        },
        {
          "name": "stderr",
          "output_type": "stream",
          "text": [
            "Epoch 3/10: 100%|██████████| 19/19 [00:14<00:00,  1.34it/s]\n"
          ]
        },
        {
          "name": "stdout",
          "output_type": "stream",
          "text": [
            "Epoch 3: Train Loss: 2.2532, Train Acc: 32.8447, Val Loss: 2.2888, Val Acc: 40.7054\n"
          ]
        },
        {
          "name": "stderr",
          "output_type": "stream",
          "text": [
            "Epoch 4/10: 100%|██████████| 19/19 [00:14<00:00,  1.34it/s]\n"
          ]
        },
        {
          "name": "stdout",
          "output_type": "stream",
          "text": [
            "Epoch 4: Train Loss: 2.1162, Train Acc: 36.2003, Val Loss: 2.1402, Val Acc: 42.7098\n"
          ]
        },
        {
          "name": "stderr",
          "output_type": "stream",
          "text": [
            "Epoch 5/10: 100%|██████████| 19/19 [00:15<00:00,  1.22it/s]\n"
          ]
        },
        {
          "name": "stdout",
          "output_type": "stream",
          "text": [
            "Epoch 5: Train Loss: 1.9345, Train Acc: 39.3718, Val Loss: 1.9822, Val Acc: 46.3795\n"
          ]
        },
        {
          "name": "stderr",
          "output_type": "stream",
          "text": [
            "Epoch 6/10: 100%|██████████| 19/19 [00:14<00:00,  1.32it/s]\n"
          ]
        },
        {
          "name": "stdout",
          "output_type": "stream",
          "text": [
            "Epoch 6: Train Loss: 1.7857, Train Acc: 43.6535, Val Loss: 1.8247, Val Acc: 50.0491\n"
          ]
        },
        {
          "name": "stderr",
          "output_type": "stream",
          "text": [
            "Epoch 7/10: 100%|██████████| 19/19 [00:15<00:00,  1.24it/s]\n"
          ]
        },
        {
          "name": "stdout",
          "output_type": "stream",
          "text": [
            "Epoch 7: Train Loss: 1.6350, Train Acc: 47.3595, Val Loss: 1.7168, Val Acc: 55.2545\n"
          ]
        },
        {
          "name": "stderr",
          "output_type": "stream",
          "text": [
            "Epoch 8/10: 100%|██████████| 19/19 [00:15<00:00,  1.25it/s]\n"
          ]
        },
        {
          "name": "stdout",
          "output_type": "stream",
          "text": [
            "Epoch 8: Train Loss: 1.5320, Train Acc: 50.8832, Val Loss: 1.6361, Val Acc: 56.3750\n"
          ]
        },
        {
          "name": "stderr",
          "output_type": "stream",
          "text": [
            "Epoch 9/10: 100%|██████████| 19/19 [00:14<00:00,  1.29it/s]\n"
          ]
        },
        {
          "name": "stdout",
          "output_type": "stream",
          "text": [
            "Epoch 9: Train Loss: 1.4670, Train Acc: 54.3085, Val Loss: 1.5613, Val Acc: 58.9777\n"
          ]
        },
        {
          "name": "stderr",
          "output_type": "stream",
          "text": [
            "Epoch 10/10: 100%|██████████| 19/19 [00:16<00:00,  1.18it/s]\n"
          ]
        },
        {
          "name": "stdout",
          "output_type": "stream",
          "text": [
            "Epoch 10: Train Loss: 1.4204, Train Acc: 55.4366, Val Loss: 1.5488, Val Acc: 65.2009\n"
          ]
        }
      ],
      "source": [
        "from ClassesML.AudioTrainer import AudioTrainer\n",
        "trainer = AudioTrainer(model, train_loader, val_loader, hyperparameters, device=device)\n",
        "trainer.train()"
      ]
    },
    {
      "cell_type": "markdown",
      "id": "e73ddd17",
      "metadata": {
        "id": "e73ddd17"
      },
      "source": [
        "### Evaluate the model using the 5-fold cross validation"
      ]
    },
    {
      "cell_type": "code",
      "execution_count": null,
      "id": "47376604",
      "metadata": {
        "id": "47376604"
      },
      "outputs": [],
      "source": [
        "import warnings\n",
        "def extract_segments_with_deltas(file_path, variant='short', silence_threshold=-80):\n",
        "    \"\"\"\n",
        "    Extracts 2-channel (log-mel + delta) spectrogram segments from an audio file.\n",
        "\n",
        "    Parameters:\n",
        "    - file_path (str): Path to audio file.\n",
        "    - variant (str): 'short' (41 frames, 50% overlap) or 'long' (101 frames, 90% overlap).\n",
        "    - silence_threshold (float): dB threshold for discarding low-energy segments.\n",
        "\n",
        "    Returns:\n",
        "    - np.ndarray: Array of shape (n_segments, 2, 60, frames_per_segment)\n",
        "    \"\"\"\n",
        "    # Config\n",
        "    sr = 22050\n",
        "    n_fft = 1024\n",
        "    hop_length = 512\n",
        "    n_mels = 60\n",
        "\n",
        "    if variant == 'short':\n",
        "        frames_per_segment = 41\n",
        "        overlap = 0.5\n",
        "    elif variant == 'long':\n",
        "        frames_per_segment = 101\n",
        "        overlap = 0.9\n",
        "    else:\n",
        "        raise ValueError(\"variant must be 'short' or 'long'\")\n",
        "\n",
        "    try:\n",
        "        # Load audio in mono\n",
        "        y, _ = librosa.load(file_path, sr=sr, mono=True)\n",
        "\n",
        "        # Skip empty or very short files\n",
        "        if len(y) < n_fft:\n",
        "            warnings.warn(f\"File too short to process: {file_path}\")\n",
        "            return np.empty((0, 2, 60, frames_per_segment))\n",
        "\n",
        "        # Compute log-mel spectrogram\n",
        "        mel_spec = librosa.feature.melspectrogram(\n",
        "            y=y,\n",
        "            sr=sr,\n",
        "            n_fft=n_fft,\n",
        "            hop_length=hop_length,\n",
        "            n_mels=n_mels\n",
        "        )\n",
        "        log_mel_spec = librosa.power_to_db(mel_spec, ref=np.max)\n",
        "\n",
        "        # Normalize safely\n",
        "        mean = np.mean(log_mel_spec)\n",
        "        std = np.std(log_mel_spec)\n",
        "        if std == 0:\n",
        "            warnings.warn(f\"Zero std encountered in file: {file_path}\")\n",
        "            return np.empty((0, 2, 60, frames_per_segment))\n",
        "\n",
        "        log_mel_spec = (log_mel_spec - mean) / std\n",
        "\n",
        "        # Compute deltas\n",
        "        delta_spec = librosa.feature.delta(log_mel_spec)\n",
        "\n",
        "        # Segmenting\n",
        "        step = int(frames_per_segment * (1 - overlap))\n",
        "        segments = []\n",
        "\n",
        "        for start in range(0, log_mel_spec.shape[1] - frames_per_segment + 1, step):\n",
        "            seg = log_mel_spec[:, start:start + frames_per_segment]\n",
        "            delta = delta_spec[:, start:start + frames_per_segment]\n",
        "\n",
        "            # Skip silent segments\n",
        "            if np.mean(seg) < silence_threshold:\n",
        "                continue\n",
        "\n",
        "            stacked = np.stack([seg, delta], axis=0)\n",
        "            segments.append(stacked)\n",
        "\n",
        "        return np.stack(segments) if segments else np.empty((0, 2, 60, frames_per_segment))\n",
        "\n",
        "    except Exception as e:\n",
        "        warnings.warn(f\"Failed to process {file_path}: {e}\")\n",
        "        return np.empty((0, 2, 60, frames_per_segment))"
      ]
    },
    {
      "cell_type": "code",
      "execution_count": null,
      "id": "3ff9fdfb",
      "metadata": {
        "id": "3ff9fdfb",
        "outputId": "858a6125-e118-415f-a747-bec659ecbf91"
      },
      "outputs": [
        {
          "name": "stdout",
          "output_type": "stream",
          "text": [
            "Fold 1\n",
            "Train/Val samples: 520\n",
            "Test samples: 130\n",
            "Classes found: ['bear', 'cat', 'chicken', 'cow', 'dog', 'dolphin', 'donkey', 'elephant', 'frog', 'horse', 'lion', 'monkey', 'sheep']\n",
            "Total segments extracted: 2301\n",
            "train set contains 1725 segments.\n",
            "Classes found: ['bear', 'cat', 'chicken', 'cow', 'dog', 'dolphin', 'donkey', 'elephant', 'frog', 'horse', 'lion', 'monkey', 'sheep']\n",
            "Total segments extracted: 2301\n",
            "val set contains 576 segments.\n"
          ]
        },
        {
          "name": "stderr",
          "output_type": "stream",
          "text": [
            "Epoch 1/10: 100%|██████████| 14/14 [00:12<00:00,  1.13it/s]\n"
          ]
        },
        {
          "name": "stdout",
          "output_type": "stream",
          "text": [
            "Epoch 1: Train Loss: 2.5115, Train Acc: 14.2619, Val Loss: 2.4871, Val Acc: 17.0312\n"
          ]
        },
        {
          "name": "stderr",
          "output_type": "stream",
          "text": [
            "Epoch 2/10: 100%|██████████| 14/14 [00:10<00:00,  1.31it/s]\n"
          ]
        },
        {
          "name": "stdout",
          "output_type": "stream",
          "text": [
            "Epoch 2: Train Loss: 2.3844, Train Acc: 20.1552, Val Loss: 2.4146, Val Acc: 26.7188\n"
          ]
        },
        {
          "name": "stderr",
          "output_type": "stream",
          "text": [
            "Epoch 3/10: 100%|██████████| 14/14 [00:11<00:00,  1.24it/s]\n"
          ]
        },
        {
          "name": "stdout",
          "output_type": "stream",
          "text": [
            "Epoch 3: Train Loss: 2.3181, Train Acc: 30.0983, Val Loss: 2.3757, Val Acc: 29.6875\n"
          ]
        },
        {
          "name": "stderr",
          "output_type": "stream",
          "text": [
            "Epoch 4/10: 100%|██████████| 14/14 [00:12<00:00,  1.13it/s]\n"
          ]
        },
        {
          "name": "stdout",
          "output_type": "stream",
          "text": [
            "Epoch 4: Train Loss: 2.2362, Train Acc: 30.3279, Val Loss: 2.2976, Val Acc: 29.3750\n"
          ]
        },
        {
          "name": "stderr",
          "output_type": "stream",
          "text": [
            "Epoch 5/10: 100%|██████████| 14/14 [00:10<00:00,  1.30it/s]\n"
          ]
        },
        {
          "name": "stdout",
          "output_type": "stream",
          "text": [
            "Epoch 5: Train Loss: 2.1220, Train Acc: 31.9068, Val Loss: 2.2100, Val Acc: 31.5625\n"
          ]
        },
        {
          "name": "stderr",
          "output_type": "stream",
          "text": [
            "Epoch 6/10: 100%|██████████| 14/14 [00:11<00:00,  1.22it/s]\n"
          ]
        },
        {
          "name": "stdout",
          "output_type": "stream",
          "text": [
            "Epoch 6: Train Loss: 2.0089, Train Acc: 34.6906, Val Loss: 2.1211, Val Acc: 36.5625\n"
          ]
        },
        {
          "name": "stderr",
          "output_type": "stream",
          "text": [
            "Epoch 7/10: 100%|██████████| 14/14 [00:12<00:00,  1.15it/s]\n"
          ]
        },
        {
          "name": "stdout",
          "output_type": "stream",
          "text": [
            "Epoch 7: Train Loss: 1.9123, Train Acc: 38.0891, Val Loss: 2.0181, Val Acc: 38.2812\n"
          ]
        },
        {
          "name": "stderr",
          "output_type": "stream",
          "text": [
            "Epoch 8/10: 100%|██████████| 14/14 [00:12<00:00,  1.10it/s]\n"
          ]
        },
        {
          "name": "stdout",
          "output_type": "stream",
          "text": [
            "Epoch 8: Train Loss: 1.8286, Train Acc: 39.7468, Val Loss: 1.9478, Val Acc: 44.8438\n"
          ]
        },
        {
          "name": "stderr",
          "output_type": "stream",
          "text": [
            "Epoch 9/10: 100%|██████████| 14/14 [00:13<00:00,  1.01it/s]\n"
          ]
        },
        {
          "name": "stdout",
          "output_type": "stream",
          "text": [
            "Epoch 9: Train Loss: 1.7320, Train Acc: 44.4004, Val Loss: 1.8659, Val Acc: 49.0625\n"
          ]
        },
        {
          "name": "stderr",
          "output_type": "stream",
          "text": [
            "Epoch 10/10: 100%|██████████| 14/14 [00:14<00:00,  1.00s/it]\n"
          ]
        },
        {
          "name": "stdout",
          "output_type": "stream",
          "text": [
            "Epoch 10: Train Loss: 1.6196, Train Acc: 47.2464, Val Loss: 1.7664, Val Acc: 51.5625\n",
            "Model saved to model_fold_1.pth\n",
            "\n",
            "Fold 1 - Test Accuracy: 45.5944\n",
            "\n",
            "Fold 2\n",
            "Train/Val samples: 520\n",
            "Test samples: 130\n",
            "Classes found: ['bear', 'cat', 'chicken', 'cow', 'dog', 'dolphin', 'donkey', 'elephant', 'frog', 'horse', 'lion', 'monkey', 'sheep']\n",
            "Total segments extracted: 2332\n",
            "train set contains 1749 segments.\n",
            "Classes found: ['bear', 'cat', 'chicken', 'cow', 'dog', 'dolphin', 'donkey', 'elephant', 'frog', 'horse', 'lion', 'monkey', 'sheep']\n",
            "Total segments extracted: 2332\n",
            "val set contains 583 segments.\n"
          ]
        },
        {
          "name": "stderr",
          "output_type": "stream",
          "text": [
            "Epoch 1/10: 100%|██████████| 14/14 [00:16<00:00,  1.18s/it]\n"
          ]
        },
        {
          "name": "stdout",
          "output_type": "stream",
          "text": [
            "Epoch 1: Train Loss: 2.4994, Train Acc: 16.3275, Val Loss: 2.4806, Val Acc: 14.3794\n"
          ]
        },
        {
          "name": "stderr",
          "output_type": "stream",
          "text": [
            "Epoch 2/10: 100%|██████████| 14/14 [00:14<00:00,  1.05s/it]\n"
          ]
        },
        {
          "name": "stdout",
          "output_type": "stream",
          "text": [
            "Epoch 2: Train Loss: 2.3797, Train Acc: 19.5378, Val Loss: 2.4148, Val Acc: 26.3182\n"
          ]
        },
        {
          "name": "stderr",
          "output_type": "stream",
          "text": [
            "Epoch 3/10: 100%|██████████| 14/14 [00:14<00:00,  1.05s/it]\n"
          ]
        },
        {
          "name": "stdout",
          "output_type": "stream",
          "text": [
            "Epoch 3: Train Loss: 2.2972, Train Acc: 31.5671, Val Loss: 2.3594, Val Acc: 29.6633\n"
          ]
        },
        {
          "name": "stderr",
          "output_type": "stream",
          "text": [
            "Epoch 4/10:  79%|███████▊  | 11/14 [00:13<00:03,  1.21s/it]\n"
          ]
        }
      ],
      "source": [
        "import pandas as pd\n",
        "from sklearn.model_selection import KFold\n",
        "\n",
        "# Load your dataset\n",
        "df = pd.read_csv('data/Animal_Sound_processed.csv')  # Update path if needed\n",
        "\n",
        "# Prepare 5-Fold cross-validator\n",
        "kf = KFold(n_splits=5, shuffle=True, random_state=42)\n",
        "\n",
        "for fold, (train_val_idx, val_idx) in enumerate(kf.split(df)):\n",
        "    df_train_val = df.iloc[train_val_idx].reset_index(drop=True)\n",
        "    df_test = df.iloc[val_idx].reset_index(drop=True)\n",
        "\n",
        "    print(f\"Fold {fold + 1}\")\n",
        "    print(f\"Train/Val samples: {len(df_train_val)}\")\n",
        "    print(f\"Test samples: {len(df_test)}\")\n",
        "\n",
        "    # Create datasets for this fold\n",
        "    dataset_train = AnimalSoundDataset(df_train_val, split='train', split_ratio=0.75, seed=42)\n",
        "    dataset_val = AnimalSoundDataset(df_train_val, split='val', split_ratio=0.75, seed=42)\n",
        "    train_loader = DataLoader(dataset_train, batch_size=batch_size, shuffle=True)\n",
        "    val_loader = DataLoader(dataset_val, batch_size=batch_size, shuffle=False)\n",
        "\n",
        "    # Initialize model and trainer\n",
        "    model = AudioModel(hyperparameters).to(device)\n",
        "    trainer = AudioTrainer(model, train_loader, val_loader, hyperparameters, device=device)\n",
        "    trainer.train()\n",
        "    # Save the model for this fold\n",
        "    model_save_path = f'model_fold_{fold + 1}.pth'\n",
        "    torch.save(model.state_dict(), model_save_path)\n",
        "    print(f\"Model saved to {model_save_path}\\n\")\n",
        "\n",
        "    # Evaluate on test set\n",
        "    for path, label in zip(df_test['path'], df_test['name']):\n",
        "\n",
        "        test_segments = extract_segments_with_deltas(path, variant='short')\n",
        "        predicted_sound = predict_clip(model, torch.tensor(test_segments, dtype=torch.float32).to(device), device, method='prob')\n",
        "\n",
        "\n",
        "        predicted_label = dataset_train.classes[predicted_sound]\n",
        "\n",
        "        if predicted_label == label:\n",
        "            correct_predictions += 1\n",
        "        total_predictions += 1\n",
        "    accuracy = correct_predictions / total_predictions * 100 if total_predictions > 0 else 0\n",
        "    print(f\"Fold {fold + 1} - Test Accuracy: {accuracy:.4f}\\n\")\n",
        "\n",
        "\n",
        "\n",
        ""
      ]
    }
  ],
  "metadata": {
    "kernelspec": {
      "display_name": "DLClass",
      "language": "python",
      "name": "python3"
    },
    "language_info": {
      "codemirror_mode": {
        "name": "ipython",
        "version": 3
      },
      "file_extension": ".py",
      "mimetype": "text/x-python",
      "name": "python",
      "nbconvert_exporter": "python",
      "pygments_lexer": "ipython3",
      "version": "3.11.11"
    },
    "colab": {
      "provenance": []
    }
  },
  "nbformat": 4,
  "nbformat_minor": 5
}
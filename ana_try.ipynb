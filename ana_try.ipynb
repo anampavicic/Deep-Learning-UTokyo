{
 "cells": [
  {
   "cell_type": "code",
   "execution_count": 1,
   "id": "d2afcaba",
   "metadata": {},
   "outputs": [],
   "source": [
    "import pandas as pd\n",
    "import numpy as np\n",
    "import matplotlib.pyplot as plt\n",
    "import os\n",
    "\n",
    "import torch \n",
    "import torch.nn as nn\n",
    "from torch.utils.data import DataLoader\n",
    "\n",
    "# Libraries for processing sounds\n",
    "import librosa\n",
    "from IPython.display import Audio\n",
    "import random"
   ]
  },
  {
   "cell_type": "code",
   "execution_count": 2,
   "id": "c987561e",
   "metadata": {},
   "outputs": [],
   "source": [
    "device = torch.device(\"cuda\" if torch.cuda.is_available() else \"cpu\")\n"
   ]
  },
  {
   "cell_type": "code",
   "execution_count": 3,
   "id": "b32ebae5",
   "metadata": {},
   "outputs": [
    {
     "data": {
      "text/plain": [
       "650"
      ]
     },
     "execution_count": 3,
     "metadata": {},
     "output_type": "execute_result"
    }
   ],
   "source": [
    "df = pd.read_csv('data/Animal_Sound_processed.csv')\n",
    "len(df)"
   ]
  },
  {
   "cell_type": "code",
   "execution_count": 4,
   "id": "478c2ca8",
   "metadata": {},
   "outputs": [
    {
     "name": "stdout",
     "output_type": "stream",
     "text": [
      "Classes found: ['bear', 'cat', 'chicken', 'cow', 'dog', 'dolphin', 'donkey', 'elephant', 'frog', 'horse', 'lion', 'monkey', 'sheep']\n",
      "Total segments extracted: 2909\n",
      "train set contains 2327 segments.\n",
      "Classes found: ['bear', 'cat', 'chicken', 'cow', 'dog', 'dolphin', 'donkey', 'elephant', 'frog', 'horse', 'lion', 'monkey', 'sheep']\n",
      "Total segments extracted: 2909\n",
      "val set contains 582 segments.\n"
     ]
    }
   ],
   "source": [
    "from ClassesData.AnimalSoundDataset import AnimalSoundDataset\n",
    "\n",
    "dataset_train = AnimalSoundDataset(df, split='train', split_ratio=0.8, seed=42)\n",
    "dataset_val = AnimalSoundDataset(df, split='val', split_ratio=0.8, seed=42)"
   ]
  },
  {
   "cell_type": "code",
   "execution_count": 5,
   "id": "53797c34",
   "metadata": {},
   "outputs": [],
   "source": [
    "# in a paper there are 20000 samples in the training set\n",
    "# and they use 1000 for batch\n",
    "# we have 2000 samples in the training set\n",
    "# therefore we use 128 for batch\n",
    "batch_size = 128"
   ]
  },
  {
   "cell_type": "code",
   "execution_count": 6,
   "id": "389e147a",
   "metadata": {},
   "outputs": [
    {
     "name": "stdout",
     "output_type": "stream",
     "text": [
      "Number of batches in train loader: 19\n",
      "torch.Size([128, 2, 60, 41])\n",
      "torch.Size([128])\n"
     ]
    }
   ],
   "source": [
    "train_loader = DataLoader(dataset_train, batch_size=batch_size, shuffle=True)\n",
    "val_loader = DataLoader(dataset_val, batch_size=batch_size, shuffle=False)\n",
    "\n",
    "print(f\"Number of batches in train loader: {len(train_loader)}\")\n",
    "\n",
    "for batch in train_loader:\n",
    "    x_batch, y_batch = batch\n",
    "    print(x_batch.shape)  # [batch_size, 1, 128, 400]\n",
    "    print(y_batch.shape)  # [batch_size]\n",
    "    break"
   ]
  },
  {
   "cell_type": "code",
   "execution_count": null,
   "id": "572b8b78",
   "metadata": {},
   "outputs": [
    {
     "name": "stdout",
     "output_type": "stream",
     "text": [
      "Input dimension: 2, Number of classes: 13\n"
     ]
    }
   ],
   "source": [
    "input_dim = dataset_train[0][0].shape[0]  # e.g., (2, 60, 41) for short segments\n",
    "n_classes = len(dataset_train.classes)\n",
    "print(f\"Input dimension: {input_dim}, Number of classes: {n_classes}\")\n",
    "\n",
    "hyperparameters = dict(\n",
    "    input_dim=input_dim,\n",
    "    output_dim=n_classes,\n",
    "    hidden_layers_size=5000,\n",
    "    activation='relu',\n",
    "    kernel_size_conv=[(57, 6), (1, 3)],\n",
    "    kernel_size_pool=[(4, 3), (1, 3)],\n",
    "    stride_conv=[(1, 1), (1, 1)],\n",
    "    stride_pool=[(1, 3), (1, 3)],\n",
    "    filters=[80, 80],\n",
    "    batch_normalization=False,\n",
    "    dropout_rate=0.5,\n",
    "    # trainer hyperparameters\n",
    "    learning_rate=0.002,\n",
    "    weight_decay=0.001,\n",
    "    momentum=0.9,\n",
    "    nesterov=True,\n",
    "\n",
    "    # questionable hyperparameters\n",
    "    #batch_size=batch_size,\n",
    "    max_epoch=2,\n",
    "\n",
    "    #Early stopping and sceduler\n",
    "    patience_lr=5,\n",
    "    early_stopping=True\n",
    ")"
   ]
  },
  {
   "cell_type": "code",
   "execution_count": null,
   "id": "64d55530",
   "metadata": {},
   "outputs": [
    {
     "name": "stderr",
     "output_type": "stream",
     "text": [
      "Epoch 1/2: 100%|██████████| 19/19 [01:11<00:00,  3.77s/it]\n"
     ]
    },
    {
     "name": "stdout",
     "output_type": "stream",
     "text": [
      "Epoch 1: Train Loss: 2.4760, Train Acc: 18.2727, Val Loss: 2.4360, Val Acc: 38.8571\n",
      "Epoch 0 - Keeping weights\n"
     ]
    },
    {
     "name": "stderr",
     "output_type": "stream",
     "text": [
      "Epoch 2/2: 100%|██████████| 19/19 [01:12<00:00,  3.83s/it]\n"
     ]
    },
    {
     "name": "stdout",
     "output_type": "stream",
     "text": [
      "Epoch 2: Train Loss: 2.3576, Train Acc: 28.8222, Val Loss: 2.3772, Val Acc: 39.0670\n",
      "Max epoch reached - Stop training - Restoring weights\n"
     ]
    },
    {
     "name": "stderr",
     "output_type": "stream",
     "text": [
      "Epoch 1/2: 100%|██████████| 19/19 [01:13<00:00,  3.88s/it]\n"
     ]
    },
    {
     "name": "stdout",
     "output_type": "stream",
     "text": [
      "Epoch 1: Train Loss: 2.4834, Train Acc: 15.2835, Val Loss: 2.4429, Val Acc: 37.2188\n",
      "Epoch 0 - Keeping weights\n"
     ]
    },
    {
     "name": "stderr",
     "output_type": "stream",
     "text": [
      "Epoch 2/2: 100%|██████████| 19/19 [01:08<00:00,  3.61s/it]\n"
     ]
    },
    {
     "name": "stdout",
     "output_type": "stream",
     "text": [
      "Epoch 2: Train Loss: 2.3678, Train Acc: 27.1131, Val Loss: 2.3917, Val Acc: 39.9509\n",
      "Max epoch reached - Stop training - Restoring weights\n"
     ]
    }
   ],
   "source": [
    "from sklearn.model_selection import ParameterSampler\n",
    "import pandas as pd\n",
    "from ClassesML.AudioTrainer import AudioTrainer\n",
    "from ClassesML.AudioModel import AudioModel\n",
    "\n",
    "hyperparameter_choices = {}\n",
    "for k in hyperparameters.keys():\n",
    "    hyperparameter_choices[k] = [hyperparameters[k]]\n",
    "\n",
    "hyperparameter_choices['learning_rate'] = [0.005, 0.001]\n",
    "hyperparameter_choices['batch_size'] = [64, 128, 256]\n",
    "hyperparameter_choices['max_epoch'] = [100]\n",
    "hyperparameter_choices['hidden_layers_size']=[1000, 5000]\n",
    "hyperparameter_choices['patience_lr'] = [5, 10, 15]\n",
    "hyperparameter_choices['momentum'] = [0.9, 0.95, 0.85]\n",
    "hyperparameter_choices['weight_decay'] = [0.001, 0.002]\n",
    "\n",
    "\n",
    "hyperparameter_try = list(ParameterSampler(hyperparameter_choices, n_iter=20))\n",
    "\n",
    "metric_list = []\n",
    "\n",
    "for hyperparam in hyperparameter_try:\n",
    "\n",
    "    model = AudioModel(hyperparam).to(device)\n",
    "    \n",
    "    train_loader = DataLoader(dataset_train, batch_size=hyperparam['batch_size'], shuffle=True)\n",
    "    val_loader = DataLoader(dataset_val, batch_size=hyperparam['batch_size'], shuffle=False)\n",
    "\n",
    "    trainer = AudioTrainer(model, train_loader, val_loader, hyperparam, device=device)\n",
    "\n",
    "    train_accuracy_list, valid_accuracy_list = trainer.train()\n",
    "    metric_list.append(valid_accuracy_list[-1])\n",
    "    hyperparam['val_accuracy'] = valid_accuracy_list[-1]\n",
    "    hyperparam['train_accuracy'] = train_accuracy_list[-1]\n",
    "\n",
    "idx = np.argsort(metric_list)\n",
    "hyperparameter_sorted = np.array(hyperparameter_try)[idx].tolist()\n",
    "df = pd.DataFrame.from_dict(hyperparameter_sorted)"
   ]
  },
  {
   "cell_type": "code",
   "execution_count": 16,
   "id": "ca677dc0",
   "metadata": {},
   "outputs": [
    {
     "name": "stdout",
     "output_type": "stream",
     "text": [
      "+----+----------------+------------------+------------------+---------------+--------------+------------+------------+-------------+-----------------+--------------------+--------------------+-------------+----------------------+-----------+------------------+----------------+-----------------------+--------------+----------+\n",
      "|    |   weight_decay | stride_pool      | stride_conv      | patience_lr   |   output_dim | nesterov   |   momentum |   max_epoch |   learning_rate | kernel_size_pool   | kernel_size_conv   |   input_dim |   hidden_layers_size | filters   | early_stopping   |   dropout_rate | batch_normalization   | activation   |   metric |\n",
      "|----+----------------+------------------+------------------+---------------+--------------+------------+------------+-------------+-----------------+--------------------+--------------------+-------------+----------------------+-----------+------------------+----------------+-----------------------+--------------+----------|\n",
      "|  0 |          0.001 | [(1, 3), (1, 3)] | [(1, 1), (1, 1)] | False         |           13 | True       |        0.9 |           2 |           0.005 | [(4, 3), (1, 3)]   | [(57, 6), (1, 3)]  |           2 |                 5000 | [80, 80]  | False            |            0.5 | False                 | relu         |  35.0312 |\n",
      "|  1 |          0.001 | [(1, 3), (1, 3)] | [(1, 1), (1, 1)] | False         |           13 | True       |        0.9 |           2 |           0.01  | [(4, 3), (1, 3)]   | [(57, 6), (1, 3)]  |           2 |                 5000 | [80, 80]  | False            |            0.5 | False                 | relu         |  37.6875 |\n",
      "+----+----------------+------------------+------------------+---------------+--------------+------------+------------+-------------+-----------------+--------------------+--------------------+-------------+----------------------+-----------+------------------+----------------+-----------------------+--------------+----------+\n"
     ]
    }
   ],
   "source": [
    "from tabulate import tabulate\n",
    "\n",
    "print(tabulate(df, headers='keys', tablefmt='psql'))"
   ]
  },
  {
   "cell_type": "code",
   "execution_count": 13,
   "id": "22b4a5bd",
   "metadata": {},
   "outputs": [],
   "source": [
    "hyperparameter_final = hyperparameters"
   ]
  },
  {
   "cell_type": "code",
   "execution_count": 14,
   "id": "9e69f694",
   "metadata": {},
   "outputs": [
    {
     "name": "stderr",
     "output_type": "stream",
     "text": [
      "c:\\Users\\Lorena\\.conda\\envs\\CML\\Lib\\site-packages\\torch\\nn\\modules\\lazy.py:181: UserWarning: Lazy modules are a new feature under heavy development so changes to the API or functionality can happen at any moment.\n",
      "  warnings.warn('Lazy modules are a new feature under heavy development '\n"
     ]
    }
   ],
   "source": [
    "from ClassesML.AudioModel import AudioModel\n",
    "model_final = AudioModel(hyperparameter_final).to(device)"
   ]
  },
  {
   "cell_type": "code",
   "execution_count": 15,
   "id": "ab440171",
   "metadata": {},
   "outputs": [],
   "source": [
    "import torch.nn.functional as F\n",
    "def predict_clip(model, segment_tensors, device, method='prob'):\n",
    "    \"\"\"\n",
    "    Generate prediction for a whole clip given its segments.\n",
    "    \n",
    "    segment_tensors: tensor of shape (n_segments, channels, mel_bands, frames)\n",
    "    method: 'majority' or 'prob'\n",
    "    \"\"\"\n",
    "    model.eval()\n",
    "    segment_tensors = segment_tensors.to(device)\n",
    "    with torch.no_grad():\n",
    "        outputs = model(segment_tensors)  # (n_segments, num_classes)\n",
    "        probs = F.softmax(outputs, dim=1)\n",
    "\n",
    "    if method == 'majority':\n",
    "        preds = torch.argmax(probs, dim=1)\n",
    "        counts = torch.bincount(preds)\n",
    "        clip_pred = torch.argmax(counts).item()\n",
    "    elif method == 'prob':\n",
    "        avg_probs = probs.mean(dim=0)\n",
    "        clip_pred = torch.argmax(avg_probs).item()\n",
    "    else:\n",
    "        raise ValueError(\"method must be 'majority' or 'prob'\")\n",
    "\n",
    "    return clip_pred\n"
   ]
  },
  {
   "cell_type": "code",
   "execution_count": 16,
   "id": "fd1b118c",
   "metadata": {},
   "outputs": [
    {
     "name": "stderr",
     "output_type": "stream",
     "text": [
      "Epoch 1/2:  16%|█▌        | 3/19 [00:16<01:29,  5.60s/it]\n"
     ]
    },
    {
     "ename": "KeyboardInterrupt",
     "evalue": "",
     "output_type": "error",
     "traceback": [
      "\u001b[1;31m---------------------------------------------------------------------------\u001b[0m",
      "\u001b[1;31mKeyboardInterrupt\u001b[0m                         Traceback (most recent call last)",
      "Cell \u001b[1;32mIn[16], line 3\u001b[0m\n\u001b[0;32m      1\u001b[0m \u001b[38;5;28;01mfrom\u001b[39;00m \u001b[38;5;21;01mClassesML\u001b[39;00m\u001b[38;5;21;01m.\u001b[39;00m\u001b[38;5;21;01mAudioTrainer\u001b[39;00m \u001b[38;5;28;01mimport\u001b[39;00m AudioTrainer\n\u001b[0;32m      2\u001b[0m trainer_final \u001b[38;5;241m=\u001b[39m AudioTrainer(model_final, train_loader, val_loader, hyperparameter_final, device\u001b[38;5;241m=\u001b[39mdevice)\n\u001b[1;32m----> 3\u001b[0m \u001b[43mtrainer_final\u001b[49m\u001b[38;5;241;43m.\u001b[39;49m\u001b[43mtrain\u001b[49m\u001b[43m(\u001b[49m\u001b[43m)\u001b[49m\n",
      "File \u001b[1;32mc:\\Users\\Lorena\\Documents\\Uni\\25 SoSe\\Deep Learning\\Deep-Learning-UTokyo\\ClassesML\\AudioTrainer.py:67\u001b[0m, in \u001b[0;36mAudioTrainer.train\u001b[1;34m(self)\u001b[0m\n\u001b[0;32m     64\u001b[0m loss \u001b[38;5;241m=\u001b[39m \u001b[38;5;28mself\u001b[39m\u001b[38;5;241m.\u001b[39mcriterion(y_hat, y)\n\u001b[0;32m     66\u001b[0m \u001b[38;5;66;03m# Backward\u001b[39;00m\n\u001b[1;32m---> 67\u001b[0m \u001b[43mloss\u001b[49m\u001b[38;5;241;43m.\u001b[39;49m\u001b[43mbackward\u001b[49m\u001b[43m(\u001b[49m\u001b[43m)\u001b[49m\n\u001b[0;32m     68\u001b[0m \u001b[38;5;28mself\u001b[39m\u001b[38;5;241m.\u001b[39moptimizer\u001b[38;5;241m.\u001b[39mstep()\n\u001b[0;32m     70\u001b[0m \u001b[38;5;66;03m# TO-DO: Decide how to compute loss\u001b[39;00m\n",
      "File \u001b[1;32mc:\\Users\\Lorena\\.conda\\envs\\CML\\Lib\\site-packages\\torch\\_tensor.py:522\u001b[0m, in \u001b[0;36mTensor.backward\u001b[1;34m(self, gradient, retain_graph, create_graph, inputs)\u001b[0m\n\u001b[0;32m    512\u001b[0m \u001b[38;5;28;01mif\u001b[39;00m has_torch_function_unary(\u001b[38;5;28mself\u001b[39m):\n\u001b[0;32m    513\u001b[0m     \u001b[38;5;28;01mreturn\u001b[39;00m handle_torch_function(\n\u001b[0;32m    514\u001b[0m         Tensor\u001b[38;5;241m.\u001b[39mbackward,\n\u001b[0;32m    515\u001b[0m         (\u001b[38;5;28mself\u001b[39m,),\n\u001b[1;32m   (...)\u001b[0m\n\u001b[0;32m    520\u001b[0m         inputs\u001b[38;5;241m=\u001b[39minputs,\n\u001b[0;32m    521\u001b[0m     )\n\u001b[1;32m--> 522\u001b[0m \u001b[43mtorch\u001b[49m\u001b[38;5;241;43m.\u001b[39;49m\u001b[43mautograd\u001b[49m\u001b[38;5;241;43m.\u001b[39;49m\u001b[43mbackward\u001b[49m\u001b[43m(\u001b[49m\n\u001b[0;32m    523\u001b[0m \u001b[43m    \u001b[49m\u001b[38;5;28;43mself\u001b[39;49m\u001b[43m,\u001b[49m\u001b[43m \u001b[49m\u001b[43mgradient\u001b[49m\u001b[43m,\u001b[49m\u001b[43m \u001b[49m\u001b[43mretain_graph\u001b[49m\u001b[43m,\u001b[49m\u001b[43m \u001b[49m\u001b[43mcreate_graph\u001b[49m\u001b[43m,\u001b[49m\u001b[43m \u001b[49m\u001b[43minputs\u001b[49m\u001b[38;5;241;43m=\u001b[39;49m\u001b[43minputs\u001b[49m\n\u001b[0;32m    524\u001b[0m \u001b[43m\u001b[49m\u001b[43m)\u001b[49m\n",
      "File \u001b[1;32mc:\\Users\\Lorena\\.conda\\envs\\CML\\Lib\\site-packages\\torch\\autograd\\__init__.py:266\u001b[0m, in \u001b[0;36mbackward\u001b[1;34m(tensors, grad_tensors, retain_graph, create_graph, grad_variables, inputs)\u001b[0m\n\u001b[0;32m    261\u001b[0m     retain_graph \u001b[38;5;241m=\u001b[39m create_graph\n\u001b[0;32m    263\u001b[0m \u001b[38;5;66;03m# The reason we repeat the same comment below is that\u001b[39;00m\n\u001b[0;32m    264\u001b[0m \u001b[38;5;66;03m# some Python versions print out the first line of a multi-line function\u001b[39;00m\n\u001b[0;32m    265\u001b[0m \u001b[38;5;66;03m# calls in the traceback and some print out the last line\u001b[39;00m\n\u001b[1;32m--> 266\u001b[0m \u001b[43mVariable\u001b[49m\u001b[38;5;241;43m.\u001b[39;49m\u001b[43m_execution_engine\u001b[49m\u001b[38;5;241;43m.\u001b[39;49m\u001b[43mrun_backward\u001b[49m\u001b[43m(\u001b[49m\u001b[43m  \u001b[49m\u001b[38;5;66;43;03m# Calls into the C++ engine to run the backward pass\u001b[39;49;00m\n\u001b[0;32m    267\u001b[0m \u001b[43m    \u001b[49m\u001b[43mtensors\u001b[49m\u001b[43m,\u001b[49m\n\u001b[0;32m    268\u001b[0m \u001b[43m    \u001b[49m\u001b[43mgrad_tensors_\u001b[49m\u001b[43m,\u001b[49m\n\u001b[0;32m    269\u001b[0m \u001b[43m    \u001b[49m\u001b[43mretain_graph\u001b[49m\u001b[43m,\u001b[49m\n\u001b[0;32m    270\u001b[0m \u001b[43m    \u001b[49m\u001b[43mcreate_graph\u001b[49m\u001b[43m,\u001b[49m\n\u001b[0;32m    271\u001b[0m \u001b[43m    \u001b[49m\u001b[43minputs\u001b[49m\u001b[43m,\u001b[49m\n\u001b[0;32m    272\u001b[0m \u001b[43m    \u001b[49m\u001b[43mallow_unreachable\u001b[49m\u001b[38;5;241;43m=\u001b[39;49m\u001b[38;5;28;43;01mTrue\u001b[39;49;00m\u001b[43m,\u001b[49m\n\u001b[0;32m    273\u001b[0m \u001b[43m    \u001b[49m\u001b[43maccumulate_grad\u001b[49m\u001b[38;5;241;43m=\u001b[39;49m\u001b[38;5;28;43;01mTrue\u001b[39;49;00m\u001b[43m,\u001b[49m\n\u001b[0;32m    274\u001b[0m \u001b[43m\u001b[49m\u001b[43m)\u001b[49m\n",
      "\u001b[1;31mKeyboardInterrupt\u001b[0m: "
     ]
    }
   ],
   "source": [
    "from ClassesML.AudioTrainer import AudioTrainer\n",
    "trainer_final = AudioTrainer(model_final, train_loader, val_loader, hyperparameter_final, device=device)\n",
    "trainer_final.train()"
   ]
  },
  {
   "cell_type": "markdown",
   "id": "e73ddd17",
   "metadata": {},
   "source": [
    "### Evaluate the model using the 5-fold cross validation"
   ]
  },
  {
   "cell_type": "code",
   "execution_count": 17,
   "id": "47376604",
   "metadata": {},
   "outputs": [],
   "source": [
    "import warnings\n",
    "def extract_segments_with_deltas(file_path, variant='short', silence_threshold=-80):\n",
    "    \"\"\"\n",
    "    Extracts 2-channel (log-mel + delta) spectrogram segments from an audio file.\n",
    "\n",
    "    Parameters:\n",
    "    - file_path (str): Path to audio file.\n",
    "    - variant (str): 'short' (41 frames, 50% overlap) or 'long' (101 frames, 90% overlap).\n",
    "    - silence_threshold (float): dB threshold for discarding low-energy segments.\n",
    "\n",
    "    Returns:\n",
    "    - np.ndarray: Array of shape (n_segments, 2, 60, frames_per_segment)\n",
    "    \"\"\"\n",
    "    # Config\n",
    "    sr = 22050\n",
    "    n_fft = 1024\n",
    "    hop_length = 512\n",
    "    n_mels = 60\n",
    "\n",
    "    if variant == 'short':\n",
    "        frames_per_segment = 41\n",
    "        overlap = 0.5\n",
    "    elif variant == 'long':\n",
    "        frames_per_segment = 101\n",
    "        overlap = 0.9\n",
    "    else:\n",
    "        raise ValueError(\"variant must be 'short' or 'long'\")\n",
    "\n",
    "    try:\n",
    "        # Load audio in mono\n",
    "        y, _ = librosa.load(file_path, sr=sr, mono=True)\n",
    "\n",
    "        # Skip empty or very short files\n",
    "        if len(y) < n_fft:\n",
    "            warnings.warn(f\"File too short to process: {file_path}\")\n",
    "            return np.empty((0, 2, 60, frames_per_segment))\n",
    "\n",
    "        # Compute log-mel spectrogram\n",
    "        mel_spec = librosa.feature.melspectrogram(\n",
    "            y=y,\n",
    "            sr=sr,\n",
    "            n_fft=n_fft,\n",
    "            hop_length=hop_length,\n",
    "            n_mels=n_mels\n",
    "        )\n",
    "        log_mel_spec = librosa.power_to_db(mel_spec, ref=np.max)\n",
    "\n",
    "        # Normalize safely\n",
    "        mean = np.mean(log_mel_spec)\n",
    "        std = np.std(log_mel_spec)\n",
    "        if std == 0:\n",
    "            warnings.warn(f\"Zero std encountered in file: {file_path}\")\n",
    "            return np.empty((0, 2, 60, frames_per_segment))\n",
    "\n",
    "        log_mel_spec = (log_mel_spec - mean) / std\n",
    "\n",
    "        # Compute deltas\n",
    "        delta_spec = librosa.feature.delta(log_mel_spec)\n",
    "\n",
    "        # Segmenting\n",
    "        step = int(frames_per_segment * (1 - overlap))\n",
    "        segments = []\n",
    "\n",
    "        for start in range(0, log_mel_spec.shape[1] - frames_per_segment + 1, step):\n",
    "            seg = log_mel_spec[:, start:start + frames_per_segment]\n",
    "            delta = delta_spec[:, start:start + frames_per_segment]\n",
    "\n",
    "            # Skip silent segments\n",
    "            if np.mean(seg) < silence_threshold:\n",
    "                continue\n",
    "\n",
    "            stacked = np.stack([seg, delta], axis=0)\n",
    "            segments.append(stacked)\n",
    "\n",
    "        return np.stack(segments) if segments else np.empty((0, 2, 60, frames_per_segment))\n",
    "\n",
    "    except Exception as e:\n",
    "        warnings.warn(f\"Failed to process {file_path}: {e}\")\n",
    "        return np.empty((0, 2, 60, frames_per_segment))"
   ]
  },
  {
   "cell_type": "code",
   "execution_count": null,
   "id": "3ff9fdfb",
   "metadata": {},
   "outputs": [
    {
     "name": "stdout",
     "output_type": "stream",
     "text": [
      "Fold 1\n",
      "Train/Val samples: 520\n",
      "Test samples: 130\n",
      "Classes found: ['bear', 'cat', 'chicken', 'cow', 'dog', 'dolphin', 'donkey', 'elephant', 'frog', 'horse', 'lion', 'monkey', 'sheep']\n",
      "Total segments extracted: 2301\n",
      "train set contains 1725 segments.\n",
      "Classes found: ['bear', 'cat', 'chicken', 'cow', 'dog', 'dolphin', 'donkey', 'elephant', 'frog', 'horse', 'lion', 'monkey', 'sheep']\n"
     ]
    }
   ],
   "source": [
    "import pandas as pd\n",
    "from sklearn.model_selection import KFold\n",
    "\n",
    "# Load your dataset\n",
    "df = pd.read_csv('data/Animal_Sound_processed.csv')  # Update path if needed\n",
    "\n",
    "# Prepare 5-Fold cross-validator\n",
    "kf = KFold(n_splits=5, shuffle=True, random_state=42)\n",
    "\n",
    "for fold, (train_val_idx, val_idx) in enumerate(kf.split(df)):\n",
    "    df_train_val = df.iloc[train_val_idx].reset_index(drop=True)\n",
    "    df_test = df.iloc[val_idx].reset_index(drop=True)\n",
    "\n",
    "    print(f\"Fold {fold + 1}\")\n",
    "    print(f\"Train/Val samples: {len(df_train_val)}\")\n",
    "    print(f\"Test samples: {len(df_test)}\")\n",
    "\n",
    "    # Create datasets for this fold\n",
    "    dataset_train = AnimalSoundDataset(df_train_val, split='train', split_ratio=0.75, seed=42)\n",
    "    dataset_val = AnimalSoundDataset(df_train_val, split='val', split_ratio=0.75, seed=42)\n",
    "    train_loader = DataLoader(dataset_train, batch_size=batch_size, shuffle=True)\n",
    "    val_loader = DataLoader(dataset_val, batch_size=batch_size, shuffle=False)\n",
    "\n",
    "    # Initialize model and trainer\n",
    "    model_final = AudioModel(hyperparameter_final).to(device)\n",
    "    trainer_final = AudioTrainer(model, train_loader, val_loader, hyperparameter_final, device=device)\n",
    "    trainer_final.train()\n",
    "    # Save the model for this fold\n",
    "    model_save_path = f'model_fold_{fold + 1}.pth'\n",
    "    torch.save(model.state_dict(), model_save_path)\n",
    "    print(f\"Model saved to {model_save_path}\\n\")\n",
    "\n",
    "    # Evaluate on test set\n",
    "    for path, label in zip(df_test['path'], df_test['name']):\n",
    "\n",
    "        test_segments = extract_segments_with_deltas(path, variant='short')\n",
    "        predicted_sound = predict_clip(model, torch.tensor(test_segments, dtype=torch.float32).to(device), device, method='prob')\n",
    "        \n",
    "\n",
    "        predicted_label = dataset_train.classes[predicted_sound]\n",
    "        \n",
    "        if predicted_label == label:\n",
    "            correct_predictions += 1\n",
    "        total_predictions += 1\n",
    "    accuracy = correct_predictions / total_predictions * 100 if total_predictions > 0 else 0\n",
    "    print(f\"Fold {fold + 1} - Test Accuracy: {accuracy:.4f}\\n\")\n",
    "\n",
    "        \n",
    "\n",
    "   "
   ]
  }
 ],
 "metadata": {
  "kernelspec": {
   "display_name": "CML",
   "language": "python",
   "name": "python3"
  },
  "language_info": {
   "codemirror_mode": {
    "name": "ipython",
    "version": 3
   },
   "file_extension": ".py",
   "mimetype": "text/x-python",
   "name": "python",
   "nbconvert_exporter": "python",
   "pygments_lexer": "ipython3",
   "version": "3.11.11"
  }
 },
 "nbformat": 4,
 "nbformat_minor": 5
}

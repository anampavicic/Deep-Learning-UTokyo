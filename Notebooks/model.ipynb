{
 "cells": [
  {
   "cell_type": "markdown",
   "id": "0b168c68",
   "metadata": {},
   "source": [
    "# Model \n",
    "first get everything onto same size with pat or trim"
   ]
  },
  {
   "cell_type": "code",
   "execution_count": null,
   "id": "686784e0",
   "metadata": {
    "vscode": {
     "languageId": "plaintext"
    }
   },
   "outputs": [],
   "source": []
  }
 ],
 "metadata": {
  "language_info": {
   "name": "python"
  }
 },
 "nbformat": 4,
 "nbformat_minor": 5
}

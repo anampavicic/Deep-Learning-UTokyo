{
 "cells": [
  {
   "cell_type": "markdown",
   "id": "ef4195f6b01ffc50",
   "metadata": {
    "collapsed": false
   },
   "source": [
    "Libraries"
   ]
  },
  {
   "cell_type": "code",
   "execution_count": 1,
   "id": "126224424c377f3b",
   "metadata": {
    "collapsed": false,
    "is_executing": true
   },
   "outputs": [],
   "source": [
    "import pandas as pd\n",
    "import numpy as np\n",
    "import matplotlib.pyplot as plt\n",
    "import os\n",
    "import torch \n",
    "# Libraries for processing sounds\n",
    "import librosa\n",
    "from IPython.display import Audio\n",
    "from torch.utils.data import Dataset\n",
    "import random"
   ]
  },
  {
   "cell_type": "markdown",
   "id": "a39f141a",
   "metadata": {},
   "source": [
    "change the .csv so the path is correct and add row for the class"
   ]
  },
  {
   "cell_type": "code",
   "execution_count": 2,
   "id": "3915cf71",
   "metadata": {},
   "outputs": [],
   "source": [
    "def change_path(path, new_path):\n",
    "    train_csv = pd.read_csv(path)\n",
    "    train_csv['path']=new_path\n",
    "    train_csv['class'] = train_csv['name'].apply(lambda x: x.split('_')[0])\n",
    "    train_csv.to_csv('data.csv')\n",
    "    \n",
    "    \n",
    "    \n",
    "path = 'C:/Users/Lorena/Documents/Uni/25 SoSe/Deep Learning/DL-mine/Animal_Sound.csv'\n",
    "new_path = 'C:/Users/Lorena/Documents/Uni/25 SoSe/Deep Learning/DL-mine/Animal-Soundprepros'\n",
    "change_path(path, new_path=new_path)\n",
    "\n",
    "data_path = 'C:/Users/Lorena/Documents/Uni/25 SoSe/Deep Learning/DL-mine/data.csv'\n",
    "train_csv = pd.read_csv(data_path)"
   ]
  },
  {
   "cell_type": "code",
   "execution_count": 3,
   "id": "4a853144",
   "metadata": {},
   "outputs": [
    {
     "name": "stdout",
     "output_type": "stream",
     "text": [
      "   Unnamed: 0         name                                               path  \\\n",
      "0           0   Lion_1.wav  C:/Users/Lorena/Documents/Uni/25 SoSe/Deep Lea...   \n",
      "1           1  Lion_10.wav  C:/Users/Lorena/Documents/Uni/25 SoSe/Deep Lea...   \n",
      "2           2  Lion_11.wav  C:/Users/Lorena/Documents/Uni/25 SoSe/Deep Lea...   \n",
      "3           3  Lion_12.wav  C:/Users/Lorena/Documents/Uni/25 SoSe/Deep Lea...   \n",
      "4           4  Lion_13.wav  C:/Users/Lorena/Documents/Uni/25 SoSe/Deep Lea...   \n",
      "\n",
      "   channels  sample_width  frame_rate  nframes  duration  size class  \n",
      "0         2             2       22050    99296  4.503220  4096  Lion  \n",
      "1         2             2       11025    75964  6.890159  4096  Lion  \n",
      "2         1             1       22000    31744  1.442909  4096  Lion  \n",
      "3         1             2       11025    87108  7.900952  4096  Lion  \n",
      "4         1             1       11025    93972  8.523537  4096  Lion  \n"
     ]
    }
   ],
   "source": [
    "print(train_csv.head())"
   ]
  },
  {
   "cell_type": "markdown",
   "id": "5c0bfdff",
   "metadata": {},
   "source": [
    "Bring into form so it can be used in ML"
   ]
  },
  {
   "cell_type": "markdown",
   "id": "e34846fa",
   "metadata": {},
   "source": [
    "PyTorch Website:\n",
    "    https://docs.pytorch.org/tutorials/beginner/data_loading_tutorial.html"
   ]
  },
  {
   "cell_type": "code",
   "execution_count": null,
   "id": "ad7adba9",
   "metadata": {},
   "outputs": [],
   "source": [
    "def extract_mel_spectrogram(file_path, sr=22050, n_mels=128):\n",
    "    y, sr = librosa.load(file_path, sr=sr)\n",
    "    mel = librosa.feature.melspectrogram(y=y, sr=sr, n_mels=n_mels)\n",
    "    mel_db = librosa.power_to_db(mel, ref=np.max)\n",
    "    return mel_db"
   ]
  },
  {
   "cell_type": "markdown",
   "id": "80467f46",
   "metadata": {},
   "source": [
    "Define new Datset, so we get a training and validation Dataset from .wav files"
   ]
  },
  {
   "cell_type": "code",
   "execution_count": null,
   "id": "62334809",
   "metadata": {},
   "outputs": [],
   "source": [
    "class AnimalSoundDataset(Dataset):\n",
    "    def __init__(self, root_dir, transform=None, split='train', split_ratio=0.8, seed=42):\n",
    "        self.root_dir = root_dir\n",
    "        self.classes = sorted(os.listdir(root_dir))\n",
    "        self.transform = transform\n",
    "\n",
    "        all_paths = []\n",
    "        all_labels = []\n",
    "\n",
    "        for idx, class_name in enumerate(self.classes):\n",
    "            class_path = os.path.join(root_dir, class_name)\n",
    "            for file_name in os.listdir(class_path):\n",
    "                if file_name.endswith(\".wav\"):\n",
    "                    all_paths.append(os.path.join(class_path, file_name))\n",
    "                    all_labels.append(idx)\n",
    "\n",
    "        # Shuffle and split\n",
    "        combined = list(zip(all_paths, all_labels))\n",
    "        random.seed(seed)\n",
    "        random.shuffle(combined)\n",
    "        split_point = int(len(combined) * split_ratio)\n",
    "\n",
    "        if split == 'train':\n",
    "            selected = combined[:split_point]\n",
    "        elif split == 'val':\n",
    "            selected = combined[split_point:]\n",
    "        else:\n",
    "            raise ValueError(\"split must be 'train' or 'val'\")\n",
    "\n",
    "        self.file_paths, self.labels = zip(*selected) if selected else ([], [])\n",
    "\n",
    "    def __len__(self):\n",
    "        return len(self.file_paths)\n",
    "\n",
    "    def __getitem__(self, idx):\n",
    "        mel = extract_mel_spectrogram(self.file_paths[idx])  # [n_mels, time]\n",
    "        #mel = pad_or_trim(mel, target_width=400)\n",
    "        mel = torch.tensor(mel, dtype=torch.float32).unsqueeze(0)  # [1, H, W]\n",
    "        label = self.labels[idx]\n",
    "        return mel, label\n",
    "    \n",
    "    \n",
    "        \n",
    "    def get_class(self,idx):\n",
    "        label = self.labels[idx]\n",
    "        return self.classes[label]\n",
    "    \n",
    "    def visualize(self,n):\n",
    "    #print(dataset[n][0].squeeze(0))\n",
    "        plt.figure(figsize=(16,6))\n",
    "        librosa.display.specshow(\n",
    "                            self[n][0].squeeze(0).numpy(),\n",
    "                            x_axis=\"time\",\n",
    "                            y_axis=\"mel\")\n",
    "        plt.colorbar()\n",
    "\n",
    "    def play(self,n):\n",
    "        path = self.file_paths[n]\n",
    "        #print(path)\n",
    "        x, Fs = librosa.load(path, sr=None)\n",
    "        label = self.get_class(n)\n",
    "        print('Class: {}'.format(label))\n",
    "        return Audio(x, rate=Fs)"
   ]
  },
  {
   "cell_type": "markdown",
   "id": "eb1bcccd",
   "metadata": {},
   "source": [
    "How you use the dataset"
   ]
  },
  {
   "cell_type": "code",
   "execution_count": null,
   "id": "e610678a",
   "metadata": {},
   "outputs": [],
   "source": [
    "path_parent_project = os.getcwd() #current walk directory\n",
    "dataset_image_path = path_parent_project + '\\\\Animal-Soundprepros\\\\'\n",
    "\n",
    "dataset_train = AnimalSoundDataset(dataset_image_path, split='train', split_ratio=0.8, seed=42)\n",
    "dataset_val = AnimalSoundDataset(dataset_image_path, split='val', split_ratio=0.8, seed=42)"
   ]
  },
  {
   "cell_type": "code",
   "execution_count": null,
   "id": "80f40aad",
   "metadata": {},
   "outputs": [
    {
     "name": "stdout",
     "output_type": "stream",
     "text": [
      "Class: Dog\n"
     ]
    },
    {
     "data": {
      "text/html": [
       "\n",
       "                <audio  controls=\"controls\" >\n",
       "                    <source src=\"data:audio/wav;base64,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\" type=\"audio/wav\" />\n",
       "                    Your browser does not support the audio element.\n",
       "                </audio>\n",
       "              "
      ],
      "text/plain": [
       "<IPython.lib.display.Audio object>"
      ]
     },
     "execution_count": 99,
     "metadata": {},
     "output_type": "execute_result"
    }
   ],
   "source": [
    "dataset_train.play(2)"
   ]
  }
 ],
 "metadata": {
  "kernelspec": {
   "display_name": "Python 3",
   "language": "python",
   "name": "python3"
  },
  "language_info": {
   "codemirror_mode": {
    "name": "ipython",
    "version": 3
   },
   "file_extension": ".py",
   "mimetype": "text/x-python",
   "name": "python",
   "nbconvert_exporter": "python",
   "pygments_lexer": "ipython3",
   "version": "3.11.11"
  }
 },
 "nbformat": 4,
 "nbformat_minor": 5
}
